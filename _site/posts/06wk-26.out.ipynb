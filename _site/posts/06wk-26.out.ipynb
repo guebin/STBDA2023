{
  "cells": [
    {
      "cell_type": "markdown",
      "metadata": {},
      "source": [
        "# 06wk-26: 취업(다중공선성) / LassoCV\n",
        "\n",
        "최규빈  \n",
        "2023-10-05\n",
        "\n",
        "# 1. 강의영상\n",
        "\n",
        "<https://youtu.be/playlist?list=PLQqh36zP38-xANeG7u_3isOkp7zm-2-RM&si=wkbrF2i9zUPcgZbn>\n",
        "\n",
        "# 2. Imports"
      ],
      "id": "e4693299-6f47-4c3c-86b2-6b816f5964df"
    },
    {
      "cell_type": "code",
      "execution_count": 1,
      "metadata": {
        "tags": []
      },
      "outputs": [],
      "source": [
        "import numpy as np\n",
        "import pandas as pd\n",
        "import sklearn.linear_model\n",
        "import matplotlib.pyplot as plt\n",
        "#---#\n",
        "import warnings\n",
        "warnings.filterwarnings('ignore')"
      ],
      "id": "7bc4082c-bd40-43c3-acc3-b0b27b1a3689"
    },
    {
      "cell_type": "markdown",
      "metadata": {},
      "source": [
        "# 3. Data"
      ],
      "id": "9d604a1d-7407-42c8-89b1-5a3e57dbc318"
    },
    {
      "cell_type": "code",
      "execution_count": 2,
      "metadata": {
        "tags": []
      },
      "outputs": [],
      "source": [
        "df = pd.read_csv(\"https://raw.githubusercontent.com/guebin/MP2023/main/posts/employment_multicollinearity.csv\")\n",
        "np.random.seed(43052)\n",
        "df['employment_score'] = df.gpa * 1.0 + df.toeic* 1/100 + np.random.randn(500)"
      ],
      "id": "77b6309b"
    },
    {
      "cell_type": "code",
      "execution_count": 3,
      "metadata": {
        "tags": []
      },
      "outputs": [],
      "source": [
        "df"
      ],
      "id": "90fb2ff6"
    },
    {
      "cell_type": "markdown",
      "metadata": {},
      "source": [
        "# 4. LassoCV\n",
        "\n",
        "`-` LassoCV 클래스에서 모형을 선택해보자."
      ],
      "id": "88fb1ba6-97b2-45ca-aa6a-e212c64a1609"
    },
    {
      "cell_type": "code",
      "execution_count": 4,
      "metadata": {
        "tags": []
      },
      "outputs": [],
      "source": [
        "## step1\n",
        "df_train, df_test = sklearn.model_selection.train_test_split(df,test_size=0.3,random_state=42)\n",
        "X = df_train.loc[:,'gpa':'toeic499']\n",
        "y = df_train.loc[:,'employment_score']\n",
        "XX = df_test.loc[:,'gpa':'toeic499']\n",
        "yy = df_test.loc[:,'employment_score']\n",
        "## step2 \n",
        "predictr = sklearn.linear_model.LassoCV(alphas= np.linspace(0,2,100))\n",
        "## step3\n",
        "predictr.fit(X,y)\n",
        "## step4 -- pass"
      ],
      "id": "d3b233da"
    },
    {
      "cell_type": "code",
      "execution_count": 5,
      "metadata": {
        "tags": []
      },
      "outputs": [],
      "source": [
        "predictr.score(X,y)"
      ],
      "id": "1d9c5d43"
    },
    {
      "cell_type": "code",
      "execution_count": 6,
      "metadata": {
        "tags": []
      },
      "outputs": [],
      "source": [
        "predictr.score(XX,yy)"
      ],
      "id": "745f93cc"
    },
    {
      "cell_type": "markdown",
      "metadata": {},
      "source": [
        "# 5. HW\n",
        "\n",
        "`-` 현재 `predictr` 에 저장된[1] alpha값을 조사하고, 그것을 바탕으로\n",
        "아래의 코드를 수정하여 위와 동일한 train_score, test_score가 나오도록\n",
        "하라.\n",
        "\n",
        "수정할코드\n",
        "\n",
        "``` python\n",
        "## step1\n",
        "df_train, df_test = sklearn.model_selection.train_test_split(df,test_size=0.3,random_state=42)\n",
        "X = df_train.loc[:,'gpa':'toeic499']\n",
        "y = df_train.loc[:,'employment_score']\n",
        "XX = df_test.loc[:,'gpa':'toeic499']\n",
        "yy = df_test.loc[:,'employment_score']\n",
        "## step2 \n",
        "predictr = sklearn.linear_model.Lasso(alpha=????)\n",
        "## step3\n",
        "predictr.fit(X,y)\n",
        "## step4 -- pass\n",
        "```\n",
        "\n",
        "나와야할 결과\n",
        "\n",
        "[1] LassoCV클래스에서 생성된 predictor"
      ],
      "id": "0ba78cb7-3b2c-4108-b738-05ceffbd7120"
    },
    {
      "cell_type": "code",
      "execution_count": null,
      "metadata": {},
      "outputs": [],
      "source": [
        "predictr.score(X,y)"
      ],
      "id": "293018a9"
    },
    {
      "cell_type": "code",
      "execution_count": null,
      "metadata": {},
      "outputs": [],
      "source": [
        "predictr.score(XX,yy)"
      ],
      "id": "5ffe28da"
    }
  ],
  "nbformat": 4,
  "nbformat_minor": 5,
  "metadata": {
    "kernelspec": {
      "name": "python3",
      "display_name": "Python 3 (ipykernel)",
      "language": "python"
    },
    "language_info": {
      "name": "python",
      "codemirror_mode": {
        "name": "ipython",
        "version": "3"
      },
      "file_extension": ".py",
      "mimetype": "text/x-python",
      "nbconvert_exporter": "python",
      "pygments_lexer": "ipython3",
      "version": "3.10.13"
    }
  }
}