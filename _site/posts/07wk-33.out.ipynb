{
  "cells": [
    {
      "cell_type": "markdown",
      "metadata": {},
      "source": [
        "# 07wk-33: 취업(다중공선성) / 의사결정나무\n",
        "\n",
        "최규빈  \n",
        "2023-10-17\n",
        "\n",
        "# 1. 강의영상\n",
        "\n",
        "<https://youtu.be/playlist?list=PLQqh36zP38-y9gv3aEYpTCSbjj97u8zHM&si=YVaZvfWaat_E0tQv>\n",
        "\n",
        "# 2. Imports"
      ],
      "id": "1de597fb-1428-41fd-972c-806bf2e8680b"
    },
    {
      "cell_type": "code",
      "execution_count": 1,
      "metadata": {
        "tags": []
      },
      "outputs": [],
      "source": [
        "import numpy as np\n",
        "import pandas as pd\n",
        "import sklearn.model_selection\n",
        "import sklearn.linear_model\n",
        "import sklearn.tree\n",
        "#---#\n",
        "import warnings\n",
        "warnings.filterwarnings('ignore')"
      ],
      "id": "f2298395-f61a-45d1-92d9-53afd0c1f1f3"
    },
    {
      "cell_type": "markdown",
      "metadata": {},
      "source": [
        "# 3. Data"
      ],
      "id": "57797900-1cfa-4398-8e94-1aa25476e457"
    },
    {
      "cell_type": "code",
      "execution_count": 2,
      "metadata": {
        "tags": []
      },
      "outputs": [],
      "source": [
        "np.random.seed(43052)\n",
        "df = pd.read_csv(\"https://raw.githubusercontent.com/guebin/MP2023/main/posts/employment_multicollinearity.csv\")\n",
        "df['employment_score'] = df.gpa * 1.0 + df.toeic* 1/100 + np.random.randn(500)\n",
        "df"
      ],
      "id": "9073c08d-3f2b-4cb4-9ad3-115b84e031ac"
    },
    {
      "cell_type": "code",
      "execution_count": 3,
      "metadata": {
        "tags": []
      },
      "outputs": [],
      "source": [
        "df_train, df_test = sklearn.model_selection.train_test_split(df,test_size=0.3,random_state=42)"
      ],
      "id": "fe562d4f-becb-445a-984d-d9b0e1d3e1f5"
    },
    {
      "cell_type": "code",
      "execution_count": 4,
      "metadata": {
        "tags": []
      },
      "outputs": [],
      "source": [
        "X,y = df_train.loc[:,'gpa':],df_train['employment_score']\n",
        "XX,yy = df_test.loc[:,'gpa':],df_test['employment_score']"
      ],
      "id": "f94aa4ad-3682-4088-b912-3e2b23c96f71"
    },
    {
      "cell_type": "markdown",
      "metadata": {},
      "source": [
        "-   실제 kaggle에서는 yy를 모르는 상황임\n",
        "\n",
        "# 4. 분석\n",
        "\n",
        "`-` 분석1: 의사결정나무"
      ],
      "id": "c69b14d1-114b-4bf6-b4bd-792d41d192ae"
    },
    {
      "cell_type": "code",
      "execution_count": 5,
      "metadata": {
        "tags": []
      },
      "outputs": [
        {
          "output_type": "stream",
          "name": "stdout",
          "text": [
            "train score: 1.0000\n",
            "test score: 0.8300"
          ]
        }
      ],
      "source": [
        "## step1 -- pass \n",
        "## step2 \n",
        "predictr = sklearn.tree.DecisionTreeRegressor(random_state=42)\n",
        "## step3 \n",
        "predictr.fit(X,y)\n",
        "## step4\n",
        "df_train['employment_score_hat'] = predictr.predict(X)\n",
        "df_test['employment_score_hat'] = predictr.predict(XX)\n",
        "#---#\n",
        "print(f'train score: {predictr.score(X,y):.4f}')\n",
        "print(f'test score: {predictr.score(XX,yy):.4f}')"
      ],
      "id": "2b51b5f8-8039-437a-b8bb-0cb8ec2d3ac6"
    },
    {
      "cell_type": "markdown",
      "metadata": {},
      "source": [
        "-   오버핏이긴한데 나쁘지 않음..\n",
        "\n",
        "`-` 분석2: Lasso"
      ],
      "id": "fac2803b-0116-4e35-bdaa-8aa6eadbe859"
    },
    {
      "cell_type": "code",
      "execution_count": 6,
      "metadata": {
        "tags": []
      },
      "outputs": [
        {
          "output_type": "stream",
          "name": "stdout",
          "text": [
            "train score: 0.8994\n",
            "test score: 0.8587"
          ]
        }
      ],
      "source": [
        "## step1 -- pass \n",
        "## step2 \n",
        "predictr = sklearn.linear_model.LassoCV()\n",
        "## step3 \n",
        "predictr.fit(X,y)\n",
        "## step4\n",
        "df_train['employment_score_hat'] = predictr.predict(X)\n",
        "df_test['employment_score_hat'] = predictr.predict(XX)\n",
        "#---#\n",
        "print(f'train score: {predictr.score(X,y):.4f}')\n",
        "print(f'test score: {predictr.score(XX,yy):.4f}')"
      ],
      "id": "1c17de70-4ce2-4a2b-8196-c76efab2efe4"
    },
    {
      "cell_type": "markdown",
      "metadata": {},
      "source": [
        "`-` 총평: Lasso가 좋긴해요. 그런데 의사결정나무도 나쁘지 않아요.\n",
        "\n",
        "-   참고로 Lasso는 엄청 발전된 모델\n",
        "-   의사결정나무는 아주 초기모델임"
      ],
      "id": "b674bceb-f64a-4d39-91a6-2aece7214e86"
    }
  ],
  "nbformat": 4,
  "nbformat_minor": 5,
  "metadata": {
    "kernelspec": {
      "name": "python3",
      "display_name": "Python 3 (ipykernel)",
      "language": "python"
    },
    "language_info": {
      "name": "python",
      "codemirror_mode": {
        "name": "ipython",
        "version": "3"
      },
      "file_extension": ".py",
      "mimetype": "text/x-python",
      "nbconvert_exporter": "python",
      "pygments_lexer": "ipython3",
      "version": "3.10.13"
    }
  }
}