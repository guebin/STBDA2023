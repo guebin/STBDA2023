{
  "cells": [
    {
      "cell_type": "markdown",
      "metadata": {},
      "source": [
        "# 14wk-62: NLP with Disaster Tweets (Text) / 자료분석(Autogluon)\n",
        "\n",
        "최규빈  \n",
        "2023-12-01\n",
        "\n",
        "# 1. 강의영상\n",
        "\n",
        "[???](???)\n",
        "\n",
        "# 2. Imports"
      ],
      "id": "d0ea650b-4d15-470a-98c3-1db830f650b9"
    },
    {
      "cell_type": "code",
      "execution_count": 3,
      "metadata": {
        "tags": []
      },
      "outputs": [],
      "source": [
        "#!pip install autogluon.multimodal "
      ],
      "id": "11f3d6e8-e7b3-453a-81a2-99b3a0cddbdb"
    },
    {
      "cell_type": "code",
      "execution_count": 4,
      "metadata": {
        "tags": []
      },
      "outputs": [],
      "source": [
        "import numpy as np\n",
        "import pandas as pd\n",
        "#---#\n",
        "from autogluon.multimodal import MultiModalPredictor # from autogluon.tabular import TabularPredictor\n",
        "#---#\n",
        "import warnings\n",
        "warnings.filterwarnings('ignore')"
      ],
      "id": "b7b83a12-e79d-4be9-a6fe-8edc6f39d7a1"
    },
    {
      "cell_type": "markdown",
      "metadata": {},
      "source": [
        "# 3. Data"
      ],
      "id": "6acdfefe-7d62-4cba-997d-205bd0855f2d"
    },
    {
      "cell_type": "code",
      "execution_count": 5,
      "metadata": {
        "tags": []
      },
      "outputs": [
        {
          "output_type": "stream",
          "name": "stdout",
          "text": [
            "Warning: Your Kaggle API key is readable by other users on this system! To fix this, you can run 'chmod 600 /root/.kaggle/kaggle.json'\n",
            "Downloading nlp-getting-started.zip to /root/Dropbox/MP\n",
            "100%|████████████████████████████████████████| 593k/593k [00:00<00:00, 1.09MB/s]\n",
            "100%|████████████████████████████████████████| 593k/593k [00:00<00:00, 1.09MB/s]"
          ]
        }
      ],
      "source": [
        "!kaggle competitions download -c nlp-getting-started"
      ],
      "id": "89f0eb89-c429-4210-9a68-d5bac8d054b8"
    },
    {
      "cell_type": "code",
      "execution_count": 6,
      "metadata": {
        "tags": []
      },
      "outputs": [
        {
          "output_type": "stream",
          "name": "stdout",
          "text": [
            "Archive:  nlp-getting-started.zip\n",
            "  inflating: data/sample_submission.csv  \n",
            "  inflating: data/test.csv           \n",
            "  inflating: data/train.csv          "
          ]
        }
      ],
      "source": [
        "!unzip nlp-getting-started.zip -d data "
      ],
      "id": "0589d6d0-4cbf-4a6f-9448-9902f4b0f1fc"
    },
    {
      "cell_type": "code",
      "execution_count": 7,
      "metadata": {
        "tags": []
      },
      "outputs": [],
      "source": [
        "df_train = pd.read_csv('data/train.csv')\n",
        "df_test = pd.read_csv('data/test.csv')\n",
        "sample_submission = pd.read_csv('data/sample_submission.csv')"
      ],
      "id": "f39229d9-0244-4b4b-895f-1556aa8abb26"
    },
    {
      "cell_type": "code",
      "execution_count": 8,
      "metadata": {
        "tags": []
      },
      "outputs": [],
      "source": [
        "!rm -rf data\n",
        "!rm nlp-getting-started.zip"
      ],
      "id": "7d1f6ed1-cbaa-483e-8dbf-efb2c996c749"
    },
    {
      "cell_type": "markdown",
      "metadata": {},
      "source": [
        "# 4. 분석"
      ],
      "id": "8faac672-6c7e-4e74-a853-e78d1e9f5e55"
    },
    {
      "cell_type": "code",
      "execution_count": 9,
      "metadata": {
        "tags": []
      },
      "outputs": [],
      "source": [
        "df_train.head()"
      ],
      "id": "c27765f2-6f57-4895-88aa-4954e8560cf1"
    },
    {
      "cell_type": "code",
      "execution_count": 10,
      "metadata": {
        "tags": []
      },
      "outputs": [],
      "source": [
        "df_test.head()"
      ],
      "id": "f972a6ac-2e28-4a9f-8296-f67ca3b7c7b3"
    },
    {
      "cell_type": "code",
      "execution_count": 11,
      "metadata": {},
      "outputs": [
        {
          "output_type": "stream",
          "name": "stderr",
          "text": [
            "No path specified. Models will be saved in: \"AutogluonModels/ag-20231207_033914/\"\n",
            "AutoGluon infers your prediction problem is: 'binary' (because only two unique label-values observed).\n",
            "    2 unique label values:  [1, 0]\n",
            "    If 'binary' is not the correct problem_type, please manually specify the problem_type parameter during predictor init (You may specify problem_type as one of: ['binary', 'multiclass', 'regression'])\n",
            "Global seed set to 0\n",
            "AutoMM starts to create your model. ✨\n",
            "\n",
            "- AutoGluon version is 0.8.2.\n",
            "\n",
            "- Pytorch version is 1.13.1.post200.\n",
            "\n",
            "- Model will be saved to \"/root/Dropbox/MP/AutogluonModels/ag-20231207_033914\".\n",
            "\n",
            "- Validation metric is \"roc_auc\".\n",
            "\n",
            "- To track the learning progress, you can open a terminal and launch Tensorboard:\n",
            "    ```shell\n",
            "    # Assume you have installed tensorboard\n",
            "    tensorboard --logdir /root/Dropbox/MP/AutogluonModels/ag-20231207_033914\n",
            "    ```\n",
            "\n",
            "Enjoy your coffee, and let AutoMM do the job ☕☕☕ Learn more at https://auto.gluon.ai\n",
            "\n",
            "1 GPUs are detected, and 1 GPUs will be used.\n",
            "   - GPU 0 name: NVIDIA A100-SXM4-80GB MIG 7g.80gb\n",
            "   - GPU 0 memory: 84.37GB/85.20GB (Free/Total)\n",
            "CUDA version is 11.2.\n",
            "\n",
            "Using 16bit None Automatic Mixed Precision (AMP)\n",
            "GPU available: True (cuda), used: True\n",
            "TPU available: False, using: 0 TPU cores\n",
            "IPU available: False, using: 0 IPUs\n",
            "HPU available: False, using: 0 HPUs\n",
            "You are using a CUDA device ('NVIDIA A100-SXM4-80GB MIG 7g.80gb') that has Tensor Cores. To properly utilize them, you should set `torch.set_float32_matmul_precision('medium' | 'high')` which will trade-off precision for performance. For more details, read https://pytorch.org/docs/stable/generated/torch.set_float32_matmul_precision.html#torch.set_float32_matmul_precision\n",
            "LOCAL_RANK: 0 - CUDA_VISIBLE_DEVICES: [0]\n",
            "\n",
            "  | Name              | Type                | Params\n",
            "----------------------------------------------------------\n",
            "0 | model             | MultimodalFusionMLP | 109 M \n",
            "1 | validation_metric | BinaryAUROC         | 0     \n",
            "2 | loss_func         | CrossEntropyLoss    | 0     \n",
            "----------------------------------------------------------\n",
            "109 M     Trainable params\n",
            "0         Non-trainable params\n",
            "109 M     Total params\n",
            "219.567   Total estimated model params size (MB)\n",
            "Epoch 0, global step 26: 'val_roc_auc' reached 0.81683 (best 0.81683), saving model to '/root/Dropbox/MP/AutogluonModels/ag-20231207_033914/epoch=0-step=26.ckpt' as top 3\n",
            "Epoch 0, global step 53: 'val_roc_auc' reached 0.88538 (best 0.88538), saving model to '/root/Dropbox/MP/AutogluonModels/ag-20231207_033914/epoch=0-step=53.ckpt' as top 3\n",
            "Epoch 1, global step 80: 'val_roc_auc' reached 0.88780 (best 0.88780), saving model to '/root/Dropbox/MP/AutogluonModels/ag-20231207_033914/epoch=1-step=80.ckpt' as top 3\n",
            "Epoch 1, global step 107: 'val_roc_auc' reached 0.87404 (best 0.88780), saving model to '/root/Dropbox/MP/AutogluonModels/ag-20231207_033914/epoch=1-step=107.ckpt' as top 3\n",
            "Epoch 2, global step 134: 'val_roc_auc' reached 0.89212 (best 0.89212), saving model to '/root/Dropbox/MP/AutogluonModels/ag-20231207_033914/epoch=2-step=134.ckpt' as top 3\n",
            "Epoch 2, global step 161: 'val_roc_auc' reached 0.89695 (best 0.89695), saving model to '/root/Dropbox/MP/AutogluonModels/ag-20231207_033914/epoch=2-step=161.ckpt' as top 3\n",
            "Epoch 3, global step 188: 'val_roc_auc' reached 0.89258 (best 0.89695), saving model to '/root/Dropbox/MP/AutogluonModels/ag-20231207_033914/epoch=3-step=188.ckpt' as top 3\n",
            "Epoch 3, global step 215: 'val_roc_auc' reached 0.89418 (best 0.89695), saving model to '/root/Dropbox/MP/AutogluonModels/ag-20231207_033914/epoch=3-step=215.ckpt' as top 3\n",
            "Epoch 4, global step 242: 'val_roc_auc' was not in top 3\n",
            "Epoch 4, global step 269: 'val_roc_auc' was not in top 3\n",
            "Epoch 5, global step 296: 'val_roc_auc' was not in top 3\n",
            "Epoch 5, global step 323: 'val_roc_auc' was not in top 3\n",
            "Epoch 6, global step 350: 'val_roc_auc' was not in top 3\n",
            "Epoch 6, global step 377: 'val_roc_auc' was not in top 3\n",
            "Epoch 7, global step 404: 'val_roc_auc' was not in top 3\n",
            "Epoch 7, global step 431: 'val_roc_auc' was not in top 3\n",
            "Start to fuse 3 checkpoints via the greedy soup algorithm.\n",
            "You are using a CUDA device ('NVIDIA A100-SXM4-80GB MIG 7g.80gb') that has Tensor Cores. To properly utilize them, you should set `torch.set_float32_matmul_precision('medium' | 'high')` which will trade-off precision for performance. For more details, read https://pytorch.org/docs/stable/generated/torch.set_float32_matmul_precision.html#torch.set_float32_matmul_precision\n",
            "You are using a CUDA device ('NVIDIA A100-SXM4-80GB MIG 7g.80gb') that has Tensor Cores. To properly utilize them, you should set `torch.set_float32_matmul_precision('medium' | 'high')` which will trade-off precision for performance. For more details, read https://pytorch.org/docs/stable/generated/torch.set_float32_matmul_precision.html#torch.set_float32_matmul_precision\n",
            "You are using a CUDA device ('NVIDIA A100-SXM4-80GB MIG 7g.80gb') that has Tensor Cores. To properly utilize them, you should set `torch.set_float32_matmul_precision('medium' | 'high')` which will trade-off precision for performance. For more details, read https://pytorch.org/docs/stable/generated/torch.set_float32_matmul_precision.html#torch.set_float32_matmul_precision\n",
            "AutoMM has created your model 🎉🎉🎉\n",
            "\n",
            "- To load the model, use the code below:\n",
            "    ```python\n",
            "    from autogluon.multimodal import MultiModalPredictor\n",
            "    predictor = MultiModalPredictor.load(\"/root/Dropbox/MP/AutogluonModels/ag-20231207_033914\")\n",
            "    ```\n",
            "\n",
            "- You can open a terminal and launch Tensorboard to visualize the training log:\n",
            "    ```shell\n",
            "    # Assume you have installed tensorboard\n",
            "    tensorboard --logdir /root/Dropbox/MP/AutogluonModels/ag-20231207_033914\n",
            "    ```\n",
            "\n",
            "- If you are not satisfied with the model, try to increase the training time, \n",
            "adjust the hyperparameters (https://auto.gluon.ai/stable/tutorials/multimodal/advanced_topics/customization.html),\n",
            "or post issues on GitHub: https://github.com/autogluon/autogluon\n",
            "\n",
            "\n",
            "You are using a CUDA device ('NVIDIA A100-SXM4-80GB MIG 7g.80gb') that has Tensor Cores. To properly utilize them, you should set `torch.set_float32_matmul_precision('medium' | 'high')` which will trade-off precision for performance. For more details, read https://pytorch.org/docs/stable/generated/torch.set_float32_matmul_precision.html#torch.set_float32_matmul_precision"
          ]
        }
      ],
      "source": [
        "# step1 -- pass\n",
        "# step2 \n",
        "predictr = MultiModalPredictor(label = 'target')\n",
        "# step3\n",
        "predictr.fit(df_train)\n",
        "# step4 \n",
        "yhat = predictr.predict(df_test) "
      ],
      "id": "f8c242f1-ed6b-4ef5-a5b1-f271462dcafc"
    },
    {
      "cell_type": "markdown",
      "metadata": {},
      "source": [
        "# 5. 제출"
      ],
      "id": "d6494e52-759b-44da-98d1-305b716db93b"
    },
    {
      "cell_type": "code",
      "execution_count": 12,
      "metadata": {
        "tags": []
      },
      "outputs": [],
      "source": [
        "sample_submission"
      ],
      "id": "ca1eb571-3c6f-4611-95b9-a25e773962b9"
    },
    {
      "cell_type": "code",
      "execution_count": 13,
      "metadata": {
        "tags": []
      },
      "outputs": [],
      "source": [
        "sample_submission['target'] = yhat \n",
        "sample_submission.to_csv(\"submission.csv\",index=False)"
      ],
      "id": "62c02867-9044-478b-8afe-bc3557af635e"
    },
    {
      "cell_type": "code",
      "execution_count": 14,
      "metadata": {
        "tags": []
      },
      "outputs": [
        {
          "output_type": "stream",
          "name": "stdout",
          "text": [
            "Warning: Your Kaggle API key is readable by other users on this system! To fix this, you can run 'chmod 600 /root/.kaggle/kaggle.json'\n",
            "100%|██████████████████████████████████████| 22.2k/22.2k [00:01<00:00, 12.4kB/s]\n",
            "Successfully submitted to Natural Language Processing with Disaster Tweets"
          ]
        }
      ],
      "source": [
        "!kaggle competitions submit -c nlp-getting-started -f submission.csv -m \"오토글루온, MultiModalPredictor\""
      ],
      "id": "6d4455f3-9ddb-4d3e-afad-fce8e9ee81d0"
    },
    {
      "cell_type": "markdown",
      "metadata": {},
      "source": [
        "![](attachment:14wk-62_files/figure-ipynb/52d432c3-40ac-4ee3-9494-20fe083919a1-1-c5e7639f-15c4-42ac-a848-6d5b58b7e291.png)"
      ],
      "attachments": {
        "14wk-62_files/figure-ipynb/52d432c3-40ac-4ee3-9494-20fe083919a1-1-c5e7639f-15c4-42ac-a848-6d5b58b7e291.png": {
          "image/png": "[encoded data removed]"
        }
      },
      "id": "cf84c4f5-ebd6-4715-a686-26add4d3daf2"
    },
    {
      "cell_type": "code",
      "execution_count": 15,
      "metadata": {
        "tags": []
      },
      "outputs": [],
      "source": [
        "250/1094"
      ],
      "id": "eb92711f-b53b-4c34-b06a-1bc9ca70b97d"
    },
    {
      "cell_type": "markdown",
      "metadata": {},
      "source": [
        "이정도가 합리적임"
      ],
      "id": "3ed14250-b7e6-4896-91f8-b902e271c6a8"
    }
  ],
  "nbformat": 4,
  "nbformat_minor": 5,
  "metadata": {
    "kernelspec": {
      "name": "python3",
      "display_name": "Python 3 (ipykernel)",
      "language": "python"
    },
    "language_info": {
      "name": "python",
      "codemirror_mode": {
        "name": "ipython",
        "version": "3"
      },
      "file_extension": ".py",
      "mimetype": "text/x-python",
      "nbconvert_exporter": "python",
      "pygments_lexer": "ipython3",
      "version": "3.10.13"
    }
  }
}