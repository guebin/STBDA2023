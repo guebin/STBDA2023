{
  "cells": [
    {
      "cell_type": "markdown",
      "metadata": {},
      "source": [
        "# 02wk-004: 타이타닉 / Alexis Cook의 코드\n",
        "\n",
        "최규빈  \n",
        "2023-09-12\n",
        "\n",
        "# 1. 강의영상\n",
        "\n",
        "<https://youtu.be/playlist?list=PLQqh36zP38-yR3MqhN9-OgAtewojoYoKD&si=U1GTMdGiWFvlppYH>\n",
        "\n",
        "# 2. Data 준비.."
      ],
      "id": "0766ba7f-87eb-45ce-a1fd-99ecea193059"
    },
    {
      "cell_type": "code",
      "execution_count": 3,
      "metadata": {
        "tags": []
      },
      "outputs": [],
      "source": [
        "import pandas as pd"
      ],
      "id": "cell-4"
    },
    {
      "cell_type": "code",
      "execution_count": 4,
      "metadata": {
        "tags": []
      },
      "outputs": [
        {
          "output_type": "stream",
          "name": "stdout",
          "text": [
            "Downloading titanic.zip to /home/cgb2/Dropbox/07_lectures/2023-09-MP2023/posts\n",
            "  0%|                                               | 0.00/34.1k [00:00<?, ?B/s]\n",
            "100%|██████████████████████████████████████| 34.1k/34.1k [00:00<00:00, 18.6MB/s]\n",
            "Archive:  titanic.zip\n",
            "  inflating: ./titanic/gender_submission.csv  \n",
            "  inflating: ./titanic/test.csv      \n",
            "  inflating: ./titanic/train.csv     "
          ]
        }
      ],
      "source": [
        "!kaggle competitions download -c titanic\n",
        "!unzip titanic.zip -d ./titanic\n",
        "train_data = pd.read_csv('titanic/train.csv')\n",
        "test_data = pd.read_csv('titanic/test.csv')\n",
        "!rm titanic.zip\n",
        "!rm -rf titanic/"
      ],
      "id": "cell-5"
    },
    {
      "cell_type": "markdown",
      "metadata": {},
      "source": [
        "# 3. Alexis Cook의 분석\n",
        "\n",
        "Logging into Kaggle for the first time can be daunting. Our competitions\n",
        "often have large cash prizes, public leaderboards, and involve complex\n",
        "data. Nevertheless, we really think all data scientists can rapidly\n",
        "learn from machine learning competitions and meaningfully contribute to\n",
        "our community. To give you a clear understanding of how our platform\n",
        "works and a mental model of the type of learning you could do on Kaggle,\n",
        "we’ve created a Getting Started tutorial for the Titanic competition. It\n",
        "walks you through the initial steps required to get your first decent\n",
        "submission on the leaderboard. By the end of the tutorial, you’ll also\n",
        "have a solid understanding of how to use Kaggle’s online coding\n",
        "environment, where you’ll have trained your own machine learning model.\n",
        "\n",
        "So if this is your first time entering a Kaggle competition, regardless\n",
        "of whether you: - have experience with handling large datasets, -\n",
        "haven’t done much coding, - are newer to data science, or - are\n",
        "relatively experienced (but are just unfamiliar with Kaggle’s platform),\n",
        "\n",
        "you’re in the right place!\n",
        "\n",
        "## Part 1: Get started\n",
        "\n",
        "In this section, you’ll learn more about the competition and make your\n",
        "first submission.\n",
        "\n",
        "### Join the competition!\n",
        "\n",
        "The first thing to do is to join the competition! Open a new window with\n",
        "**[the competition page](https://www.kaggle.com/c/titanic)**, and click\n",
        "on the **“Join Competition”** button, if you haven’t already. (*If you\n",
        "see a “Submit Predictions” button instead of a “Join Competition”\n",
        "button, you have already joined the competition, and don’t need to do so\n",
        "again.*)\n",
        "\n",
        "![](https://i.imgur.com/07cskyU.png)\n",
        "\n",
        "This takes you to the rules acceptance page. You must accept the\n",
        "competition rules in order to participate. These rules govern how many\n",
        "submissions you can make per day, the maximum team size, and other\n",
        "competition-specific details. Then, click on **“I Understand and\n",
        "Accept”** to indicate that you will abide by the competition rules.\n",
        "\n",
        "### The challenge\n",
        "\n",
        "The competition is simple: we want you to use the Titanic passenger data\n",
        "(name, age, price of ticket, etc) to try to predict who will survive and\n",
        "who will die.\n",
        "\n",
        "### The data\n",
        "\n",
        "To take a look at the competition data, click on the\n",
        "**<a href=\"https://www.kaggle.com/c/titanic/data\" target=\"_blank\" rel=\"noopener noreferrer\"><b>Data\n",
        "tab</b></a>** at the top of the competition page. Then, scroll down to\n",
        "find the list of files.  \n",
        "There are three files in the data: (1) **train.csv**, (2) **test.csv**,\n",
        "and (3) **gender_submission.csv**.\n",
        "\n",
        "#### (1) train.csv\n",
        "\n",
        "**train.csv** contains the details of a subset of the passengers on\n",
        "board (891 passengers, to be exact – where each passenger gets a\n",
        "different row in the table). To investigate this data, click on the name\n",
        "of the file on the left of the screen. Once you’ve done this, you can\n",
        "view all of the data in the window.\n",
        "\n",
        "![](https://i.imgur.com/cYsdt0n.png)\n",
        "\n",
        "The values in the second column (**“Survived”**) can be used to\n",
        "determine whether each passenger survived or not: - if it’s a “1”, the\n",
        "passenger survived. - if it’s a “0”, the passenger died.\n",
        "\n",
        "For instance, the first passenger listed in **train.csv** is Mr. Owen\n",
        "Harris Braund. He was 22 years old when he died on the Titanic.\n",
        "\n",
        "#### (2) test.csv\n",
        "\n",
        "Using the patterns you find in **train.csv**, you have to predict\n",
        "whether the other 418 passengers on board (in **test.csv**) survived.\n",
        "\n",
        "Click on **test.csv** (on the left of the screen) to examine its\n",
        "contents. Note that **test.csv** does not have a **“Survived”** column -\n",
        "this information is hidden from you, and how well you do at predicting\n",
        "these hidden values will determine how highly you score in the\n",
        "competition!\n",
        "\n",
        "#### (3) gender_submission.csv\n",
        "\n",
        "The **gender_submission.csv** file is provided as an example that shows\n",
        "how you should structure your predictions. It predicts that all female\n",
        "passengers survived, and all male passengers died. Your hypotheses\n",
        "regarding survival will probably be different, which will lead to a\n",
        "different submission file. But, just like this file, your submission\n",
        "should have: - a **“PassengerId”** column containing the IDs of each\n",
        "passenger from **test.csv**. - a **“Survived”** column (that you will\n",
        "create!) with a “1” for the rows where you think the passenger survived,\n",
        "and a “0” where you predict that the passenger died.\n",
        "\n",
        "## Part 2: Your coding environment\n",
        "\n",
        "In this section, you’ll train your own machine learning model to improve\n",
        "your predictions. *If you’ve never written code before or don’t have any\n",
        "experience with machine learning, don’t worry! We don’t assume any prior\n",
        "experience in this tutorial.*\n",
        "\n",
        "### The Notebook\n",
        "\n",
        "The first thing to do is to create a Kaggle Notebook where you’ll store\n",
        "all of your code. You can use Kaggle Notebooks to getting up and running\n",
        "with writing code quickly, and without having to install anything on\n",
        "your computer. (*If you are interested in deep learning, we also offer\n",
        "free GPU access!*)\n",
        "\n",
        "Begin by clicking on the\n",
        "**<a href=\"https://www.kaggle.com/c/titanic/kernels\" target=\"_blank\">Code\n",
        "tab</a>** on the competition page. Then, click on **“New Notebook”**.\n",
        "\n",
        "![](https://i.imgur.com/v2i82Xd.png)\n",
        "\n",
        "Your notebook will take a few seconds to load. In the top left corner,\n",
        "you can see the name of your notebook – something like\n",
        "**“kernel2daed3cd79”**.\n",
        "\n",
        "![](https://i.imgur.com/64ZFT1L.png)\n",
        "\n",
        "You can edit the name by clicking on it. Change it to something more\n",
        "descriptive, like **“Getting Started with Titanic”**.\n",
        "\n",
        "![](https://i.imgur.com/uwyvzXq.png)\n",
        "\n",
        "### Your first lines of code\n",
        "\n",
        "When you start a new notebook, it has two gray boxes for storing code.\n",
        "We refer to these gray boxes as “code cells”.\n",
        "\n",
        "![](https://i.imgur.com/q9mwkZM.png)\n",
        "\n",
        "The first code cell already has some code in it. To run this code, put\n",
        "your cursor in the code cell. (*If your cursor is in the right place,\n",
        "you’ll notice a blue vertical line to the left of the gray box.*) Then,\n",
        "either hit the play button (which appears to the left of the blue line),\n",
        "or hit **\\[Shift\\] + \\[Enter\\]** on your keyboard.\n",
        "\n",
        "If the code runs successfully, three lines of output are returned.\n",
        "Below, you can see the same code that you just ran, along with the\n",
        "output that you should see in your notebook.\n",
        "\n",
        "``` python\n",
        "# This Python 3 environment comes with many helpful analytics libraries installed\n",
        "# It is defined by the kaggle/python docker image: https://github.com/kaggle/docker-python\n",
        "# For example, here's several helpful packages to load in \n",
        "\n",
        "import numpy as np # linear algebra\n",
        "import pandas as pd # data processing, CSV file I/O (e.g. pd.read_csv)\n",
        "\n",
        "# Input data files are available in the \"../input/\" directory.\n",
        "# For example, running this (by clicking run or pressing Shift+Enter) will list all files under the input directory\n",
        "\n",
        "import os\n",
        "for dirname, _, filenames in os.walk('/kaggle/input'):\n",
        "    for filename in filenames:\n",
        "        print(os.path.join(dirname, filename))\n",
        "\n",
        "# Any results you write to the current directory are saved as output.\n",
        "```\n",
        "\n",
        "This shows us where the competition data is stored, so that we can load\n",
        "the files into the notebook. We’ll do that next.\n",
        "\n",
        "### Load the data\n",
        "\n",
        "The second code cell in your notebook now appears below the three lines\n",
        "of output with the file locations.\n",
        "\n",
        "![](https://i.imgur.com/OQBax9n.png)\n",
        "\n",
        "Type the two lines of code below into your second code cell. Then, once\n",
        "you’re done, either click on the blue play button, or hit **\\[Shift\\] +\n",
        "\\[Enter\\]**."
      ],
      "id": "5fa16907-e24c-4edf-a7a3-1753f5e65646"
    },
    {
      "cell_type": "code",
      "execution_count": 5,
      "metadata": {},
      "outputs": [],
      "source": [
        "#train_data = pd.read_csv(\"/kaggle/input/titanic/train.csv\")\n",
        "train_data.head()"
      ],
      "id": "cell-11"
    },
    {
      "cell_type": "markdown",
      "metadata": {},
      "source": [
        "Your code should return the output above, which corresponds to the first\n",
        "five rows of the table in **train.csv**. It’s very important that you\n",
        "see this output **in your notebook** before proceeding with the\n",
        "tutorial! \\> *If your code does not produce this output*, double-check\n",
        "that your code is identical to the two lines above. And, make sure your\n",
        "cursor is in the code cell before hitting **\\[Shift\\] + \\[Enter\\]**.\n",
        "\n",
        "The code that you’ve just written is in the Python programming language.\n",
        "It uses a Python “module” called **pandas** (abbreviated as `pd`) to\n",
        "load the table from the **train.csv** file into the notebook. To do\n",
        "this, we needed to plug in the location of the file (which we saw was\n",
        "`/kaggle/input/titanic/train.csv`).  \n",
        "\\> If you’re not already familiar with Python (and pandas), the code\n",
        "shouldn’t make sense to you – but don’t worry! The point of this\n",
        "tutorial is to (quickly!) make your first submission to the competition.\n",
        "At the end of the tutorial, we suggest resources to continue your\n",
        "learning.\n",
        "\n",
        "At this point, you should have at least three code cells in your\n",
        "notebook.  \n",
        "![](https://i.imgur.com/ReLhYca.png)\n",
        "\n",
        "Copy the code below into the third code cell of your notebook to load\n",
        "the contents of the **test.csv** file. Don’t forget to click on the play\n",
        "button (or hit **\\[Shift\\] + \\[Enter\\]**)!"
      ],
      "id": "e38e3287-d6eb-4de9-81ae-85a3279e0cf8"
    },
    {
      "cell_type": "code",
      "execution_count": 6,
      "metadata": {},
      "outputs": [],
      "source": [
        "#test_data = pd.read_csv(\"/kaggle/input/titanic/test.csv\")\n",
        "test_data.head()"
      ],
      "id": "cell-13"
    },
    {
      "cell_type": "markdown",
      "metadata": {},
      "source": [
        "As before, make sure that you see the output above in your notebook\n",
        "before continuing.\n",
        "\n",
        "Once all of the code runs successfully, all of the data (in\n",
        "**train.csv** and **test.csv**) is loaded in the notebook. (*The code\n",
        "above shows only the first 5 rows of each table, but all of the data is\n",
        "there – all 891 rows of **train.csv** and all 418 rows of\n",
        "**test.csv**!*)\n",
        "\n",
        "## Part 3: Your first submission\n",
        "\n",
        "Remember our goal: we want to find patterns in **train.csv** that help\n",
        "us predict whether the passengers in **test.csv** survived.\n",
        "\n",
        "It might initially feel overwhelming to look for patterns, when there’s\n",
        "so much data to sort through. So, we’ll start simple.\n",
        "\n",
        "### Explore a pattern\n",
        "\n",
        "Remember that the sample submission file in **gender_submission.csv**\n",
        "assumes that all female passengers survived (and all male passengers\n",
        "died).\n",
        "\n",
        "Is this a reasonable first guess? We’ll check if this pattern holds true\n",
        "in the data (in **train.csv**).\n",
        "\n",
        "Copy the code below into a new code cell. Then, run the cell."
      ],
      "id": "e1c7ccf9-7655-4a83-9964-d96a553dc67a"
    },
    {
      "cell_type": "code",
      "execution_count": 7,
      "metadata": {},
      "outputs": [
        {
          "output_type": "stream",
          "name": "stdout",
          "text": [
            "% of women who survived: 0.7420382165605095"
          ]
        }
      ],
      "source": [
        "women = train_data.loc[train_data.Sex == 'female'][\"Survived\"]\n",
        "rate_women = sum(women)/len(women)\n",
        "\n",
        "print(\"% of women who survived:\", rate_women)"
      ],
      "id": "cell-15"
    },
    {
      "cell_type": "markdown",
      "metadata": {},
      "source": [
        "------------------------------------------------------------------------\n",
        "\n",
        "여성의 생존률을 구하는 코드입니다, 이전에 accuracy를 구하던 테크닉을\n",
        "활용하면 아래의 코드도 가능합니다"
      ],
      "id": "a5309fde-28a3-49c6-b4f2-8db1917b947e"
    },
    {
      "cell_type": "code",
      "execution_count": 8,
      "metadata": {},
      "outputs": [],
      "source": [
        "train_data[train_data.Sex == 'female'].Survived.mean()"
      ],
      "id": "cell-18"
    },
    {
      "cell_type": "markdown",
      "metadata": {},
      "source": [
        "------------------------------------------------------------------------\n",
        "\n",
        "Before moving on, make sure that your code returns the output above. The\n",
        "code above calculates the percentage of female passengers (in\n",
        "**train.csv**) who survived.\n",
        "\n",
        "Then, run the code below in another code cell:"
      ],
      "id": "8d127843-35e9-4bb2-93b2-1dc9fedd236c"
    },
    {
      "cell_type": "code",
      "execution_count": 9,
      "metadata": {},
      "outputs": [
        {
          "output_type": "stream",
          "name": "stdout",
          "text": [
            "% of men who survived: 0.18890814558058924"
          ]
        }
      ],
      "source": [
        "men = train_data.loc[train_data.Sex == 'male'][\"Survived\"]\n",
        "rate_men = sum(men)/len(men)\n",
        "\n",
        "print(\"% of men who survived:\", rate_men)"
      ],
      "id": "cell-21"
    },
    {
      "cell_type": "markdown",
      "metadata": {},
      "source": [
        "The code above calculates the percentage of male passengers (in\n",
        "**train.csv**) who survived.\n",
        "\n",
        "From this you can see that almost 75% of the women on board survived,\n",
        "whereas only 19% of the men lived to tell about it. Since gender seems\n",
        "to be such a strong indicator of survival, the submission file in\n",
        "**gender_submission.csv** is not a bad first guess!\n",
        "\n",
        "But at the end of the day, this gender-based submission bases its\n",
        "predictions on only a single column. As you can imagine, by considering\n",
        "multiple columns, we can discover more complex patterns that can\n",
        "potentially yield better-informed predictions. Since it is quite\n",
        "difficult to consider several columns at once (or, it would take a long\n",
        "time to consider all possible patterns in many different columns\n",
        "simultaneously), we’ll use machine learning to automate this for us.\n",
        "\n",
        "## Your first machine learning model\n",
        "\n",
        "We’ll build what’s known as a **random forest model**. This model is\n",
        "constructed of several “trees” (there are three trees in the picture\n",
        "below, but we’ll construct 100!) that will individually consider each\n",
        "passenger’s data and vote on whether the individual survived. Then, the\n",
        "random forest model makes a democratic decision: the outcome with the\n",
        "most votes wins!\n",
        "\n",
        "![](https://i.imgur.com/AC9Bq63.png)\n",
        "\n",
        "The code cell below looks for patterns in four different columns\n",
        "(**“Pclass”**, **“Sex”**, **“SibSp”**, and **“Parch”**) of the data. It\n",
        "constructs the trees in the random forest model based on patterns in the\n",
        "**train.csv** file, before generating predictions for the passengers in\n",
        "**test.csv**. The code also saves these new predictions in a CSV file\n",
        "**submission.csv**.\n",
        "\n",
        "Copy this code into your notebook, and run it in a new code cell."
      ],
      "id": "5a689225-be91-4477-8efa-d712220e8323"
    },
    {
      "cell_type": "code",
      "execution_count": 10,
      "metadata": {},
      "outputs": [
        {
          "output_type": "stream",
          "name": "stdout",
          "text": [
            "Your submission was successfully saved!"
          ]
        }
      ],
      "source": [
        "from sklearn.ensemble import RandomForestClassifier\n",
        "\n",
        "y = train_data[\"Survived\"]\n",
        "\n",
        "features = [\"Pclass\", \"Sex\", \"SibSp\", \"Parch\"]\n",
        "X = pd.get_dummies(train_data[features])\n",
        "X_test = pd.get_dummies(test_data[features])\n",
        "\n",
        "model = RandomForestClassifier(n_estimators=100, max_depth=5, random_state=1)\n",
        "model.fit(X, y)\n",
        "predictions = model.predict(X_test)\n",
        "\n",
        "output = pd.DataFrame({'PassengerId': test_data.PassengerId, 'Survived': predictions})\n",
        "output.to_csv('submission_AlexisCook.csv', index=False)\n",
        "print(\"Your submission was successfully saved!\")"
      ],
      "id": "cell-23"
    },
    {
      "cell_type": "markdown",
      "metadata": {},
      "source": [
        "Make sure that your notebook outputs the same message above\n",
        "(`Your submission was successfully saved!`) before moving on. \\> Again,\n",
        "don’t worry if this code doesn’t make sense to you! For now, we’ll focus\n",
        "on how to generate and submit predictions.\n",
        "\n",
        "Once you’re ready, click on the **“Save Version”** button in the top\n",
        "right corner of your notebook. This will generate a pop-up window.  \n",
        "- Ensure that the **“Save and Run All”** option is selected, and then\n",
        "click on the **“Save”** button. - This generates a window in the bottom\n",
        "left corner of the notebook. After it has finished running, click on the\n",
        "number to the right of the **“Save Version”** button. This pulls up a\n",
        "list of versions on the right of the screen. Click on the ellipsis\n",
        "**(…)** to the right of the most recent version, and select **Open in\n",
        "Viewer**.  \n",
        "- Click on the **Data** tab on the top of the screen. Then, click on the\n",
        "**“Submit”** button to submit your results.\n",
        "\n",
        "![](https://i.imgur.com/1ocaUl4.png)\n",
        "\n",
        "Congratulations for making your first submission to a Kaggle\n",
        "competition! Within ten minutes, you should receive a message providing\n",
        "your spot on the leaderboard. Great work!\n",
        "\n",
        "## Part 4: Learn more!\n",
        "\n",
        "If you’re interested in learning more, we strongly suggest our (3-hour)\n",
        "**[Intro to Machine\n",
        "Learning](https://www.kaggle.com/learn/intro-to-machine-learning)**\n",
        "course, which will help you fully understand all of the code that we’ve\n",
        "presented here. You’ll also know enough to generate even better\n",
        "predictions!\n",
        "\n",
        "# 3. Alexis Cook의 분석을 이어받아 약간변형\n",
        "\n",
        "## A. Alexis Cook의 분석은 train에서 얼마나 잘 맞출까?\n",
        "\n",
        "`-` 원래코드"
      ],
      "id": "0d761cbc-1627-4f0e-83b4-f7e71df53d19"
    },
    {
      "cell_type": "code",
      "execution_count": 11,
      "metadata": {},
      "outputs": [
        {
          "output_type": "stream",
          "name": "stdout",
          "text": [
            "Your submission was successfully saved!"
          ]
        }
      ],
      "source": [
        "from sklearn.ensemble import RandomForestClassifier\n",
        "\n",
        "y = train_data[\"Survived\"]\n",
        "\n",
        "features = [\"Pclass\", \"Sex\", \"SibSp\", \"Parch\"]\n",
        "X = pd.get_dummies(train_data[features])\n",
        "X_test = pd.get_dummies(test_data[features])\n",
        "\n",
        "model = RandomForestClassifier(n_estimators=100, max_depth=5, random_state=1)\n",
        "model.fit(X, y)\n",
        "predictions = model.predict(X_test)\n",
        "\n",
        "output = pd.DataFrame({'PassengerId': test_data.PassengerId, 'Survived': predictions})\n",
        "output.to_csv('submission_AlexisCook.csv', index=False)\n",
        "print(\"Your submission was successfully saved!\")"
      ],
      "id": "cell-29"
    },
    {
      "cell_type": "code",
      "execution_count": 12,
      "metadata": {},
      "outputs": [],
      "source": [
        "len(predictions), len(X_test)"
      ],
      "id": "cell-30"
    },
    {
      "cell_type": "markdown",
      "metadata": {},
      "source": [
        "`-` 이렇게 수정하면 될 듯"
      ],
      "id": "cc6b94b9-944d-4670-ab7c-657d704e798d"
    },
    {
      "cell_type": "code",
      "execution_count": 13,
      "metadata": {},
      "outputs": [],
      "source": [
        "from sklearn.ensemble import RandomForestClassifier\n",
        "\n",
        "y = train_data[\"Survived\"]\n",
        "\n",
        "features = [\"Pclass\", \"Sex\", \"SibSp\", \"Parch\"]\n",
        "X = pd.get_dummies(train_data[features])\n",
        "X_test = pd.get_dummies(test_data[features])\n",
        "\n",
        "model = RandomForestClassifier(n_estimators=100, max_depth=5, random_state=1)\n",
        "model.fit(X, y)\n",
        "\n",
        "####\n",
        "\n",
        "predictions = model.predict(X)"
      ],
      "id": "cell-32"
    },
    {
      "cell_type": "code",
      "execution_count": 14,
      "metadata": {},
      "outputs": [],
      "source": [
        "len(predictions),len(y)"
      ],
      "id": "cell-33"
    },
    {
      "cell_type": "code",
      "execution_count": 15,
      "metadata": {},
      "outputs": [],
      "source": [
        "(predictions == y).mean()"
      ],
      "id": "cell-34"
    },
    {
      "cell_type": "markdown",
      "metadata": {},
      "source": [
        "## B. Alexis Cook의 코드를 수정해보자!\n",
        "\n",
        "`-` 코드를 수정해보자."
      ],
      "id": "d8bac34b-ce31-419d-b26f-40a72d897777"
    },
    {
      "cell_type": "code",
      "execution_count": 16,
      "metadata": {},
      "outputs": [],
      "source": [
        "from sklearn.ensemble import RandomForestClassifier\n",
        "\n",
        "y = train_data[\"Survived\"]\n",
        "\n",
        "features = [\"Pclass\", \"Sex\", \"SibSp\", \"Parch\"]\n",
        "X = pd.get_dummies(train_data[features])\n",
        "X_test = pd.get_dummies(test_data[features])\n",
        "\n",
        "model = RandomForestClassifier(n_estimators=5000, max_depth=1000, random_state=1)\n",
        "model.fit(X, y)\n",
        "\n",
        "####\n",
        "\n",
        "predictions = model.predict(X)"
      ],
      "id": "cell-37"
    },
    {
      "cell_type": "code",
      "execution_count": 17,
      "metadata": {},
      "outputs": [],
      "source": [
        "(predictions == y).mean()"
      ],
      "id": "cell-38"
    },
    {
      "cell_type": "markdown",
      "metadata": {},
      "source": [
        "-   내가 만든게 더 좋은데??\n",
        "\n",
        "`-` 이것도 제출결과로 만들어보자."
      ],
      "id": "d2e5ab51-d6ea-4737-8c87-5e8d113741d7"
    },
    {
      "cell_type": "code",
      "execution_count": 18,
      "metadata": {},
      "outputs": [],
      "source": [
        "predictions = model.predict(X_test)"
      ],
      "id": "cell-41"
    },
    {
      "cell_type": "markdown",
      "metadata": {},
      "source": [
        "`-` 아래와 같이 제출하면 에러가 발생"
      ],
      "id": "6cea7d97-46e2-4eb0-9df7-129a96053619"
    },
    {
      "cell_type": "code",
      "execution_count": 19,
      "metadata": {},
      "outputs": [],
      "source": [
        "# pd.read_csv(\"/kaggle/input/titanic/gender_submission.csv\")\\\n",
        "# .assign(Survived=predictions)\\\n",
        "# .to_csv(\"AlexisCook수정_submission.csv\")"
      ],
      "id": "cell-43"
    },
    {
      "cell_type": "markdown",
      "metadata": {},
      "source": [
        "`-` 아래와 같이 제출파일을 저장해야 한다."
      ],
      "id": "d61a7f35-c8fd-4aeb-95f3-371cb99674a9"
    },
    {
      "cell_type": "code",
      "execution_count": 20,
      "metadata": {},
      "outputs": [],
      "source": [
        "# pd.read_csv(\"/kaggle/input/titanic/gender_submission.csv\")\\\n",
        "# .assign(Survived=predictions)\\\n",
        "# .to_csv(\"AlexisCook수정2_submission.csv\",index=False)"
      ],
      "id": "cell-45"
    },
    {
      "cell_type": "markdown",
      "metadata": {},
      "source": [
        "# 4. 제출결과의 비교\n",
        "\n",
        "`-` 교훈: 모의고사(train)를 잘 푼다고 꼭 수능(test)을 잘보는 건 아니다."
      ],
      "id": "e59e3ea0-7781-4846-89c2-1947e16c9ea4"
    }
  ],
  "nbformat": 4,
  "nbformat_minor": 5,
  "metadata": {
    "kernelspec": {
      "name": "python3",
      "display_name": "Python 3 (ipykernel)",
      "language": "python"
    },
    "language_info": {
      "name": "python",
      "codemirror_mode": {
        "name": "ipython",
        "version": "3"
      },
      "file_extension": ".py",
      "mimetype": "text/x-python",
      "nbconvert_exporter": "python",
      "pygments_lexer": "ipython3",
      "version": "3.10.13"
    }
  }
}