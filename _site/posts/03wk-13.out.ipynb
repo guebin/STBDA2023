{
  "cells": [
    {
      "cell_type": "markdown",
      "metadata": {},
      "source": [
        "# 03wk-13: 타이타닉 / 로지스틱 – 추가해설\n",
        "\n",
        "최규빈  \n",
        "2023-09-21\n",
        "\n",
        "# 1. 강의영상\n",
        "\n",
        "<https://youtu.be/playlist?list=PLQqh36zP38-wi9Mkfc849jTCMENvydI8B&si=hotGT-ErLB8dukhs>\n",
        "\n",
        "# 2. Import"
      ],
      "id": "9de50e58-7079-4c0b-a30e-f2f69f4874e4"
    },
    {
      "cell_type": "code",
      "execution_count": 1,
      "metadata": {},
      "outputs": [],
      "source": [
        "import numpy as np\n",
        "import pandas as pd \n",
        "import sklearn.linear_model"
      ],
      "id": "639aa5d1-c358-4684-9156-88f6c71c172b"
    },
    {
      "cell_type": "markdown",
      "metadata": {},
      "source": [
        "# 3. Data 불러오기"
      ],
      "id": "0727f0b5-54fc-4c2d-a71e-070b70aa25a9"
    },
    {
      "cell_type": "code",
      "execution_count": 25,
      "metadata": {},
      "outputs": [],
      "source": [
        "df_train = pd.read_csv('titanic/train.csv')\n",
        "df_test = pd.read_csv('titanic/test.csv')"
      ],
      "id": "25e264d9-b265-4905-ab06-e8afaf83db30"
    },
    {
      "cell_type": "code",
      "execution_count": 3,
      "metadata": {},
      "outputs": [],
      "source": [
        "df_train"
      ],
      "id": "167a5451-5185-405c-8957-18c3f6fe3041"
    },
    {
      "cell_type": "code",
      "execution_count": 4,
      "metadata": {},
      "outputs": [],
      "source": [
        "set(df_train) - set(df_test)"
      ],
      "id": "61527d4c-2cd1-49bb-8fac-ff1bc81373da"
    },
    {
      "cell_type": "markdown",
      "metadata": {},
      "source": [
        "# 4. 분석 – 실패\n",
        "\n",
        "## A. 데이터 정리"
      ],
      "id": "ad08b8ff-3e6b-420c-a111-3bc72983dbd6"
    },
    {
      "cell_type": "code",
      "execution_count": 5,
      "metadata": {},
      "outputs": [],
      "source": [
        "X = pd.get_dummies(df_train.drop(['PassengerId','Survived'],axis=1))\n",
        "y = df_train[['Survived']]"
      ],
      "id": "fca40d1b-3bba-43a9-b713-44e61c6c04a7"
    },
    {
      "cell_type": "markdown",
      "metadata": {},
      "source": [
        "## B. Predictor 생성"
      ],
      "id": "f794e021-e4fc-4894-9d38-4eefcd7c1f89"
    },
    {
      "cell_type": "code",
      "execution_count": 6,
      "metadata": {},
      "outputs": [],
      "source": [
        "predictr = sklearn.linear_model.LogisticRegression()\n",
        "predictr "
      ],
      "id": "c58b215d-0efb-4bad-8f75-82b0738ffbae"
    },
    {
      "cell_type": "markdown",
      "metadata": {},
      "source": [
        "## C. 학습 (fit, learn)"
      ],
      "id": "71efb2bf-be3d-45cf-9b1c-65cb947e918a"
    },
    {
      "cell_type": "code",
      "execution_count": 7,
      "metadata": {},
      "outputs": [],
      "source": [
        "predictr.fit(X,y)"
      ],
      "id": "8fe073b7-8859-419f-829c-123ef23b98f5"
    },
    {
      "cell_type": "markdown",
      "metadata": {},
      "source": [
        "# 5. 원인분석"
      ],
      "id": "dceaebc6-0a2a-4c14-8431-1392e583a668"
    },
    {
      "cell_type": "code",
      "execution_count": 8,
      "metadata": {},
      "outputs": [
        {
          "output_type": "stream",
          "name": "stdout",
          "text": [
            "<class 'pandas.core.frame.DataFrame'>\n",
            "RangeIndex: 891 entries, 0 to 890\n",
            "Data columns (total 12 columns):\n",
            " #   Column       Non-Null Count  Dtype  \n",
            "---  ------       --------------  -----  \n",
            " 0   PassengerId  891 non-null    int64  \n",
            " 1   Survived     891 non-null    int64  \n",
            " 2   Pclass       891 non-null    int64  \n",
            " 3   Name         891 non-null    object \n",
            " 4   Sex          891 non-null    object \n",
            " 5   Age          714 non-null    float64\n",
            " 6   SibSp        891 non-null    int64  \n",
            " 7   Parch        891 non-null    int64  \n",
            " 8   Ticket       891 non-null    object \n",
            " 9   Fare         891 non-null    float64\n",
            " 10  Cabin        204 non-null    object \n",
            " 11  Embarked     889 non-null    object \n",
            "dtypes: float64(2), int64(5), object(5)\n",
            "memory usage: 83.7+ KB"
          ]
        }
      ],
      "source": [
        "df_train.info()"
      ],
      "id": "50ff9e66-045f-45c2-8508-a4ba82e27ae7"
    },
    {
      "cell_type": "markdown",
      "metadata": {},
      "source": [
        "`-` 문제1: `Cabin`열은 너무 많은 결측치를 가지고 있다.\n",
        "\n",
        "`-` 문제2: `Name` 혹은 `Ticket`과 같은 변수는 one-hot 인코딩 하기\n",
        "어색하다."
      ],
      "id": "0813c47f-91a1-4cc8-8b72-bdff4945928b"
    },
    {
      "cell_type": "code",
      "execution_count": 9,
      "metadata": {},
      "outputs": [],
      "source": [
        "len(set(df_train['Name']))"
      ],
      "id": "75d537ee-eabc-452a-a842-9450c8a08b34"
    },
    {
      "cell_type": "code",
      "execution_count": 10,
      "metadata": {},
      "outputs": [],
      "source": [
        "len(set(df_train['Ticket']))"
      ],
      "id": "1d0f3323-e388-4ca8-81c3-c9aa7603647a"
    },
    {
      "cell_type": "markdown",
      "metadata": {},
      "source": [
        "> **2023-10-24 추가해설**\n",
        ">\n",
        "> **밸런스게임 예제**: 이걸 one-hot 인코딩한다면 열이 엄청나게 많아진다.\n",
        "> 이러한 열들은 당연히 y와 직접적인 상관관계는 없게 나올것이다. 즉\n",
        "> 쓸모없는 변수들이 많아지는 상황이 되는데 이는 `모듈21`에서 소개한\n",
        "> “밸런스게임으로 변수를 증가시킨” 예제와 비슷한 상황이다.\n",
        "\n",
        "`-` 문제3: df_train의 `Age`와 `Embarked`에 약간 포함된 결측치가 마음에\n",
        "걸린다.. $\\to$ 빼자!\n",
        "\n",
        "`-` 문제4: df_test의 `Fare`에 포함된 결측값도 걸린다. $\\to$ 빼자!"
      ],
      "id": "08f7fe4f-390d-4c6d-a7bb-f3bedadc6785"
    },
    {
      "cell_type": "code",
      "execution_count": 11,
      "metadata": {},
      "outputs": [
        {
          "output_type": "stream",
          "name": "stdout",
          "text": [
            "<class 'pandas.core.frame.DataFrame'>\n",
            "RangeIndex: 418 entries, 0 to 417\n",
            "Data columns (total 11 columns):\n",
            " #   Column       Non-Null Count  Dtype  \n",
            "---  ------       --------------  -----  \n",
            " 0   PassengerId  418 non-null    int64  \n",
            " 1   Pclass       418 non-null    int64  \n",
            " 2   Name         418 non-null    object \n",
            " 3   Sex          418 non-null    object \n",
            " 4   Age          332 non-null    float64\n",
            " 5   SibSp        418 non-null    int64  \n",
            " 6   Parch        418 non-null    int64  \n",
            " 7   Ticket       418 non-null    object \n",
            " 8   Fare         417 non-null    float64\n",
            " 9   Cabin        91 non-null     object \n",
            " 10  Embarked     418 non-null    object \n",
            "dtypes: float64(2), int64(4), object(5)\n",
            "memory usage: 36.0+ KB"
          ]
        }
      ],
      "source": [
        "df_test.info()"
      ],
      "id": "7ee03b1d-c9b9-43f9-bb93-b2e205e69868"
    },
    {
      "cell_type": "markdown",
      "metadata": {},
      "source": [
        "> **2023-10-24 추가해설**\n",
        ">\n",
        "> **결측치처리**: 결측치가 포함된 열을 제외하는 것도 좋지만 적절한 값을\n",
        "> impute하는 것도 좋다.\n",
        "\n",
        "# 6. 분석 – 성공\n",
        "\n",
        "## A. 데이터정리"
      ],
      "id": "f7b9730a-4fd7-4459-ae5b-2e771b5171ab"
    },
    {
      "cell_type": "code",
      "execution_count": 12,
      "metadata": {},
      "outputs": [],
      "source": [
        "X = pd.get_dummies(df_train[[\"Pclass\", \"Sex\", \"SibSp\", \"Parch\"]])\n",
        "y = df_train[[\"Survived\"]]"
      ],
      "id": "38a15ea7-9ad2-413c-87db-64e236e8f784"
    },
    {
      "cell_type": "markdown",
      "metadata": {},
      "source": [
        "## B. Predictor 생성"
      ],
      "id": "01f4170a-6bf0-44dd-8277-f2758718e9d0"
    },
    {
      "cell_type": "code",
      "execution_count": 13,
      "metadata": {},
      "outputs": [],
      "source": [
        "predictr = sklearn.linear_model.LogisticRegression()"
      ],
      "id": "d25ccf8e-80ca-478f-ae48-e12ff7c21ac1"
    },
    {
      "cell_type": "markdown",
      "metadata": {},
      "source": [
        "## C. 학습"
      ],
      "id": "0df9668d-c1cc-41ce-9fc4-2e7d4857cf36"
    },
    {
      "cell_type": "code",
      "execution_count": 14,
      "metadata": {},
      "outputs": [
        {
          "output_type": "stream",
          "name": "stderr",
          "text": [
            "/home/cgb2/anaconda3/envs/ag/lib/python3.10/site-packages/sklearn/utils/validation.py:1143: DataConversionWarning: A column-vector y was passed when a 1d array was expected. Please change the shape of y to (n_samples, ), for example using ravel().\n",
            "  y = column_or_1d(y, warn=True)"
          ]
        }
      ],
      "source": [
        "predictr.fit(X, y)"
      ],
      "id": "03ae5d09-ddb7-4d2f-8183-d7504b4b9b8e"
    },
    {
      "cell_type": "markdown",
      "metadata": {},
      "source": [
        "## D. 예측"
      ],
      "id": "12ee868a-94d1-4359-ba15-722d64c1678c"
    },
    {
      "cell_type": "code",
      "execution_count": 15,
      "metadata": {},
      "outputs": [],
      "source": [
        "#predictr.predict(X)\n",
        "df_train.assign(Survived_hat=predictr.predict(X)).loc[:,['Survived','Survived_hat']]"
      ],
      "id": "4f1560b4-9233-40ac-b835-5d3eb2bd6534"
    },
    {
      "cell_type": "markdown",
      "metadata": {},
      "source": [
        "## E. 평가"
      ],
      "id": "354972e8-57ab-4383-9735-99cc6706586f"
    },
    {
      "cell_type": "code",
      "execution_count": 16,
      "metadata": {},
      "outputs": [],
      "source": [
        "predictr.score(X,y)"
      ],
      "id": "8afb0377-aae6-4e2e-a4df-02948242bd94"
    },
    {
      "cell_type": "markdown",
      "metadata": {},
      "source": [
        "# 7. 제출 (HW)"
      ],
      "id": "a02b8e2a-2b29-48d1-97e8-43d6d8992727"
    }
  ],
  "nbformat": 4,
  "nbformat_minor": 5,
  "metadata": {
    "kernelspec": {
      "name": "python3",
      "display_name": "Python 3 (ipykernel)",
      "language": "python"
    },
    "language_info": {
      "name": "python",
      "codemirror_mode": {
        "name": "ipython",
        "version": "3"
      },
      "file_extension": ".py",
      "mimetype": "text/x-python",
      "nbconvert_exporter": "python",
      "pygments_lexer": "ipython3",
      "version": "3.10.13"
    }
  }
}