{
  "cells": [
    {
      "cell_type": "markdown",
      "metadata": {},
      "source": [
        "# 13wk-47: 평가지표의 계산\n",
        "\n",
        "최규빈  \n",
        "2023-12-01\n",
        "\n",
        "# 1. 강의영상\n",
        "\n",
        "<https://youtu.be/playlist?list=PLQqh36zP38-zr8gM9nYpQ_0Q_OKIqeU0d&si=lX6pDp3cV_fME8mg>\n",
        "\n",
        "# 2. Imports"
      ],
      "id": "7cf6e6dd-cc47-4882-8d17-07c6e346c6b0"
    },
    {
      "cell_type": "code",
      "execution_count": 1,
      "metadata": {
        "tags": []
      },
      "outputs": [],
      "source": [
        "import numpy as np\n",
        "import sklearn.metrics"
      ],
      "id": "a1fe4893-6304-42fd-9c53-7e5684def4a7"
    },
    {
      "cell_type": "markdown",
      "metadata": {},
      "source": [
        "# 3. 12wk-46 숙제풀이\n",
        "\n",
        "밀실안에 100명의 사람이 있다고 하자. 이중 이중휴민트는 2명이 있다고\n",
        "하자. 이중휴민트를 잡기위해서 3명을 사살했다고 하자. 사살된 사람중 실제\n",
        "이중휴민트는 1명이었다고 하자. 이 경우\n",
        "\n",
        "-   accurary\n",
        "-   TPR(=recall)\n",
        "-   precision\n",
        "-   FPR\n",
        "\n",
        "값을 계산하라.\n",
        "\n",
        "`-` `y`, `yhat`"
      ],
      "id": "37bdd4c5-d75d-4904-84aa-b5741cb7b1b6"
    },
    {
      "cell_type": "code",
      "execution_count": 2,
      "metadata": {
        "tags": []
      },
      "outputs": [],
      "source": [
        "y = np.array([1]*2 + [0]*98)\n",
        "y"
      ],
      "id": "be6bfeed-e917-4e5f-9f75-2e2eeb042da6"
    },
    {
      "cell_type": "code",
      "execution_count": 3,
      "metadata": {
        "tags": []
      },
      "outputs": [],
      "source": [
        "yhat = np.array([0,1,1,1]+[0]*96)\n",
        "yhat"
      ],
      "id": "729ae415-f978-42cd-beb0-513b0083b7bc"
    },
    {
      "cell_type": "markdown",
      "metadata": {},
      "source": [
        "`-` 혼동행렬(=confusion matrix) 만들기"
      ],
      "id": "726750ff-b14b-4fab-b5e0-7266c0889930"
    },
    {
      "cell_type": "code",
      "execution_count": 4,
      "metadata": {
        "tags": []
      },
      "outputs": [],
      "source": [
        "sklearn.metrics.confusion_matrix(y,yhat)"
      ],
      "id": "79f094f1-dc7a-4f76-b029-af85a5c3ef63"
    },
    {
      "cell_type": "code",
      "execution_count": 5,
      "metadata": {
        "tags": []
      },
      "outputs": [],
      "source": [
        "(tn,fp),(fn,tp) = sklearn.metrics.confusion_matrix(y,yhat)"
      ],
      "id": "491c2ea9-2658-4546-9e7f-48c06c4c899b"
    },
    {
      "cell_type": "markdown",
      "metadata": {},
      "source": [
        "`-` accuracy"
      ],
      "id": "679a5a7c-3879-49bd-ba1a-c216e7509619"
    },
    {
      "cell_type": "code",
      "execution_count": 9,
      "metadata": {
        "tags": []
      },
      "outputs": [],
      "source": [
        "(tp+tn)/(tn+fp+fn+tp) # accuracy "
      ],
      "id": "7fd7d079-757f-4975-a72a-b84e846fd1f4"
    },
    {
      "cell_type": "code",
      "execution_count": 10,
      "metadata": {
        "tags": []
      },
      "outputs": [],
      "source": [
        "sklearn.metrics.accuracy_score(y,yhat)"
      ],
      "id": "59c5fef6-84a7-4769-b2bd-2718a5cc621f"
    },
    {
      "cell_type": "markdown",
      "metadata": {},
      "source": [
        "`-` recall"
      ],
      "id": "e78ee590-7b34-4d27-a1e8-55d8552fb589"
    },
    {
      "cell_type": "code",
      "execution_count": 11,
      "metadata": {
        "tags": []
      },
      "outputs": [],
      "source": [
        "tp/(tp+fn)"
      ],
      "id": "693b1344-5c28-4ecc-891f-ae56f79f5c25"
    },
    {
      "cell_type": "code",
      "execution_count": 12,
      "metadata": {
        "tags": []
      },
      "outputs": [],
      "source": [
        "sklearn.metrics.recall_score(y,yhat)"
      ],
      "id": "93910b7a-1796-49cf-947c-6db3e4083e6f"
    },
    {
      "cell_type": "markdown",
      "metadata": {},
      "source": [
        "`-` precision"
      ],
      "id": "4162393e-9883-4e66-abaa-31cea59fac61"
    },
    {
      "cell_type": "code",
      "execution_count": 13,
      "metadata": {
        "tags": []
      },
      "outputs": [],
      "source": [
        "tp/(tp+fp)"
      ],
      "id": "7a485b27-dce0-4dfa-8bb0-3424bfb53be5"
    },
    {
      "cell_type": "code",
      "execution_count": 14,
      "metadata": {
        "tags": []
      },
      "outputs": [],
      "source": [
        "sklearn.metrics.precision_score(y,yhat)"
      ],
      "id": "e4bfdce7-1bc6-4652-aec9-674149407c5d"
    },
    {
      "cell_type": "markdown",
      "metadata": {},
      "source": [
        "`-` FPR"
      ],
      "id": "8f09afc5-a119-417a-a8a1-cebdf34730ed"
    },
    {
      "cell_type": "code",
      "execution_count": 15,
      "metadata": {
        "tags": []
      },
      "outputs": [],
      "source": [
        "fp / (fp+tn)"
      ],
      "id": "cbd8d265-9a0a-4a14-8f10-280524ea239e"
    }
  ],
  "nbformat": 4,
  "nbformat_minor": 5,
  "metadata": {
    "kernelspec": {
      "name": "python3",
      "display_name": "Python 3 (ipykernel)",
      "language": "python"
    },
    "language_info": {
      "name": "python",
      "codemirror_mode": {
        "name": "ipython",
        "version": "3"
      },
      "file_extension": ".py",
      "mimetype": "text/x-python",
      "nbconvert_exporter": "python",
      "pygments_lexer": "ipython3",
      "version": "3.10.13"
    }
  }
}