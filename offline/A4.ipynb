{
 "cells": [
  {
   "cell_type": "raw",
   "id": "4f86ef8d-d3d0-4ee8-bb6e-054740aeac4e",
   "metadata": {},
   "source": [
    "---\n",
    "title: \"2023-11-28 -- 원격컴퓨터에서 개발환경 셋팅하기 (Docker-가상환경)\"\n",
    "author: \"최규빈\"\n",
    "date: \"11/16/2023\"\n",
    "---"
   ]
  },
  {
   "cell_type": "markdown",
   "id": "fb29a2d8-c9f2-43b6-b27b-e00916970808",
   "metadata": {},
   "source": [
    "# 1. 지난시간에 한것 "
   ]
  },
  {
   "cell_type": "markdown",
   "id": "e756d4ba-a80d-45fa-a858-e0071a3bbfd4",
   "metadata": {},
   "source": [
    "`-` 원격컴퓨터에서 간단한 개발환경 셋팅 "
   ]
  },
  {
   "cell_type": "markdown",
   "id": "eb46c514-03f3-4f83-8bbb-bd13a6adb9c9",
   "metadata": {},
   "source": [
    "# 2. 원격컴퓨터에서 개발환경 셋팅하기 "
   ]
  },
  {
   "cell_type": "markdown",
   "id": "dc33dc45-44ef-4172-b336-adea99695139",
   "metadata": {},
   "source": [
    "## A. SSH 연결"
   ]
  },
  {
   "cell_type": "markdown",
   "id": "b6b5b27d-121f-45d7-9fd8-424c08a17a9b",
   "metadata": {},
   "source": [
    "`-` 연결하는 방법 \n",
    "\n",
    "``` bash\n",
    "ssh root@210.117.173.186 -p {학번끝5자리}\n",
    "```"
   ]
  },
  {
   "cell_type": "markdown",
   "id": "0a969dd8-1872-4bae-a690-43bc95c26505",
   "metadata": {},
   "source": [
    "> 예를들어 학번끝5자리가 43052라면 `root@210.117.173.186 -p 43052`"
   ]
  },
  {
   "cell_type": "markdown",
   "id": "4b7457e3-a32c-4d3d-9bf1-986d7a463799",
   "metadata": {},
   "source": [
    "> 초기비밀번호는 `s+학번끝5자리`이다. 즉 학번 끝 5자리가 43052라면 초기비밀번호는 `s43052`이다. "
   ]
  },
  {
   "cell_type": "markdown",
   "id": "31489fc6-8f45-443e-85ef-66a11129fd6c",
   "metadata": {},
   "source": [
    "## B. password 변경 "
   ]
  },
  {
   "cell_type": "markdown",
   "id": "1ff5e09d-1784-4b83-9cfe-135dbfc03661",
   "metadata": {},
   "source": [
    "`-` 아래를 실행하여 비밀번호를 바꿀 것 \n",
    "\n",
    "```bash\n",
    "passwd root \n",
    "```"
   ]
  },
  {
   "cell_type": "markdown",
   "id": "d9dc6266-ed1a-4b18-9770-b75e1e3fbbc9",
   "metadata": {},
   "source": [
    "`-` 이후에는 아래를 입력하여 바뀐 password를 입력한다. \n",
    "\n",
    "``` bash\n",
    "ssh root@210.117.173.186 -p {학번끝5자리}\n",
    "```"
   ]
  },
  {
   "cell_type": "markdown",
   "id": "7c284241-4032-4c79-a8b8-bdb2f8ba81ef",
   "metadata": {},
   "source": [
    "## C. 아나콘다 설치 "
   ]
  },
  {
   "cell_type": "markdown",
   "id": "fe593373-f6fd-4af7-a246-d013b717e136",
   "metadata": {},
   "source": [
    "`-` 아나콘다 홈페이지 접속 $\\to$ 다운로드 링크 확보 $\\to$ 아나콘다 다운로드 \n",
    "\n",
    "``` bash\n",
    "# 아나콘다 홈페 접속\n",
    "# 다운로드링크 확보 (쉬프트+클릭으로 열면 홈페이지 주소 복사가능) \n",
    "wget 복사한주소\n",
    "```"
   ]
  },
  {
   "cell_type": "markdown",
   "id": "9215f79d-9783-47af-89e8-38a86d4a82c8",
   "metadata": {},
   "source": [
    "{{<video https://youtu.be/4AwCeT4W4ao >}}"
   ]
  },
  {
   "cell_type": "markdown",
   "id": "2cc82bfd-d27f-4707-9eee-9ea624cb0b22",
   "metadata": {},
   "source": [
    "`-` (아나콘다 설치) 아나콘다를 다운받은 폴더로 가서 아래와 같이\n",
    "실행한다.\n",
    "\n",
    "``` bash\n",
    "bash Anaconda3-2019.03-Linux-x86_64.sh\n",
    "```\n",
    "\n",
    "대충 `bash Ana` 정도까지만 치고 `tab`을 누르면 알아서 완성된다. (스페이스를 누르면서 라이센스텀을 넘긴다)"
   ]
  },
  {
   "cell_type": "markdown",
   "id": "2441ea0e-6c65-4a53-b861-3429785ab3d1",
   "metadata": {},
   "source": [
    "{{<video https://youtu.be/5fiFYDpVs_o >}}"
   ]
  },
  {
   "cell_type": "markdown",
   "id": "2c3fc612-5692-4725-ae7a-7634aa6c732a",
   "metadata": {},
   "source": [
    "## D. 주피터랩 설치 및 실행 "
   ]
  },
  {
   "cell_type": "markdown",
   "id": "6d89caf3-943c-446f-9bd6-b9f74edf3c8d",
   "metadata": {},
   "source": [
    "`-` 주피터랩 설치\n",
    "\n",
    "```bash\n",
    "conda install -c conda-forge jupyterlab \n",
    "conda install -c conda-forge notebook \n",
    "```"
   ]
  },
  {
   "cell_type": "markdown",
   "id": "2787d1ea-9768-4ea7-9296-417cddff3f04",
   "metadata": {
    "tags": []
   },
   "source": [
    "`-` 패스워드 설정\n",
    "\n",
    "``` bash\n",
    "jupyter notebook password\n",
    "## 패스워드 치고\n",
    "## 확인해야함\n",
    "```"
   ]
  },
  {
   "cell_type": "markdown",
   "id": "499c1fc7-8f45-413e-8784-67808b9b081b",
   "metadata": {},
   "source": [
    "`-` 실행 \n",
    "\n",
    "```bash\n",
    "jupyter lab --ip=\"0.0.0.0\" --port={MY-PORT} --no-browser --allow-root\n",
    "```"
   ]
  },
  {
   "cell_type": "markdown",
   "id": "666050ad-044f-406a-9886-5adadb84a33e",
   "metadata": {},
   "source": [
    ":::{.callout-note}\n",
    "port는 `2,3,4 + 학번끝4자리` 조합으로 쓸 수 있음. 예를들어 학번끝 4자리가 `3052`라면 \n",
    "\n",
    "```\n",
    "23052\n",
    "33052\n",
    "43052\n",
    "```\n",
    "\n",
    "에 해당하는 port번호를 쓸 수 있음. \n",
    ":::"
   ]
  },
  {
   "cell_type": "markdown",
   "id": "8185ae0d-4cdd-48a6-8c24-93486fa112c3",
   "metadata": {},
   "source": [
    "{{<video https://youtu.be/A3ivPWzYbAU >}}"
   ]
  },
  {
   "cell_type": "markdown",
   "id": "9ffc2065-d727-4b1b-b07c-51d1e77dacf2",
   "metadata": {},
   "source": [
    "`-` 백엔드에서 주피터랩 실행 (터미널을 껐을때 주피터도 꺼지는게 싫다면..)"
   ]
  },
  {
   "cell_type": "markdown",
   "id": "bb63b6b5-65b5-4cc6-8f19-7c20ad9d2ea1",
   "metadata": {},
   "source": [
    "{{<video https://youtu.be/eNbxra2pI1E >}}"
   ]
  },
  {
   "cell_type": "markdown",
   "id": "55ab13cc-c79c-414f-a274-6cb1f2d61f88",
   "metadata": {},
   "source": [
    "`-` 백엔드에서 실행된 주피터랩 종료"
   ]
  },
  {
   "cell_type": "markdown",
   "id": "a006d7bb-79e2-4d20-a7c7-0ccd0580b060",
   "metadata": {},
   "source": [
    "{{<video https://youtu.be/pzuPd_4FZHw >}}"
   ]
  },
  {
   "cell_type": "markdown",
   "id": "6d6a333b-c32f-4b6f-8091-ba3c1aebdfe9",
   "metadata": {},
   "source": [
    "## E. Git을 이용하여 강의노트 다운로드, 업데이트"
   ]
  },
  {
   "cell_type": "markdown",
   "id": "b69e6652-f8ee-41c9-a48c-8bcfb05ca99b",
   "metadata": {},
   "source": [
    "`-` 예를들어 데이터시각화 강의노트를 받는다면 아래와 같이 입력한다. \n",
    "\n",
    "```bash\n",
    "git clone https://github.com/guebin/DV2023.git\n",
    "```"
   ]
  },
  {
   "cell_type": "markdown",
   "id": "734f3893-246b-42e8-bf61-b5cc8e172c86",
   "metadata": {},
   "source": [
    "{{<video https://youtu.be/u2usXzz5ZxA >}}"
   ]
  },
  {
   "cell_type": "markdown",
   "id": "1a08faa2-7957-4a37-baf4-ffa8e97c1732",
   "metadata": {},
   "source": [
    "`-` updated된 데이터시각화 강의노트를 받으려면 \"해당폴더로 이동한 후\" 아래와 같이 입력한다. \n",
    "\n",
    "```bash\n",
    "git pull\n",
    "```"
   ]
  },
  {
   "cell_type": "markdown",
   "id": "1fd3003a-a6d9-4fcf-975d-2ab3d4872ab9",
   "metadata": {},
   "source": [
    "{{<video https://youtu.be/LusjjjtaEHg >}}"
   ]
  },
  {
   "cell_type": "markdown",
   "id": "f251c50d-d3ab-4dc0-a750-72e6b6c32eda",
   "metadata": {},
   "source": [
    "## F. Kaggle 설정하기 "
   ]
  },
  {
   "cell_type": "markdown",
   "id": "80848c3c-c6d0-49d2-87cb-9b8165ceb7ce",
   "metadata": {},
   "source": [
    "`-` 아래를 실행 "
   ]
  },
  {
   "cell_type": "markdown",
   "id": "77c4999c-2af8-46cf-906f-c0f4bf2d15d8",
   "metadata": {},
   "source": [
    "```bash\n",
    "# conda activate ag\n",
    "pip install kaggle \n",
    "```"
   ]
  },
  {
   "cell_type": "markdown",
   "id": "709e7b94-d787-4b52-be58-b0d0ba90b7d9",
   "metadata": {},
   "source": [
    "`-` `kaggle.json` 파일 업로드 + `/root/.kaggle`로 복사\n",
    "\n",
    "```bash\n",
    "cp kaggle.json /root/.kaggle\n",
    "```"
   ]
  },
  {
   "cell_type": "markdown",
   "id": "b028dd09-c29f-4827-bbc3-868e028502dc",
   "metadata": {},
   "source": [
    "{{<video https://youtu.be/y0TWNlw1ZfI >}}"
   ]
  }
 ],
 "metadata": {
  "kernelspec": {
   "display_name": "Python 3 (ipykernel)",
   "language": "python",
   "name": "python3"
  },
  "language_info": {
   "codemirror_mode": {
    "name": "ipython",
    "version": 3
   },
   "file_extension": ".py",
   "mimetype": "text/x-python",
   "name": "python",
   "nbconvert_exporter": "python",
   "pygments_lexer": "ipython3",
   "version": "3.10.13"
  }
 },
 "nbformat": 4,
 "nbformat_minor": 5
}
