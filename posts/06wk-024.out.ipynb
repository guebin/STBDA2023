{
  "cells": [
    {
      "cell_type": "markdown",
      "metadata": {},
      "source": [
        "# 06wk-024: 취업(다중공선성) / RidgeCV\n",
        "\n",
        "최규빈  \n",
        "2023-10-05\n",
        "\n",
        "# 1. 강의영상\n",
        "\n",
        "<https://youtu.be/playlist?list=PLQqh36zP38-wCfFLHO2uCcH6izfJPTKro&si=YYn_bwPwcuwTk0Ld>\n",
        "\n",
        "# 2. Imports"
      ],
      "id": "e251101f-5f04-450e-b36c-4e3701bbd8df"
    },
    {
      "cell_type": "code",
      "execution_count": 1,
      "metadata": {},
      "outputs": [],
      "source": [
        "import numpy as np\n",
        "import pandas as pd\n",
        "import matplotlib.pyplot as plt \n",
        "import sklearn.linear_model"
      ],
      "id": "cell-4"
    },
    {
      "cell_type": "markdown",
      "metadata": {},
      "source": [
        "# 3. Data"
      ],
      "id": "12e50520-cfd6-4154-b2ec-ee41bf4bd6a8"
    },
    {
      "cell_type": "code",
      "execution_count": 2,
      "metadata": {},
      "outputs": [],
      "source": [
        "df = pd.read_csv(\"https://raw.githubusercontent.com/guebin/MP2023/main/posts/employment_multicollinearity.csv\")\n",
        "np.random.seed(43052)\n",
        "df['employment_score'] = df.gpa * 1.0 + df.toeic* 1/100 + np.random.randn(500)"
      ],
      "id": "cell-6"
    },
    {
      "cell_type": "code",
      "execution_count": 3,
      "metadata": {},
      "outputs": [],
      "source": [
        "df"
      ],
      "id": "cell-7"
    },
    {
      "cell_type": "markdown",
      "metadata": {},
      "source": [
        "# 4. RidgeCV\n",
        "\n",
        "`-` RidgeCV 클래스에서 모형을 선택해보자."
      ],
      "id": "f9b6faa0-8a11-4305-a32f-e1631db060c7"
    },
    {
      "cell_type": "code",
      "execution_count": 9,
      "metadata": {},
      "outputs": [],
      "source": [
        "## step1 \n",
        "df_train, df_test = sklearn.model_selection.train_test_split(df,test_size=0.3,random_state=42)\n",
        "X = df_train.loc[:,'gpa':'toeic499']\n",
        "y = df_train.loc[:,'employment_score']\n",
        "XX = df_test.loc[:,'gpa':'toeic499']\n",
        "yy = df_test.loc[:,'employment_score']\n",
        "## step2 \n",
        "predictr = sklearn.linear_model.RidgeCV()\n",
        "## step3\n",
        "predictr.fit(X,y)\n",
        "## step4 -- pass "
      ],
      "id": "cell-10"
    },
    {
      "cell_type": "code",
      "execution_count": 10,
      "metadata": {},
      "outputs": [],
      "source": [
        "predictr.score(X,y)"
      ],
      "id": "cell-11"
    },
    {
      "cell_type": "code",
      "execution_count": 11,
      "metadata": {},
      "outputs": [],
      "source": [
        "predictr.score(XX,yy)"
      ],
      "id": "cell-12"
    },
    {
      "cell_type": "markdown",
      "metadata": {},
      "source": [
        "`-` alpha들의 후보를 우리가 직접 선정하자."
      ],
      "id": "e1f79b5f-24c8-4742-8bf6-6fce96826227"
    },
    {
      "cell_type": "code",
      "execution_count": 16,
      "metadata": {},
      "outputs": [],
      "source": [
        "## step1 \n",
        "df_train, df_test = sklearn.model_selection.train_test_split(df,test_size=0.3,random_state=42)\n",
        "X = df_train.loc[:,'gpa':'toeic499']\n",
        "y = df_train.loc[:,'employment_score']\n",
        "XX = df_test.loc[:,'gpa':'toeic499']\n",
        "yy = df_test.loc[:,'employment_score']\n",
        "## step2 \n",
        "predictr = sklearn.linear_model.RidgeCV(alphas=[5e2, 5e3, 5e4, 5e5, 5e6, 5e7, 5e8])\n",
        "## step3\n",
        "predictr.fit(X,y)\n",
        "## step4 -- pass "
      ],
      "id": "cell-14"
    },
    {
      "cell_type": "code",
      "execution_count": 17,
      "metadata": {},
      "outputs": [],
      "source": [
        "predictr.score(X,y)"
      ],
      "id": "cell-15"
    },
    {
      "cell_type": "code",
      "execution_count": 19,
      "metadata": {},
      "outputs": [],
      "source": [
        "predictr.score(XX,yy)"
      ],
      "id": "cell-16"
    },
    {
      "cell_type": "code",
      "execution_count": 20,
      "metadata": {},
      "outputs": [],
      "source": [
        "predictr.alpha_"
      ],
      "id": "cell-17"
    },
    {
      "cell_type": "markdown",
      "metadata": {},
      "source": [
        "**참고로 이 적합결과는 아래의 코드를 실행한것과 같다**"
      ],
      "id": "43a05997-d12b-4ba6-afd5-feb1eb58e277"
    },
    {
      "cell_type": "code",
      "execution_count": 21,
      "metadata": {},
      "outputs": [],
      "source": [
        "## step1 \n",
        "df_train, df_test = sklearn.model_selection.train_test_split(df,test_size=0.3,random_state=42)\n",
        "X = df_train.loc[:,'gpa':'toeic499']\n",
        "y = df_train.loc[:,'employment_score']\n",
        "XX = df_test.loc[:,'gpa':'toeic499']\n",
        "yy = df_test.loc[:,'employment_score']\n",
        "## step2 \n",
        "predictr = sklearn.linear_model.Ridge(alpha=50000000.0)\n",
        "## step3\n",
        "predictr.fit(X,y)\n",
        "## step4 -- pass "
      ],
      "id": "cell-19"
    },
    {
      "cell_type": "code",
      "execution_count": 24,
      "metadata": {},
      "outputs": [],
      "source": [
        "predictr.score(X,y)"
      ],
      "id": "cell-20"
    },
    {
      "cell_type": "code",
      "execution_count": 25,
      "metadata": {},
      "outputs": [],
      "source": [
        "predictr.score(XX,yy)"
      ],
      "id": "cell-21"
    }
  ],
  "nbformat": 4,
  "nbformat_minor": 5,
  "metadata": {
    "kernelspec": {
      "name": "python3",
      "display_name": "Python 3 (ipykernel)",
      "language": "python"
    },
    "language_info": {
      "name": "python",
      "codemirror_mode": {
        "name": "ipython",
        "version": "3"
      },
      "file_extension": ".py",
      "mimetype": "text/x-python",
      "nbconvert_exporter": "python",
      "pygments_lexer": "ipython3",
      "version": "3.10.13"
    }
  }
}