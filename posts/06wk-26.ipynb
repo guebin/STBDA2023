{
 "cells": [
  {
   "cell_type": "raw",
   "id": "f76d3334-f662-40c5-ae1e-88086585a574",
   "metadata": {
    "tags": []
   },
   "source": [
    "---\n",
    "title: \"06wk-26: 취업(다중공선성) / LassoCV\"\n",
    "author: \"최규빈\"\n",
    "date: \"10/05/2023\"\n",
    "bibliography: ref.bib\n",
    "draft: false\n",
    "---"
   ]
  },
  {
   "cell_type": "markdown",
   "id": "fbf761b2-7d7e-4bb3-aae6-3419f76b6356",
   "metadata": {},
   "source": [
    "\n",
    "# 1. 강의영상 "
   ]
  },
  {
   "cell_type": "markdown",
   "id": "04aff7d7-1d1c-4127-b144-b0a012659ce7",
   "metadata": {},
   "source": [
    "{{<video https://youtu.be/playlist?list=PLQqh36zP38-xANeG7u_3isOkp7zm-2-RM&si=wkbrF2i9zUPcgZbn >}}"
   ]
  },
  {
   "cell_type": "markdown",
   "id": "afcb146b-aa2b-43d1-842f-bc392d00a2ae",
   "metadata": {},
   "source": [
    "# 2. Imports"
   ]
  },
  {
   "cell_type": "code",
   "execution_count": 1,
   "id": "7bc4082c-bd40-43c3-acc3-b0b27b1a3689",
   "metadata": {
    "tags": []
   },
   "outputs": [],
   "source": [
    "import numpy as np\n",
    "import pandas as pd\n",
    "import sklearn.linear_model\n",
    "import matplotlib.pyplot as plt\n",
    "#---#\n",
    "import warnings\n",
    "warnings.filterwarnings('ignore')"
   ]
  },
  {
   "cell_type": "markdown",
   "id": "a4184c52",
   "metadata": {},
   "source": [
    "# 3. Data"
   ]
  },
  {
   "cell_type": "code",
   "execution_count": 2,
   "id": "77b6309b",
   "metadata": {
    "tags": []
   },
   "outputs": [],
   "source": [
    "df = pd.read_csv(\"https://raw.githubusercontent.com/guebin/MP2023/main/posts/employment_multicollinearity.csv\")\n",
    "np.random.seed(43052)\n",
    "df['employment_score'] = df.gpa * 1.0 + df.toeic* 1/100 + np.random.randn(500)"
   ]
  },
  {
   "cell_type": "code",
   "execution_count": 3,
   "id": "90fb2ff6",
   "metadata": {
    "tags": []
   },
   "outputs": [
    {
     "data": {
      "text/html": [
       "<div>\n",
       "<style scoped>\n",
       "    .dataframe tbody tr th:only-of-type {\n",
       "        vertical-align: middle;\n",
       "    }\n",
       "\n",
       "    .dataframe tbody tr th {\n",
       "        vertical-align: top;\n",
       "    }\n",
       "\n",
       "    .dataframe thead th {\n",
       "        text-align: right;\n",
       "    }\n",
       "</style>\n",
       "<table border=\"1\" class=\"dataframe\">\n",
       "  <thead>\n",
       "    <tr style=\"text-align: right;\">\n",
       "      <th></th>\n",
       "      <th>employment_score</th>\n",
       "      <th>gpa</th>\n",
       "      <th>toeic</th>\n",
       "      <th>toeic0</th>\n",
       "      <th>toeic1</th>\n",
       "      <th>toeic2</th>\n",
       "      <th>toeic3</th>\n",
       "      <th>toeic4</th>\n",
       "      <th>toeic5</th>\n",
       "      <th>toeic6</th>\n",
       "      <th>...</th>\n",
       "      <th>toeic490</th>\n",
       "      <th>toeic491</th>\n",
       "      <th>toeic492</th>\n",
       "      <th>toeic493</th>\n",
       "      <th>toeic494</th>\n",
       "      <th>toeic495</th>\n",
       "      <th>toeic496</th>\n",
       "      <th>toeic497</th>\n",
       "      <th>toeic498</th>\n",
       "      <th>toeic499</th>\n",
       "    </tr>\n",
       "  </thead>\n",
       "  <tbody>\n",
       "    <tr>\n",
       "      <th>0</th>\n",
       "      <td>1.784955</td>\n",
       "      <td>0.051535</td>\n",
       "      <td>135</td>\n",
       "      <td>129.566309</td>\n",
       "      <td>133.078481</td>\n",
       "      <td>121.678398</td>\n",
       "      <td>113.457366</td>\n",
       "      <td>133.564200</td>\n",
       "      <td>136.026566</td>\n",
       "      <td>141.793547</td>\n",
       "      <td>...</td>\n",
       "      <td>132.014696</td>\n",
       "      <td>140.013265</td>\n",
       "      <td>135.575816</td>\n",
       "      <td>143.863346</td>\n",
       "      <td>152.162740</td>\n",
       "      <td>132.850033</td>\n",
       "      <td>115.956496</td>\n",
       "      <td>131.842126</td>\n",
       "      <td>125.090801</td>\n",
       "      <td>143.568527</td>\n",
       "    </tr>\n",
       "    <tr>\n",
       "      <th>1</th>\n",
       "      <td>10.789671</td>\n",
       "      <td>0.355496</td>\n",
       "      <td>935</td>\n",
       "      <td>940.563187</td>\n",
       "      <td>935.723570</td>\n",
       "      <td>939.190519</td>\n",
       "      <td>938.995672</td>\n",
       "      <td>945.376482</td>\n",
       "      <td>927.469901</td>\n",
       "      <td>952.424087</td>\n",
       "      <td>...</td>\n",
       "      <td>942.251184</td>\n",
       "      <td>923.241548</td>\n",
       "      <td>939.924802</td>\n",
       "      <td>921.912261</td>\n",
       "      <td>953.250300</td>\n",
       "      <td>931.743615</td>\n",
       "      <td>940.205853</td>\n",
       "      <td>930.575825</td>\n",
       "      <td>941.530348</td>\n",
       "      <td>934.221055</td>\n",
       "    </tr>\n",
       "    <tr>\n",
       "      <th>2</th>\n",
       "      <td>8.221213</td>\n",
       "      <td>2.228435</td>\n",
       "      <td>485</td>\n",
       "      <td>493.671390</td>\n",
       "      <td>493.909118</td>\n",
       "      <td>475.500970</td>\n",
       "      <td>480.363752</td>\n",
       "      <td>478.868942</td>\n",
       "      <td>493.321602</td>\n",
       "      <td>490.059102</td>\n",
       "      <td>...</td>\n",
       "      <td>484.438233</td>\n",
       "      <td>488.101275</td>\n",
       "      <td>485.626742</td>\n",
       "      <td>475.330715</td>\n",
       "      <td>485.147363</td>\n",
       "      <td>468.553780</td>\n",
       "      <td>486.870976</td>\n",
       "      <td>481.640957</td>\n",
       "      <td>499.340808</td>\n",
       "      <td>488.197332</td>\n",
       "    </tr>\n",
       "    <tr>\n",
       "      <th>3</th>\n",
       "      <td>2.137594</td>\n",
       "      <td>1.179701</td>\n",
       "      <td>65</td>\n",
       "      <td>62.272565</td>\n",
       "      <td>55.957257</td>\n",
       "      <td>68.521468</td>\n",
       "      <td>76.866765</td>\n",
       "      <td>51.436321</td>\n",
       "      <td>57.166824</td>\n",
       "      <td>67.834920</td>\n",
       "      <td>...</td>\n",
       "      <td>67.653225</td>\n",
       "      <td>65.710588</td>\n",
       "      <td>64.146780</td>\n",
       "      <td>76.662194</td>\n",
       "      <td>66.837839</td>\n",
       "      <td>82.379018</td>\n",
       "      <td>69.174745</td>\n",
       "      <td>64.475993</td>\n",
       "      <td>52.647087</td>\n",
       "      <td>59.493275</td>\n",
       "    </tr>\n",
       "    <tr>\n",
       "      <th>4</th>\n",
       "      <td>8.650144</td>\n",
       "      <td>3.962356</td>\n",
       "      <td>445</td>\n",
       "      <td>449.280637</td>\n",
       "      <td>438.895582</td>\n",
       "      <td>433.598274</td>\n",
       "      <td>444.081141</td>\n",
       "      <td>437.005100</td>\n",
       "      <td>434.761142</td>\n",
       "      <td>443.135269</td>\n",
       "      <td>...</td>\n",
       "      <td>455.940348</td>\n",
       "      <td>435.952854</td>\n",
       "      <td>441.521145</td>\n",
       "      <td>443.038886</td>\n",
       "      <td>433.118847</td>\n",
       "      <td>466.103355</td>\n",
       "      <td>430.056944</td>\n",
       "      <td>423.632873</td>\n",
       "      <td>446.973484</td>\n",
       "      <td>442.793633</td>\n",
       "    </tr>\n",
       "    <tr>\n",
       "      <th>...</th>\n",
       "      <td>...</td>\n",
       "      <td>...</td>\n",
       "      <td>...</td>\n",
       "      <td>...</td>\n",
       "      <td>...</td>\n",
       "      <td>...</td>\n",
       "      <td>...</td>\n",
       "      <td>...</td>\n",
       "      <td>...</td>\n",
       "      <td>...</td>\n",
       "      <td>...</td>\n",
       "      <td>...</td>\n",
       "      <td>...</td>\n",
       "      <td>...</td>\n",
       "      <td>...</td>\n",
       "      <td>...</td>\n",
       "      <td>...</td>\n",
       "      <td>...</td>\n",
       "      <td>...</td>\n",
       "      <td>...</td>\n",
       "      <td>...</td>\n",
       "    </tr>\n",
       "    <tr>\n",
       "      <th>495</th>\n",
       "      <td>9.057243</td>\n",
       "      <td>4.288465</td>\n",
       "      <td>280</td>\n",
       "      <td>276.680902</td>\n",
       "      <td>274.502675</td>\n",
       "      <td>277.868536</td>\n",
       "      <td>292.283300</td>\n",
       "      <td>277.476630</td>\n",
       "      <td>281.671647</td>\n",
       "      <td>296.307373</td>\n",
       "      <td>...</td>\n",
       "      <td>269.541846</td>\n",
       "      <td>278.220546</td>\n",
       "      <td>278.484758</td>\n",
       "      <td>284.901284</td>\n",
       "      <td>272.451612</td>\n",
       "      <td>265.784490</td>\n",
       "      <td>275.795948</td>\n",
       "      <td>280.465992</td>\n",
       "      <td>268.528889</td>\n",
       "      <td>283.638470</td>\n",
       "    </tr>\n",
       "    <tr>\n",
       "      <th>496</th>\n",
       "      <td>4.108020</td>\n",
       "      <td>2.601212</td>\n",
       "      <td>310</td>\n",
       "      <td>296.940263</td>\n",
       "      <td>301.545000</td>\n",
       "      <td>306.725610</td>\n",
       "      <td>314.811407</td>\n",
       "      <td>311.935810</td>\n",
       "      <td>309.695838</td>\n",
       "      <td>301.979914</td>\n",
       "      <td>...</td>\n",
       "      <td>304.680578</td>\n",
       "      <td>295.476836</td>\n",
       "      <td>316.582100</td>\n",
       "      <td>319.412132</td>\n",
       "      <td>312.984039</td>\n",
       "      <td>312.372112</td>\n",
       "      <td>312.106944</td>\n",
       "      <td>314.101927</td>\n",
       "      <td>309.409533</td>\n",
       "      <td>297.429968</td>\n",
       "    </tr>\n",
       "    <tr>\n",
       "      <th>497</th>\n",
       "      <td>2.430590</td>\n",
       "      <td>0.042323</td>\n",
       "      <td>225</td>\n",
       "      <td>206.793217</td>\n",
       "      <td>228.335345</td>\n",
       "      <td>222.115146</td>\n",
       "      <td>216.479498</td>\n",
       "      <td>227.469560</td>\n",
       "      <td>238.710310</td>\n",
       "      <td>233.797065</td>\n",
       "      <td>...</td>\n",
       "      <td>233.469238</td>\n",
       "      <td>235.160919</td>\n",
       "      <td>228.517306</td>\n",
       "      <td>228.349646</td>\n",
       "      <td>224.153606</td>\n",
       "      <td>230.860484</td>\n",
       "      <td>218.683195</td>\n",
       "      <td>232.949484</td>\n",
       "      <td>236.951938</td>\n",
       "      <td>227.997629</td>\n",
       "    </tr>\n",
       "    <tr>\n",
       "      <th>498</th>\n",
       "      <td>5.343171</td>\n",
       "      <td>1.041416</td>\n",
       "      <td>320</td>\n",
       "      <td>327.461442</td>\n",
       "      <td>323.019899</td>\n",
       "      <td>329.589337</td>\n",
       "      <td>313.312233</td>\n",
       "      <td>315.645050</td>\n",
       "      <td>324.448247</td>\n",
       "      <td>314.271045</td>\n",
       "      <td>...</td>\n",
       "      <td>326.297700</td>\n",
       "      <td>309.893822</td>\n",
       "      <td>312.873223</td>\n",
       "      <td>322.356584</td>\n",
       "      <td>319.332809</td>\n",
       "      <td>319.405283</td>\n",
       "      <td>324.021917</td>\n",
       "      <td>312.363694</td>\n",
       "      <td>318.493866</td>\n",
       "      <td>310.973930</td>\n",
       "    </tr>\n",
       "    <tr>\n",
       "      <th>499</th>\n",
       "      <td>6.505106</td>\n",
       "      <td>3.626883</td>\n",
       "      <td>375</td>\n",
       "      <td>370.966595</td>\n",
       "      <td>364.668477</td>\n",
       "      <td>371.853566</td>\n",
       "      <td>373.574930</td>\n",
       "      <td>376.701708</td>\n",
       "      <td>356.905085</td>\n",
       "      <td>354.584022</td>\n",
       "      <td>...</td>\n",
       "      <td>382.278782</td>\n",
       "      <td>379.460816</td>\n",
       "      <td>371.031640</td>\n",
       "      <td>370.272639</td>\n",
       "      <td>375.618182</td>\n",
       "      <td>369.252740</td>\n",
       "      <td>376.925543</td>\n",
       "      <td>391.863103</td>\n",
       "      <td>368.735260</td>\n",
       "      <td>368.520844</td>\n",
       "    </tr>\n",
       "  </tbody>\n",
       "</table>\n",
       "<p>500 rows × 503 columns</p>\n",
       "</div>"
      ],
      "text/plain": [
       "     employment_score       gpa  toeic      toeic0      toeic1      toeic2  \\\n",
       "0            1.784955  0.051535    135  129.566309  133.078481  121.678398   \n",
       "1           10.789671  0.355496    935  940.563187  935.723570  939.190519   \n",
       "2            8.221213  2.228435    485  493.671390  493.909118  475.500970   \n",
       "3            2.137594  1.179701     65   62.272565   55.957257   68.521468   \n",
       "4            8.650144  3.962356    445  449.280637  438.895582  433.598274   \n",
       "..                ...       ...    ...         ...         ...         ...   \n",
       "495          9.057243  4.288465    280  276.680902  274.502675  277.868536   \n",
       "496          4.108020  2.601212    310  296.940263  301.545000  306.725610   \n",
       "497          2.430590  0.042323    225  206.793217  228.335345  222.115146   \n",
       "498          5.343171  1.041416    320  327.461442  323.019899  329.589337   \n",
       "499          6.505106  3.626883    375  370.966595  364.668477  371.853566   \n",
       "\n",
       "         toeic3      toeic4      toeic5      toeic6  ...    toeic490  \\\n",
       "0    113.457366  133.564200  136.026566  141.793547  ...  132.014696   \n",
       "1    938.995672  945.376482  927.469901  952.424087  ...  942.251184   \n",
       "2    480.363752  478.868942  493.321602  490.059102  ...  484.438233   \n",
       "3     76.866765   51.436321   57.166824   67.834920  ...   67.653225   \n",
       "4    444.081141  437.005100  434.761142  443.135269  ...  455.940348   \n",
       "..          ...         ...         ...         ...  ...         ...   \n",
       "495  292.283300  277.476630  281.671647  296.307373  ...  269.541846   \n",
       "496  314.811407  311.935810  309.695838  301.979914  ...  304.680578   \n",
       "497  216.479498  227.469560  238.710310  233.797065  ...  233.469238   \n",
       "498  313.312233  315.645050  324.448247  314.271045  ...  326.297700   \n",
       "499  373.574930  376.701708  356.905085  354.584022  ...  382.278782   \n",
       "\n",
       "       toeic491    toeic492    toeic493    toeic494    toeic495    toeic496  \\\n",
       "0    140.013265  135.575816  143.863346  152.162740  132.850033  115.956496   \n",
       "1    923.241548  939.924802  921.912261  953.250300  931.743615  940.205853   \n",
       "2    488.101275  485.626742  475.330715  485.147363  468.553780  486.870976   \n",
       "3     65.710588   64.146780   76.662194   66.837839   82.379018   69.174745   \n",
       "4    435.952854  441.521145  443.038886  433.118847  466.103355  430.056944   \n",
       "..          ...         ...         ...         ...         ...         ...   \n",
       "495  278.220546  278.484758  284.901284  272.451612  265.784490  275.795948   \n",
       "496  295.476836  316.582100  319.412132  312.984039  312.372112  312.106944   \n",
       "497  235.160919  228.517306  228.349646  224.153606  230.860484  218.683195   \n",
       "498  309.893822  312.873223  322.356584  319.332809  319.405283  324.021917   \n",
       "499  379.460816  371.031640  370.272639  375.618182  369.252740  376.925543   \n",
       "\n",
       "       toeic497    toeic498    toeic499  \n",
       "0    131.842126  125.090801  143.568527  \n",
       "1    930.575825  941.530348  934.221055  \n",
       "2    481.640957  499.340808  488.197332  \n",
       "3     64.475993   52.647087   59.493275  \n",
       "4    423.632873  446.973484  442.793633  \n",
       "..          ...         ...         ...  \n",
       "495  280.465992  268.528889  283.638470  \n",
       "496  314.101927  309.409533  297.429968  \n",
       "497  232.949484  236.951938  227.997629  \n",
       "498  312.363694  318.493866  310.973930  \n",
       "499  391.863103  368.735260  368.520844  \n",
       "\n",
       "[500 rows x 503 columns]"
      ]
     },
     "execution_count": 3,
     "metadata": {},
     "output_type": "execute_result"
    }
   ],
   "source": [
    "df"
   ]
  },
  {
   "cell_type": "markdown",
   "id": "dd3615ab",
   "metadata": {},
   "source": [
    "# 4. LassoCV"
   ]
  },
  {
   "cell_type": "markdown",
   "id": "32223ac3",
   "metadata": {},
   "source": [
    "`-` LassoCV 클래스에서 모형을 선택해보자. "
   ]
  },
  {
   "cell_type": "code",
   "execution_count": 4,
   "id": "d3b233da",
   "metadata": {
    "tags": []
   },
   "outputs": [
    {
     "data": {
      "text/html": [
       "<style>#sk-container-id-1 {color: black;}#sk-container-id-1 pre{padding: 0;}#sk-container-id-1 div.sk-toggleable {background-color: white;}#sk-container-id-1 label.sk-toggleable__label {cursor: pointer;display: block;width: 100%;margin-bottom: 0;padding: 0.3em;box-sizing: border-box;text-align: center;}#sk-container-id-1 label.sk-toggleable__label-arrow:before {content: \"▸\";float: left;margin-right: 0.25em;color: #696969;}#sk-container-id-1 label.sk-toggleable__label-arrow:hover:before {color: black;}#sk-container-id-1 div.sk-estimator:hover label.sk-toggleable__label-arrow:before {color: black;}#sk-container-id-1 div.sk-toggleable__content {max-height: 0;max-width: 0;overflow: hidden;text-align: left;background-color: #f0f8ff;}#sk-container-id-1 div.sk-toggleable__content pre {margin: 0.2em;color: black;border-radius: 0.25em;background-color: #f0f8ff;}#sk-container-id-1 input.sk-toggleable__control:checked~div.sk-toggleable__content {max-height: 200px;max-width: 100%;overflow: auto;}#sk-container-id-1 input.sk-toggleable__control:checked~label.sk-toggleable__label-arrow:before {content: \"▾\";}#sk-container-id-1 div.sk-estimator input.sk-toggleable__control:checked~label.sk-toggleable__label {background-color: #d4ebff;}#sk-container-id-1 div.sk-label input.sk-toggleable__control:checked~label.sk-toggleable__label {background-color: #d4ebff;}#sk-container-id-1 input.sk-hidden--visually {border: 0;clip: rect(1px 1px 1px 1px);clip: rect(1px, 1px, 1px, 1px);height: 1px;margin: -1px;overflow: hidden;padding: 0;position: absolute;width: 1px;}#sk-container-id-1 div.sk-estimator {font-family: monospace;background-color: #f0f8ff;border: 1px dotted black;border-radius: 0.25em;box-sizing: border-box;margin-bottom: 0.5em;}#sk-container-id-1 div.sk-estimator:hover {background-color: #d4ebff;}#sk-container-id-1 div.sk-parallel-item::after {content: \"\";width: 100%;border-bottom: 1px solid gray;flex-grow: 1;}#sk-container-id-1 div.sk-label:hover label.sk-toggleable__label {background-color: #d4ebff;}#sk-container-id-1 div.sk-serial::before {content: \"\";position: absolute;border-left: 1px solid gray;box-sizing: border-box;top: 0;bottom: 0;left: 50%;z-index: 0;}#sk-container-id-1 div.sk-serial {display: flex;flex-direction: column;align-items: center;background-color: white;padding-right: 0.2em;padding-left: 0.2em;position: relative;}#sk-container-id-1 div.sk-item {position: relative;z-index: 1;}#sk-container-id-1 div.sk-parallel {display: flex;align-items: stretch;justify-content: center;background-color: white;position: relative;}#sk-container-id-1 div.sk-item::before, #sk-container-id-1 div.sk-parallel-item::before {content: \"\";position: absolute;border-left: 1px solid gray;box-sizing: border-box;top: 0;bottom: 0;left: 50%;z-index: -1;}#sk-container-id-1 div.sk-parallel-item {display: flex;flex-direction: column;z-index: 1;position: relative;background-color: white;}#sk-container-id-1 div.sk-parallel-item:first-child::after {align-self: flex-end;width: 50%;}#sk-container-id-1 div.sk-parallel-item:last-child::after {align-self: flex-start;width: 50%;}#sk-container-id-1 div.sk-parallel-item:only-child::after {width: 0;}#sk-container-id-1 div.sk-dashed-wrapped {border: 1px dashed gray;margin: 0 0.4em 0.5em 0.4em;box-sizing: border-box;padding-bottom: 0.4em;background-color: white;}#sk-container-id-1 div.sk-label label {font-family: monospace;font-weight: bold;display: inline-block;line-height: 1.2em;}#sk-container-id-1 div.sk-label-container {text-align: center;}#sk-container-id-1 div.sk-container {/* jupyter's `normalize.less` sets `[hidden] { display: none; }` but bootstrap.min.css set `[hidden] { display: none !important; }` so we also need the `!important` here to be able to override the default hidden behavior on the sphinx rendered scikit-learn.org. See: https://github.com/scikit-learn/scikit-learn/issues/21755 */display: inline-block !important;position: relative;}#sk-container-id-1 div.sk-text-repr-fallback {display: none;}</style><div id=\"sk-container-id-1\" class=\"sk-top-container\"><div class=\"sk-text-repr-fallback\"><pre>LassoCV(alphas=array([0.        , 0.02020202, 0.04040404, 0.06060606, 0.08080808,\n",
       "       0.1010101 , 0.12121212, 0.14141414, 0.16161616, 0.18181818,\n",
       "       0.2020202 , 0.22222222, 0.24242424, 0.26262626, 0.28282828,\n",
       "       0.3030303 , 0.32323232, 0.34343434, 0.36363636, 0.38383838,\n",
       "       0.4040404 , 0.42424242, 0.44444444, 0.46464646, 0.48484848,\n",
       "       0.50505051, 0.52525253, 0.54545455, 0.56565657, 0.58585859,\n",
       "       0.60606061...\n",
       "       1.31313131, 1.33333333, 1.35353535, 1.37373737, 1.39393939,\n",
       "       1.41414141, 1.43434343, 1.45454545, 1.47474747, 1.49494949,\n",
       "       1.51515152, 1.53535354, 1.55555556, 1.57575758, 1.5959596 ,\n",
       "       1.61616162, 1.63636364, 1.65656566, 1.67676768, 1.6969697 ,\n",
       "       1.71717172, 1.73737374, 1.75757576, 1.77777778, 1.7979798 ,\n",
       "       1.81818182, 1.83838384, 1.85858586, 1.87878788, 1.8989899 ,\n",
       "       1.91919192, 1.93939394, 1.95959596, 1.97979798, 2.        ]))</pre><b>In a Jupyter environment, please rerun this cell to show the HTML representation or trust the notebook. <br />On GitHub, the HTML representation is unable to render, please try loading this page with nbviewer.org.</b></div><div class=\"sk-container\" hidden><div class=\"sk-item\"><div class=\"sk-estimator sk-toggleable\"><input class=\"sk-toggleable__control sk-hidden--visually\" id=\"sk-estimator-id-1\" type=\"checkbox\" checked><label for=\"sk-estimator-id-1\" class=\"sk-toggleable__label sk-toggleable__label-arrow\">LassoCV</label><div class=\"sk-toggleable__content\"><pre>LassoCV(alphas=array([0.        , 0.02020202, 0.04040404, 0.06060606, 0.08080808,\n",
       "       0.1010101 , 0.12121212, 0.14141414, 0.16161616, 0.18181818,\n",
       "       0.2020202 , 0.22222222, 0.24242424, 0.26262626, 0.28282828,\n",
       "       0.3030303 , 0.32323232, 0.34343434, 0.36363636, 0.38383838,\n",
       "       0.4040404 , 0.42424242, 0.44444444, 0.46464646, 0.48484848,\n",
       "       0.50505051, 0.52525253, 0.54545455, 0.56565657, 0.58585859,\n",
       "       0.60606061...\n",
       "       1.31313131, 1.33333333, 1.35353535, 1.37373737, 1.39393939,\n",
       "       1.41414141, 1.43434343, 1.45454545, 1.47474747, 1.49494949,\n",
       "       1.51515152, 1.53535354, 1.55555556, 1.57575758, 1.5959596 ,\n",
       "       1.61616162, 1.63636364, 1.65656566, 1.67676768, 1.6969697 ,\n",
       "       1.71717172, 1.73737374, 1.75757576, 1.77777778, 1.7979798 ,\n",
       "       1.81818182, 1.83838384, 1.85858586, 1.87878788, 1.8989899 ,\n",
       "       1.91919192, 1.93939394, 1.95959596, 1.97979798, 2.        ]))</pre></div></div></div></div></div>"
      ],
      "text/plain": [
       "LassoCV(alphas=array([0.        , 0.02020202, 0.04040404, 0.06060606, 0.08080808,\n",
       "       0.1010101 , 0.12121212, 0.14141414, 0.16161616, 0.18181818,\n",
       "       0.2020202 , 0.22222222, 0.24242424, 0.26262626, 0.28282828,\n",
       "       0.3030303 , 0.32323232, 0.34343434, 0.36363636, 0.38383838,\n",
       "       0.4040404 , 0.42424242, 0.44444444, 0.46464646, 0.48484848,\n",
       "       0.50505051, 0.52525253, 0.54545455, 0.56565657, 0.58585859,\n",
       "       0.60606061...\n",
       "       1.31313131, 1.33333333, 1.35353535, 1.37373737, 1.39393939,\n",
       "       1.41414141, 1.43434343, 1.45454545, 1.47474747, 1.49494949,\n",
       "       1.51515152, 1.53535354, 1.55555556, 1.57575758, 1.5959596 ,\n",
       "       1.61616162, 1.63636364, 1.65656566, 1.67676768, 1.6969697 ,\n",
       "       1.71717172, 1.73737374, 1.75757576, 1.77777778, 1.7979798 ,\n",
       "       1.81818182, 1.83838384, 1.85858586, 1.87878788, 1.8989899 ,\n",
       "       1.91919192, 1.93939394, 1.95959596, 1.97979798, 2.        ]))"
      ]
     },
     "execution_count": 4,
     "metadata": {},
     "output_type": "execute_result"
    }
   ],
   "source": [
    "## step1\n",
    "df_train, df_test = sklearn.model_selection.train_test_split(df,test_size=0.3,random_state=42)\n",
    "X = df_train.loc[:,'gpa':'toeic499']\n",
    "y = df_train.loc[:,'employment_score']\n",
    "XX = df_test.loc[:,'gpa':'toeic499']\n",
    "yy = df_test.loc[:,'employment_score']\n",
    "## step2 \n",
    "predictr = sklearn.linear_model.LassoCV(alphas= np.linspace(0,2,100))\n",
    "## step3\n",
    "predictr.fit(X,y)\n",
    "## step4 -- pass"
   ]
  },
  {
   "cell_type": "code",
   "execution_count": 5,
   "id": "1d9c5d43",
   "metadata": {
    "tags": []
   },
   "outputs": [
    {
     "data": {
      "text/plain": [
       "0.9483494983570958"
      ]
     },
     "execution_count": 5,
     "metadata": {},
     "output_type": "execute_result"
    }
   ],
   "source": [
    "predictr.score(X,y)"
   ]
  },
  {
   "cell_type": "code",
   "execution_count": 6,
   "id": "745f93cc",
   "metadata": {
    "tags": []
   },
   "outputs": [
    {
     "data": {
      "text/plain": [
       "0.8749691641081606"
      ]
     },
     "execution_count": 6,
     "metadata": {},
     "output_type": "execute_result"
    }
   ],
   "source": [
    "predictr.score(XX,yy)"
   ]
  },
  {
   "cell_type": "markdown",
   "id": "9260cc4c",
   "metadata": {},
   "source": [
    "# 5. HW"
   ]
  },
  {
   "cell_type": "markdown",
   "id": "210b909a",
   "metadata": {},
   "source": [
    "`-` 현재 `predictr` 에 저장된^[LassoCV클래스에서 생성된 predictor] alpha값을 조사하고, 그것을 바탕으로 아래의 코드를 수정하여 위와 동일한 train_score, test_score가 나오도록 하라. "
   ]
  },
  {
   "cell_type": "markdown",
   "id": "4f74c2e1",
   "metadata": {},
   "source": [
    "수정할코드 "
   ]
  },
  {
   "cell_type": "markdown",
   "id": "68b91777",
   "metadata": {},
   "source": [
    "```Python \n",
    "## step1\n",
    "df_train, df_test = sklearn.model_selection.train_test_split(df,test_size=0.3,random_state=42)\n",
    "X = df_train.loc[:,'gpa':'toeic499']\n",
    "y = df_train.loc[:,'employment_score']\n",
    "XX = df_test.loc[:,'gpa':'toeic499']\n",
    "yy = df_test.loc[:,'employment_score']\n",
    "## step2 \n",
    "predictr = sklearn.linear_model.Lasso(alpha=????)\n",
    "## step3\n",
    "predictr.fit(X,y)\n",
    "## step4 -- pass\n",
    "```"
   ]
  },
  {
   "cell_type": "markdown",
   "id": "c105ecaa",
   "metadata": {},
   "source": [
    "나와야할 결과 "
   ]
  },
  {
   "cell_type": "code",
   "execution_count": null,
   "id": "293018a9",
   "metadata": {},
   "outputs": [
    {
     "data": {
      "text/plain": [
       "0.9483494983570958"
      ]
     },
     "metadata": {},
     "output_type": "display_data"
    }
   ],
   "source": [
    "predictr.score(X,y)"
   ]
  },
  {
   "cell_type": "code",
   "execution_count": null,
   "id": "5ffe28da",
   "metadata": {},
   "outputs": [
    {
     "data": {
      "text/plain": [
       "0.8749691641081606"
      ]
     },
     "metadata": {},
     "output_type": "display_data"
    }
   ],
   "source": [
    "predictr.score(XX,yy)"
   ]
  }
 ],
 "metadata": {
  "kernelspec": {
   "display_name": "Python 3 (ipykernel)",
   "language": "python",
   "name": "python3"
  },
  "language_info": {
   "codemirror_mode": {
    "name": "ipython",
    "version": 3
   },
   "file_extension": ".py",
   "mimetype": "text/x-python",
   "name": "python",
   "nbconvert_exporter": "python",
   "pygments_lexer": "ipython3",
   "version": "3.10.13"
  }
 },
 "nbformat": 4,
 "nbformat_minor": 5
}
