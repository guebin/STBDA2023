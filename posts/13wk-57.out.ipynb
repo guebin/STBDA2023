{
  "cells": [
    {
      "cell_type": "markdown",
      "metadata": {},
      "source": [
        "# 13wk-57: House Prices / 자료분석(Autogluon)\n",
        "\n",
        "최규빈  \n",
        "2023-12-01\n",
        "\n",
        "# 1. 강의영상\n",
        "\n",
        "<https://youtu.be/playlist?list=PLQqh36zP38-x-PYcds3K7ck8ELQyVlVoN&si=ZCdvUB2r4dQ7cnQx>\n",
        "\n",
        "# 2. Imports"
      ],
      "id": "11f0a814-7e52-408d-b1f8-0d639c88c197"
    },
    {
      "cell_type": "code",
      "execution_count": 1,
      "metadata": {
        "tags": []
      },
      "outputs": [],
      "source": [
        "#!pip install autogluon.eda"
      ],
      "id": "e43b6748-3f6b-4d31-90ba-bd80c3e88cd3"
    },
    {
      "cell_type": "code",
      "execution_count": 2,
      "metadata": {
        "tags": []
      },
      "outputs": [],
      "source": [
        "import numpy as np\n",
        "import pandas as pd\n",
        "import matplotlib.pyplot as plt \n",
        "import seaborn as sns\n",
        "#---#\n",
        "from autogluon.tabular import TabularPredictor\n",
        "import autogluon.eda.auto as auto\n",
        "#---#\n",
        "import warnings\n",
        "warnings.filterwarnings('ignore')"
      ],
      "id": "6434b134-a85e-4b1f-9416-1f86bc4c3b49"
    },
    {
      "cell_type": "markdown",
      "metadata": {},
      "source": [
        "# 3. Data\n",
        "\n",
        "ref:\n",
        "<https://www.kaggle.com/competitions/house-prices-advanced-regression-techniques/overview>"
      ],
      "id": "ae56b907-b05d-4912-899b-a860c9f4276f"
    },
    {
      "cell_type": "code",
      "execution_count": 3,
      "metadata": {
        "tags": []
      },
      "outputs": [
        {
          "output_type": "stream",
          "name": "stdout",
          "text": [
            "2023-12-01 22:24:10,010 WARNING Retrying (Retry(total=2, connect=None, read=None, redirect=None, status=None)) after connection broken by 'NewConnectionError('<urllib3.connection.HTTPSConnection object at 0x7ff5450cc250>: Failed to establish a new connection: [Errno -3] Temporary failure in name resolution')': /api/v1/competitions/data/download-all/house-prices-advanced-regression-techniques\n",
            "2023-12-01 22:24:30,028 WARNING Retrying (Retry(total=1, connect=None, read=None, redirect=None, status=None)) after connection broken by 'NewConnectionError('<urllib3.connection.HTTPSConnection object at 0x7ff545062020>: Failed to establish a new connection: [Errno -3] Temporary failure in name resolution')': /api/v1/competitions/data/download-all/house-prices-advanced-regression-techniques\n",
            "Downloading house-prices-advanced-regression-techniques.zip to /home/cgb2/Dropbox/07_lectures/2023-09-MP2023/posts\n",
            "100%|█████████████████████████████████████████| 199k/199k [00:00<00:00, 835kB/s]\n",
            "100%|█████████████████████████████████████████| 199k/199k [00:00<00:00, 833kB/s]"
          ]
        }
      ],
      "source": [
        "!kaggle competitions download -c house-prices-advanced-regression-techniques"
      ],
      "id": "f60f3d30-0f73-4fa2-b55a-96dd2961a3c5"
    },
    {
      "cell_type": "code",
      "execution_count": 5,
      "metadata": {
        "tags": []
      },
      "outputs": [
        {
          "output_type": "stream",
          "name": "stdout",
          "text": [
            "Archive:  house-prices-advanced-regression-techniques.zip\n",
            "  inflating: data_description.txt    \n",
            "  inflating: sample_submission.csv   \n",
            "  inflating: test.csv                \n",
            "  inflating: train.csv               "
          ]
        }
      ],
      "source": [
        "!unzip house-prices-advanced-regression-techniques.zip"
      ],
      "id": "1eeb438a-63ee-46c5-875a-2410ccf5fc75"
    },
    {
      "cell_type": "code",
      "execution_count": 7,
      "metadata": {
        "tags": []
      },
      "outputs": [],
      "source": [
        "df_submission = pd.read_csv(\"sample_submission.csv\")\n",
        "df_train = pd.read_csv(\"train.csv\")\n",
        "df_test = pd.read_csv(\"test.csv\")"
      ],
      "id": "9891678c-b22f-48ad-9d2c-29af52095e26"
    },
    {
      "cell_type": "code",
      "execution_count": 13,
      "metadata": {
        "tags": []
      },
      "outputs": [],
      "source": [
        "!rm sample_submission.csv\n",
        "!rm train.csv\n",
        "!rm test.csv\n",
        "!rm data_description.txt\n",
        "!rm house-prices-advanced-regression-techniques.zip"
      ],
      "id": "bb2a217d-f39a-41a0-ba5d-a14f2e7a9ee6"
    },
    {
      "cell_type": "markdown",
      "metadata": {},
      "source": [
        "# 4. 적합"
      ],
      "id": "1a96b3bb-95c6-4047-96cc-6b1083f8fb25"
    },
    {
      "cell_type": "code",
      "execution_count": 18,
      "metadata": {
        "tags": []
      },
      "outputs": [],
      "source": [
        "set(df_train.columns) - set(df_test.columns)"
      ],
      "id": "c1c50fc1-65bc-4db7-9777-6e451da5fd6e"
    },
    {
      "cell_type": "code",
      "execution_count": 21,
      "metadata": {
        "tags": []
      },
      "outputs": [
        {
          "output_type": "stream",
          "name": "stderr",
          "text": [
            "No path specified. Models will be saved in: \"AutogluonModels/ag-20231201_132915/\"\n",
            "Beginning AutoGluon training ...\n",
            "AutoGluon will save models to \"AutogluonModels/ag-20231201_132915/\"\n",
            "AutoGluon Version:  0.8.2\n",
            "Python Version:     3.10.13\n",
            "Operating System:   Linux\n",
            "Platform Machine:   x86_64\n",
            "Platform Version:   #26~22.04.1-Ubuntu SMP PREEMPT_DYNAMIC Thu Jul 13 16:27:29 UTC 2\n",
            "Disk Space Avail:   248.13 GB / 490.57 GB (50.6%)\n",
            "Train Data Rows:    1460\n",
            "Train Data Columns: 80\n",
            "Label Column: SalePrice\n",
            "Preprocessing data ...\n",
            "AutoGluon infers your prediction problem is: 'regression' (because dtype of label-column == int and many unique label-values observed).\n",
            "    Label info (max, min, mean, stddev): (755000, 34900, 180921.19589, 79442.50288)\n",
            "    If 'regression' is not the correct problem_type, please manually specify the problem_type parameter during predictor init (You may specify problem_type as one of: ['binary', 'multiclass', 'regression'])\n",
            "Using Feature Generators to preprocess the data ...\n",
            "Fitting AutoMLPipelineFeatureGenerator...\n",
            "    Available Memory:                    123443.91 MB\n",
            "    Train Data (Original)  Memory Usage: 4.06 MB (0.0% of available memory)\n",
            "    Inferring data type of each feature based on column values. Set feature_metadata_in to manually specify special dtypes of the features.\n",
            "    Stage 1 Generators:\n",
            "        Fitting AsTypeFeatureGenerator...\n",
            "            Note: Converting 3 features to boolean dtype as they only contain 2 unique values.\n",
            "    Stage 2 Generators:\n",
            "        Fitting FillNaFeatureGenerator...\n",
            "    Stage 3 Generators:\n",
            "        Fitting IdentityFeatureGenerator...\n",
            "        Fitting CategoryFeatureGenerator...\n",
            "            Fitting CategoryMemoryMinimizeFeatureGenerator...\n",
            "    Stage 4 Generators:\n",
            "        Fitting DropUniqueFeatureGenerator...\n",
            "    Stage 5 Generators:\n",
            "        Fitting DropDuplicatesFeatureGenerator...\n",
            "    Types of features in original data (raw dtype, special dtypes):\n",
            "        ('float', [])  :  3 | ['LotFrontage', 'MasVnrArea', 'GarageYrBlt']\n",
            "        ('int', [])    : 34 | ['Id', 'MSSubClass', 'LotArea', 'OverallQual', 'OverallCond', ...]\n",
            "        ('object', []) : 43 | ['MSZoning', 'Street', 'Alley', 'LotShape', 'LandContour', ...]\n",
            "    Types of features in processed data (raw dtype, special dtypes):\n",
            "        ('category', [])  : 40 | ['MSZoning', 'Alley', 'LotShape', 'LandContour', 'LotConfig', ...]\n",
            "        ('float', [])     :  3 | ['LotFrontage', 'MasVnrArea', 'GarageYrBlt']\n",
            "        ('int', [])       : 34 | ['Id', 'MSSubClass', 'LotArea', 'OverallQual', 'OverallCond', ...]\n",
            "        ('int', ['bool']) :  3 | ['Street', 'Utilities', 'CentralAir']\n",
            "    0.2s = Fit runtime\n",
            "    80 features in original data used to generate 80 features in processed data.\n",
            "    Train Data (Processed) Memory Usage: 0.52 MB (0.0% of available memory)\n",
            "Data preprocessing and feature engineering runtime = 0.23s ...\n",
            "AutoGluon will gauge predictive performance using evaluation metric: 'root_mean_squared_error'\n",
            "    This metric's sign has been flipped to adhere to being higher_is_better. The metric score can be multiplied by -1 to get the metric value.\n",
            "    To change this, specify the eval_metric parameter of Predictor()\n",
            "Automatically generating train/validation split with holdout_frac=0.2, Train Rows: 1168, Val Rows: 292\n",
            "User-specified model hyperparameters to be fit:\n",
            "{\n",
            "    'NN_TORCH': {},\n",
            "    'GBM': [{'extra_trees': True, 'ag_args': {'name_suffix': 'XT'}}, {}, 'GBMLarge'],\n",
            "    'CAT': {},\n",
            "    'XGB': {},\n",
            "    'FASTAI': {},\n",
            "    'RF': [{'criterion': 'gini', 'ag_args': {'name_suffix': 'Gini', 'problem_types': ['binary', 'multiclass']}}, {'criterion': 'entropy', 'ag_args': {'name_suffix': 'Entr', 'problem_types': ['binary', 'multiclass']}}, {'criterion': 'squared_error', 'ag_args': {'name_suffix': 'MSE', 'problem_types': ['regression', 'quantile']}}],\n",
            "    'XT': [{'criterion': 'gini', 'ag_args': {'name_suffix': 'Gini', 'problem_types': ['binary', 'multiclass']}}, {'criterion': 'entropy', 'ag_args': {'name_suffix': 'Entr', 'problem_types': ['binary', 'multiclass']}}, {'criterion': 'squared_error', 'ag_args': {'name_suffix': 'MSE', 'problem_types': ['regression', 'quantile']}}],\n",
            "    'KNN': [{'weights': 'uniform', 'ag_args': {'name_suffix': 'Unif'}}, {'weights': 'distance', 'ag_args': {'name_suffix': 'Dist'}}],\n",
            "}\n",
            "Fitting 11 L1 models ...\n",
            "Fitting model: KNeighborsUnif ...\n",
            "    -52278.8213  = Validation score   (-root_mean_squared_error)\n",
            "    0.01s    = Training   runtime\n",
            "    0.15s    = Validation runtime\n",
            "Fitting model: KNeighborsDist ...\n",
            "    -51314.2734  = Validation score   (-root_mean_squared_error)\n",
            "    0.01s    = Training   runtime\n",
            "    0.06s    = Validation runtime\n",
            "Fitting model: LightGBMXT ...\n",
            "    -27196.7065  = Validation score   (-root_mean_squared_error)\n",
            "    2.72s    = Training   runtime\n",
            "    0.02s    = Validation runtime\n",
            "Fitting model: LightGBM ...\n",
            "    -28692.2871  = Validation score   (-root_mean_squared_error)\n",
            "    5.95s    = Training   runtime\n",
            "    0.06s    = Validation runtime\n",
            "Fitting model: RandomForestMSE ...\n",
            "    -32785.3519  = Validation score   (-root_mean_squared_error)\n",
            "    0.44s    = Training   runtime\n",
            "    0.04s    = Validation runtime\n",
            "Fitting model: CatBoost ...\n",
            "    -28465.6966  = Validation score   (-root_mean_squared_error)\n",
            "    50.09s   = Training   runtime\n",
            "    0.02s    = Validation runtime\n",
            "Fitting model: ExtraTreesMSE ...\n",
            "    -32045.9062  = Validation score   (-root_mean_squared_error)\n",
            "    0.33s    = Training   runtime\n",
            "    0.04s    = Validation runtime\n",
            "Fitting model: NeuralNetFastAI ...\n",
            "    -33846.1203  = Validation score   (-root_mean_squared_error)\n",
            "    3.1s     = Training   runtime\n",
            "    0.03s    = Validation runtime\n",
            "Fitting model: XGBoost ...\n",
            "    -27778.2437  = Validation score   (-root_mean_squared_error)\n",
            "    0.9s     = Training   runtime\n",
            "    0.01s    = Validation runtime\n",
            "Fitting model: NeuralNetTorch ...\n",
            "    -35786.956   = Validation score   (-root_mean_squared_error)\n",
            "    6.1s     = Training   runtime\n",
            "    0.04s    = Validation runtime\n",
            "Fitting model: LightGBMLarge ...\n",
            "    -32084.1712  = Validation score   (-root_mean_squared_error)\n",
            "    9.08s    = Training   runtime\n",
            "    0.05s    = Validation runtime\n",
            "Fitting model: WeightedEnsemble_L2 ...\n",
            "    -26322.571   = Validation score   (-root_mean_squared_error)\n",
            "    0.21s    = Training   runtime\n",
            "    0.0s     = Validation runtime\n",
            "AutoGluon training complete, total runtime = 80.78s ... Best model: \"WeightedEnsemble_L2\"\n",
            "TabularPredictor saved. To load, use: predictor = TabularPredictor.load(\"AutogluonModels/ag-20231201_132915/\")\n",
            "WARNING: Int features without null values at train time contain null values at inference time! Imputing nulls to 0. To avoid this, pass the features as floats during fit!\n",
            "WARNING: Int features with nulls: ['BsmtFinSF1', 'BsmtFinSF2', 'BsmtUnfSF', 'TotalBsmtSF', 'BsmtFullBath', 'BsmtHalfBath', 'GarageCars', 'GarageArea']"
          ]
        },
        {
          "output_type": "stream",
          "name": "stdout",
          "text": [
            "[1000]  valid_set's rmse: 27505.1\n",
            "[2000]  valid_set's rmse: 27240.4\n",
            "[3000]  valid_set's rmse: 27201.5\n",
            "[4000]  valid_set's rmse: 27197.3\n",
            "[5000]  valid_set's rmse: 27197.2\n",
            "[1000]  valid_set's rmse: 29499.8\n",
            "[2000]  valid_set's rmse: 28896.4\n",
            "[3000]  valid_set's rmse: 28752.1\n",
            "[4000]  valid_set's rmse: 28705.7\n",
            "[5000]  valid_set's rmse: 28695.2\n",
            "[6000]  valid_set's rmse: 28693\n",
            "[7000]  valid_set's rmse: 28692.5\n",
            "[8000]  valid_set's rmse: 28692.3\n",
            "[9000]  valid_set's rmse: 28692.3\n",
            "[10000] valid_set's rmse: 28692.3\n",
            "[1000]  valid_set's rmse: 32134.9\n",
            "[2000]  valid_set's rmse: 32087.8\n",
            "[3000]  valid_set's rmse: 32084.2\n",
            "[4000]  valid_set's rmse: 32084.2\n",
            "[5000]  valid_set's rmse: 32084.2"
          ]
        }
      ],
      "source": [
        "# step1 -- pass\n",
        "# step2\n",
        "predictr = TabularPredictor(label='SalePrice')\n",
        "# step3\n",
        "predictr.fit(df_train)\n",
        "# step4\n",
        "yhat = predictr.predict(df_train)\n",
        "yyhat = predictr.predict(df_test)"
      ],
      "id": "8a5b7e05-a3c2-494a-a86d-d73e5349f415"
    },
    {
      "cell_type": "markdown",
      "metadata": {},
      "source": [
        "# 5. 제출"
      ],
      "id": "59677594-dc6d-4c63-a697-1ef4b2164a35"
    },
    {
      "cell_type": "code",
      "execution_count": 26,
      "metadata": {
        "tags": []
      },
      "outputs": [],
      "source": [
        "df_submission['SalePrice'] = yyhat \n",
        "df_submission.to_csv(\"submission.csv\",index=False)"
      ],
      "id": "74aa4fd9-2f38-4865-b813-5c401cc16e6b"
    },
    {
      "cell_type": "code",
      "execution_count": 27,
      "metadata": {
        "tags": []
      },
      "outputs": [
        {
          "output_type": "stream",
          "name": "stdout",
          "text": [
            "  0%|                                               | 0.00/21.1k [00:00<?, ?B/s]2023-12-01 22:35:47,374 WARNING Retrying (Retry(total=9, connect=None, read=None, redirect=None, status=None)) after connection broken by 'NewConnectionError('<urllib3.connection.HTTPSConnection object at 0x7fab8d916500>: Failed to establish a new connection: [Errno -3] Temporary failure in name resolution')': /upload/storage/v1/b/kaggle-competitions-submissions/o?uploadType=resumable&upload_id=ABPtcPrQPMZgrOes6mIirhgo1brnKPVPDPdDAa0UrFknmizjXgeg2BBIaNtyZYx7a5ZMz70lq_iPJQj-hoNcwHQjzA7_ajRVGka6C29N5aBKnRKBGg\n",
            "100%|████████████████████████████████████████| 21.1k/21.1k [00:26<00:00, 821B/s]\n",
            "Successfully submitted to House Prices - Advanced Regression Techniques"
          ]
        }
      ],
      "source": [
        "!kaggle competitions submit -c house-prices-advanced-regression-techniques -f submission.csv -m \"오토글루온을 이용하여 첫제출\"\n",
        "!rm submission.csv"
      ],
      "id": "3ad4fcf6-b49c-4dda-a90a-15172c6efc95"
    },
    {
      "cell_type": "markdown",
      "metadata": {},
      "source": [
        "![](attachment:13wk-57_files/figure-ipynb/b501b297-c2f8-4952-bc9e-7d57dedab895-1-ce6e6cbd-cbf1-41d4-95a6-12fb81274125.png)"
      ],
      "attachments": {
        "13wk-57_files/figure-ipynb/b501b297-c2f8-4952-bc9e-7d57dedab895-1-ce6e6cbd-cbf1-41d4-95a6-12fb81274125.png": {
          "image/png": "[encoded data removed]"
        }
      },
      "id": "1477d0f2-1ace-4da0-939c-5938739c813b"
    },
    {
      "cell_type": "code",
      "execution_count": 15,
      "metadata": {
        "tags": []
      },
      "outputs": [],
      "source": [
        "958/4955"
      ],
      "id": "6848b86b-afcd-4af5-86a2-21584754ed31"
    },
    {
      "cell_type": "markdown",
      "metadata": {},
      "source": [
        "나쁘지 않은 순위..\n",
        "\n",
        "# 6. 해석 및 시각화 (HW)\n",
        "\n",
        "`-` 변수들중에서 `SalePrice`를 예측하기에 적절한 변수들을 조사해볼것."
      ],
      "id": "d0aea925-8702-4ad9-a6d9-7518d153accc"
    }
  ],
  "nbformat": 4,
  "nbformat_minor": 5,
  "metadata": {
    "kernelspec": {
      "name": "python3",
      "display_name": "Python 3 (ipykernel)",
      "language": "python"
    },
    "language_info": {
      "name": "python",
      "codemirror_mode": {
        "name": "ipython",
        "version": "3"
      },
      "file_extension": ".py",
      "mimetype": "text/x-python",
      "nbconvert_exporter": "python",
      "pygments_lexer": "ipython3",
      "version": "3.11.6"
    }
  }
}