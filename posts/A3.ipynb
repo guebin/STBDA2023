{
 "cells": [
  {
   "cell_type": "raw",
   "id": "bcac80a3-0e9b-48f8-8180-f8e3a90a1e60",
   "metadata": {},
   "source": [
    "---\n",
    "title: \"A3: 개발환경의 변천사\"\n",
    "author: \"최규빈\"\n",
    "date: \"11/14/2023\"\n",
    "---"
   ]
  },
  {
   "cell_type": "markdown",
   "id": "0e9df223-35a2-4fee-a331-18e626e295e8",
   "metadata": {},
   "source": [
    ":::{.callout-important}\n",
    "# 주의사항!!\n",
    "\n",
    "본 강의노트는 작성자의 상상에 근거하여 작성되었으며, 사실이 아닌 내용이 포함되어 있을 수 있습니다. (특히 옛날사람들의 코딩습관들)\n",
    "\n",
    ":::"
   ]
  },
  {
   "cell_type": "markdown",
   "id": "508e6a5c-9ed6-4520-98ed-f94539703ef7",
   "metadata": {},
   "source": [
    "# 1. 강의영상 "
   ]
  },
  {
   "cell_type": "markdown",
   "id": "e2122fc6-5962-47f9-8060-e8bf0c6d762f",
   "metadata": {},
   "source": [
    "# 2. 파이썬이 어려웠던 이유  "
   ]
  },
  {
   "cell_type": "markdown",
   "id": "d935624e-4521-4541-87f1-a21973160152",
   "metadata": {},
   "source": [
    "`-` 파이썬 배우는 초보자에게 가장 어려운것!\n",
    "\n",
    "- 선생님마다 파이썬 설치하는 방법이 모두 다름. (수업 한과목 들을때마다 그것에 비례하여 컴퓨터가 더러워짐)"
   ]
  },
  {
   "cell_type": "markdown",
   "id": "adc43343-e5c2-4b7e-a548-ce594b13cb58",
   "metadata": {},
   "source": [
    "`-` 왜 저렇게 설치방법이 다른가? 왜 다른 방법으로 각각 파이썬을 실행하는가? 이런것이 너무 어려움 \n",
    "\n",
    "- [방법1:](https://wikidocs.net/8) 파이썬프로그램 다운로드 -> 시작버튼 눌러서 설치\n",
    "- [방법2:](https://wikidocs.net/44) 아나콘다 설치 (그럼 자동으로 파이썬이 설치됨) \n",
    "- 방법3: 아나콘다 설치 + 가상환경 \n",
    "- ... "
   ]
  },
  {
   "cell_type": "markdown",
   "id": "c0fff467-36bf-4726-a7fd-af81dc8f2dac",
   "metadata": {},
   "source": [
    "`-` 심지어 실행하는것도 다름\n",
    "\n",
    "- [방법1:](https://goddaehee.tistory.com/286) 파이썬 프롬프트\n",
    "- [방법2:](https://null-0.tistory.com/11) .py를 이용하여 실행?\n",
    "- [방법3:](https://null-0.tistory.com/11) IDLE\n",
    "- [방법4:](https://tariat.tistory.com/73) 파이참 \n",
    "- [방법5:](https://shlee1990.tistory.com/963) 스파이더\n",
    "- [방법6:](https://www.codingfactory.net/11337) Visual Studio Code\n",
    "- 방법7: 주피터노트북, 주피터랩\n",
    "    - 가상환경을 만들어서 해라.. \n",
    "    - 아나콘다 네비게이터에 주피터가 있다.. \n",
    "- ... "
   ]
  },
  {
   "cell_type": "markdown",
   "id": "72045b15-adb9-4e17-a497-6072dcecf5e2",
   "metadata": {},
   "source": [
    "`-` 머리아프니까 collab을 쓰라는 사람도 있음. 아니면 도커이미지를 줄테니까 그걸 쓰라는 사람도 있음. AWS를 쓰라는 사람도 있음.. $\\to$ 이게 더 머리아픔. (여기서 하면 된다는데, 왜 되는것인지 이해가 되어야 할 것 아님..)"
   ]
  },
  {
   "cell_type": "markdown",
   "id": "262294f7-d592-4c78-b71a-9f7dfdbea983",
   "metadata": {},
   "source": [
    "`-` 핵심: 그냥 (1) 컴퓨터에 (2) 파이썬을 깔아서 (3) 실행하는 것임 "
   ]
  },
  {
   "cell_type": "markdown",
   "id": "ac83618c-1cda-4b4a-9b71-6a78187395ac",
   "metadata": {},
   "source": [
    "`-` 의문: 그런데 방법이 왜이렇게 많은가? 엑셀처럼 프로그램 설치하고 아이콘 더블클릭하면 끝나는 식으로 만들어야 하는것 아닌가? "
   ]
  },
  {
   "cell_type": "markdown",
   "id": "93a53fdf-c216-4296-8ed8-3721ba909615",
   "metadata": {},
   "source": [
    "# 3. 개발환경 구축방법이 많은 이유? "
   ]
  },
  {
   "cell_type": "markdown",
   "id": "cb60077f-6819-4da2-8eb1-fcec56e3fa22",
   "metadata": {},
   "source": [
    "`-` 파이썬 개발환경 구축은 수많은 방법이 있다. "
   ]
  },
  {
   "cell_type": "markdown",
   "id": "ede7d32e-fc9e-42a9-b07e-99115b1be1d5",
   "metadata": {},
   "source": [
    "`-` 이는 마치 라면의 레시피를 검색하면 수많은 방법이 나오는것과 유사함. \n",
    "\n",
    "- 방법1: 스프를 먼저 넣고 끓인다음 라면을 넣어야 합니다. \n",
    "- 방법2: 양은냄비에 물넣고 물이 끊으면 라면과 스프를 같이 넣고 마지막에 계란을 넣는다. \n",
    "- 방법3: 먹다남은 삼겹살을 후라이팬에 볶은다음에 물을 붓고 라면을 넣는다. \n",
    "- 방법4: 용기에 라면+스프+뜨거운물 랩을 씌운뒤에 젓가락으로 구멍을 뚫고 전자렌지에 돌린다. \n",
    "- ... "
   ]
  },
  {
   "cell_type": "markdown",
   "id": "54487a69-3f1b-454c-9ace-08c2f1f88673",
   "metadata": {},
   "source": [
    "`-` 우리는 모든 방법을 나열할 순 없지만 모든 방법을 이해할 수 있다. 왜냐하면 라면을 끓이는 공통적인 맥락을 우리는 알고 있으니까!"
   ]
  },
  {
   "cell_type": "markdown",
   "id": "d4f7999c-7a83-4635-bda5-76487074e491",
   "metadata": {},
   "source": [
    "`-` 파이썬을 설치하는 다양한 방법 역시 공통맥락을 파악하면 이해하기 쉽다. "
   ]
  },
  {
   "cell_type": "markdown",
   "id": "e12cf6da-6ec5-445b-92c0-67ab1421b8e4",
   "metadata": {},
   "source": [
    "`-` 수업의 목적: 파이썬을 설치하고 실행하는 공통맥락을 설명하고 싶음 "
   ]
  },
  {
   "cell_type": "markdown",
   "id": "f9d4ea06-80f4-4c2c-8141-c1627f0f6723",
   "metadata": {},
   "source": [
    "`-` 설치하는 방법이 다양한 이유? 파이썬이 인기있음 + 다양한 방법을 설치를 하면 각자의 장점이 뚜렷해서 "
   ]
  },
  {
   "cell_type": "markdown",
   "id": "5403a3dc-6ca0-4109-9103-ca5521063d8f",
   "metadata": {},
   "source": [
    "# 4. 코딩스타일의 변화 "
   ]
  },
  {
   "cell_type": "markdown",
   "id": "12c216ac-9e23-4299-beb9-98f1c5a0fbf8",
   "metadata": {},
   "source": [
    "## A. 0세대 프로그래머 (프롬프트)"
   ]
  },
  {
   "cell_type": "markdown",
   "id": "5b097d12-16d1-4cbc-8013-82386f243572",
   "metadata": {
    "tags": []
   },
   "source": [
    "`-` 특징: 프롬프트만 쓴다.. "
   ]
  },
  {
   "cell_type": "markdown",
   "id": "d5c6f09e-0f40-4903-a53f-d4839f42be79",
   "metadata": {},
   "source": [
    "`# 실습1` -- `python` 사용"
   ]
  },
  {
   "cell_type": "markdown",
   "id": "48fa23f8-5888-4700-9c48-d06a66eb6919",
   "metadata": {},
   "source": [
    "`-` 윈도우에서 anaconda prompt 실행 -> python \n",
    "\n",
    "```\n",
    "(base) C:\\Users\\python>python\n",
    "Python 3.9.7 (default, Sep 16 2021, 16:59:28) [MSC v.1916 64 bit (AMD64)] :: Anaconda, Inc. on win32\n",
    "Type \"help\", \"copyright\", \"credits\" or \"license\" for more information.\n",
    ">>> [1,2,3]+[4]\n",
    "[1, 2, 3, 4]\n",
    ">>> a=[1,2,3]+[4]\n",
    ">>> a\n",
    "[1, 2, 3, 4]\n",
    "```"
   ]
  },
  {
   "cell_type": "markdown",
   "id": "3c02183a-ea04-46b0-839b-9a65f9cd8242",
   "metadata": {},
   "source": [
    "`-` 2개를 실행할 수도 있음. (두 환경은 각각 서로 독립적인 파이썬, 변수가 공유되지 않음) $\\star$"
   ]
  },
  {
   "cell_type": "markdown",
   "id": "4e30f512-e284-448e-885d-4e44e694c0b4",
   "metadata": {},
   "source": [
    "`-` 아쉬운점: `?list'와 같이 도움말 기능이 동작하지 않음 \n",
    "\n",
    "```\n",
    ">>> ?list\n",
    "  File \"<stdin>\", line 1\n",
    "    ?list\n",
    "    ^\n",
    "SyntaxError: invalid syntax\n",
    ">>> \n",
    "```"
   ]
  },
  {
   "cell_type": "markdown",
   "id": "06fc0238-009b-48f8-a80e-2c45817035f5",
   "metadata": {},
   "source": [
    "`#`"
   ]
  },
  {
   "cell_type": "markdown",
   "id": "b2380496-cf33-4654-83db-efd9b921fe9e",
   "metadata": {},
   "source": [
    "`# 실습2` -- `ipython` 사용 "
   ]
  },
  {
   "cell_type": "markdown",
   "id": "c0fc68cb-83db-4aa4-bf98-47c95770127b",
   "metadata": {},
   "source": [
    "`-` 윈도우에서 anaconda prompt 실행 -> ipython \n",
    "\n",
    "```\n",
    "(base) C:\\Users\\python>ipython\n",
    "Python 3.9.7 (default, Sep 16 2021, 16:59:28) [MSC v.1916 64 bit (AMD64)]\n",
    "Type 'copyright', 'credits' or 'license' for more information\n",
    "IPython 7.29.0 -- An enhanced Interactive Python. Type '?' for help.\n",
    "\n",
    "In [1]: a=[1,2,3]\n",
    "\n",
    "In [2]: a\n",
    "Out[2]: [1, 2, 3]\n",
    "\n",
    "In [3]: a+[4]\n",
    "Out[3]: [1, 2, 3, 4]\n",
    "```"
   ]
  },
  {
   "cell_type": "markdown",
   "id": "af6cc8e7-f5ad-4c5f-985a-2a865d7fb95e",
   "metadata": {},
   "source": [
    "`-` ?list가 가능 \n",
    "\n",
    "```\n",
    "In [4]: ?list\n",
    "Init signature: list(iterable=(), /)\n",
    "Docstring:\n",
    "Built-in mutable sequence.\n",
    "\n",
    "If no argument is given, the constructor creates a new empty list.\n",
    "The argument must be an iterable if specified.\n",
    "Type:           type\n",
    "Subclasses:     _HashedSeq, StackSummary, DeferredConfigList, SList, _ImmutableLineList, FormattedText, NodeList, _ExplodedList, Stack, _Accumulator, ...\n",
    "\n",
    "```"
   ]
  },
  {
   "cell_type": "markdown",
   "id": "4a735121-7e0f-4955-bab6-a7e6a772fb89",
   "metadata": {},
   "source": [
    "`-` 색깔이 알록달록해서 문법을 보기 편하다. (구문강조)"
   ]
  },
  {
   "cell_type": "markdown",
   "id": "18c4c6c9-d414-4257-a565-e0325360fdc3",
   "metadata": {
    "tags": []
   },
   "source": [
    "`#`"
   ]
  },
  {
   "cell_type": "markdown",
   "id": "9ae2b1bc-bd21-4053-b591-e285330f2978",
   "metadata": {},
   "source": [
    "`# 실습3` -- 0세대 프로그래머의 삶 with python "
   ]
  },
  {
   "cell_type": "markdown",
   "id": "8e19a680-f44e-4b61-a74e-09e13c1f9a09",
   "metadata": {},
   "source": [
    "`-` 1부터 10까지 합을 구하는 프로그램을 만들고 싶음 "
   ]
  },
  {
   "cell_type": "markdown",
   "id": "e472a750-c317-4104-ad0d-e55aea27f83b",
   "metadata": {},
   "source": [
    "`-` 시도1: python을 키고 아래와 같이 실행 \n",
    "\n",
    "```\n",
    "(base) C:\\Users\\python>python\n",
    "Python 3.9.7 (default, Sep 16 2021, 16:59:28) [MSC v.1916 64 bit (AMD64)] :: Anaconda, Inc. on win32\n",
    "Type \"help\", \"copyright\", \"credits\" or \"license\" for more information.\n",
    ">>> total = 0\n",
    ">>> for i in range(10):\n",
    "...     total=total+i\n",
    "...\n",
    ">>> total\n",
    "45\n",
    ">>>\n",
    "```"
   ]
  },
  {
   "cell_type": "markdown",
   "id": "76f2a7a8-c9c3-4772-9c90-54b6ebf695a9",
   "metadata": {},
   "source": [
    "`-` 반성: 정답은 55인데 45가 출력되었다! $\\to$ range(10)을 range(1,11)으로 바꿔야겠다! "
   ]
  },
  {
   "cell_type": "markdown",
   "id": "bd923b46-c269-42c4-b421-83f278610805",
   "metadata": {},
   "source": [
    "`-` 시도2: range(1,11)을 바꿔야겠다고 생각하고 다시 입력하다가 오타가 발생  \n",
    "\n",
    "```\n",
    ">>> total =0\n",
    ">>> for i in range(1,11):\n",
    "...     total = totla +i\n",
    "...\n",
    "```"
   ]
  },
  {
   "cell_type": "markdown",
   "id": "46e82d18-83d4-4316-a072-04088be2d9b9",
   "metadata": {},
   "source": [
    "- 앗 totla이라고 잘못쳤다. "
   ]
  },
  {
   "cell_type": "markdown",
   "id": "e92bef9c-92d3-4978-985b-fc738f929662",
   "metadata": {},
   "source": [
    "`-` 반성: 다음에는 정신을 똑바로 차려야겠다. "
   ]
  },
  {
   "cell_type": "markdown",
   "id": "64100710-c950-4fd2-9bc5-d5639f855dd1",
   "metadata": {},
   "source": [
    "`-` 불편한점: ... 다.. "
   ]
  },
  {
   "cell_type": "markdown",
   "id": "e7e09084-9a8d-400e-9cc2-a2b614e1b8c4",
   "metadata": {},
   "source": [
    "`#`"
   ]
  },
  {
   "cell_type": "markdown",
   "id": "9bb97cb8-cd7b-4fc2-8830-e4fdc9568839",
   "metadata": {},
   "source": [
    "`# 실습4` -- 1세대 프로그래머의 삶 with ipython"
   ]
  },
  {
   "cell_type": "markdown",
   "id": "6222eba2-392d-4732-8b6c-868652205dfc",
   "metadata": {},
   "source": [
    "`-` ipython을 사용한 프로그래머는 좀더 상황이 낫다 \n",
    "```\n",
    "(base) C:\\Users\\python>ipython\n",
    "Python 3.9.7 (default, Sep 16 2021, 16:59:28) [MSC v.1916 64 bit (AMD64)]\n",
    "Type 'copyright', 'credits' or 'license' for more information\n",
    "IPython 7.29.0 -- An enhanced Interactive Python. Type '?' for help.\n",
    "\n",
    "In [1]: total = 0\n",
    "\n",
    "In [2]: for i in range(1,11):\n",
    "   ...:     total = total + i\n",
    "   ...:\n",
    "\n",
    "In [3]: total\n",
    "Out[3]: 55\n",
    "```"
   ]
  },
  {
   "cell_type": "markdown",
   "id": "e1a0a028-f693-4ac4-af6b-7df1a6deaf84",
   "metadata": {},
   "source": [
    "- 편한점1: 자동으로 들여쓰기가 되어서 편함 \n",
    "- 편한점2: 화살표를 이용해서 for문을 쓰는 도중에 위아래로 이동가능 \n",
    "- 불편한점1: 화살표로 이동할수는 있는데 마우스로는 이동할 수 없다. \n",
    "- 불편한점2: 내가 작성한 코드를 관리하기 어렵다. "
   ]
  },
  {
   "cell_type": "markdown",
   "id": "45fad495-3920-4f51-876c-f11106e3d8fe",
   "metadata": {},
   "source": [
    "`#`"
   ]
  },
  {
   "cell_type": "markdown",
   "id": "6c80a538-439f-44d8-b36b-4aab409c9505",
   "metadata": {},
   "source": [
    "## B. 1세대 프로그래머 (스크립트활용)"
   ]
  },
  {
   "cell_type": "markdown",
   "id": "8769f198-4e6b-40bd-8f08-6b2e9322720a",
   "metadata": {},
   "source": [
    "`-` 특징: 스크립트 + 프롬프트를 사용"
   ]
  },
  {
   "cell_type": "markdown",
   "id": "6e0a6ad1-bffa-4581-83d2-cec01453e61a",
   "metadata": {},
   "source": [
    "`# 실습1` -- `python` + `.py`"
   ]
  },
  {
   "cell_type": "markdown",
   "id": "7dfdd57a-76c3-4279-bb7a-668bc1fd1f46",
   "metadata": {},
   "source": [
    "`-` 메모장을 키고 아래의 내용을 적는다. \n",
    "```\n",
    "total = 0 \n",
    "for i in range(1,11): \n",
    "    total = total + i\n",
    "print(total)\n",
    "```"
   ]
  },
  {
   "cell_type": "markdown",
   "id": "2c281c2e-1b96-408b-adf0-705aff2dd9e7",
   "metadata": {},
   "source": [
    "`-` 파일이름을 `mysum.py`로 저장한다. "
   ]
  },
  {
   "cell_type": "markdown",
   "id": "9fe8609f-3078-4751-b13b-ab6d782028bf",
   "metadata": {},
   "source": [
    "`-` anaconda prompt에서 `mysum.py`파일이 저장된 폴더로 이동 -> 실행 \n",
    "\n",
    "```\n",
    "(base) C:\\Users\\python>cd Desktop\n",
    "\n",
    "(base) C:\\Users\\python\\Desktop>dir\n",
    " C 드라이브의 볼륨에는 이름이 없습니다.\n",
    " 볼륨 일련 번호: 9AFD-A05F\n",
    "\n",
    " C:\\Users\\python\\Desktop 디렉터리\n",
    "\n",
    "2022-03-27  오전 11:32    <DIR>          .\n",
    "2022-03-27  오전 11:32    <DIR>          ..\n",
    "2022-03-27  오전 12:01             2,306 Chrome.lnk\n",
    "2022-03-26  오후 08:32             2,332 Microsoft Edge.lnk\n",
    "2022-03-27  오전 11:33                71 mysum.py\n",
    "               3개 파일               4,709 바이트\n",
    "               2개 디렉터리  743,643,467,776 바이트 남음\n",
    "\n",
    "(base) C:\\Users\\python\\Desktop>python mysum.py\n",
    "55\n",
    "\n",
    "(base) C:\\Users\\python\\Desktop>\n",
    "```"
   ]
  },
  {
   "cell_type": "markdown",
   "id": "744c0155-c14a-47f9-a2b8-fe0c10e75642",
   "metadata": {},
   "source": [
    "`-` 소감\n",
    "\n",
    "- 편한점1: 마우스를 이용하여 이동가능 \n",
    "- 편한점2: 내가 작업한 내용은 바탕화면의 메모장에 저장이 되어있음\n",
    "- 아쉬운점: ipython의 장점은 활용못함 (구문강조, 도움말기능) "
   ]
  },
  {
   "cell_type": "markdown",
   "id": "3b29ec0a-ce62-48df-8a51-12c8f18b0dd7",
   "metadata": {},
   "source": [
    "`#`"
   ]
  },
  {
   "cell_type": "markdown",
   "id": "2c0f5132-ddcb-4698-b644-fcca1bef2485",
   "metadata": {},
   "source": [
    "`# 실습2` -- `ipython` + `.py`"
   ]
  },
  {
   "cell_type": "markdown",
   "id": "f704d9a6-0acf-402c-8260-8a4371b5a7ad",
   "metadata": {},
   "source": [
    "`-` 전체적인 개발방식\n",
    "\n",
    "- 메모장: 코드를 편집, 저장 \n",
    "- ipython: **anaconda prompt처럼 메모장의 코드를 실행하고 결과를 확인** + 구문강조, 도움말확인기능 등을 이용하여 짧은 코드를 빠르게 작성 "
   ]
  },
  {
   "cell_type": "markdown",
   "id": "4a63cc29-774f-453e-8683-d5431742e9a5",
   "metadata": {},
   "source": [
    "`-` 기능 \n",
    "\n",
    "- ipython에서 **!python mysum.py**를 입력하면 anaconda prompt에서 **python mysum.py**를 입력한 것과 같은 효과 \n",
    "- ipython에서 **%run mysum**을 입력하면 메모장에서 mysum.py에 입력된 내용을 복사해서 ipython에 붙여넣어 실행한것과 같은 효과 "
   ]
  },
  {
   "cell_type": "markdown",
   "id": "2aadbeb5-3f77-4d74-a0ea-6d969518dfeb",
   "metadata": {},
   "source": [
    "`#`"
   ]
  },
  {
   "cell_type": "markdown",
   "id": "4565891f-3d29-42a2-9799-29761496849b",
   "metadata": {
    "tags": []
   },
   "source": [
    "## C. 2세대 프로그래머 (IDE 활용)"
   ]
  },
  {
   "cell_type": "markdown",
   "id": "d7dee148-c788-4749-944d-c3091eb38ce9",
   "metadata": {},
   "source": [
    "`-` 메모장과 ipython을 하나로 통합한 프로그램이 등장! \n",
    "\n",
    "- jupyter notebook, jupyter lab \n",
    "- spyder \n",
    "- idle \n",
    "- VScode \n",
    "- ... "
   ]
  },
  {
   "cell_type": "markdown",
   "id": "7cacba5c-0139-4b4b-ab8f-e7fd16d91538",
   "metadata": {},
   "source": [
    "`-` 주피터의 트릭 (실제로 주피터는 ipython에 기생할 뿐 아무런 역할도 안해요) \n",
    "\n",
    "(1) 주피터를 실행 \n",
    "\n",
    "(2) 새노트북을 생성 (파이썬으로 선택) \n",
    "\n",
    "- 컴퓨터는 내부적으로 ipython을 실행하고 그 ipython이랑 여러분이 방금만든 그 노트북과 연결 \n",
    "\n",
    "(3) 처음보이는 cell에 1+1을 입력 -> 쉬프트엔터 -> 결과2가 출력 \n",
    "\n",
    "- 처음보이는 cell하나 = 자동으로 열린 하나의 메모장\n",
    "- cell 1+1을 입력 = 메모장에 1+1을 적음 \n",
    "- 쉬프트+엔터후 결과2를 출력 = cell의 내용을 복사 -> ipython에 붙여넣음 -> ipython 계산된 결과를 복사 -> cell로 돌아와 붙여넣기 \n",
    "\n",
    "(4) 새로운 cell을 추가하고 2+2을 입력 -> 쉬프트엔터 -> 결과4가 출력 \n",
    "\n",
    "- 새로운 cell을 추가 = 새로운 메모장 추가\n",
    "- cell 2+2을 입력 = 새로운 메모장에 2+2를 적음 \n",
    "- 쉬프트+엔터후 결과4를 출력 = cell의 내용을 복사 -> ipython에 붙여넣음 -> ipython 계산된 결과를 복사 -> cell로 돌아와 붙여넣기"
   ]
  },
  {
   "cell_type": "markdown",
   "id": "e92a2444-f3d5-47f9-9c47-3c958702f5b1",
   "metadata": {},
   "source": [
    "`-` 중요한 사실들 \n",
    "\n",
    "- IDE는 내부적으로 연산을 수행하는 능력이 없다. (생각해볼것: 왜 R을 꼭 설치하고 Rstudio를 설치해야 했을까?) \n",
    "- 주피터에서 커널을 재시작한다는 의미는 메모장이 열린채로 ipython을 껐다가 다시 실행한다는 의미 \n",
    "- 주피터는 단순히 '메모장의 내용을 복사하여 붙여넣는 기계'라고 볼 수 있다. 이렇게 생각하면 주피터를 꼭 ipython에 연결할 이유는 없다. 실제로 주피터에 R을 연결해서 쓸 수 있다. **즉 하나의 IDE가 여러개의 언어와 연결될 수 있다.**\n",
    "- JupyterLab이라는 프로그램은 크롬에 있는 내용과 ipython간의 통신을 제어하는 프로그램일 뿐이다. "
   ]
  },
  {
   "cell_type": "markdown",
   "id": "e370e466-65ba-488d-822a-78365ebfbd8c",
   "metadata": {},
   "source": [
    "## D. 3세대 프로그래머 (가상환경)"
   ]
  },
  {
   "cell_type": "markdown",
   "id": "5b3c6b52-7988-495f-98a8-045ce2b504ea",
   "metadata": {},
   "source": [
    "## E. 4세대 프로그래머 (원격컴퓨터) "
   ]
  }
 ],
 "metadata": {
  "kernelspec": {
   "display_name": "Python 3 (ipykernel)",
   "language": "python",
   "name": "python3"
  },
  "language_info": {
   "codemirror_mode": {
    "name": "ipython",
    "version": 3
   },
   "file_extension": ".py",
   "mimetype": "text/x-python",
   "name": "python",
   "nbconvert_exporter": "python",
   "pygments_lexer": "ipython3",
   "version": "3.10.13"
  }
 },
 "nbformat": 4,
 "nbformat_minor": 5
}
