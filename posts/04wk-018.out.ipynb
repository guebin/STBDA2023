{
  "cells": [
    {
      "cell_type": "markdown",
      "metadata": {},
      "source": [
        "# 04wk-018: Predictor 깊은 이해 + 기호정리\n",
        "\n",
        "최규빈  \n",
        "2023-09-26\n",
        "\n",
        "# 1. 강의영상\n",
        "\n",
        "<https://youtu.be/playlist?list=PLQqh36zP38-ziuAKfEqwmaDeJdCNGuLM5&si=D_zP0P21Di0uePBD>\n",
        "\n",
        "# 2. Imports"
      ],
      "id": "cd273f66-372a-49f6-a130-4ea485d1f66e"
    },
    {
      "cell_type": "code",
      "execution_count": 169,
      "metadata": {},
      "outputs": [],
      "source": [
        "import numpy as np\n",
        "import pandas as pd\n",
        "import sklearn.linear_model\n",
        "import itertools"
      ],
      "id": "3bdd1ac6-d250-466e-836a-18653637657a"
    },
    {
      "cell_type": "markdown",
      "metadata": {},
      "source": [
        "# 3. Data 에 대한 정리\n",
        "\n",
        "`-` 주어진 자료가 아래와 같다고 하자."
      ],
      "id": "488418df-165c-453a-b8fb-4e34b7438081"
    },
    {
      "cell_type": "code",
      "execution_count": 29,
      "metadata": {},
      "outputs": [],
      "source": [
        "df = pd.DataFrame({'X':np.arange(20,30),'y':-np.arange(10)+1+np.random.randn(10)*0.1})\n",
        "df"
      ],
      "id": "be26bff7-8dbd-4284-bf12-22f5a86387f1"
    },
    {
      "cell_type": "markdown",
      "metadata": {},
      "source": [
        "`-` 훈련에는 자료 0~7까지 사용하고 테스트에는 자료 8,9를 사용하기로\n",
        "하자."
      ],
      "id": "1b8b9bf1-836a-431e-89dc-109f6c6eae8f"
    },
    {
      "cell_type": "code",
      "execution_count": 30,
      "metadata": {},
      "outputs": [],
      "source": [
        "df_train = df[:8]\n",
        "df_test = df[8:]"
      ],
      "id": "9bf16546-816f-4f8d-a70d-27c292da446a"
    },
    {
      "cell_type": "code",
      "execution_count": 31,
      "metadata": {},
      "outputs": [],
      "source": [
        "df_train"
      ],
      "id": "5988a63d-fcdd-4ace-9b2f-0b43e8450b81"
    },
    {
      "cell_type": "code",
      "execution_count": 32,
      "metadata": {},
      "outputs": [],
      "source": [
        "df_test"
      ],
      "id": "ab8f81a0-d9f3-4f4b-a3e6-f36f11e6f514"
    },
    {
      "cell_type": "markdown",
      "metadata": {},
      "source": [
        "`-` 아래와 같은 자료를 정리하자."
      ],
      "id": "bc71b9f1-397a-44f2-bd66-266e2f14488c"
    },
    {
      "cell_type": "code",
      "execution_count": 33,
      "metadata": {},
      "outputs": [],
      "source": [
        "df_train_X = df_train[['X']]\n",
        "df_train_y = df_train[['y']]\n",
        "df_test_X = df_test[['X']]\n",
        "df_test_y = df_test[['y']]"
      ],
      "id": "1e47a8d5-3203-415f-9d5d-281488275401"
    },
    {
      "cell_type": "markdown",
      "metadata": {},
      "source": [
        "# 4. Predictor 에 대하여\n",
        "\n",
        "## A. 학습 이후에 예측/평가 가능\n",
        "\n",
        "`-` Predictor의 list생성"
      ],
      "id": "248eeaa3-a13f-4c63-81d7-bdcc9803cc01"
    },
    {
      "cell_type": "code",
      "execution_count": 38,
      "metadata": {},
      "outputs": [],
      "source": [
        "predictors = [sklearn.linear_model.LinearRegression() for i in range(2)]\n",
        "predictors"
      ],
      "id": "dd301a7c-5738-4339-89e3-580a81776925"
    },
    {
      "cell_type": "markdown",
      "metadata": {},
      "source": [
        "-   두개의 predictor를 만들어서 리스트로 정리함\n",
        "\n",
        "`-` 첫번째 predictor에 접근"
      ],
      "id": "3621db2a-63e3-48c8-9a6d-d4d4d9f7d770"
    },
    {
      "cell_type": "code",
      "execution_count": 39,
      "metadata": {},
      "outputs": [],
      "source": [
        "predictors[0]"
      ],
      "id": "45b2df13-10ee-4e26-9883-d1d0aa410cb3"
    },
    {
      "cell_type": "markdown",
      "metadata": {},
      "source": [
        "`-` 두번째 predictor에 접근"
      ],
      "id": "e35d0383-8410-4962-bea3-3c1fce725ea0"
    },
    {
      "cell_type": "code",
      "execution_count": 40,
      "metadata": {},
      "outputs": [],
      "source": [
        "predictors[1]"
      ],
      "id": "a3ef51e0-8f63-4f85-9212-5c87874e1252"
    },
    {
      "cell_type": "markdown",
      "metadata": {},
      "source": [
        "`-` 첫번째 predictor를 학습"
      ],
      "id": "1dc061c3-fb26-4295-8dd5-6582d7f64943"
    },
    {
      "cell_type": "code",
      "execution_count": 41,
      "metadata": {},
      "outputs": [],
      "source": [
        "predictors[0].fit(df_train_X,df_train_y)"
      ],
      "id": "1f8f8b64-bb5f-4a9b-b9ef-d893bcedf9ca"
    },
    {
      "cell_type": "markdown",
      "metadata": {},
      "source": [
        "`-` 학습이후에는 `.coef_`, `.intercept_` 값이 생성됨"
      ],
      "id": "118c08a4-0883-4207-9b6b-98a141185d21"
    },
    {
      "cell_type": "code",
      "execution_count": 44,
      "metadata": {},
      "outputs": [],
      "source": [
        "predictors[0].coef_, predictors[0].intercept_"
      ],
      "id": "ce89205d-f617-43b3-afbd-6ee1c9ee6ea7"
    },
    {
      "cell_type": "code",
      "execution_count": 45,
      "metadata": {},
      "outputs": [],
      "source": [
        "predictors[1].coef_, predictors[1].intercept_"
      ],
      "id": "382dd304-f313-449d-8b44-329668b43f14"
    },
    {
      "cell_type": "markdown",
      "metadata": {},
      "source": [
        "`-` `.coef_`와 `.intercept_`값이 생겨야 `.predict(X)`를 통하여 예측을 할\n",
        "수 있음"
      ],
      "id": "bb8c0f84-55e0-4673-af4e-f43f2ad564ba"
    },
    {
      "cell_type": "code",
      "execution_count": 47,
      "metadata": {},
      "outputs": [],
      "source": [
        "predictors[0].predict(df_train_X)"
      ],
      "id": "d5260fa8-c19f-40ee-9eb8-c271628073d6"
    },
    {
      "cell_type": "code",
      "execution_count": 48,
      "metadata": {},
      "outputs": [],
      "source": [
        "predictors[1].predict(df_train_X)"
      ],
      "id": "0a3bfc93-2d9c-4e31-acdd-a54ecca53457"
    },
    {
      "cell_type": "markdown",
      "metadata": {},
      "source": [
        "`-` 예측을 해야 평가를 할 수 있음"
      ],
      "id": "8ae5eba8-bca0-4f5e-9042-8c448e3a3c4c"
    },
    {
      "cell_type": "code",
      "execution_count": 53,
      "metadata": {},
      "outputs": [],
      "source": [
        "predictors[0].score(df_train_X,df_train_y)"
      ],
      "id": "2bd8fce7-9397-4704-aece-6ea1836533ed"
    },
    {
      "cell_type": "code",
      "execution_count": 54,
      "metadata": {},
      "outputs": [],
      "source": [
        "predictors[1].score(df_train_X,df_train_y)"
      ],
      "id": "2dc7e2bd-c147-441b-8ffb-dad933cffd1b"
    },
    {
      "cell_type": "markdown",
      "metadata": {},
      "source": [
        "## B. 조금씩 학습할 수 있을까?\n",
        "\n",
        "`-` 두번째 predictor에 `df_train`의 절반반 학습해보자."
      ],
      "id": "1e8336e1-29f0-4db5-bd1b-978a15d977fc"
    },
    {
      "cell_type": "code",
      "execution_count": 58,
      "metadata": {},
      "outputs": [],
      "source": [
        "predictors[1].fit(df_train_X[:4],df_train_y[:4])"
      ],
      "id": "950d419d-b4bd-427e-ab1a-58df0b584605"
    },
    {
      "cell_type": "code",
      "execution_count": 61,
      "metadata": {},
      "outputs": [],
      "source": [
        "predictors[0].coef_, predictors[1].coef_"
      ],
      "id": "2cbb03df-ffcd-4558-bbd8-e30820b75c96"
    },
    {
      "cell_type": "markdown",
      "metadata": {},
      "source": [
        "-   좀 다르네\n",
        "\n",
        "`-` 두번째 predictor에 `df_train`의 나머지 절반을 학습해보자."
      ],
      "id": "88cadfcd-776a-4866-aba0-5841c96d992f"
    },
    {
      "cell_type": "code",
      "execution_count": 62,
      "metadata": {},
      "outputs": [],
      "source": [
        "predictors[1].fit(df_train_X[4:],df_train_y[4:])"
      ],
      "id": "8755f203-e59d-4700-b4de-efc2a54985ad"
    },
    {
      "cell_type": "code",
      "execution_count": 63,
      "metadata": {},
      "outputs": [],
      "source": [
        "predictors[0].coef_, predictors[1].coef_"
      ],
      "id": "768a06c9-ba8c-4650-bb65-037b5f2b1cda"
    },
    {
      "cell_type": "markdown",
      "metadata": {},
      "source": [
        "`-` 통째로 학습하면?"
      ],
      "id": "3b3d239a-3ebb-4b87-b915-becb572f7558"
    },
    {
      "cell_type": "code",
      "execution_count": 64,
      "metadata": {},
      "outputs": [],
      "source": [
        "predictors[1].fit(df_train_X,df_train_y)"
      ],
      "id": "5ed38fb3-e5ee-44e2-9c6a-ecb89c2831be"
    },
    {
      "cell_type": "code",
      "execution_count": 65,
      "metadata": {},
      "outputs": [],
      "source": [
        "predictors[0].coef_, predictors[1].coef_"
      ],
      "id": "18dec08a-faf3-4807-8a85-82223993fc40"
    },
    {
      "cell_type": "markdown",
      "metadata": {},
      "source": [
        "`-` 학습을 하는 순간 이전에 공부한 것은 사라짐 (안사라지게 하려면 특별한\n",
        "취급이 필요함)\n",
        "\n",
        "## C. `.fit(X,y)`에서 X,y의 형식"
      ],
      "id": "954ab227-4dec-4cdd-bafb-9f032fb6bbf5"
    },
    {
      "cell_type": "code",
      "execution_count": 92,
      "metadata": {},
      "outputs": [],
      "source": [
        "predictr = predictors[0]"
      ],
      "id": "0d46a21e-8682-4720-9b13-b80f60649572"
    },
    {
      "cell_type": "code",
      "execution_count": 153,
      "metadata": {},
      "outputs": [],
      "source": [
        "Xs = {'DataFrame(2d)': df_train_X, \n",
        "      'Seires(1d)': df_train_X.X,\n",
        "      'ndarray(2d)': np.array(df_train_X),\n",
        "      'ndarray(1d)': np.array(df_train_X).reshape(-1),\n",
        "      'list(2d)': np.array(df_train_X).tolist(),\n",
        "      'list(1d)': np.array(df_train_X).reshape(-1).tolist()}"
      ],
      "id": "ec12ae9c-a546-458d-a0dc-4a4bbe973283"
    },
    {
      "cell_type": "code",
      "execution_count": 154,
      "metadata": {},
      "outputs": [],
      "source": [
        "ys = {'DataFrame(2d)': df_train_y, \n",
        "      'Seires(1d)': df_train_y.y,\n",
        "      'ndarray(2d)': np.array(df_train_y),\n",
        "      'ndarray(1d)': np.array(df_train_y).reshape(-1),\n",
        "      'list(2d)': np.array(df_train_y).tolist(),\n",
        "      'list(1d)': np.array(df_train_y).reshape(-1).tolist()}"
      ],
      "id": "46b41c76-b8a1-4bdb-84be-fd5c36528dbb"
    },
    {
      "cell_type": "code",
      "execution_count": 156,
      "metadata": {},
      "outputs": [],
      "source": [
        "def test(X,y):\n",
        "    try: \n",
        "        predictr.fit(X,y)\n",
        "        return 'no error'\n",
        "    except:\n",
        "        return 'error'"
      ],
      "id": "4e009ef3-07d5-477c-b453-184304281f22"
    },
    {
      "cell_type": "code",
      "execution_count": 168,
      "metadata": {},
      "outputs": [],
      "source": [
        "{('X='+i,'y='+j): test(Xs[i],ys[j]) for i,j in itertools.product(Xs.keys(),ys.keys())}"
      ],
      "id": "ccd32502-03d7-4ebf-95d7-2c3bbc664813"
    },
    {
      "cell_type": "markdown",
      "metadata": {},
      "source": [
        "`-` 결론: X는 2d만 가능, y는 2d,1d 모두 가능\n",
        "\n",
        "# 5. Notations에 대한 우리끼리의 약속\n",
        "\n",
        "`-` `df_train_X`는 흔하게 쓰는 표현임. 이는 아래의 점에서 우수함\n",
        "\n",
        "-   형식이 df임이 명시되어 있음.\n",
        "-   train에 사용된다는 것이 명시되어있음.\n",
        "-   설명변수라는 것이 명시되어 있음.\n",
        "\n",
        "`-` 그렇지만 이러한 식으로 한다면 아래와 같은 이름들을 사용해야함\n",
        "\n",
        "-   `df_train_X`\n",
        "-   `nparray2d_train_X`\n",
        "-   `list2d_train_X`\n",
        "\n",
        "이것은 너무 복잡하므로 앞으로 이러한 경우를 모두 합쳐서 `X` 라고 표현할\n",
        "것임\n",
        "\n",
        "`-` 마찬가지의 논리로 아래와 같은 기호를 약속하자.\n",
        "\n",
        "-   `X`: `df_train_X`, `ndarray2d_train_X`,`list2d_train_X`\n",
        "-   `y`: `df_train_y`, `series_train_y`, … , `list_2d_train_y`\n",
        "-   `XX`: `df_test_X`, `ndarray2d_test_X`,`list2d_test_X`\n",
        "-   `yy`: `df_test_y`, `series_test_y`, … , `list_2d_test_y`\n",
        "\n",
        "`-` 또한 아래와 같은 기호를 약속하자.\n",
        "\n",
        "-   `yhat`: `predictr.predict(X)`\n",
        "-   `yyhat`: `predictr.predict(XX)`\n",
        "\n",
        "`-` 참고: 일반적으로 `predictor`가 기대하는 형태는 아래와 같음"
      ],
      "id": "a6f86c9b-35d9-4e35-9555-68d548eb0888"
    },
    {
      "cell_type": "code",
      "execution_count": 171,
      "metadata": {},
      "outputs": [],
      "source": [
        "X = np.array(df_train_X)\n",
        "y = np.array(df_train_y).reshape(-1)"
      ],
      "id": "491e34e0-18f0-4503-80e7-cd7771ee91ed"
    },
    {
      "cell_type": "code",
      "execution_count": 172,
      "metadata": {},
      "outputs": [],
      "source": [
        "X,y"
      ],
      "id": "e95f32ba-baae-48c8-be4e-e456681e9561"
    },
    {
      "cell_type": "code",
      "execution_count": 173,
      "metadata": {},
      "outputs": [],
      "source": [
        "predictr.fit(X,y)"
      ],
      "id": "2f985308-1fc6-4471-9ac8-bed5dca97c1e"
    },
    {
      "cell_type": "code",
      "execution_count": 175,
      "metadata": {},
      "outputs": [],
      "source": [
        "predictr.predict(X) # 이게 원래 기대하는 형태임"
      ],
      "id": "b3808be9-17da-4531-813a-4ffa5dd83503"
    }
  ],
  "nbformat": 4,
  "nbformat_minor": 5,
  "metadata": {
    "kernelspec": {
      "name": "python3",
      "display_name": "Python 3 (ipykernel)",
      "language": "python"
    },
    "language_info": {
      "name": "python",
      "codemirror_mode": {
        "name": "ipython",
        "version": "3"
      },
      "file_extension": ".py",
      "mimetype": "text/x-python",
      "nbconvert_exporter": "python",
      "pygments_lexer": "ipython3",
      "version": "3.10.13"
    }
  }
}