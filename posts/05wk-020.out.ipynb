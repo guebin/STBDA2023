{
  "cells": [
    {
      "cell_type": "markdown",
      "metadata": {},
      "source": [
        "# 05wk-020: StandardScaler를 이용한 전처리\n",
        "\n",
        "최규빈  \n",
        "2023-10-05\n",
        "\n",
        "# 1. 강의영상\n",
        "\n",
        "<https://youtu.be/playlist?list=PLQqh36zP38-zF3fkpXnSHg8H9C9VSq-vC&si=2IRrJzFgKagzxtkO>\n",
        "\n",
        "# 2. Imports"
      ],
      "id": "16c6b0a7-ba4e-4e20-8b0c-116763bd8d23"
    },
    {
      "cell_type": "code",
      "execution_count": 14,
      "metadata": {},
      "outputs": [],
      "source": [
        "import numpy as np\n",
        "import pandas as pd\n",
        "import sklearn.preprocessing "
      ],
      "id": "cell-4"
    },
    {
      "cell_type": "markdown",
      "metadata": {},
      "source": [
        "# 3. `StandardScaler()`\n",
        "\n",
        "`-` 예제자료 로드"
      ],
      "id": "0b5d93da-6e1e-4543-9ff2-c417ceef4abc"
    },
    {
      "cell_type": "code",
      "execution_count": 124,
      "metadata": {
        "tags": []
      },
      "outputs": [],
      "source": [
        "df = pd.read_csv('https://raw.githubusercontent.com/guebin/MP2023/main/posts/employment.csv').loc[:7,['toeic','gpa']]\n",
        "df"
      ],
      "id": "cell-7"
    },
    {
      "cell_type": "markdown",
      "metadata": {},
      "source": [
        "`-` 스케일러를 생성"
      ],
      "id": "df3abe82-cbba-4478-934f-7e5d10a0ee7b"
    },
    {
      "cell_type": "code",
      "execution_count": 125,
      "metadata": {
        "tags": []
      },
      "outputs": [],
      "source": [
        "sclr = sklearn.preprocessing.StandardScaler()\n",
        "sclr.fit_transform(df)"
      ],
      "id": "cell-9"
    },
    {
      "cell_type": "markdown",
      "metadata": {},
      "source": [
        "`-` 계산식"
      ],
      "id": "d4b182c1-5e47-49bd-9bbd-0b36bd337e6c"
    },
    {
      "cell_type": "code",
      "execution_count": 130,
      "metadata": {
        "tags": []
      },
      "outputs": [],
      "source": [
        "(df.toeic - df.toeic.mean())/df.toeic.std(ddof=0) # 계산식"
      ],
      "id": "cell-11"
    },
    {
      "cell_type": "markdown",
      "metadata": {},
      "source": [
        "# 4. 비교\n",
        "\n",
        "`-` `MinMaxScaler`와 `StandardScaler`는 데이터의 스케일을 조정하는 두\n",
        "가지 일반적인 방법이다.\n",
        "\n",
        "1.  **MinMaxScaler**:\n",
        "\n",
        "    -   **작동 원리**: 데이터를 0과 1 사이의 값으로 조정\n",
        "    -   **장점**: 원하는 범위 내로 데이터를 조정할 때 유용. 특히\n",
        "        신경망에서는 활성화 함수의 범위와 일치하도록 입력 값을 조정하는\n",
        "        데 유용.[1]\n",
        "    -   **단점**: 이상치에 매우 민감하다. 이상치 때문에 전체 데이터의\n",
        "        스케일이 크게 영향받을 수 있음.\n",
        "\n",
        "2.  **StandardScaler**:\n",
        "\n",
        "    -   **작동 원리**: 데이터의 평균을 0, 표준편차를 1로 만드는 방식으로\n",
        "        조정.\n",
        "    -   **장점**: 이상치에 MinMaxScaler보다 덜 민감함. 많은 통계적\n",
        "        기법들, 특히 PCA 같은 선형 알고리즘에서 잘 작동함.[2]\n",
        "    -   **단점**: MinMaxScaler와 달리, 표준화된 데이터의 값이 특정 범위\n",
        "        내에 있음을 보장하지 않음.[3]\n",
        "\n",
        "`-` 무식한 설명 (1)\n",
        "\n",
        "-   MinMaxScaler: 컴퓨터공학과, 전자공학과 느낌\n",
        "-   StandardScaler: 통계학과 느낌\n",
        "\n",
        "`-` 무식한 설명 (2)\n",
        "\n",
        "-   MinMaxScaler: 데이터가 기본적으로 0\\$$1 혹은 -1$\\$1 사이의 범위에\n",
        "    있다고 가정한다.\n",
        "-   StandardScaler: 데이터가 기본적으로 정규분포를 따른다고 가정하는\n",
        "    모형들과 잘 맞는다.\n",
        "\n",
        "`-` **둘 중 어느 것을 선택할지 결정하기 위한 고려사항**:\n",
        "\n",
        "-   이상치가 많으면 `StandardScaler`가 더 적합할 수 있다.\n",
        "-   모델의 알고리즘과 특성에 따라 선택해야 한다. 예를 들어, 신경망은\n",
        "    일반적으로 0과 1 사이의 값이나 -1과 1 사이의 값으로 입력을 받는\n",
        "    활성화 함수를 사용하므로 `MinMaxScaler`가 적합할 수 있다.\n",
        "\n",
        "결론적으로, 두 스케일링 방법 중 어느 것이 더 좋은지는 사용 사례와\n",
        "데이터의 특성에 따라 다르기 때문에, 가능한 경우 둘 다 시도해보고 모델의\n",
        "성능을 비교하는 것이 좋다.\n",
        "\n",
        "`-` **둘 중 어느 것을 선택할지 결정하기 위한 고려사항** – 무식한 설명\n",
        "\n",
        "-   보통은 아무거나 해도 큰일 안남.\n",
        "-   아주 특수한 경우[4]를 제외하고는 어차피 이론적인 선택기준은 없음.\n",
        "\n",
        "[1] sigmoid, tanh와 같은 활성화 함수의 출력값과 맞추는 용도\n",
        "\n",
        "[2] 그야 PCA는 정규분포를 가정하고 만든 알고리즘이라~\n",
        "\n",
        "[3] MinMaxScaler도 딱히 엄격하게 보장하는건 아니야\n",
        "\n",
        "[4] Classical PCA"
      ],
      "id": "7a93aeae-61e2-4877-ba7e-d1f743cc4ee1"
    }
  ],
  "nbformat": 4,
  "nbformat_minor": 5,
  "metadata": {
    "kernelspec": {
      "name": "python3",
      "display_name": "Python 3 (ipykernel)",
      "language": "python"
    },
    "language_info": {
      "name": "python",
      "codemirror_mode": {
        "name": "ipython",
        "version": "3"
      },
      "file_extension": ".py",
      "mimetype": "text/x-python",
      "nbconvert_exporter": "python",
      "pygments_lexer": "ipython3",
      "version": "3.10.13"
    }
  }
}