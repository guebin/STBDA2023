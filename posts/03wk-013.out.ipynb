{
  "cells": [
    {
      "cell_type": "markdown",
      "metadata": {},
      "source": [
        "# 03wk-013: 타이타닉, 로지스틱\n",
        "\n",
        "최규빈  \n",
        "2023-09-21\n",
        "\n",
        "# 1. 강의영상\n",
        "\n",
        "<https://youtu.be/playlist?list=PLQqh36zP38-wi9Mkfc849jTCMENvydI8B&si=hotGT-ErLB8dukhs>\n",
        "\n",
        "# 2. Import"
      ],
      "id": "bcf1a50f-b4b1-4953-956a-96b6ba0ac28f"
    },
    {
      "cell_type": "code",
      "execution_count": 1,
      "metadata": {},
      "outputs": [],
      "source": [
        "import numpy as np\n",
        "import pandas as pd \n",
        "import sklearn.linear_model"
      ],
      "id": "639aa5d1-c358-4684-9156-88f6c71c172b"
    },
    {
      "cell_type": "markdown",
      "metadata": {},
      "source": [
        "# 3. Data 불러오기"
      ],
      "id": "322f5366-8333-49d8-a12f-8b23cffaac2a"
    },
    {
      "cell_type": "code",
      "execution_count": 2,
      "metadata": {},
      "outputs": [],
      "source": [
        "df_train = pd.read_csv('titanic/train.csv')\n",
        "df_test = pd.read_csv('titanic/test.csv')"
      ],
      "id": "25e264d9-b265-4905-ab06-e8afaf83db30"
    },
    {
      "cell_type": "code",
      "execution_count": 7,
      "metadata": {},
      "outputs": [],
      "source": [
        "df_train"
      ],
      "id": "167a5451-5185-405c-8957-18c3f6fe3041"
    },
    {
      "cell_type": "code",
      "execution_count": 4,
      "metadata": {},
      "outputs": [],
      "source": [
        "set(df_train) - set(df_test)"
      ],
      "id": "61527d4c-2cd1-49bb-8fac-ff1bc81373da"
    },
    {
      "cell_type": "markdown",
      "metadata": {},
      "source": [
        "# 4. 분석 – 실패\n",
        "\n",
        "## A. 데이터 정리"
      ],
      "id": "9c15daaa-1d7d-4102-8d29-e83997361948"
    },
    {
      "cell_type": "code",
      "execution_count": 17,
      "metadata": {},
      "outputs": [],
      "source": [
        "X = pd.get_dummies(df_train.drop(['PassengerId','Survived'],axis=1))\n",
        "y = df_train[['Survived']]"
      ],
      "id": "fca40d1b-3bba-43a9-b713-44e61c6c04a7"
    },
    {
      "cell_type": "markdown",
      "metadata": {},
      "source": [
        "## B. Predictor 생성"
      ],
      "id": "a2d3cc3b-46c5-4e47-b1fb-ebd5505a170b"
    },
    {
      "cell_type": "code",
      "execution_count": 13,
      "metadata": {},
      "outputs": [],
      "source": [
        "predictr = sklearn.linear_model.LogisticRegression()\n",
        "predictr "
      ],
      "id": "c58b215d-0efb-4bad-8f75-82b0738ffbae"
    },
    {
      "cell_type": "markdown",
      "metadata": {},
      "source": [
        "## C. 학습 (fit, learn)"
      ],
      "id": "f0f4121f-f64c-4513-a8fe-e7f8da9e74d8"
    },
    {
      "cell_type": "code",
      "execution_count": 19,
      "metadata": {},
      "outputs": [],
      "source": [
        "predictr.fit(X,y)"
      ],
      "id": "8fe073b7-8859-419f-829c-123ef23b98f5"
    },
    {
      "cell_type": "markdown",
      "metadata": {},
      "source": [
        "# 5. 원인분석"
      ],
      "id": "c0b05a21-e850-4f2b-b58e-2e2181047da0"
    },
    {
      "cell_type": "code",
      "execution_count": 20,
      "metadata": {},
      "outputs": [
        {
          "output_type": "stream",
          "name": "stdout",
          "text": [
            "<class 'pandas.core.frame.DataFrame'>\n",
            "RangeIndex: 891 entries, 0 to 890\n",
            "Data columns (total 12 columns):\n",
            " #   Column       Non-Null Count  Dtype  \n",
            "---  ------       --------------  -----  \n",
            " 0   PassengerId  891 non-null    int64  \n",
            " 1   Survived     891 non-null    int64  \n",
            " 2   Pclass       891 non-null    int64  \n",
            " 3   Name         891 non-null    object \n",
            " 4   Sex          891 non-null    object \n",
            " 5   Age          714 non-null    float64\n",
            " 6   SibSp        891 non-null    int64  \n",
            " 7   Parch        891 non-null    int64  \n",
            " 8   Ticket       891 non-null    object \n",
            " 9   Fare         891 non-null    float64\n",
            " 10  Cabin        204 non-null    object \n",
            " 11  Embarked     889 non-null    object \n",
            "dtypes: float64(2), int64(5), object(5)\n",
            "memory usage: 83.7+ KB"
          ]
        }
      ],
      "source": [
        "df_train.info()"
      ],
      "id": "50ff9e66-045f-45c2-8508-a4ba82e27ae7"
    },
    {
      "cell_type": "markdown",
      "metadata": {},
      "source": [
        "`-` 문제1: `Cabin`열은 너무 많은 결측치를 가지고 있다.\n",
        "\n",
        "`-` 문제2: `Name` 혹은 `Ticket`과 같은 변수는 one-hot 인코딩 하기\n",
        "어색하다."
      ],
      "id": "a1f5005c-c66f-451b-8652-24dc8e63ea1b"
    },
    {
      "cell_type": "code",
      "execution_count": 29,
      "metadata": {},
      "outputs": [],
      "source": [
        "len(set(df_train['Name']))"
      ],
      "id": "75d537ee-eabc-452a-a842-9450c8a08b34"
    },
    {
      "cell_type": "code",
      "execution_count": 35,
      "metadata": {},
      "outputs": [],
      "source": [
        "len(set(df_train['Ticket']))"
      ],
      "id": "1d0f3323-e388-4ca8-81c3-c9aa7603647a"
    },
    {
      "cell_type": "markdown",
      "metadata": {},
      "source": [
        "`-` 문제3: df_train의 `Age`와 `Embarked`에 약간 포함된 결측치가 마음에\n",
        "걸린다.. $\\to$ 빼자!\n",
        "\n",
        "`-` 문제4: df_test의 `Fare`에 포함된 결측값도 걸린다. $\\to$ 빼자!"
      ],
      "id": "d0794a8e-f4e5-4daf-80ab-1843c0b3980d"
    },
    {
      "cell_type": "code",
      "execution_count": 37,
      "metadata": {},
      "outputs": [
        {
          "output_type": "stream",
          "name": "stdout",
          "text": [
            "<class 'pandas.core.frame.DataFrame'>\n",
            "RangeIndex: 418 entries, 0 to 417\n",
            "Data columns (total 11 columns):\n",
            " #   Column       Non-Null Count  Dtype  \n",
            "---  ------       --------------  -----  \n",
            " 0   PassengerId  418 non-null    int64  \n",
            " 1   Pclass       418 non-null    int64  \n",
            " 2   Name         418 non-null    object \n",
            " 3   Sex          418 non-null    object \n",
            " 4   Age          332 non-null    float64\n",
            " 5   SibSp        418 non-null    int64  \n",
            " 6   Parch        418 non-null    int64  \n",
            " 7   Ticket       418 non-null    object \n",
            " 8   Fare         417 non-null    float64\n",
            " 9   Cabin        91 non-null     object \n",
            " 10  Embarked     418 non-null    object \n",
            "dtypes: float64(2), int64(4), object(5)\n",
            "memory usage: 36.1+ KB"
          ]
        }
      ],
      "source": [
        "df_test.info()"
      ],
      "id": "7ee03b1d-c9b9-43f9-bb93-b2e205e69868"
    },
    {
      "cell_type": "markdown",
      "metadata": {},
      "source": [
        "# 6. 분석 – 성공\n",
        "\n",
        "## A. 데이터정리"
      ],
      "id": "e238f31e-3915-4e90-8af0-38b8c07e1823"
    },
    {
      "cell_type": "code",
      "execution_count": 48,
      "metadata": {},
      "outputs": [],
      "source": [
        "X = pd.get_dummies(df_train[[\"Pclass\", \"Sex\", \"SibSp\", \"Parch\"]])\n",
        "y = df_train[[\"Survived\"]]"
      ],
      "id": "38a15ea7-9ad2-413c-87db-64e236e8f784"
    },
    {
      "cell_type": "markdown",
      "metadata": {},
      "source": [
        "## B. Predictor 생성"
      ],
      "id": "6facb42c-0bd1-44a2-8810-f735ca8f3871"
    },
    {
      "cell_type": "code",
      "execution_count": 49,
      "metadata": {},
      "outputs": [],
      "source": [
        "predictr = sklearn.linear_model.LogisticRegression()"
      ],
      "id": "d25ccf8e-80ca-478f-ae48-e12ff7c21ac1"
    },
    {
      "cell_type": "markdown",
      "metadata": {},
      "source": [
        "## C. 학습"
      ],
      "id": "f6a509fc-9b5f-4270-bf68-122a4d42531a"
    },
    {
      "cell_type": "code",
      "execution_count": 50,
      "metadata": {},
      "outputs": [
        {
          "output_type": "stream",
          "name": "stderr",
          "text": [
            "/home/cgb2/anaconda3/envs/r/lib/python3.11/site-packages/sklearn/utils/validation.py:1184: DataConversionWarning: A column-vector y was passed when a 1d array was expected. Please change the shape of y to (n_samples, ), for example using ravel().\n",
            "  y = column_or_1d(y, warn=True)"
          ]
        }
      ],
      "source": [
        "predictr.fit(X, y)"
      ],
      "id": "03ae5d09-ddb7-4d2f-8183-d7504b4b9b8e"
    },
    {
      "cell_type": "code",
      "execution_count": 58,
      "metadata": {},
      "outputs": [],
      "source": [
        "## D. 예측"
      ],
      "id": "1833dc02-2269-4700-a1e6-268f016a3a25"
    },
    {
      "cell_type": "code",
      "execution_count": 56,
      "metadata": {},
      "outputs": [],
      "source": [
        "#predictr.predict(X)\n",
        "df_train.assign(Survived_hat=predictr.predict(X)).loc[:,['Survived','Survived_hat']]"
      ],
      "id": "4f1560b4-9233-40ac-b835-5d3eb2bd6534"
    },
    {
      "cell_type": "markdown",
      "metadata": {},
      "source": [
        "## E. 평가"
      ],
      "id": "96e2f55f-7605-48e5-bd85-e0060117a0e4"
    },
    {
      "cell_type": "code",
      "execution_count": 57,
      "metadata": {},
      "outputs": [],
      "source": [
        "predictr.score(X,y)"
      ],
      "id": "8afb0377-aae6-4e2e-a4df-02948242bd94"
    },
    {
      "cell_type": "markdown",
      "metadata": {},
      "source": [
        "# 7. 제출 (HW)"
      ],
      "id": "8895ae1c-145f-4d96-8d4c-80621a3bd90a"
    }
  ],
  "nbformat": 4,
  "nbformat_minor": 5,
  "metadata": {
    "kernelspec": {
      "name": "python3",
      "display_name": "Python 3 (ipykernel)",
      "language": "python"
    },
    "language_info": {
      "name": "python",
      "codemirror_mode": {
        "name": "ipython",
        "version": "3"
      },
      "file_extension": ".py",
      "mimetype": "text/x-python",
      "nbconvert_exporter": "python",
      "pygments_lexer": "ipython3",
      "version": "3.11.5"
    }
  }
}