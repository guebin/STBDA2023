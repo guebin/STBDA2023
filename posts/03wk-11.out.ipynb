{
  "cells": [
    {
      "cell_type": "markdown",
      "metadata": {},
      "source": [
        "# 03wk-11: Medical Cost / 회귀분석\n",
        "\n",
        "최규빈  \n",
        "2023-09-21\n",
        "\n",
        "# 1. 강의영상\n",
        "\n",
        "<https://youtu.be/playlist?list=PLQqh36zP38-zwUq3ZIN2SNas0l8htamMO&si=dH2sszdMPMFTGeEV>\n",
        "\n",
        "# 2. Import"
      ],
      "id": "60e98cc7-483d-4288-86d8-13452c4ef2e7"
    },
    {
      "cell_type": "code",
      "execution_count": 2,
      "metadata": {},
      "outputs": [],
      "source": [
        "import numpy as np\n",
        "import pandas as pd \n",
        "import sklearn.linear_model"
      ],
      "id": "de3fe823-7dd4-4a85-a330-3cb1abd2196a"
    },
    {
      "cell_type": "markdown",
      "metadata": {},
      "source": [
        "# 3. Data 불러오기\n",
        "\n",
        "`-` 캐글에서 `Medical Cost Personal Datasets` download\n",
        "\n",
        "-   <https://www.kaggle.com/datasets/mirichoi0218/insurance>\n",
        "\n",
        "`-` Data Load"
      ],
      "id": "5cb6374c-016d-4396-b578-df1225d4a299"
    },
    {
      "cell_type": "code",
      "execution_count": 4,
      "metadata": {},
      "outputs": [],
      "source": [
        "df_train = pd.read_csv('https://raw.githubusercontent.com/guebin/MP2023/main/posts/insurance.csv')\n",
        "df_train"
      ],
      "id": "9e29a32e-0e6f-485b-820a-db2f80115a66"
    },
    {
      "cell_type": "markdown",
      "metadata": {},
      "source": [
        "# 4. 분석\n",
        "\n",
        "## A. Data 정리"
      ],
      "id": "ec1545f9-090c-4081-b06a-6c5dc86a4f01"
    },
    {
      "cell_type": "code",
      "execution_count": 5,
      "metadata": {},
      "outputs": [],
      "source": [
        "df_train.columns"
      ],
      "id": "0557de7d-c430-48b0-9f0d-46f73c1e66f8"
    },
    {
      "cell_type": "code",
      "execution_count": 6,
      "metadata": {},
      "outputs": [],
      "source": [
        "X = pd.get_dummies(df_train.drop(['charges'],axis=1))\n",
        "y = df_train[['charges']]"
      ],
      "id": "224cf629-b314-46a7-9b12-2415f136f687"
    },
    {
      "cell_type": "code",
      "execution_count": 7,
      "metadata": {},
      "outputs": [],
      "source": [
        "X"
      ],
      "id": "6f0f7133-d5d4-4678-b440-aefaad0ddab0"
    },
    {
      "cell_type": "code",
      "execution_count": 8,
      "metadata": {},
      "outputs": [],
      "source": [
        "y"
      ],
      "id": "60ee23a3-be24-42a1-b5d6-8febd7798ecd"
    },
    {
      "cell_type": "markdown",
      "metadata": {},
      "source": [
        "## B. Predictor 생성"
      ],
      "id": "b81ab03d-b5ec-4f11-b055-23a4f9509584"
    },
    {
      "cell_type": "code",
      "execution_count": 9,
      "metadata": {},
      "outputs": [],
      "source": [
        "predictr = sklearn.linear_model.LinearRegression()"
      ],
      "id": "8a0bc1be-83c6-4d6c-b302-b936728cfe4f"
    },
    {
      "cell_type": "markdown",
      "metadata": {},
      "source": [
        "## C. 학습"
      ],
      "id": "2778ed55-3081-4744-92cb-bd62fd4d8bae"
    },
    {
      "cell_type": "code",
      "execution_count": 10,
      "metadata": {},
      "outputs": [],
      "source": [
        "predictr.fit(X,y)"
      ],
      "id": "0d0e17e2-1e5a-4d68-a1d9-974e56d4449e"
    },
    {
      "cell_type": "markdown",
      "metadata": {},
      "source": [
        "## D. 예측"
      ],
      "id": "f66f5889-a118-4330-8ec9-83fd41132214"
    },
    {
      "cell_type": "code",
      "execution_count": 11,
      "metadata": {},
      "outputs": [],
      "source": [
        "df_train.assign(yhat = predictr.predict(X))"
      ],
      "id": "ffa4e577-f798-4d2f-b1b9-35d718009778"
    },
    {
      "cell_type": "markdown",
      "metadata": {},
      "source": [
        "## E. 평가"
      ],
      "id": "874efb34-c720-4a2a-af00-09ddc8740c06"
    },
    {
      "cell_type": "code",
      "execution_count": 12,
      "metadata": {},
      "outputs": [],
      "source": [
        "predictr.score(X,y) # R^2"
      ],
      "id": "9dfcdefa-8f2b-49eb-ae3a-1d2ec10792eb"
    },
    {
      "cell_type": "markdown",
      "metadata": {},
      "source": [
        "> 0.7 이상이면 망한모형까지는 아님 (대회용으로는 부적절할 수 있으나 대충\n",
        "> 쓸 수는 있는 정도)\n",
        "\n",
        "# 5. 계수해석\n",
        "\n",
        "`-` 상수항 해석"
      ],
      "id": "fa5d76b4-780f-4f6c-bb88-cf22cac67bd0"
    },
    {
      "cell_type": "code",
      "execution_count": 13,
      "metadata": {},
      "outputs": [],
      "source": [
        "predictr.intercept_"
      ],
      "id": "f9a19827-52e6-4a72-9c5d-58cd643382b6"
    },
    {
      "cell_type": "markdown",
      "metadata": {},
      "source": [
        "-   기본적인 보험료는 -666이라는 의미\n",
        "\n",
        "`-` 계수해석"
      ],
      "id": "923af588-da4b-468d-a678-9fe550b9ba2c"
    },
    {
      "cell_type": "code",
      "execution_count": 14,
      "metadata": {},
      "outputs": [],
      "source": [
        "pd.DataFrame({'name':list(X.columns), 'coef':predictr.coef_.reshape(-1)})"
      ],
      "id": "fd802d3e-0413-470f-959c-e2729dd1a11a"
    },
    {
      "cell_type": "markdown",
      "metadata": {},
      "source": [
        "-   지역은 잘 모르겠으나 나머지는 꽤 그럴듯해 보임"
      ],
      "id": "1528e044-1a6a-42ae-94f5-e7f8be665e6a"
    }
  ],
  "nbformat": 4,
  "nbformat_minor": 5,
  "metadata": {
    "kernelspec": {
      "name": "python3",
      "display_name": "Python 3 (ipykernel)",
      "language": "python"
    },
    "language_info": {
      "name": "python",
      "codemirror_mode": {
        "name": "ipython",
        "version": "3"
      },
      "file_extension": ".py",
      "mimetype": "text/x-python",
      "nbconvert_exporter": "python",
      "pygments_lexer": "ipython3",
      "version": "3.10.13"
    }
  }
}