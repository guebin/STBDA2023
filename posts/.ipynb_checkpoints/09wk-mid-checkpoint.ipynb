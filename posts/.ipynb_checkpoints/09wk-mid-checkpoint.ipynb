{
 "cells": [
  {
   "cell_type": "raw",
   "id": "1ebb5fb1-2912-4d7d-a829-41e61b2f5653",
   "metadata": {
    "tags": []
   },
   "source": [
    "---\n",
    "title: \"09wk-mid (ver 1.0) -- 풀이업로드\"\n",
    "author: \"최규빈\"\n",
    "date: \"11/01/2023\"\n",
    "bibliography: ref.bib\n",
    "draft: false\n",
    "---"
   ]
  },
  {
   "cell_type": "markdown",
   "id": "d845150f-fd06-4e16-bf28-9b697e81719f",
   "metadata": {},
   "source": [
    "---\n",
    "\n",
    "1. True/False를 판단하는 문제는 답만 써도 무방함. \n",
    "2. \"자료분석\" 문제는 \"kaggle style score = 50%\", \"분석의 논리 = 50%\" 의 배점으로 채점한다. \n",
    "3. \"자료분석\" 유형의 경우 분석의 논리가 매우 우수하거나, 창의적인 접근법으로 분석을 시도할 경우 가산점을 부여한다. (아이디어 단계에서도 가산점 부여가능) 가산점은 문항점수의 최대 100%까지 부여한다. \n",
    "4. \"연구\" 문항의 경우 세부문항을 정확하게 수행한 경우에만 100%의 점수를 부여하며 이를 어길시 부분점수를 부여하지 않는다. 연구결과의 시각화나 해석이 우수한 답안은 문항점수의 20%까지 가산점을 부여한다. \n",
    "---"
   ]
  },
  {
   "cell_type": "code",
   "execution_count": 85,
   "id": "2089c0eb-32c8-47d0-824b-82689daea624",
   "metadata": {
    "tags": []
   },
   "outputs": [],
   "source": [
    "import pandas as pd\n",
    "import numpy as np\n",
    "import matplotlib.pyplot as plt\n",
    "import seaborn as sns\n",
    "import sklearn.linear_model\n",
    "import sklearn.ensemble\n",
    "import sklearn.preprocessing \n",
    "import sklearn.impute\n",
    "import sklearn.model_selection"
   ]
  },
  {
   "cell_type": "markdown",
   "id": "ca302b7d-88d0-4281-b2bb-bb9b51ebd59d",
   "metadata": {},
   "source": [
    "# `1`. True/False (50점)"
   ]
  },
  {
   "cell_type": "markdown",
   "id": "3fcb5d4a-605d-466c-af78-a32249de6682",
   "metadata": {},
   "source": [
    "- <https://www.kaggle.com/t/7911b05108f642e094ce13a77a5a4723>"
   ]
  },
  {
   "cell_type": "markdown",
   "id": "3e632951-9050-41a2-99e9-74eb0976e7ee",
   "metadata": {
    "tags": []
   },
   "source": [
    "> 링크를 `shift + 클릭`하면 새 창으로 열려서 문제 풀기 수월합니다. "
   ]
  },
  {
   "cell_type": "markdown",
   "id": "8c0c3080-5b52-4b3e-865a-7861ba2712eb",
   "metadata": {},
   "source": [
    "**`(1)-(3)`: 아래는 kaggle에서 titanic 데이터를 불러오는 코드이다.**\n",
    "\n",
    "```Python\n",
    "df_train=pd.read_csv(\"/kaggle/input/titanic/train.csv\")\n",
    "df_test=pd.read_csv(\"/kaggle/input/titanic/test.csv\")\n",
    "```"
   ]
  },
  {
   "cell_type": "code",
   "execution_count": 1,
   "id": "d60f7aaa-021a-4920-9f32-ed94114d950d",
   "metadata": {
    "tags": []
   },
   "outputs": [],
   "source": [
    "# !kaggle competitions download -c titanic\n",
    "# !unzip titanic.zip -d ./titanic\n",
    "# df_train = pd.read_csv('titanic/train.csv')\n",
    "# df_test = pd.read_csv('titanic/test.csv')\n",
    "# !rm titanic.zip\n",
    "# !rm -rf titanic/"
   ]
  },
  {
   "cell_type": "markdown",
   "id": "d0f7cec2-1a8b-45c4-90e2-90bfeffdab62",
   "metadata": {},
   "source": [
    "`(1)` 학습을 할 때는 `df_train`만을 이용하며 `df_test`는 전혀 사용하지 않는다. "
   ]
  },
  {
   "cell_type": "code",
   "execution_count": 5,
   "id": "24e68310-f7fe-4460-9418-6cb9b7dd9d9b",
   "metadata": {
    "tags": []
   },
   "outputs": [
    {
     "data": {
      "text/plain": [
       "True"
      ]
     },
     "execution_count": 5,
     "metadata": {},
     "output_type": "execute_result"
    }
   ],
   "source": [
    "True"
   ]
  },
  {
   "cell_type": "markdown",
   "id": "765bc137-d5a9-4d6e-9b14-705b1c1dd4f1",
   "metadata": {},
   "source": [
    "`(2)` `df_train`과 `df_test`의 열의 숫자는 동일하며 행의 숫자만 차이가 난다. "
   ]
  },
  {
   "cell_type": "code",
   "execution_count": 6,
   "id": "b6bb76f3-9cde-4a53-9721-f2a3e3033b7c",
   "metadata": {
    "tags": []
   },
   "outputs": [
    {
     "data": {
      "text/plain": [
       "False"
      ]
     },
     "execution_count": 6,
     "metadata": {},
     "output_type": "execute_result"
    }
   ],
   "source": [
    "False"
   ]
  },
  {
   "cell_type": "markdown",
   "id": "e983f2c4-f285-40b9-8a01-6d67486d90cf",
   "metadata": {},
   "source": [
    "`(3)` 여성생존자만 모두 생존한다고 가정하면 `df_train`에서의 accuracy는 78% 이상이다. "
   ]
  },
  {
   "cell_type": "code",
   "execution_count": 7,
   "id": "388c074d-3e91-47ec-82e0-62acee50e037",
   "metadata": {
    "tags": []
   },
   "outputs": [
    {
     "data": {
      "text/plain": [
       "True"
      ]
     },
     "execution_count": 7,
     "metadata": {},
     "output_type": "execute_result"
    }
   ],
   "source": [
    "True"
   ]
  },
  {
   "cell_type": "markdown",
   "id": "64f88629-a852-4c31-a0f3-cf389b56edb8",
   "metadata": {},
   "source": [
    "**`(4)-(7)` 아래는 [모듈4](https://guebin.github.io/MP2023/posts/02wk-004.html)에서 소개한 Alexis Cook의 분석코드이다.**\n",
    "\n",
    "```Python\n",
    "from sklearn.ensemble import RandomForestClassifier\n",
    "\n",
    "y = train_data[\"Survived\"]\n",
    "\n",
    "features = [\"Pclass\", \"Sex\", \"SibSp\", \"Parch\"]\n",
    "X = pd.get_dummies(train_data[features])\n",
    "X_test = pd.get_dummies(test_data[features])\n",
    "\n",
    "model = RandomForestClassifier(n_estimators=100, max_depth=5, random_state=1)\n",
    "model.fit(X, y)\n",
    "predictions = model.predict(X_test)\n",
    "\n",
    "output = pd.DataFrame({'PassengerId': test_data.PassengerId, 'Survived': predictions})\n",
    "output.to_csv('submission_AlexisCook.csv', index=False)\n",
    "print(\"Your submission was successfully saved!\")\n",
    "```"
   ]
  },
  {
   "cell_type": "markdown",
   "id": "068753ae-96ab-44b9-b859-751527364e35",
   "metadata": {},
   "source": [
    "`(4)` `Alexis Cook`의 코드에서는 사용된 설명변수는 [\"Pclass\", \"Sex\", \"SibSp\", \"Parch\"] 이다."
   ]
  },
  {
   "cell_type": "code",
   "execution_count": 8,
   "id": "ceb9d0a5-6089-4552-9806-1d837585b08c",
   "metadata": {
    "tags": []
   },
   "outputs": [
    {
     "data": {
      "text/plain": [
       "True"
      ]
     },
     "execution_count": 8,
     "metadata": {},
     "output_type": "execute_result"
    }
   ],
   "source": [
    "True"
   ]
  },
  {
   "cell_type": "markdown",
   "id": "d1a48b0f-41aa-490f-a109-89fd06a1c626",
   "metadata": {},
   "source": [
    "`(5)` `Alexis Cook`의 코드에서는 로지스틱모형을 이용하여 반응변수를 예측하였다. "
   ]
  },
  {
   "cell_type": "code",
   "execution_count": 9,
   "id": "2d616ce2-a866-4b8d-ae89-5fd4401c15ab",
   "metadata": {
    "tags": []
   },
   "outputs": [
    {
     "data": {
      "text/plain": [
       "False"
      ]
     },
     "execution_count": 9,
     "metadata": {},
     "output_type": "execute_result"
    }
   ],
   "source": [
    "False"
   ]
  },
  {
   "cell_type": "markdown",
   "id": "b46a9ab7-5e61-4b4d-8681-081501c60c05",
   "metadata": {},
   "source": [
    "`(6)` `model.fit(X,y)`는 train data를 학습하기 위한 코드이다. "
   ]
  },
  {
   "cell_type": "code",
   "execution_count": 10,
   "id": "432b3667-e232-4916-9e78-0de56ce0f2eb",
   "metadata": {
    "tags": []
   },
   "outputs": [
    {
     "data": {
      "text/plain": [
       "True"
      ]
     },
     "execution_count": 10,
     "metadata": {},
     "output_type": "execute_result"
    }
   ],
   "source": [
    "True"
   ]
  },
  {
   "cell_type": "markdown",
   "id": "a3195008-d83b-4d71-a938-b7f9d34aad40",
   "metadata": {},
   "source": [
    "`(7)` test data에서의 성능을 확인하기 위해서는 아래의 코드를 사용하면 된다. \n",
    "\n",
    "```Python\n",
    "output.score(X_test,y)\n",
    "```"
   ]
  },
  {
   "cell_type": "code",
   "execution_count": 11,
   "id": "34df0e30-46ca-45cb-a851-ca218de38f86",
   "metadata": {
    "tags": []
   },
   "outputs": [
    {
     "data": {
      "text/plain": [
       "False"
      ]
     },
     "execution_count": 11,
     "metadata": {},
     "output_type": "execute_result"
    }
   ],
   "source": [
    "False"
   ]
  },
  {
   "cell_type": "markdown",
   "id": "466fbad5-f9a5-467c-865e-372f888fead5",
   "metadata": {
    "tags": []
   },
   "source": [
    "**`(8)-(10)` 아래는 [모듈8](https://guebin.github.io/MP2023/posts/02wk-008.html)에 소개된 코드중 일부이다.**\n",
    "\n",
    "```Python\n",
    "from autogluon.tabular import TabularDataset, TabularPredictor\n",
    "\n",
    "# load data\n",
    "...\n",
    "...\n",
    "\n",
    "# analysis\n",
    "predictr = TabularPredictor(\"Survived\")\n",
    "predictr.fit(df_train,presets='best_quality')\n",
    "(df_train.Survived == predictr.predict(df_train)).mean()\n",
    "\n",
    "```"
   ]
  },
  {
   "cell_type": "markdown",
   "id": "e31c5e02-cf82-4e03-9268-3cf007b19d86",
   "metadata": {},
   "source": [
    "`(8)` 위의 코드에서 반응변수는 \"Survived\"로 설정하였다. "
   ]
  },
  {
   "cell_type": "code",
   "execution_count": 12,
   "id": "93755de5-00ea-474e-afb4-9347360ad3c8",
   "metadata": {
    "tags": []
   },
   "outputs": [
    {
     "data": {
      "text/plain": [
       "True"
      ]
     },
     "execution_count": 12,
     "metadata": {},
     "output_type": "execute_result"
    }
   ],
   "source": [
    "True"
   ]
  },
  {
   "cell_type": "markdown",
   "id": "4f3ee533-d987-4adc-a58d-a5896a6b83b9",
   "metadata": {},
   "source": [
    "`(9)` `predictr.fit(df_train,presets='best_quality')`은 train data를 학습하는 단계이다. "
   ]
  },
  {
   "cell_type": "code",
   "execution_count": 13,
   "id": "120aa140-91d9-486d-9d27-603bb749c2e8",
   "metadata": {
    "tags": []
   },
   "outputs": [
    {
     "data": {
      "text/plain": [
       "True"
      ]
     },
     "execution_count": 13,
     "metadata": {},
     "output_type": "execute_result"
    }
   ],
   "source": [
    "True"
   ]
  },
  {
   "cell_type": "markdown",
   "id": "7b9588de-5e37-42c5-be27-546fdf1118b9",
   "metadata": {},
   "source": [
    "`(10)` `(df_train.Survived == predictr.predict(df_train)).mean()`은 모형의 성능을 train data에서 검증하는 단계이다."
   ]
  },
  {
   "cell_type": "code",
   "execution_count": 14,
   "id": "c2b9d85e-5393-4b70-9bd5-09d552970ae8",
   "metadata": {
    "tags": []
   },
   "outputs": [
    {
     "data": {
      "text/plain": [
       "True"
      ]
     },
     "execution_count": 14,
     "metadata": {},
     "output_type": "execute_result"
    }
   ],
   "source": [
    "True"
   ]
  },
  {
   "cell_type": "markdown",
   "id": "892ca2af-7188-4ef3-ab26-e9c1d8b59716",
   "metadata": {},
   "source": [
    "**`(11)-(14)` 아래는 [모듈11](https://guebin.github.io/MP2023/posts/03wk-011.html)에 제시된 데이터프레임으로 선형모형의 계수값을 표현한 것이다.**"
   ]
  },
  {
   "attachments": {
    "04b46d9f-7f26-4548-b6ab-0f214224f689.png": {
     "image/png": "[encoded data removed]"
    }
   },
   "cell_type": "markdown",
   "id": "8003923c-975f-4ea3-88b9-d98c88607709",
   "metadata": {},
   "source": [
    "![](attachment:04b46d9f-7f26-4548-b6ab-0f214224f689.png)"
   ]
  },
  {
   "cell_type": "markdown",
   "id": "406b703e-4442-4aea-b204-e9c289078c8b",
   "metadata": {},
   "source": [
    "`(11)` 여성은 남성보다 평균적으로 보험료를 65.657180 만큼 더 낸다고 해석할 수 있다. "
   ]
  },
  {
   "cell_type": "code",
   "execution_count": 17,
   "id": "e863e145-2bd6-458e-bd6f-a1af57e00f98",
   "metadata": {
    "tags": []
   },
   "outputs": [
    {
     "data": {
      "text/plain": [
       "False"
      ]
     },
     "execution_count": 17,
     "metadata": {},
     "output_type": "execute_result"
    }
   ],
   "source": [
    "False # 65.657180*2 만큼 더낸다"
   ]
  },
  {
   "cell_type": "markdown",
   "id": "e271964b-8254-4d11-b205-7694a3d243c7",
   "metadata": {},
   "source": [
    "`(12)` 나이가 1살 증가하면 보험료가 평균 256.856353 만큼 증가한다고 해석할 수 있다. "
   ]
  },
  {
   "cell_type": "code",
   "execution_count": 18,
   "id": "6ad6ce29-405e-4770-8b7e-45241571fab1",
   "metadata": {
    "tags": []
   },
   "outputs": [
    {
     "data": {
      "text/plain": [
       "True"
      ]
     },
     "execution_count": 18,
     "metadata": {},
     "output_type": "execute_result"
    }
   ],
   "source": [
    "True"
   ]
  },
  {
   "cell_type": "markdown",
   "id": "92757124-0c8c-47dc-b861-7c0f3343de54",
   "metadata": {},
   "source": [
    "`(13)` 보험료를 상대적으로 많이 내는 지역과 그렇지 않은 지역이 존재한다. "
   ]
  },
  {
   "cell_type": "code",
   "execution_count": 19,
   "id": "68da2c2c-900c-4e0b-b202-0d5bdb032e65",
   "metadata": {
    "tags": []
   },
   "outputs": [
    {
     "data": {
      "text/plain": [
       "True"
      ]
     },
     "execution_count": 19,
     "metadata": {},
     "output_type": "execute_result"
    }
   ],
   "source": [
    "True"
   ]
  },
  {
   "cell_type": "markdown",
   "id": "f19fc540-4c4d-4f8d-8497-6a697321a228",
   "metadata": {},
   "source": [
    "`(14)` 흡연유무는 성별보다 보험료에 미치는 영향이 크다. "
   ]
  },
  {
   "cell_type": "code",
   "execution_count": 20,
   "id": "90bd1504-3d68-4046-938b-2bd5b50da038",
   "metadata": {
    "tags": []
   },
   "outputs": [
    {
     "data": {
      "text/plain": [
       "True"
      ]
     },
     "execution_count": 20,
     "metadata": {},
     "output_type": "execute_result"
    }
   ],
   "source": [
    "True"
   ]
  },
  {
   "cell_type": "markdown",
   "id": "704bdd9e-213c-4224-a931-9ab047e504cf",
   "metadata": {},
   "source": [
    "**`(15)-(19)` 아래는 [모듈13](https://guebin.github.io/MP2023/posts/03wk-013.html)에 대한 설명이다.**"
   ]
  },
  {
   "cell_type": "markdown",
   "id": "ba57f96d-b6d3-4126-a1ea-e817ff468cf3",
   "metadata": {},
   "source": [
    "`(15)` `4.분석-실패`에서 아래와 같은 에러메시지가 나오는 이유는 train data에 결측치가 포함되어 있기 때문이다. "
   ]
  },
  {
   "attachments": {
    "1949693a-7870-4996-af2d-48a7ec2d71d9.png": {
     "image/png": "[encoded data removed]"
    }
   },
   "cell_type": "markdown",
   "id": "567327f5-9ac2-41d6-8e19-45a1d9a4ddcc",
   "metadata": {},
   "source": [
    "![](attachment:1949693a-7870-4996-af2d-48a7ec2d71d9.png)"
   ]
  },
  {
   "cell_type": "code",
   "execution_count": 21,
   "id": "6c7a55be-eb6f-4217-a12b-34eabef50d49",
   "metadata": {
    "tags": []
   },
   "outputs": [
    {
     "data": {
      "text/plain": [
       "True"
      ]
     },
     "execution_count": 21,
     "metadata": {},
     "output_type": "execute_result"
    }
   ],
   "source": [
    "True"
   ]
  },
  {
   "cell_type": "markdown",
   "id": "dbbea0b5-4154-4bb7-9295-a2ee2292bba5",
   "metadata": {},
   "source": [
    "`(16)` 결측치가 하나라도 포함된 모든 열을 제거한다면 에러메시지를 피할수는 있겠으나 오버피팅이 발생할 가능성이 있다. "
   ]
  },
  {
   "cell_type": "code",
   "execution_count": 22,
   "id": "f7e636f8-2b7f-402f-a502-55c7378c4c72",
   "metadata": {
    "tags": []
   },
   "outputs": [
    {
     "data": {
      "text/plain": [
       "False"
      ]
     },
     "execution_count": 22,
     "metadata": {},
     "output_type": "execute_result"
    }
   ],
   "source": [
    "False"
   ]
  },
  {
   "cell_type": "markdown",
   "id": "0ab77d3d-2c9d-41c8-886c-b9fdb28d61a0",
   "metadata": {},
   "source": [
    "`(17)` 따라서 결측치를 하나라도 포함된 모든 열을 제거한뒤 Lasso를 쓰면 오버피팅을 피할 수 있다. "
   ]
  },
  {
   "cell_type": "code",
   "execution_count": 23,
   "id": "cd26f04e-4231-4dec-962e-5ff97277fddd",
   "metadata": {
    "tags": []
   },
   "outputs": [
    {
     "data": {
      "text/plain": [
       "False"
      ]
     },
     "execution_count": 23,
     "metadata": {},
     "output_type": "execute_result"
    }
   ],
   "source": [
    "False"
   ]
  },
  {
   "cell_type": "markdown",
   "id": "676b7341-f61e-434c-a15a-65251afa423b",
   "metadata": {},
   "source": [
    "`(18)` 결측치가 존재할 경우, 결측치가 있는 열을 제외하고 분석하는 것이 유일한 해결방법은 아니다. 예를들면 결측치를 적당한 값으로 impute한 뒤 분석할 수도 있다. "
   ]
  },
  {
   "cell_type": "code",
   "execution_count": 24,
   "id": "d5ae4ac2-fc15-4bf4-9f06-69df7a9c2307",
   "metadata": {
    "tags": []
   },
   "outputs": [
    {
     "data": {
      "text/plain": [
       "True"
      ]
     },
     "execution_count": 24,
     "metadata": {},
     "output_type": "execute_result"
    }
   ],
   "source": [
    "True"
   ]
  },
  {
   "cell_type": "markdown",
   "id": "09a34a93-6971-4890-be1d-d507b25f08cf",
   "metadata": {},
   "source": [
    "`(19)` train data와 test data에서 결측치가 포함된 행을 모두 제거한 뒤, train data 를 이용하여 적합을 시키고 test data 에서 예측한뒤 제출하는 것도 가능한 분석방법 중 하나이다. 즉 아래와 같은 의사코드는 가능한 분석방법 중 하나이다. \n",
    "\n",
    "```Python\n",
    "df_train = 결측치가 포함된 행이 제거된 train data\n",
    "df_test = 결측치가 포함된 행이 제거된 test data\n",
    "X,y = df_train 을 적당히 잘 정리한 자료의 튜플형태 \n",
    "XX = df_test 를 적당히 잘 정리한 자료\n",
    "predictr = sklearn.linear_model.LogisticRegression()\n",
    "predictr.fit(X,y)\n",
    "submission = predictr.predict(XX)의 값을 적당히 제출용으로 정리하여 만든 df\n",
    "```"
   ]
  },
  {
   "cell_type": "code",
   "execution_count": 28,
   "id": "7a0dda7a-00dc-44af-b711-4a775a9145af",
   "metadata": {
    "tags": []
   },
   "outputs": [
    {
     "data": {
      "text/plain": [
       "False"
      ]
     },
     "execution_count": 28,
     "metadata": {},
     "output_type": "execute_result"
    }
   ],
   "source": [
    "False # test에도 결측치가 존재한다면, 해당방법을 쓸 수 없다. 결측치가 포함된 행을 예측할 수 없기때문"
   ]
  },
  {
   "cell_type": "markdown",
   "id": "77d8c70c-d51d-4fd7-9d3f-0dda7459814d",
   "metadata": {
    "tags": []
   },
   "source": [
    "**`(20)-(24)` 아래는 [모듈19](https://guebin.github.io/MP2023/posts/05wk-019.html), [모듈20](https://guebin.github.io/MP2023/posts/05wk-020.html) 에 대한 설명이다.**"
   ]
  },
  {
   "cell_type": "markdown",
   "id": "571ea306-831e-4b3d-8947-82dff27b0b29",
   "metadata": {},
   "source": [
    "`(20)` `sklearn.preprocessing.MinMaxScaler()`를 이용하여 스케일러를 생성하고 train data에 `.fit_transform()` method를 적용하면 항상 $[0,1]$ 사이의 값이 나온다. "
   ]
  },
  {
   "cell_type": "code",
   "execution_count": 26,
   "id": "8d54c7d1-d3dc-4903-b5f0-683eb9ae15d0",
   "metadata": {
    "tags": []
   },
   "outputs": [
    {
     "data": {
      "text/plain": [
       "True"
      ]
     },
     "execution_count": 26,
     "metadata": {},
     "output_type": "execute_result"
    }
   ],
   "source": [
    "True"
   ]
  },
  {
   "cell_type": "markdown",
   "id": "2e61efd8-412b-4632-84bf-6674ae29d430",
   "metadata": {},
   "source": [
    "`(21)` `sklearn.preprocessing.MinMaxScaler()`를 이용하여 스케일러는 `.inverse_transform()` method를 가지고 있으며 이는 변환된 값을 원래로 되돌리는 역할을 한다. "
   ]
  },
  {
   "cell_type": "code",
   "execution_count": 29,
   "id": "52f754c6-8c33-4c14-86b7-c3f38f9a35ba",
   "metadata": {
    "tags": []
   },
   "outputs": [
    {
     "data": {
      "text/plain": [
       "True"
      ]
     },
     "execution_count": 29,
     "metadata": {},
     "output_type": "execute_result"
    }
   ],
   "source": [
    "True"
   ]
  },
  {
   "cell_type": "markdown",
   "id": "c5518830-6094-4e6e-be16-ace486fa84a1",
   "metadata": {},
   "source": [
    "`(22)` `sklearn.preprocessing.StandardScaler()`는 데이터의 평균을 0, 표준편차를 1로 만드는 방식으로 조정한다. "
   ]
  },
  {
   "cell_type": "code",
   "execution_count": 30,
   "id": "521146a5-b6c0-4b0b-86b9-0970a319dfe7",
   "metadata": {
    "tags": []
   },
   "outputs": [
    {
     "data": {
      "text/plain": [
       "True"
      ]
     },
     "execution_count": 30,
     "metadata": {},
     "output_type": "execute_result"
    }
   ],
   "source": [
    "True"
   ]
  },
  {
   "cell_type": "markdown",
   "id": "a3257608-34e4-48e7-92b2-a4df37909eb2",
   "metadata": {},
   "source": [
    "`(23)` 만약에 train data와 test data로 나누어진 상황에서 스케일러를 이용하여 데이터를 변환하려면 아래와 같은 순서를 따르는 것이 하나의 방법이다. \n",
    "\n",
    "1. 적당한 scaler 생성이후 train data 를 입력으로 넣고 `.fit_transform()` method 사용\n",
    "2. 1과 동일한 scaler에 test data 를 입력으로 넣고 `.transform()` method 사용"
   ]
  },
  {
   "cell_type": "code",
   "execution_count": 31,
   "id": "d490f7ed-a881-4478-b5ac-8872885e819d",
   "metadata": {
    "tags": []
   },
   "outputs": [
    {
     "data": {
      "text/plain": [
       "True"
      ]
     },
     "execution_count": 31,
     "metadata": {},
     "output_type": "execute_result"
    }
   ],
   "source": [
    "True"
   ]
  },
  {
   "cell_type": "markdown",
   "id": "1cc5b742-5b34-4935-ab75-6d83847dc1e1",
   "metadata": {},
   "source": [
    "`(24)` `(23)`과 동일한 상황에서 아래와 같은 변환도 해법이 될 수 있다. \n",
    "\n",
    "1. 적당한 scaler 생성이후 train data, test data를 합쳐서 입력으로 넣고 `.fit_transform()` method 사용"
   ]
  },
  {
   "cell_type": "code",
   "execution_count": 32,
   "id": "3c09d528-8889-4df5-abbe-b0b8c15b57ee",
   "metadata": {
    "tags": []
   },
   "outputs": [
    {
     "data": {
      "text/plain": [
       "False"
      ]
     },
     "execution_count": 32,
     "metadata": {},
     "output_type": "execute_result"
    }
   ],
   "source": [
    "False"
   ]
  },
  {
   "cell_type": "markdown",
   "id": "f88459de-8812-4553-b5dc-a4a2ebe38cd8",
   "metadata": {},
   "source": [
    "**`(25)-(26)` 아래는 [모듈21](https://guebin.github.io/MP2023/posts/05wk-021.html) 에 대한 설명이다.**"
   ]
  },
  {
   "cell_type": "markdown",
   "id": "7611b0df-286e-4bcc-962c-32aac3ad9447",
   "metadata": {},
   "source": [
    "`(25)` 밸런스게임을 통하여 많은 변수를 모을수록 train data 에 대한 score를 올릴 수 있다. "
   ]
  },
  {
   "cell_type": "code",
   "execution_count": 33,
   "id": "009e9c9c-f029-4229-941c-35d027e4e0d9",
   "metadata": {
    "tags": []
   },
   "outputs": [
    {
     "data": {
      "text/plain": [
       "True"
      ]
     },
     "execution_count": 33,
     "metadata": {},
     "output_type": "execute_result"
    }
   ],
   "source": [
    "True"
   ]
  },
  {
   "cell_type": "markdown",
   "id": "8b744a5a-0a6d-4070-b579-1c4d5e0f0732",
   "metadata": {},
   "source": [
    "`(26)` 이 모듈의 예시는 불필요한 변수의 추가가 오히려 학습에 방해되어 test score를 낮추는 현상이 생길 수 있음을 시사한다. "
   ]
  },
  {
   "cell_type": "code",
   "execution_count": 34,
   "id": "926e22a6-ada3-436a-a809-e500e81c52d9",
   "metadata": {
    "tags": []
   },
   "outputs": [
    {
     "data": {
      "text/plain": [
       "True"
      ]
     },
     "execution_count": 34,
     "metadata": {},
     "output_type": "execute_result"
    }
   ],
   "source": [
    "True"
   ]
  },
  {
   "cell_type": "markdown",
   "id": "2a832d4f-8407-4d81-93bf-817bdbf5bdc3",
   "metadata": {},
   "source": [
    "**`(27)-(33)` 아래는 [모듈22](https://guebin.github.io/MP2023/posts/06wk-022.html) 에 대한 설명이다.**"
   ]
  },
  {
   "cell_type": "markdown",
   "id": "54fcb45e-47c2-4765-9c54-3cc42249c673",
   "metadata": {},
   "source": [
    "`(27)` 이 모듈의 데이터에서 `toeic`과 `toeic0`의 상관계수값은 매우 높게 나올 것이다. "
   ]
  },
  {
   "cell_type": "code",
   "execution_count": 35,
   "id": "eb51f9fa-ec84-491c-a27f-f49bcbc3986d",
   "metadata": {
    "tags": []
   },
   "outputs": [
    {
     "data": {
      "text/plain": [
       "True"
      ]
     },
     "execution_count": 35,
     "metadata": {},
     "output_type": "execute_result"
    }
   ],
   "source": [
    "True"
   ]
  },
  {
   "cell_type": "markdown",
   "id": "a6ebc6b1-05a3-414d-b275-4e95924099ed",
   "metadata": {},
   "source": [
    "`(28)` 이 모듈의 데이터에서 모든변수를 넣고 적합한다면,`toeic, toeic0, ... ,toeic499`에 적합된 계수값의 합은 `0.01` 정도의 값을 가진다. "
   ]
  },
  {
   "cell_type": "code",
   "execution_count": 36,
   "id": "bc951171-f074-4925-80b2-d9afaef9e1b6",
   "metadata": {
    "tags": []
   },
   "outputs": [
    {
     "data": {
      "text/plain": [
       "True"
      ]
     },
     "execution_count": 36,
     "metadata": {},
     "output_type": "execute_result"
    }
   ],
   "source": [
    "True"
   ]
  },
  {
   "cell_type": "markdown",
   "id": "43841b90-d9df-43c8-b75e-ade6df864ecf",
   "metadata": {},
   "source": [
    "`(29)` 이 모듈의 데이터에서 `gpa`와 `toeic`만을 남기고 나머지 변수를 제거한뒤 돌리면 test score가 향상된다. "
   ]
  },
  {
   "cell_type": "code",
   "execution_count": 37,
   "id": "de2fc26b-ab88-4a0d-9074-993b73504e95",
   "metadata": {
    "tags": []
   },
   "outputs": [
    {
     "data": {
      "text/plain": [
       "True"
      ]
     },
     "execution_count": 37,
     "metadata": {},
     "output_type": "execute_result"
    }
   ],
   "source": [
    "True"
   ]
  },
  {
   "cell_type": "markdown",
   "id": "278f4fd5-d24d-406e-9a7c-4ee164d234ad",
   "metadata": {},
   "source": [
    "`(30)` 즉 이 모듈의 데이터는 변수를 제거할수록 test score가 향상된다. 예를들면 `gpa`를 제거하여도 test score가 향상된다. "
   ]
  },
  {
   "cell_type": "code",
   "execution_count": 38,
   "id": "41df7864-fc3b-4866-bb16-9bb0557cd9b1",
   "metadata": {
    "tags": []
   },
   "outputs": [
    {
     "data": {
      "text/plain": [
       "False"
      ]
     },
     "execution_count": 38,
     "metadata": {},
     "output_type": "execute_result"
    }
   ],
   "source": [
    "False"
   ]
  },
  {
   "cell_type": "markdown",
   "id": "240b070e-c500-46cf-b9a9-12b864b0b840",
   "metadata": {},
   "source": [
    "`(31)` 이 예제에서 train score는 모든 데이터를 사용하여 적합하였을 경우 가장 높게 나타난다. "
   ]
  },
  {
   "cell_type": "code",
   "execution_count": 42,
   "id": "0428f945-9d8f-4e5a-9e47-e045bf35f008",
   "metadata": {
    "tags": []
   },
   "outputs": [
    {
     "data": {
      "text/plain": [
       "True"
      ]
     },
     "execution_count": 42,
     "metadata": {},
     "output_type": "execute_result"
    }
   ],
   "source": [
    "True # Train score는 높게나온다. Test score가 문제여서 그렇지.."
   ]
  },
  {
   "cell_type": "markdown",
   "id": "93d91fba-2ee7-427f-b4ee-8f2225f1d751",
   "metadata": {},
   "source": [
    "`(32)` `toeic`, `toeic1`부터 `toeic499`까지의 변수들은 모두 `employment_score`와 높은 상관계수를 보인다. "
   ]
  },
  {
   "cell_type": "code",
   "execution_count": 41,
   "id": "20dbf862-ce7c-464a-8ac6-42d9e127d5f9",
   "metadata": {
    "tags": []
   },
   "outputs": [
    {
     "data": {
      "text/plain": [
       "True"
      ]
     },
     "execution_count": 41,
     "metadata": {},
     "output_type": "execute_result"
    }
   ],
   "source": [
    "True"
   ]
  },
  {
   "cell_type": "markdown",
   "id": "65dc2cd7-3e30-466d-803a-dde88ca6cc95",
   "metadata": {},
   "source": [
    "`(33)` 모듈22에 소개된 현상을 다중공선성이라고 말하며 이때는 계수값의 해석이 용이하지 않다. "
   ]
  },
  {
   "cell_type": "code",
   "execution_count": 43,
   "id": "c27f171c-6398-47a9-94e2-37af8a399e28",
   "metadata": {
    "tags": []
   },
   "outputs": [
    {
     "data": {
      "text/plain": [
       "True"
      ]
     },
     "execution_count": 43,
     "metadata": {},
     "output_type": "execute_result"
    }
   ],
   "source": [
    "True"
   ]
  },
  {
   "cell_type": "markdown",
   "id": "0988e02a-7128-453d-a6ac-96a87a92c30a",
   "metadata": {},
   "source": [
    "**`(34)-(38)` 아래는 다중공선성과 Rigde, Lasso에 대한 종합적인 설명이다.**"
   ]
  },
  {
   "cell_type": "markdown",
   "id": "86378145-eb39-4a97-ab77-d01eac56d9e4",
   "metadata": {},
   "source": [
    "`(34)` 다중공선성이 발생할 경우 올바른 변수선택으로 언제나 문제를 해결할 수 있다. "
   ]
  },
  {
   "cell_type": "code",
   "execution_count": 44,
   "id": "f9101419-0eec-4ce8-b442-8b9c1af2b8ca",
   "metadata": {
    "tags": []
   },
   "outputs": [
    {
     "data": {
      "text/plain": [
       "False"
      ]
     },
     "execution_count": 44,
     "metadata": {},
     "output_type": "execute_result"
    }
   ],
   "source": [
    "False"
   ]
  },
  {
   "cell_type": "markdown",
   "id": "e2cf6604-eb84-4c5c-b493-cc135287794a",
   "metadata": {},
   "source": [
    "`(35)` 다중공선성이 발생할 경우 ${\\bf X}$의 correlation matrix는 단위행렬에 가깝게 나온다. "
   ]
  },
  {
   "cell_type": "code",
   "execution_count": 45,
   "id": "8fa33de9-c7a4-4a3b-a1bb-9353d4bd7403",
   "metadata": {
    "tags": []
   },
   "outputs": [
    {
     "data": {
      "text/plain": [
       "False"
      ]
     },
     "execution_count": 45,
     "metadata": {},
     "output_type": "execute_result"
    }
   ],
   "source": [
    "False"
   ]
  },
  {
   "cell_type": "markdown",
   "id": "6f58ac13-ddd5-44ec-8209-2ce567776ca3",
   "metadata": {},
   "source": [
    "`(36)` 다중공선성이 발생한다면 Ridge, Lasso와 같은 방법을 이용하여 해결할 수 있다. "
   ]
  },
  {
   "cell_type": "code",
   "execution_count": 46,
   "id": "207c909a-bc53-4b48-a1c8-545d761a3932",
   "metadata": {
    "tags": []
   },
   "outputs": [
    {
     "data": {
      "text/plain": [
       "True"
      ]
     },
     "execution_count": 46,
     "metadata": {},
     "output_type": "execute_result"
    }
   ],
   "source": [
    "True"
   ]
  },
  {
   "cell_type": "markdown",
   "id": "547a26c2-8522-45b8-9a80-1f0f4a044182",
   "metadata": {},
   "source": [
    "`(37)` 관측치의 수가 매우커진다면 (즉 데이터프레임에서 행의 숫자가 매우 커진다면) 다중공선성 문제가 심화될 가능성이 있다. "
   ]
  },
  {
   "cell_type": "code",
   "execution_count": 47,
   "id": "baca1c09-4543-423e-b703-2bd1e4b31b8d",
   "metadata": {
    "tags": []
   },
   "outputs": [
    {
     "data": {
      "text/plain": [
       "False"
      ]
     },
     "execution_count": 47,
     "metadata": {},
     "output_type": "execute_result"
    }
   ],
   "source": [
    "False"
   ]
  },
  {
   "cell_type": "markdown",
   "id": "ccef95d2-8864-4c35-afb1-88abc44a2617",
   "metadata": {},
   "source": [
    "`(38)` 다중공선성을 아래와 같은 시각화 코드로 진단할 수 있는 경우가 있다. \n",
    "\n",
    "\n",
    "```Python\n",
    "sns.heatmap(df_train.corr(),annot=True)\n",
    "```"
   ]
  },
  {
   "cell_type": "code",
   "execution_count": 48,
   "id": "e1d41b0c-1e9f-42b5-89a4-71b09a2d36c0",
   "metadata": {
    "tags": []
   },
   "outputs": [
    {
     "data": {
      "text/plain": [
       "True"
      ]
     },
     "execution_count": 48,
     "metadata": {},
     "output_type": "execute_result"
    }
   ],
   "source": [
    "True"
   ]
  },
  {
   "cell_type": "markdown",
   "id": "20b75e44-8e02-4106-8859-edaf923f0e0e",
   "metadata": {},
   "source": [
    "**`(39)-(42)` 아래는 [모듈23](https://guebin.github.io/MP2023/posts/06wk-023.html) 에 대한 설명이다.**"
   ]
  },
  {
   "cell_type": "markdown",
   "id": "a85e5847-f97f-41bd-bc6e-98d970a36c3e",
   "metadata": {},
   "source": [
    "`(39)` `toeic`, `toiec0`, ..., `toeic499` 에 대응하는 계수값의 합은 $\\alpha$ 와 관련없이 항상 일정하다. "
   ]
  },
  {
   "cell_type": "code",
   "execution_count": 49,
   "id": "c92fcb90-ef6e-487d-a961-6fb652f07094",
   "metadata": {
    "tags": []
   },
   "outputs": [
    {
     "data": {
      "text/plain": [
       "False"
      ]
     },
     "execution_count": 49,
     "metadata": {},
     "output_type": "execute_result"
    }
   ],
   "source": [
    "False"
   ]
  },
  {
   "cell_type": "markdown",
   "id": "fcf2452c-979a-4f2d-a0b6-8533b289696c",
   "metadata": {
    "tags": []
   },
   "source": [
    "`(40)` 이 모듈에서 큰 $\\alpha$는 토익계수들의 값을 점점 비슷하게 만들어 주는 효과가 있다. "
   ]
  },
  {
   "cell_type": "code",
   "execution_count": 50,
   "id": "25dc8231-481e-489f-a33c-df7a4438e101",
   "metadata": {
    "tags": []
   },
   "outputs": [
    {
     "data": {
      "text/plain": [
       "True"
      ]
     },
     "execution_count": 50,
     "metadata": {},
     "output_type": "execute_result"
    }
   ],
   "source": [
    "True"
   ]
  },
  {
   "cell_type": "markdown",
   "id": "6c404bcd-8d4b-4734-9f00-6851e5834bc6",
   "metadata": {},
   "source": [
    "`(41)` `toeic`, `toiec0`, ..., `toeic499` 에 대응하는 계수값들의 분산은 $\\alpha$가 커짐에 따라 점점 작아진다. "
   ]
  },
  {
   "cell_type": "code",
   "execution_count": 51,
   "id": "d85612b5-51cf-4748-a965-279eb23f0dc5",
   "metadata": {
    "tags": []
   },
   "outputs": [
    {
     "data": {
      "text/plain": [
       "True"
      ]
     },
     "execution_count": 51,
     "metadata": {},
     "output_type": "execute_result"
    }
   ],
   "source": [
    "True"
   ]
  },
  {
   "cell_type": "markdown",
   "id": "995b43b5-f43b-4d3e-ba14-bc25ecd8795b",
   "metadata": {},
   "source": [
    "`(42)` $\\alpha$를 매우 잘 선택한다면 `모듈23-4.True` 에서 소개된 바와 같이 적절한 변수선택을 할 수 있다. "
   ]
  },
  {
   "cell_type": "code",
   "execution_count": 52,
   "id": "cc3da883-488c-4f7d-830d-092776346bb5",
   "metadata": {
    "tags": []
   },
   "outputs": [
    {
     "data": {
      "text/plain": [
       "False"
      ]
     },
     "execution_count": 52,
     "metadata": {},
     "output_type": "execute_result"
    }
   ],
   "source": [
    "False"
   ]
  },
  {
   "cell_type": "markdown",
   "id": "b6ac7998-0b5d-44e7-a9b2-6e53ffb1248f",
   "metadata": {},
   "source": [
    "**`(43)-(44)` 아래는 [모듈25](https://guebin.github.io/MP2023/posts/06wk-025.html) 에 대한 설명이다.**"
   ]
  },
  {
   "cell_type": "markdown",
   "id": "74f0ecfb-9d04-4613-ac37-eff0a1fa1dd6",
   "metadata": {},
   "source": [
    "`(43)` $\\alpha$가 커질수록 0이 아닌 계수값의 수는 점점 증가한다. "
   ]
  },
  {
   "cell_type": "code",
   "execution_count": 53,
   "id": "efad6a8b-90b5-4134-812d-dc5df581b18f",
   "metadata": {
    "tags": []
   },
   "outputs": [
    {
     "data": {
      "text/plain": [
       "False"
      ]
     },
     "execution_count": 53,
     "metadata": {},
     "output_type": "execute_result"
    }
   ],
   "source": [
    "False"
   ]
  },
  {
   "cell_type": "markdown",
   "id": "056ac507-f1b3-4e59-a6d8-400812b4fa89",
   "metadata": {},
   "source": [
    "`(44)` Lasso를 사용하면, 토익과 유사한 변수의 수가 증가할수록 test_score가 좋아진다. "
   ]
  },
  {
   "cell_type": "code",
   "execution_count": 54,
   "id": "076be67f-4c9c-4602-95e0-124c3b23c034",
   "metadata": {
    "tags": []
   },
   "outputs": [
    {
     "data": {
      "text/plain": [
       "False"
      ]
     },
     "execution_count": 54,
     "metadata": {},
     "output_type": "execute_result"
    }
   ],
   "source": [
    "False"
   ]
  },
  {
   "cell_type": "markdown",
   "id": "6d7b6511-1d05-4d91-8f61-705fd459bb1a",
   "metadata": {},
   "source": [
    "**`(45)-(47)` 아래는 [모듈27](https://guebin.github.io/MP2023/posts/06wk-027.html) 에 대한 설명이다.**"
   ]
  },
  {
   "cell_type": "markdown",
   "id": "e187c0aa-73a4-4f77-89a6-7d029dc2dcd0",
   "metadata": {},
   "source": [
    "`(45)` 강의교재에 소개된 아래의 그림은 train score 보다 test score 가 낮은 상황이다. "
   ]
  },
  {
   "attachments": {
    "d8be189d-272d-4364-9edd-04dca566a3ec.png": {
     "image/png": "[encoded data removed]"
    }
   },
   "cell_type": "markdown",
   "id": "0b0d72b6-2e48-4cec-85e4-015256cc90a3",
   "metadata": {},
   "source": [
    "![](attachment:d8be189d-272d-4364-9edd-04dca566a3ec.png)"
   ]
  },
  {
   "cell_type": "code",
   "execution_count": 55,
   "id": "17145efa-a2fc-415d-8603-27b723081bdb",
   "metadata": {
    "tags": []
   },
   "outputs": [
    {
     "data": {
      "text/plain": [
       "True"
      ]
     },
     "execution_count": 55,
     "metadata": {},
     "output_type": "execute_result"
    }
   ],
   "source": [
    "True"
   ]
  },
  {
   "cell_type": "markdown",
   "id": "f89bfe14-a9e1-413b-a9c2-9a35819d1c4d",
   "metadata": {},
   "source": [
    "`(46)` 하지만 이러한 적합결과가 오버피팅이라고 보기는 어렵다. "
   ]
  },
  {
   "cell_type": "code",
   "execution_count": 56,
   "id": "adde95d3-8b3a-4495-90b2-3561a0995f8e",
   "metadata": {
    "tags": []
   },
   "outputs": [
    {
     "data": {
      "text/plain": [
       "True"
      ]
     },
     "execution_count": 56,
     "metadata": {},
     "output_type": "execute_result"
    }
   ],
   "source": [
    "True"
   ]
  },
  {
   "cell_type": "markdown",
   "id": "f6c2f289-84f5-4598-a60d-1cc0ef11df96",
   "metadata": {},
   "source": [
    "`(47)` 아웃라이어를 제거한다면 선형모형의 `df_train`, `df_test`에 대한 score가 모두 상승할 것이다. "
   ]
  },
  {
   "cell_type": "code",
   "execution_count": 57,
   "id": "f72f46e0-1e6c-4334-85e8-06506bea25f9",
   "metadata": {
    "tags": []
   },
   "outputs": [
    {
     "data": {
      "text/plain": [
       "True"
      ]
     },
     "execution_count": 57,
     "metadata": {},
     "output_type": "execute_result"
    }
   ],
   "source": [
    "True"
   ]
  },
  {
   "cell_type": "markdown",
   "id": "5f20257c-67fc-4484-b958-50a1cdef32c8",
   "metadata": {},
   "source": [
    "**`(48)-(50)` 아래는 [모듈29](https://guebin.github.io/MP2023/posts/06wk-029.html)에 대한 설명이다.**"
   ]
  },
  {
   "cell_type": "markdown",
   "id": "a81dc65f-74ea-42ff-9c3f-d9fe252b65e9",
   "metadata": {},
   "source": [
    "`(48)` `모듈29, 4.분석`에 소개된 아래와 같은 모형은 \n",
    "\n",
    "- ${\\bf X}$: `Supplement`, `Exercise`, `Supplement` $\\times$ `Exercise`\n",
    "- ${\\bf y}$: `Weight_Loss`\n",
    "\n",
    "운동을 했으며, 보조제를 사용한 경우에 발생하는 추가적인 효과를 고려할 수 있다. "
   ]
  },
  {
   "cell_type": "code",
   "execution_count": 58,
   "id": "4d474f0d-2169-4891-9f3e-7df914ea8992",
   "metadata": {
    "tags": []
   },
   "outputs": [
    {
     "data": {
      "text/plain": [
       "True"
      ]
     },
     "execution_count": 58,
     "metadata": {},
     "output_type": "execute_result"
    }
   ],
   "source": [
    "True"
   ]
  },
  {
   "cell_type": "markdown",
   "id": "9a24a9b1-46ed-41b3-8bbc-9a33e7b1889e",
   "metadata": {},
   "source": [
    "`(49)` 이처럼 두 종류 이상의 범주형 범수가 존재하는 경우 범주형 범수간의 교호작용을 항상 고려해야 모형의 성능을 올릴 수 있다. "
   ]
  },
  {
   "cell_type": "code",
   "execution_count": 59,
   "id": "c7105005-d06f-48dd-a68d-c9a1f56c6bb3",
   "metadata": {
    "tags": []
   },
   "outputs": [
    {
     "data": {
      "text/plain": [
       "False"
      ]
     },
     "execution_count": 59,
     "metadata": {},
     "output_type": "execute_result"
    }
   ],
   "source": [
    "False"
   ]
  },
  {
   "cell_type": "markdown",
   "id": "015179f7-86ab-4169-929d-84c09adbfde5",
   "metadata": {},
   "source": [
    "`(50)` 실제로 교호작용이 있지만 이를 고려하지 않아서 모형의 성능이 떨어지는 경우는 언터피팅의 일종으로 볼 수 있다. "
   ]
  },
  {
   "cell_type": "code",
   "execution_count": 60,
   "id": "884956bd-60d0-42cb-83a5-3d31e05832ca",
   "metadata": {
    "tags": []
   },
   "outputs": [
    {
     "data": {
      "text/plain": [
       "True"
      ]
     },
     "execution_count": 60,
     "metadata": {},
     "output_type": "execute_result"
    }
   ],
   "source": [
    "True"
   ]
  },
  {
   "cell_type": "markdown",
   "id": "06c29026-152e-412f-b264-59442b09e347",
   "metadata": {},
   "source": [
    "# `2`. 자료분석 (30점)"
   ]
  },
  {
   "cell_type": "markdown",
   "id": "c92cfd6c-4ce2-497b-b805-aa36d4e25344",
   "metadata": {},
   "source": [
    "`(1)` 아래의 자료를 해석하고 세부지침에 맞추어 분석하라. "
   ]
  },
  {
   "cell_type": "code",
   "execution_count": 238,
   "id": "85e302ba-1a18-44be-b0c3-2e1aae5d4107",
   "metadata": {},
   "outputs": [],
   "source": [
    "df_train = pd.read_csv('https://raw.githubusercontent.com/guebin/MP2023/master/posts/mid/icesales_train.csv')\n",
    "df_test = pd.read_csv('https://raw.githubusercontent.com/guebin/MP2023/master/posts/mid/icesales_test.csv')"
   ]
  },
  {
   "cell_type": "markdown",
   "id": "259f9030-f6dd-49c0-a5e4-8e2a487d5f8b",
   "metadata": {},
   "source": [
    "**세부지침** \n",
    "\n",
    "1. 반응변수 ${\\bf y}$를 `sales`로 설정하고 나머지는 설명변수로 설정하라. \n",
    "2. `df_test`에 `sales`에 대한 예측값을 포함하는 열을 추가하라."
   ]
  },
  {
   "cell_type": "markdown",
   "id": "7e409170-fa23-4f9c-9955-78b12a897736",
   "metadata": {},
   "source": [
    "`(풀이)`"
   ]
  },
  {
   "cell_type": "code",
   "execution_count": 239,
   "id": "1d3d7c82-bb59-473e-8126-4e9c577f1556",
   "metadata": {
    "tags": []
   },
   "outputs": [
    {
     "data": {
      "text/html": [
       "<div>\n",
       "<style scoped>\n",
       "    .dataframe tbody tr th:only-of-type {\n",
       "        vertical-align: middle;\n",
       "    }\n",
       "\n",
       "    .dataframe tbody tr th {\n",
       "        vertical-align: top;\n",
       "    }\n",
       "\n",
       "    .dataframe thead th {\n",
       "        text-align: right;\n",
       "    }\n",
       "</style>\n",
       "<table border=\"1\" class=\"dataframe\">\n",
       "  <thead>\n",
       "    <tr style=\"text-align: right;\">\n",
       "      <th></th>\n",
       "      <th>temp</th>\n",
       "      <th>type</th>\n",
       "      <th>sales</th>\n",
       "    </tr>\n",
       "  </thead>\n",
       "  <tbody>\n",
       "    <tr>\n",
       "      <th>0</th>\n",
       "      <td>19.4</td>\n",
       "      <td>choco</td>\n",
       "      <td>64.807407</td>\n",
       "    </tr>\n",
       "    <tr>\n",
       "      <th>1</th>\n",
       "      <td>0.9</td>\n",
       "      <td>vanilla</td>\n",
       "      <td>25.656697</td>\n",
       "    </tr>\n",
       "    <tr>\n",
       "      <th>2</th>\n",
       "      <td>7.4</td>\n",
       "      <td>vanilla</td>\n",
       "      <td>34.756650</td>\n",
       "    </tr>\n",
       "    <tr>\n",
       "      <th>3</th>\n",
       "      <td>4.5</td>\n",
       "      <td>choco</td>\n",
       "      <td>27.265442</td>\n",
       "    </tr>\n",
       "    <tr>\n",
       "      <th>4</th>\n",
       "      <td>21.1</td>\n",
       "      <td>choco</td>\n",
       "      <td>70.606946</td>\n",
       "    </tr>\n",
       "  </tbody>\n",
       "</table>\n",
       "</div>"
      ],
      "text/plain": [
       "   temp     type      sales\n",
       "0  19.4    choco  64.807407\n",
       "1   0.9  vanilla  25.656697\n",
       "2   7.4  vanilla  34.756650\n",
       "3   4.5    choco  27.265442\n",
       "4  21.1    choco  70.606946"
      ]
     },
     "execution_count": 239,
     "metadata": {},
     "output_type": "execute_result"
    }
   ],
   "source": [
    "df_train.head()"
   ]
  },
  {
   "cell_type": "code",
   "execution_count": 240,
   "id": "d4326792-428a-428f-9b0c-11a5a8b25658",
   "metadata": {
    "tags": []
   },
   "outputs": [],
   "source": [
    "# step1 \n",
    "X = pd.get_dummies(df_train[['temp','type']],drop_first=True)\n",
    "XX = pd.get_dummies(df_test[['temp','type']],drop_first=True)\n",
    "y = df_train['sales']\n",
    "# step2 \n",
    "predictr = sklearn.linear_model.LinearRegression()\n",
    "# step3 \n",
    "predictr.fit(X,y) \n",
    "# step4 \n",
    "yhat = predictr.predict(XX) \n",
    "df_test['sales'] = yhat"
   ]
  },
  {
   "cell_type": "markdown",
   "id": "705e8a28-ed30-4f44-a312-5c11d90c7819",
   "metadata": {},
   "source": [
    "`(더 좋은 풀이)`"
   ]
  },
  {
   "cell_type": "code",
   "execution_count": 241,
   "id": "ecb0ac98-124c-4942-b859-e7bace775dd3",
   "metadata": {
    "tags": []
   },
   "outputs": [
    {
     "data": {
      "text/plain": [
       "<Axes: xlabel='temp', ylabel='sales'>"
      ]
     },
     "execution_count": 241,
     "metadata": {},
     "output_type": "execute_result"
    },
    {
     "data": {
      "image/png": "[encoded data removed]",
      "text/plain": [
       "<Figure size 640x480 with 1 Axes>"
      ]
     },
     "metadata": {},
     "output_type": "display_data"
    }
   ],
   "source": [
    "sns.scatterplot(df_train, x='temp', y='sales', hue='type')"
   ]
  },
  {
   "cell_type": "markdown",
   "id": "de2eb597-4e23-47c0-a994-a6e5bb4492fc",
   "metadata": {},
   "source": [
    "시각화를 해보고 `type`은 y를 예측할때 도움이 되지 않음을 파악하고 `type`을 제외하고 예측하면 가산점."
   ]
  },
  {
   "cell_type": "markdown",
   "id": "6aba0834-009e-46c5-b880-06859c8b8e58",
   "metadata": {},
   "source": [
    "`(2)` 아래의 자료를 해석하고 세부지침에 맞추어 분석하라. "
   ]
  },
  {
   "cell_type": "code",
   "execution_count": 266,
   "id": "b3e213ae-4d11-42f2-97b8-abbadedcac5d",
   "metadata": {},
   "outputs": [],
   "source": [
    "df_train = pd.read_csv('https://raw.githubusercontent.com/guebin/MP2023/master/posts/mid/height_train.csv')\n",
    "df_test = pd.read_csv('https://raw.githubusercontent.com/guebin/MP2023/master/posts/mid/height_test.csv')"
   ]
  },
  {
   "cell_type": "markdown",
   "id": "765356d7-27aa-4465-877a-7c4729b7fed1",
   "metadata": {},
   "source": [
    "**세부지침** \n",
    "\n",
    "1. 반응변수 ${\\bf y}$를 `height`로 설정하고 나머지는 설명변수로 설정하라. \n",
    "2. `df_test`에 `height`에 대한 예측값을 포함하는 열을 추가하라."
   ]
  },
  {
   "cell_type": "markdown",
   "id": "18a1b976-17c4-4b1b-9cec-f27bd2d64396",
   "metadata": {},
   "source": [
    "`(풀이)`"
   ]
  },
  {
   "cell_type": "code",
   "execution_count": 267,
   "id": "91731d96-8ffb-430e-813d-68b90d5ce34d",
   "metadata": {
    "tags": []
   },
   "outputs": [
    {
     "data": {
      "text/html": [
       "<div>\n",
       "<style scoped>\n",
       "    .dataframe tbody tr th:only-of-type {\n",
       "        vertical-align: middle;\n",
       "    }\n",
       "\n",
       "    .dataframe tbody tr th {\n",
       "        vertical-align: top;\n",
       "    }\n",
       "\n",
       "    .dataframe thead th {\n",
       "        text-align: right;\n",
       "    }\n",
       "</style>\n",
       "<table border=\"1\" class=\"dataframe\">\n",
       "  <thead>\n",
       "    <tr style=\"text-align: right;\">\n",
       "      <th></th>\n",
       "      <th>weight</th>\n",
       "      <th>sex</th>\n",
       "      <th>height</th>\n",
       "    </tr>\n",
       "  </thead>\n",
       "  <tbody>\n",
       "    <tr>\n",
       "      <th>0</th>\n",
       "      <td>71.169041</td>\n",
       "      <td>male</td>\n",
       "      <td>180.906857</td>\n",
       "    </tr>\n",
       "    <tr>\n",
       "      <th>1</th>\n",
       "      <td>69.204748</td>\n",
       "      <td>male</td>\n",
       "      <td>178.123281</td>\n",
       "    </tr>\n",
       "    <tr>\n",
       "      <th>2</th>\n",
       "      <td>49.037293</td>\n",
       "      <td>female</td>\n",
       "      <td>165.106085</td>\n",
       "    </tr>\n",
       "    <tr>\n",
       "      <th>3</th>\n",
       "      <td>74.472874</td>\n",
       "      <td>male</td>\n",
       "      <td>177.467439</td>\n",
       "    </tr>\n",
       "    <tr>\n",
       "      <th>4</th>\n",
       "      <td>74.239599</td>\n",
       "      <td>male</td>\n",
       "      <td>177.439925</td>\n",
       "    </tr>\n",
       "  </tbody>\n",
       "</table>\n",
       "</div>"
      ],
      "text/plain": [
       "      weight     sex      height\n",
       "0  71.169041    male  180.906857\n",
       "1  69.204748    male  178.123281\n",
       "2  49.037293  female  165.106085\n",
       "3  74.472874    male  177.467439\n",
       "4  74.239599    male  177.439925"
      ]
     },
     "execution_count": 267,
     "metadata": {},
     "output_type": "execute_result"
    }
   ],
   "source": [
    "df_train.head()"
   ]
  },
  {
   "cell_type": "code",
   "execution_count": 298,
   "id": "5f930755-ae42-4988-bb65-72a4f39f656c",
   "metadata": {
    "tags": []
   },
   "outputs": [],
   "source": [
    "# step1 \n",
    "## 데이터분리\n",
    "X = pd.get_dummies(df_train[['weight','sex']],drop_first=True)\n",
    "XX = pd.get_dummies(df_test[['weight','sex']],drop_first=True)\n",
    "y = df_train['height']\n",
    "## 결측치처리\n",
    "imputer = sklearn.impute.SimpleImputer()\n",
    "X[['weight']] = imputer.fit_transform(X[['weight']])\n",
    "XX[['weight']] = imputer.transform(XX[['weight']])\n",
    "## 교호작용고려 \n",
    "X['interaction'] = X['weight']*X['sex_male']\n",
    "XX['interaction'] = XX['weight']*XX['sex_male']\n",
    "# step2 \n",
    "predictr = sklearn.linear_model.LinearRegression()\n",
    "# step3 \n",
    "predictr.fit(X,y) \n",
    "# step4 \n",
    "yhat = predictr.predict(XX) \n",
    "df_test['height'] = predictr.predict(XX)"
   ]
  },
  {
   "cell_type": "markdown",
   "id": "f9926bc2-dc53-43bb-ae4a-1d1031171ab9",
   "metadata": {},
   "source": [
    "적합결과 시각화 (train)"
   ]
  },
  {
   "cell_type": "code",
   "execution_count": 299,
   "id": "89306704-a598-4d05-8b70-1008b3086741",
   "metadata": {
    "tags": []
   },
   "outputs": [
    {
     "data": {
      "text/plain": [
       "<Axes: xlabel='weight', ylabel='height'>"
      ]
     },
     "execution_count": 299,
     "metadata": {},
     "output_type": "execute_result"
    },
    {
     "data": {
      "image/png": "[encoded data removed]",
      "text/plain": [
       "<Figure size 640x480 with 1 Axes>"
      ]
     },
     "metadata": {},
     "output_type": "display_data"
    }
   ],
   "source": [
    "sns.scatterplot(df_train, x='weight',y='height',hue='sex',alpha=0.3)\n",
    "sns.lineplot(df_train,x='weight',y=predictr.predict(X),hue='sex',linestyle='--')"
   ]
  },
  {
   "cell_type": "markdown",
   "id": "2fc07e1d-cd01-4e42-aa66-220026cb2078",
   "metadata": {
    "tags": []
   },
   "source": [
    "> 이정도만 풀어도 만점으로 인정 "
   ]
  },
  {
   "cell_type": "markdown",
   "id": "fff6d31f-0886-4efb-ab43-bd1711b344bb",
   "metadata": {},
   "source": [
    "`(더 좋은 풀이)`"
   ]
  },
  {
   "cell_type": "markdown",
   "id": "35a1ba73-3d57-45c8-9118-4201a89ee831",
   "metadata": {},
   "source": [
    "남여의 몸무게 평균이 다르므로 그룹별로 몸무게를 예측하는것이 더 올바르다. "
   ]
  },
  {
   "cell_type": "code",
   "execution_count": 275,
   "id": "b3df47c4-b851-47bf-a184-aba0efb6af42",
   "metadata": {
    "tags": []
   },
   "outputs": [],
   "source": [
    "# step1 \n",
    "## 데이터분리\n",
    "X = pd.get_dummies(df_train[['weight','sex']],drop_first=True)*1.0\n",
    "XX = pd.get_dummies(df_test[['weight','sex']],drop_first=True)*1.0\n",
    "y = df_train['height']\n",
    "## 결측치처리\n",
    "# -- male \n",
    "imputer_male = sklearn.impute.SimpleImputer()\n",
    "X[X.sex_male==1] = imputer_male.fit_transform(X[X.sex_male==1])\n",
    "XX[XX.sex_male==1] = imputer_male.transform(XX[XX.sex_male==1])\n",
    "# -- female \n",
    "imputer_female = sklearn.impute.SimpleImputer()\n",
    "X[X.sex_male==0] = imputer_female.fit_transform(X[X.sex_male==0])\n",
    "XX[XX.sex_male==0] = imputer_female.fit_transform(XX[XX.sex_male==0])\n",
    "## 교호작용고려 \n",
    "X['interaction'] = X['weight']*X['sex_male']\n",
    "XX['interaction'] = XX['weight']*XX['sex_male']\n",
    "# step2 \n",
    "predictr = sklearn.linear_model.LinearRegression()\n",
    "# step3 \n",
    "predictr.fit(X,y) \n",
    "# step4 \n",
    "yhat = predictr.predict(XX) \n",
    "df_test['height'] = predictr.predict(XX)"
   ]
  },
  {
   "cell_type": "markdown",
   "id": "6e3aa0ff-6661-4aff-9157-94ba34763cdb",
   "metadata": {},
   "source": [
    "적합결과 시각화 (train)"
   ]
  },
  {
   "cell_type": "code",
   "execution_count": 294,
   "id": "811702c3-c59b-458e-a8d8-639f4b3edf23",
   "metadata": {
    "tags": []
   },
   "outputs": [
    {
     "data": {
      "text/plain": [
       "<Axes: xlabel='weight', ylabel='height'>"
      ]
     },
     "execution_count": 294,
     "metadata": {},
     "output_type": "execute_result"
    },
    {
     "data": {
      "image/png": "[encoded data removed]",
      "text/plain": [
       "<Figure size 640x480 with 1 Axes>"
      ]
     },
     "metadata": {},
     "output_type": "display_data"
    }
   ],
   "source": [
    "sns.scatterplot(df_train, x='weight',y='height',hue='sex',alpha=0.3)\n",
    "sns.lineplot(df_train,x='weight',y=predictr.predict(X),hue='sex',linestyle='--')"
   ]
  },
  {
   "cell_type": "markdown",
   "id": "cfbce860-8a42-44de-8538-cddd4c7b746d",
   "metadata": {},
   "source": [
    "`(3)` 아래의 자료를 해석하고 세부지침에 맞추어 분석하라. "
   ]
  },
  {
   "cell_type": "code",
   "execution_count": 301,
   "id": "7915a2fd-b15f-4627-ae77-e23de31d610e",
   "metadata": {},
   "outputs": [],
   "source": [
    "df_train = pd.read_csv('https://raw.githubusercontent.com/guebin/MP2023/master/posts/mid/synthetic_train.csv')\n",
    "df_test = pd.read_csv('https://raw.githubusercontent.com/guebin/MP2023/master/posts/mid/synthetic_test.csv')"
   ]
  },
  {
   "cell_type": "markdown",
   "id": "3e19590c-8d0e-4dfb-a718-04ac2e1d8119",
   "metadata": {},
   "source": [
    "**세부지침** \n",
    "\n",
    "1. 반응변수 ${\\bf y}$를 `y`로 설정하고 나머지 `X1`,`X2`,`X3`,`X4`는 설명변수로 설정하라. \n",
    "3. `df_test`에 `y`에 대한 예측값을 포함하는 열을 추가하라."
   ]
  },
  {
   "cell_type": "markdown",
   "id": "edfa3aa4-2776-4b25-87ba-4f5907d9fda0",
   "metadata": {},
   "source": [
    "`(풀이)`"
   ]
  },
  {
   "cell_type": "code",
   "execution_count": 326,
   "id": "5caafee3-2117-40ab-9607-177e3c3f3cb9",
   "metadata": {
    "tags": []
   },
   "outputs": [
    {
     "data": {
      "text/plain": [
       "Text(0.5, 1.0, 'Figure3: $(X_2,X_3)$')"
      ]
     },
     "execution_count": 326,
     "metadata": {},
     "output_type": "execute_result"
    },
    {
     "data": {
      "image/png": "[encoded data removed]",
      "text/plain": [
       "<Figure size 640x480 with 2 Axes>"
      ]
     },
     "metadata": {},
     "output_type": "display_data"
    },
    {
     "data": {
      "image/png": "[encoded data removed]",
      "text/plain": [
       "<Figure size 640x480 with 4 Axes>"
      ]
     },
     "metadata": {},
     "output_type": "display_data"
    },
    {
     "data": {
      "image/png": "[encoded data removed]",
      "text/plain": [
       "<Figure size 640x480 with 1 Axes>"
      ]
     },
     "metadata": {},
     "output_type": "display_data"
    }
   ],
   "source": [
    "# 생성된 데이터 시각화\n",
    "sns.heatmap(df_train.corr())\n",
    "fig = plt.gcf()\n",
    "fig.suptitle(\"Figure1\")\n",
    "\n",
    "fig,ax = plt.subplots(2, 2)\n",
    "ax[0,0].plot(df_train.X1, df_train.y,'o')\n",
    "ax[0,0].set_title(r'$(X_1,y)$')\n",
    "ax[0,1].plot(df_train.X2, df_train.y,'o')\n",
    "ax[0,1].set_title(r'$(X_2,y)$')\n",
    "ax[1,0].plot(df_train.X3, df_train.y,'o')\n",
    "ax[1,0].set_title(r'$(X_3,y)$')\n",
    "ax[1,1].plot(df_train.X4, df_train.y,'o')\n",
    "ax[1,1].set_title(r'$(X_4,y)$')\n",
    "fig.suptitle(\"Figure2\")\n",
    "fig.tight_layout()\n",
    "\n",
    "\n",
    "fig, ax = plt.subplots()\n",
    "ax.plot(df_train.X2, df_train.X3,'o')\n",
    "ax.set_title(r'Figure3: $(X_2,X_3)$')\n",
    "#fig.suptitle(\"Figure3\")"
   ]
  },
  {
   "cell_type": "markdown",
   "id": "f92fc277-963e-4931-b793-ed3148df2292",
   "metadata": {},
   "source": [
    "`-` $(X_1,X_4)$은 $y$와 관련이 없으므로 제외한다. (Figure1, Figure2)"
   ]
  },
  {
   "cell_type": "markdown",
   "id": "179ff3c1-48b0-456d-87bf-0b6d9a1dfcb0",
   "metadata": {},
   "source": [
    "`-` $(X_2,X_3)$은 모두 $y$와 관련이 있으나 둘 사이의 선형관계가 존재하므로 공선성의 관계가 있다. (Figure1, Figure3) 따라서 둘중하나를 제거하고 분석하거나, Lasso/Ridge중 하나를 쓰는것이 합리적으로 보인다. 본 풀이에서는 둘 중 하나를 제거하고 분석하도록 하겠다."
   ]
  },
  {
   "cell_type": "code",
   "execution_count": 354,
   "id": "a8684023-c993-4b3b-9573-0a9c9419e9d5",
   "metadata": {
    "tags": []
   },
   "outputs": [],
   "source": [
    "# step1 \n",
    "X = df_train[['X3']]\n",
    "y = df_train['y']\n",
    "XX = df_test[['X3']]\n",
    "# step2 \n",
    "predictr = sklearn.linear_model.LinearRegression()\n",
    "# step3 \n",
    "predictr.fit(X,y)\n",
    "# step4 \n",
    "df_test['y'] = predictr.predict(XX)"
   ]
  },
  {
   "cell_type": "markdown",
   "id": "8a447136-d24f-4eba-919d-a86a3d9baf0c",
   "metadata": {},
   "source": [
    "`-` 적합결과 시각화 "
   ]
  },
  {
   "cell_type": "code",
   "execution_count": 355,
   "id": "f0182eb4-6ec1-4e26-91ed-00ec9775679e",
   "metadata": {},
   "outputs": [
    {
     "data": {
      "text/plain": [
       "<matplotlib.legend.Legend at 0x7fadc7c7bb50>"
      ]
     },
     "execution_count": 355,
     "metadata": {},
     "output_type": "execute_result"
    },
    {
     "data": {
      "image/png": "[encoded data removed]",
      "text/plain": [
       "<Figure size 640x480 with 1 Axes>"
      ]
     },
     "metadata": {},
     "output_type": "display_data"
    }
   ],
   "source": [
    "plt.plot(df_train['y'],df_train['y'],'-',label='True')\n",
    "plt.plot(df_train['y'],predictr.predict(X),'o',label='Predictted')\n",
    "plt.title(f'score ={predictr.score(X,y):.4f}')\n",
    "plt.legend()"
   ]
  },
  {
   "cell_type": "markdown",
   "id": "f236b670-f265-491c-b987-04656b6cf9b1",
   "metadata": {},
   "source": [
    "`(더 좋은 풀이) -- 1`"
   ]
  },
  {
   "cell_type": "markdown",
   "id": "fb735b78-d5d7-4870-a1df-32534ca2c36c",
   "metadata": {},
   "source": [
    "$(X_3,y)$ 사이에 비 선형성이 있어보이므로, 의사결정나무를 이용하여 적합하여 보자. "
   ]
  },
  {
   "cell_type": "code",
   "execution_count": 393,
   "id": "0647fdd4-3767-4d3b-8bfc-57ba94d47313",
   "metadata": {
    "tags": []
   },
   "outputs": [],
   "source": [
    "# step1 \n",
    "X = df_train[['X3']]\n",
    "y = df_train['y']\n",
    "XX = df_test[['X3']]\n",
    "# step2 \n",
    "predictr = sklearn.tree.DecisionTreeRegressor()\n",
    "# step3 \n",
    "predictr.fit(X,y)\n",
    "# step4 \n",
    "df_test['y'] = predictr.predict(XX)"
   ]
  },
  {
   "cell_type": "code",
   "execution_count": 394,
   "id": "bcbdd7ea-7173-4b99-b5fb-0419038405e0",
   "metadata": {},
   "outputs": [
    {
     "data": {
      "text/plain": [
       "<matplotlib.legend.Legend at 0x7fadbb962bf0>"
      ]
     },
     "execution_count": 394,
     "metadata": {},
     "output_type": "execute_result"
    },
    {
     "data": {
      "image/png": "[encoded data removed]",
      "text/plain": [
       "<Figure size 640x480 with 1 Axes>"
      ]
     },
     "metadata": {},
     "output_type": "display_data"
    }
   ],
   "source": [
    "plt.plot(df_train['y'],df_train['y'],'-',label='True')\n",
    "plt.plot(df_train['y'],predictr.predict(X),'o',label='Predictted')\n",
    "plt.title(f'score ={predictr.score(X,y):.4f}')\n",
    "plt.legend()"
   ]
  },
  {
   "cell_type": "markdown",
   "id": "fe10856c-22d0-463f-80dd-309064badb46",
   "metadata": {},
   "source": [
    "- 오버핏이 염려되긴 하지만 해봄직하다. "
   ]
  },
  {
   "cell_type": "markdown",
   "id": "33dcbce7-d172-4c2f-82d2-26c3f77e9b2f",
   "metadata": {},
   "source": [
    "`(더 좋은 풀이) -- 2`"
   ]
  },
  {
   "cell_type": "markdown",
   "id": "4cc1743e-5002-450b-a933-5d8147f4e0a6",
   "metadata": {},
   "source": [
    "$(X_3,y)$ 사이에 비 선형성이 있어보이므로, $(X_3)^2$을 모델링하여 적합하자. (배운내용X, 이러한 방법을 ploynomial regression 혹은 자기자신과의 교호작용을 고려한 모형이라고 한다.)"
   ]
  },
  {
   "cell_type": "code",
   "execution_count": 395,
   "id": "512fed67-be47-4de7-a2b1-b38a66842b84",
   "metadata": {
    "tags": []
   },
   "outputs": [],
   "source": [
    "# step1 \n",
    "X = df_train.assign(X3_square = df_train['X3']**2)[['X3','X3_square']]\n",
    "y = df_train['y']\n",
    "XX = df_test.assign(X3_square = df_test['X3']**2)[['X3','X3_square']]\n",
    "#---#\n",
    "# step2 \n",
    "predictr = sklearn.linear_model.LinearRegression()\n",
    "# step3 \n",
    "predictr.fit(X,y)\n",
    "# step4 \n",
    "df_test['y'] = predictr.predict(XX)"
   ]
  },
  {
   "cell_type": "code",
   "execution_count": 396,
   "id": "545dd4ec-9ece-4133-95f9-718236e038ce",
   "metadata": {},
   "outputs": [
    {
     "data": {
      "text/plain": [
       "<matplotlib.legend.Legend at 0x7fadb9f717b0>"
      ]
     },
     "execution_count": 396,
     "metadata": {},
     "output_type": "execute_result"
    },
    {
     "data": {
      "image/png": "[encoded data removed]",
      "text/plain": [
       "<Figure size 640x480 with 1 Axes>"
      ]
     },
     "metadata": {},
     "output_type": "display_data"
    }
   ],
   "source": [
    "plt.plot(df_train['y'],df_train['y'],'-',label='True')\n",
    "plt.plot(df_train['y'],predictr.predict(X),'o',label='Predictted')\n",
    "plt.title(f'score ={predictr.score(X,y):.4f}')\n",
    "plt.legend()"
   ]
  },
  {
   "cell_type": "markdown",
   "id": "0902cbdb-2816-45f8-8f83-2c1097a5b0f8",
   "metadata": {
    "tags": []
   },
   "source": [
    "- 사실 이게 트루모델임.. "
   ]
  },
  {
   "cell_type": "markdown",
   "id": "adeeb6e7-6288-4cb1-b510-019604da4ce1",
   "metadata": {},
   "source": [
    "# `3`. 연구 (20점)"
   ]
  },
  {
   "cell_type": "markdown",
   "id": "0a092168-6582-4275-8619-5cb6e86efd9c",
   "metadata": {},
   "source": [
    "아래의 코드를 이용하여 자료를 불러오라. "
   ]
  },
  {
   "cell_type": "code",
   "execution_count": 398,
   "id": "385b14f1-0eb0-4e0a-ab28-c4fd0a75ab94",
   "metadata": {
    "tags": []
   },
   "outputs": [],
   "source": [
    "np.random.seed(42)\n",
    "df = pd.read_csv(\"https://raw.githubusercontent.com/guebin/MP2023/main/posts/employment_multicollinearity.csv\")\n",
    "df['employment_score'] = df.gpa * 1.0 + df.toeic* 1/100 + np.random.randn(500)\n",
    "df_train, df_test = sklearn.model_selection.train_test_split(df,test_size=0.3,random_state=42)"
   ]
  },
  {
   "cell_type": "markdown",
   "id": "588098d1-d725-4382-8f0e-47f1ed1d7248",
   "metadata": {},
   "source": [
    "아래의 절차에 따라 자료를 연구하라. 결과를 해석하라. \n",
    "\n",
    "1. 종속변수 ${\\bf y}$를 `employment_score`로 설정하고 나머지는 설명변수로 설정하라. \n",
    "2. `sklearn.linear_model.Ridge`를 이용하여 $\\alpha = [10^1, 10^{1.5}, 10^2, 10^{2.5}, \\dots, 10^{9}]$에 대해 predictor를 생성하라. \n",
    "3. $\\alpha$의 변화에 따른 train score 와 test score 의 변화를 시각화하라. \n",
    "4. $\\alpha$에 변화에 따른 `predictor`가 학습한 coefficient값 (`predictor.coef_`) 들의 분산변화와 L2-penalty를 시각화하라. "
   ]
  },
  {
   "cell_type": "markdown",
   "id": "e8d6826f-4e0d-4864-a593-d34c3c77ccf7",
   "metadata": {},
   "source": [
    "`(풀이)` -- 생략, 강의노트 참고 "
   ]
  }
 ],
 "metadata": {
  "kernelspec": {
   "display_name": "Python 3 (ipykernel)",
   "language": "python",
   "name": "python3"
  },
  "language_info": {
   "codemirror_mode": {
    "name": "ipython",
    "version": 3
   },
   "file_extension": ".py",
   "mimetype": "text/x-python",
   "name": "python",
   "nbconvert_exporter": "python",
   "pygments_lexer": "ipython3",
   "version": "3.10.13"
  }
 },
 "nbformat": 4,
 "nbformat_minor": 5
}
