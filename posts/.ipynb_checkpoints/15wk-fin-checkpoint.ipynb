{
 "cells": [
  {
   "cell_type": "raw",
   "id": "72ee3a67-059b-4ae0-945d-e0674ee7f696",
   "metadata": {
    "tags": []
   },
   "source": [
    "---\n",
    "title: \"15wk-fin\"\n",
    "author: \"최규빈\"\n",
    "date: \"12/21/2023\"\n",
    "bibliography: ref.bib\n",
    "draft: false\n",
    "---"
   ]
  },
  {
   "cell_type": "code",
   "execution_count": 4,
   "id": "7c1e144d-9488-45db-aea5-bb5bf7f4693e",
   "metadata": {
    "tags": []
   },
   "outputs": [],
   "source": [
    "import numpy as np\n",
    "import pandas as pd\n",
    "import matplotlib.pyplot as plt\n",
    "import seaborn as sns\n",
    "import sklearn.metrics"
   ]
  },
  {
   "cell_type": "markdown",
   "id": "a734da9f-353f-47f3-b456-1fd4adf9d185",
   "metadata": {},
   "source": [
    "---\n",
    "1. 의사결정나무의 수동구현은 위에서 제시된 모듈 (numpy, pandas, sklearn.metrics, matplotlib, seaborn) 만을 사용해야하며 이외의 모듈을 사용할 경우 0점 처리함. \n",
    "2. True/False를 판단하는 문제는 답만 써도 무방함. (이유를 써도 상관없음)\n",
    "3. Treu/False의 판단 문제는 모두 맞출 경우만 정답으로 인정함. 다만 틀린이유가 사소하다고 판단할경우 감점없이 만점처리함. \n",
    "---"
   ]
  },
  {
   "cell_type": "markdown",
   "id": "c30261fd-04bc-44b3-86c9-d8850b5eacd2",
   "metadata": {},
   "source": [
    "# 1. 의사결정나무의 수동구현 (70점)"
   ]
  },
  {
   "cell_type": "code",
   "execution_count": 9,
   "id": "c487030d-5f91-4ff0-92d5-791961eaf3fd",
   "metadata": {},
   "outputs": [
    {
     "data": {
      "text/html": [
       "<div>\n",
       "<style scoped>\n",
       "    .dataframe tbody tr th:only-of-type {\n",
       "        vertical-align: middle;\n",
       "    }\n",
       "\n",
       "    .dataframe tbody tr th {\n",
       "        vertical-align: top;\n",
       "    }\n",
       "\n",
       "    .dataframe thead th {\n",
       "        text-align: right;\n",
       "    }\n",
       "</style>\n",
       "<table border=\"1\" class=\"dataframe\">\n",
       "  <thead>\n",
       "    <tr style=\"text-align: right;\">\n",
       "      <th></th>\n",
       "      <th>weight</th>\n",
       "      <th>sex</th>\n",
       "      <th>height</th>\n",
       "    </tr>\n",
       "  </thead>\n",
       "  <tbody>\n",
       "    <tr>\n",
       "      <th>0</th>\n",
       "      <td>NaN</td>\n",
       "      <td>male</td>\n",
       "      <td>164.227738</td>\n",
       "    </tr>\n",
       "    <tr>\n",
       "      <th>1</th>\n",
       "      <td>NaN</td>\n",
       "      <td>male</td>\n",
       "      <td>165.798660</td>\n",
       "    </tr>\n",
       "    <tr>\n",
       "      <th>2</th>\n",
       "      <td>75.219015</td>\n",
       "      <td>male</td>\n",
       "      <td>165.528672</td>\n",
       "    </tr>\n",
       "    <tr>\n",
       "      <th>3</th>\n",
       "      <td>NaN</td>\n",
       "      <td>male</td>\n",
       "      <td>163.706442</td>\n",
       "    </tr>\n",
       "    <tr>\n",
       "      <th>4</th>\n",
       "      <td>81.476750</td>\n",
       "      <td>male</td>\n",
       "      <td>165.501403</td>\n",
       "    </tr>\n",
       "    <tr>\n",
       "      <th>...</th>\n",
       "      <td>...</td>\n",
       "      <td>...</td>\n",
       "      <td>...</td>\n",
       "    </tr>\n",
       "    <tr>\n",
       "      <th>275</th>\n",
       "      <td>49.308558</td>\n",
       "      <td>female</td>\n",
       "      <td>148.587771</td>\n",
       "    </tr>\n",
       "    <tr>\n",
       "      <th>276</th>\n",
       "      <td>NaN</td>\n",
       "      <td>male</td>\n",
       "      <td>164.822474</td>\n",
       "    </tr>\n",
       "    <tr>\n",
       "      <th>277</th>\n",
       "      <td>NaN</td>\n",
       "      <td>male</td>\n",
       "      <td>163.907671</td>\n",
       "    </tr>\n",
       "    <tr>\n",
       "      <th>278</th>\n",
       "      <td>NaN</td>\n",
       "      <td>male</td>\n",
       "      <td>161.674476</td>\n",
       "    </tr>\n",
       "    <tr>\n",
       "      <th>279</th>\n",
       "      <td>53.714772</td>\n",
       "      <td>female</td>\n",
       "      <td>146.775975</td>\n",
       "    </tr>\n",
       "  </tbody>\n",
       "</table>\n",
       "<p>280 rows × 3 columns</p>\n",
       "</div>"
      ],
      "text/plain": [
       "        weight     sex      height\n",
       "0          NaN    male  164.227738\n",
       "1          NaN    male  165.798660\n",
       "2    75.219015    male  165.528672\n",
       "3          NaN    male  163.706442\n",
       "4    81.476750    male  165.501403\n",
       "..         ...     ...         ...\n",
       "275  49.308558  female  148.587771\n",
       "276        NaN    male  164.822474\n",
       "277        NaN    male  163.907671\n",
       "278        NaN    male  161.674476\n",
       "279  53.714772  female  146.775975\n",
       "\n",
       "[280 rows x 3 columns]"
      ]
     },
     "execution_count": 9,
     "metadata": {},
     "output_type": "execute_result"
    }
   ],
   "source": [
    "df_train = pd.read_csv('https://raw.githubusercontent.com/guebin/MP2023/master/posts/height_train.csv')\n",
    "df_train"
   ]
  },
  {
   "cell_type": "markdown",
   "id": "edd04592-7a31-491f-941e-45cee1f0e1f7",
   "metadata": {},
   "source": [
    "`(1)` `df_train`에서 \"sex\",\"weight\"를 설명변수로 \"height\"을 반응변수로 설정하라. 결측치가 있을 경우 결측값에 일괄적으로 -99로 채워넣어라."
   ]
  },
  {
   "cell_type": "markdown",
   "id": "aa67d0d4-1f8b-4134-bb51-844ec1e6ba67",
   "metadata": {},
   "source": [
    "**힌트**: 결측치를 처리하기 위해 아래의 코드를 관찰하라. "
   ]
  },
  {
   "cell_type": "code",
   "execution_count": 419,
   "id": "c8592e77-fc5d-443b-9318-2f2ca9f1951b",
   "metadata": {
    "tags": []
   },
   "outputs": [
    {
     "data": {
      "text/html": [
       "<div>\n",
       "<style scoped>\n",
       "    .dataframe tbody tr th:only-of-type {\n",
       "        vertical-align: middle;\n",
       "    }\n",
       "\n",
       "    .dataframe tbody tr th {\n",
       "        vertical-align: top;\n",
       "    }\n",
       "\n",
       "    .dataframe thead th {\n",
       "        text-align: right;\n",
       "    }\n",
       "</style>\n",
       "<table border=\"1\" class=\"dataframe\">\n",
       "  <thead>\n",
       "    <tr style=\"text-align: right;\">\n",
       "      <th></th>\n",
       "      <th>X</th>\n",
       "      <th>y</th>\n",
       "    </tr>\n",
       "  </thead>\n",
       "  <tbody>\n",
       "    <tr>\n",
       "      <th>0</th>\n",
       "      <td>1.0</td>\n",
       "      <td>3</td>\n",
       "    </tr>\n",
       "    <tr>\n",
       "      <th>1</th>\n",
       "      <td>2.0</td>\n",
       "      <td>4</td>\n",
       "    </tr>\n",
       "    <tr>\n",
       "      <th>2</th>\n",
       "      <td>NaN</td>\n",
       "      <td>5</td>\n",
       "    </tr>\n",
       "    <tr>\n",
       "      <th>3</th>\n",
       "      <td>NaN</td>\n",
       "      <td>1</td>\n",
       "    </tr>\n",
       "    <tr>\n",
       "      <th>4</th>\n",
       "      <td>5.0</td>\n",
       "      <td>2</td>\n",
       "    </tr>\n",
       "  </tbody>\n",
       "</table>\n",
       "</div>"
      ],
      "text/plain": [
       "     X  y\n",
       "0  1.0  3\n",
       "1  2.0  4\n",
       "2  NaN  5\n",
       "3  NaN  1\n",
       "4  5.0  2"
      ]
     },
     "execution_count": 419,
     "metadata": {},
     "output_type": "execute_result"
    }
   ],
   "source": [
    "df_toy = pd.DataFrame({'X':[1,2,np.nan,np.nan,5],'y':[3,4,5,1,2]})\n",
    "df_toy"
   ]
  },
  {
   "cell_type": "code",
   "execution_count": 420,
   "id": "3dcce341-83e6-4ff4-9a2c-deeefe99a016",
   "metadata": {
    "tags": []
   },
   "outputs": [
    {
     "data": {
      "text/html": [
       "<div>\n",
       "<style scoped>\n",
       "    .dataframe tbody tr th:only-of-type {\n",
       "        vertical-align: middle;\n",
       "    }\n",
       "\n",
       "    .dataframe tbody tr th {\n",
       "        vertical-align: top;\n",
       "    }\n",
       "\n",
       "    .dataframe thead th {\n",
       "        text-align: right;\n",
       "    }\n",
       "</style>\n",
       "<table border=\"1\" class=\"dataframe\">\n",
       "  <thead>\n",
       "    <tr style=\"text-align: right;\">\n",
       "      <th></th>\n",
       "      <th>X</th>\n",
       "      <th>y</th>\n",
       "    </tr>\n",
       "  </thead>\n",
       "  <tbody>\n",
       "    <tr>\n",
       "      <th>0</th>\n",
       "      <td>1.0</td>\n",
       "      <td>3</td>\n",
       "    </tr>\n",
       "    <tr>\n",
       "      <th>1</th>\n",
       "      <td>2.0</td>\n",
       "      <td>4</td>\n",
       "    </tr>\n",
       "    <tr>\n",
       "      <th>2</th>\n",
       "      <td>-99.0</td>\n",
       "      <td>5</td>\n",
       "    </tr>\n",
       "    <tr>\n",
       "      <th>3</th>\n",
       "      <td>-99.0</td>\n",
       "      <td>1</td>\n",
       "    </tr>\n",
       "    <tr>\n",
       "      <th>4</th>\n",
       "      <td>5.0</td>\n",
       "      <td>2</td>\n",
       "    </tr>\n",
       "  </tbody>\n",
       "</table>\n",
       "</div>"
      ],
      "text/plain": [
       "      X  y\n",
       "0   1.0  3\n",
       "1   2.0  4\n",
       "2 -99.0  5\n",
       "3 -99.0  1\n",
       "4   5.0  2"
      ]
     },
     "execution_count": 420,
     "metadata": {},
     "output_type": "execute_result"
    }
   ],
   "source": [
    "df_toy.fillna(-99)"
   ]
  },
  {
   "cell_type": "markdown",
   "id": "3d8276c5-a49d-4862-b0de-c1c91e9d1da8",
   "metadata": {},
   "source": [
    "`(2)` `height`열의 평균으로 `height`의 값을 추정하라. 추정값을 `yhat`에 저장하라. `sklearn.metrics.r2_score()`을 이용하여 `r2_score`를 계산하라. "
   ]
  },
  {
   "cell_type": "markdown",
   "id": "d4e8ed81-059a-4fdf-a7e4-cf087dd20483",
   "metadata": {},
   "source": [
    "**hint:** 0이 나와야 한다. "
   ]
  },
  {
   "cell_type": "markdown",
   "id": "0febfd3d-ce29-4ed0-9f09-adad664a432a",
   "metadata": {
    "tags": []
   },
   "source": [
    "`(3)` 아래를 계산하라. \n",
    "\n",
    "- `r` = `y` - `yhat`\n",
    "\n",
    "여기에서 `yhat`은 `(2)`의 결과로 얻어진 적합값을 의미한다. 이제 `r`에 Weight를 기준으로 의사결정나무를 적용하여 아래와 같은 분할을 만들어라. \n",
    "\n",
    "- `X['weight']` < `c`\n",
    "- `X['weight']` >= `c`\n",
    "\n",
    "`sklearn.metrics.r2_score()`를 이용하여 최적의 $c$값을 구하여라. \n",
    "\n",
    "**참고**\n",
    "\n",
    "아래의 구간을 적당히 등분하여 구할 것. 너무 세밀하게 등분하지 않아도 무방함.\n",
    "\n",
    "```Python\n",
    "(X['weight'].min(), X['weight'].max())\n",
    "```"
   ]
  },
  {
   "cell_type": "markdown",
   "id": "8a4964e9-910d-4161-8d63-577f01f98832",
   "metadata": {
    "tags": []
   },
   "source": [
    "`(4)` `(3)`의 결과로 얻어진 아래의 분할을 고려하자. \n",
    "\n",
    "```Python\n",
    "X['weight'] >= c\n",
    "```"
   ]
  },
  {
   "cell_type": "markdown",
   "id": "cebdb985-0bb9-4a93-9783-676d5cd7d4c5",
   "metadata": {},
   "source": [
    "이 분할에서 depth=2 로 나무를 성장하고자 한다. 성장이가능한가? 성장이 가능하다면 이때 나무를 성장시키기 위한 변수로 weigth와 sex중 무엇이 적절한가? 왜 그렇다고 생각하는가? "
   ]
  },
  {
   "cell_type": "markdown",
   "id": "7d607bb1-71f4-47b7-a398-2e382fcf6609",
   "metadata": {
    "tags": []
   },
   "source": [
    "`(5)` `(3)`의 결과로 얻어진 아래의 분할을 고려하자. \n",
    "\n",
    "```Python\n",
    "X['weight'] < c\n",
    "```"
   ]
  },
  {
   "cell_type": "markdown",
   "id": "bded0f0f-7841-4dbd-8035-6f1ebe029d32",
   "metadata": {},
   "source": [
    "이 분할에서 depth=2 로 나무를 성장하고자 한다. 성장이가능한가? 성장이 가능하다면 이때 나무를 성장시키기 위한 변수로 weigth와 sex중 무엇이 적절한가? 왜 그렇다고 생각하는가? "
   ]
  },
  {
   "cell_type": "markdown",
   "id": "34dc8e5a-6b04-434d-a1e4-c9f0323a0620",
   "metadata": {},
   "source": [
    "`(6)` `(3)`-`(5)`의 결과를 이용하여 `depth=2`인 의사결정나무에 의한 `r`의 적합값을 구하여라. 이를 이용하여 `yhat`을 update하라. 이때 학습률은 0.1로 설정하고 업데이트된 결과를 `yhat2`로 저장하라. 그리고`sklearn.metrics.r2_score()`을 이용하여 `y`와 `yhat2`의 `r2_score`를 계산하라. "
   ]
  },
  {
   "cell_type": "markdown",
   "id": "b9d83f5d-0a6f-4155-93dd-65e8b712fdc2",
   "metadata": {},
   "source": [
    "힌트: 아래의 알고리즘이 동치임을 이용하라. \n",
    "\n",
    "- `yhat2` $\\leftarrow$ `yhat` + 학습률 $\\times$ `rhat`\n",
    "- `r2` $\\leftarrow$ `r` - 학습률 $\\times$ `rhat`, where `r2` = `y` - `yhat2`"
   ]
  },
  {
   "cell_type": "markdown",
   "id": "5b02f955-feef-4054-bf3b-27c723bd8b21",
   "metadata": {},
   "source": [
    "`(7)` `(6)`에서 학습률이 0.5일 경우 `y`와 `yhat2`의 `r2_score`를 계산하라."
   ]
  },
  {
   "cell_type": "markdown",
   "id": "e1e72c91-a5a7-4f1c-8290-394d5f3fa1a5",
   "metadata": {},
   "source": [
    "# 2. 다음을 읽고 참거짓을 판단하라. (30점)"
   ]
  },
  {
   "cell_type": "markdown",
   "id": "75862b13-0b01-43f3-b908-f84e9874dcfd",
   "metadata": {},
   "source": [
    "`(1)` 의사결정나무에서 `max_depth`의 설정값이 커질수록 오버피팅의 위험이 있다. "
   ]
  },
  {
   "cell_type": "markdown",
   "id": "5a79033b-2399-4b8d-8f0e-b8316011df42",
   "metadata": {},
   "source": [
    "`(2)` 배깅의 설명변수중 일부를 drop 하며 나무를 성장시킨다. "
   ]
  },
  {
   "cell_type": "markdown",
   "id": "52269bd3-ad0d-4ad6-b9b5-b0c5ed96abab",
   "metadata": {},
   "source": [
    "`(3)` 랜덤포레스트는 나무가지를 랜덤으로 성장시키기도 하고 파괴시키기도 한다. "
   ]
  },
  {
   "cell_type": "markdown",
   "id": "c77067f5-b462-450e-920f-f0a89e8832b7",
   "metadata": {},
   "source": [
    "`(4)` 부스팅은 여러가지 의사결정나무의 적합값을 평균내는 방식으로 최종예측을 한다. "
   ]
  },
  {
   "cell_type": "markdown",
   "id": "eaaf4edb-bea0-4a0a-8543-12dc2e52b7b6",
   "metadata": {},
   "source": [
    "`(5)` `Accuracy`는 분류문제에서 언제나 가장 합리적인 평가지표이다. "
   ]
  },
  {
   "cell_type": "markdown",
   "id": "d71310c6-d318-4ce5-8a28-8bff57640d1d",
   "metadata": {},
   "source": [
    "`(6)` 모듈49의 아래그림은 \"sex == 'male'\" 일 경우 \"sex='female'\" 일때보다 항상(=모든 관측치에 대하여) 키의 예측값을 +2.1 만큼 보정해야 한다는 것을 의미한다. \n",
    "\n",
    "![](https://guebin.github.io/MP2023/posts/13wk-49_files/figure-html/cell-14-output-2.png)"
   ]
  },
  {
   "cell_type": "markdown",
   "id": "0069687a-0c98-42c6-93dd-29d317946c12",
   "metadata": {},
   "source": [
    "`(7)` 모듈54에서 제시된 아래의 그림은 사실 전혀 고려할 필요가 없다. \n",
    "\n",
    "![](https://guebin.github.io/MP2023/posts/13wk-54_files/figure-html/cell-6-output-6.png)\n",
    "\n",
    "왜냐하면 Exercise는 범주형, Weight_Loss는 연속형이므로 correlation값은 의미가 없기 때문이다. "
   ]
  },
  {
   "cell_type": "markdown",
   "id": "f65b92c3-a096-4b83-991b-73788d602b28",
   "metadata": {},
   "source": [
    "`(8)` 시계열분석에서 `static_feature`란 이미 알고있는 미래의 시계열자료를 의미한다. "
   ]
  },
  {
   "cell_type": "markdown",
   "id": "68304bb1-78c7-4fef-9039-6b7663932c39",
   "metadata": {},
   "source": [
    "`(9)` 모듈59에서 소개된 자전거대여자료와 같이 시간특징이 포함된 자료는 언제나 (과거를 기반으로 미래를 예측하는) 시계열분석을 하는 것이 올바르다. "
   ]
  },
  {
   "cell_type": "markdown",
   "id": "04ef3c3f-236d-492f-89d7-0c1b374a6f91",
   "metadata": {},
   "source": [
    "`(10)` 모듈60에서 소개된 하이퍼파라메터 설정법을 이용하면 때때로 모형의 적합도를 높일 수 있다. "
   ]
  }
 ],
 "metadata": {
  "kernelspec": {
   "display_name": "Python 3 (ipykernel)",
   "language": "python",
   "name": "python3"
  },
  "language_info": {
   "codemirror_mode": {
    "name": "ipython",
    "version": 3
   },
   "file_extension": ".py",
   "mimetype": "text/x-python",
   "name": "python",
   "nbconvert_exporter": "python",
   "pygments_lexer": "ipython3",
   "version": "3.10.13"
  }
 },
 "nbformat": 4,
 "nbformat_minor": 5
}
