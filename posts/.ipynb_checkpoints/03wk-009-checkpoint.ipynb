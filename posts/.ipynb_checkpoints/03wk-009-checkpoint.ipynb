{
 "cells": [
  {
   "cell_type": "raw",
   "id": "10226c42-3337-4bfd-b1c1-e776afe7e144",
   "metadata": {},
   "source": [
    "---\n",
    "title: \"03wk-009: 아이스크림, 회귀분석\"\n",
    "author: \"최규빈\"\n",
    "date: \"09/21/2023\"\n",
    "bibliography: ref.bib\n",
    "---"
   ]
  },
  {
   "cell_type": "markdown",
   "id": "bc7f210b-5769-4471-8372-fdb8c5b320f3",
   "metadata": {},
   "source": [
    "# 1. 강의영상 "
   ]
  },
  {
   "cell_type": "markdown",
   "id": "49b6ec23-35a3-4406-bf44-41a16c9a8626",
   "metadata": {},
   "source": [
    "{{<video https://youtu.be/playlist?list=PLQqh36zP38-zXz97SY6e8rSowprIvDS2a&si=Y8pI1Dyw2VaYeayc >}}"
   ]
  },
  {
   "cell_type": "markdown",
   "id": "83c59449-b565-44d1-9190-190ccd11bfa5",
   "metadata": {},
   "source": [
    "# 2. Imports "
   ]
  },
  {
   "cell_type": "code",
   "execution_count": 15,
   "id": "070c4459-073e-4ba2-843b-976dd4d99ab2",
   "metadata": {},
   "outputs": [],
   "source": [
    "import numpy as np\n",
    "import pandas as pd\n",
    "import matplotlib.pyplot as plt\n",
    "import sklearn.linear_model"
   ]
  },
  {
   "cell_type": "markdown",
   "id": "4e0c980e-8261-412e-aa00-5957e76e0297",
   "metadata": {},
   "source": [
    "# 3. Data "
   ]
  },
  {
   "cell_type": "markdown",
   "id": "46fd5ca7-7971-40d0-97fc-df84320f8b26",
   "metadata": {},
   "source": [
    "`-` 전주시의 기온 불러오기 "
   ]
  },
  {
   "cell_type": "code",
   "execution_count": 16,
   "id": "e972d778-739b-417f-a6ab-7465486eaff0",
   "metadata": {},
   "outputs": [],
   "source": [
    "temp = pd.read_csv('https://raw.githubusercontent.com/guebin/DV2022/master/posts/temp.csv').iloc[:,3].to_numpy()[:100]\n",
    "temp.sort()"
   ]
  },
  {
   "cell_type": "code",
   "execution_count": 17,
   "id": "89c53a10-080e-4aab-918e-787f9ad05b4c",
   "metadata": {},
   "outputs": [
    {
     "data": {
      "text/plain": [
       "array([-4.1, -3.7, -3. , -1.3, -0.5, -0.3,  0.3,  0.4,  0.4,  0.7,  0.7,\n",
       "        0.9,  0.9,  1. ,  1.2,  1.4,  1.4,  1.5,  1.5,  2. ,  2. ,  2. ,\n",
       "        2.3,  2.5,  2.5,  2.5,  2.6,  2.6,  2.9,  3.2,  3.5,  3.5,  3.6,\n",
       "        3.7,  3.8,  4.2,  4.4,  4.5,  4.5,  4.6,  4.9,  4.9,  4.9,  5. ,\n",
       "        5. ,  5.1,  5.6,  5.9,  5.9,  6. ,  6. ,  6.1,  6.1,  6.3,  6.3,\n",
       "        6.4,  6.4,  6.5,  6.7,  6.8,  6.8,  7. ,  7. ,  7.1,  7.2,  7.4,\n",
       "        7.7,  8. ,  8.1,  8.1,  8.3,  8.4,  8.4,  8.4,  8.5,  8.8,  8.9,\n",
       "        9.1,  9.2,  9.3,  9.4,  9.4,  9.5,  9.6,  9.6,  9.7,  9.8,  9.9,\n",
       "       10.2, 10.3, 10.6, 10.6, 10.8, 11.2, 12.1, 12.4, 13.4, 14.7, 15. ,\n",
       "       15.2])"
      ]
     },
     "execution_count": 17,
     "metadata": {},
     "output_type": "execute_result"
    }
   ],
   "source": [
    "temp # 전주시의 기온, 100개"
   ]
  },
  {
   "cell_type": "markdown",
   "id": "8e2821d7-040d-4500-9a75-7d4a912025d9",
   "metadata": {},
   "source": [
    "`-` 아래와 같은 모형을 가정하자. "
   ]
  },
  {
   "cell_type": "markdown",
   "id": "8173f2ef-8a3f-40e8-8697-01109de5ff91",
   "metadata": {},
   "source": [
    "$$\\textup{아이스크림 판매량} = 20 + \\textup{온도} \\times 2.5 + \\textup{오차(운)}$$"
   ]
  },
  {
   "cell_type": "code",
   "execution_count": 18,
   "id": "5f88b358-4a42-4cfb-851d-84c716681a96",
   "metadata": {},
   "outputs": [],
   "source": [
    "np.random.seed(43052)\n",
    "eps = np.random.randn(100)*3 # 오차\n",
    "icecream_sales = 20 + temp * 2.5 + eps "
   ]
  },
  {
   "cell_type": "code",
   "execution_count": 19,
   "id": "a5048834-319d-402a-b497-bee57547c6e7",
   "metadata": {},
   "outputs": [
    {
     "data": {
      "text/plain": [
       "[<matplotlib.lines.Line2D at 0x7f7e63bd0590>]"
      ]
     },
     "execution_count": 19,
     "metadata": {},
     "output_type": "execute_result"
    },
    {
     "data": {
      "image/png": "[encoded data removed]",
      "text/plain": [
       "<Figure size 640x480 with 1 Axes>"
      ]
     },
     "metadata": {},
     "output_type": "display_data"
    }
   ],
   "source": [
    "plt.plot(temp,icecream_sales,'o')"
   ]
  },
  {
   "cell_type": "markdown",
   "id": "7b9a8041-24d6-4dcd-92be-ec4d8cf2c736",
   "metadata": {},
   "source": [
    "> 실제로 저런 모형이 맞느냐? 모름.. (실제모형은 알게뭐임? 그렇게 가정하면 된다.)"
   ]
  },
  {
   "cell_type": "markdown",
   "id": "35e84ead-d9a8-4b4a-ae3b-6520cdca00ba",
   "metadata": {},
   "source": [
    "`-` 주어진 자료: 우리는 아래를 관측했다고 생각하자. "
   ]
  },
  {
   "cell_type": "code",
   "execution_count": 20,
   "id": "0ecedd6e-680f-4c48-8243-c5b1cf16a307",
   "metadata": {},
   "outputs": [
    {
     "data": {
      "text/html": [
       "<div>\n",
       "<style scoped>\n",
       "    .dataframe tbody tr th:only-of-type {\n",
       "        vertical-align: middle;\n",
       "    }\n",
       "\n",
       "    .dataframe tbody tr th {\n",
       "        vertical-align: top;\n",
       "    }\n",
       "\n",
       "    .dataframe thead th {\n",
       "        text-align: right;\n",
       "    }\n",
       "</style>\n",
       "<table border=\"1\" class=\"dataframe\">\n",
       "  <thead>\n",
       "    <tr style=\"text-align: right;\">\n",
       "      <th></th>\n",
       "      <th>temp</th>\n",
       "      <th>sales</th>\n",
       "    </tr>\n",
       "  </thead>\n",
       "  <tbody>\n",
       "    <tr>\n",
       "      <th>0</th>\n",
       "      <td>-4.1</td>\n",
       "      <td>10.900261</td>\n",
       "    </tr>\n",
       "    <tr>\n",
       "      <th>1</th>\n",
       "      <td>-3.7</td>\n",
       "      <td>14.002524</td>\n",
       "    </tr>\n",
       "    <tr>\n",
       "      <th>2</th>\n",
       "      <td>-3.0</td>\n",
       "      <td>15.928335</td>\n",
       "    </tr>\n",
       "    <tr>\n",
       "      <th>3</th>\n",
       "      <td>-1.3</td>\n",
       "      <td>17.673681</td>\n",
       "    </tr>\n",
       "    <tr>\n",
       "      <th>4</th>\n",
       "      <td>-0.5</td>\n",
       "      <td>19.463362</td>\n",
       "    </tr>\n",
       "    <tr>\n",
       "      <th>...</th>\n",
       "      <td>...</td>\n",
       "      <td>...</td>\n",
       "    </tr>\n",
       "    <tr>\n",
       "      <th>95</th>\n",
       "      <td>12.4</td>\n",
       "      <td>54.926065</td>\n",
       "    </tr>\n",
       "    <tr>\n",
       "      <th>96</th>\n",
       "      <td>13.4</td>\n",
       "      <td>54.716129</td>\n",
       "    </tr>\n",
       "    <tr>\n",
       "      <th>97</th>\n",
       "      <td>14.7</td>\n",
       "      <td>56.194791</td>\n",
       "    </tr>\n",
       "    <tr>\n",
       "      <th>98</th>\n",
       "      <td>15.0</td>\n",
       "      <td>60.666163</td>\n",
       "    </tr>\n",
       "    <tr>\n",
       "      <th>99</th>\n",
       "      <td>15.2</td>\n",
       "      <td>61.561043</td>\n",
       "    </tr>\n",
       "  </tbody>\n",
       "</table>\n",
       "<p>100 rows × 2 columns</p>\n",
       "</div>"
      ],
      "text/plain": [
       "    temp      sales\n",
       "0   -4.1  10.900261\n",
       "1   -3.7  14.002524\n",
       "2   -3.0  15.928335\n",
       "3   -1.3  17.673681\n",
       "4   -0.5  19.463362\n",
       "..   ...        ...\n",
       "95  12.4  54.926065\n",
       "96  13.4  54.716129\n",
       "97  14.7  56.194791\n",
       "98  15.0  60.666163\n",
       "99  15.2  61.561043\n",
       "\n",
       "[100 rows x 2 columns]"
      ]
     },
     "execution_count": 20,
     "metadata": {},
     "output_type": "execute_result"
    }
   ],
   "source": [
    "df = pd.DataFrame({'temp':temp,'sales':icecream_sales})\n",
    "df"
   ]
  },
  {
   "cell_type": "markdown",
   "id": "76b2d258-cf71-4db8-9fed-e9c81de4e66d",
   "metadata": {},
   "source": [
    "# 4. 게임셋팅 "
   ]
  },
  {
   "cell_type": "markdown",
   "id": "d861a240-e44e-46b2-8f9a-189447ecda1a",
   "metadata": {},
   "source": [
    "`-` 주어진 자료는 아래와 같다. "
   ]
  },
  {
   "cell_type": "code",
   "execution_count": 21,
   "id": "b1bf0e44-5ba6-49ae-91b3-898ee1106bcf",
   "metadata": {},
   "outputs": [
    {
     "data": {
      "text/html": [
       "<div>\n",
       "<style scoped>\n",
       "    .dataframe tbody tr th:only-of-type {\n",
       "        vertical-align: middle;\n",
       "    }\n",
       "\n",
       "    .dataframe tbody tr th {\n",
       "        vertical-align: top;\n",
       "    }\n",
       "\n",
       "    .dataframe thead th {\n",
       "        text-align: right;\n",
       "    }\n",
       "</style>\n",
       "<table border=\"1\" class=\"dataframe\">\n",
       "  <thead>\n",
       "    <tr style=\"text-align: right;\">\n",
       "      <th></th>\n",
       "      <th>temp</th>\n",
       "      <th>sales</th>\n",
       "    </tr>\n",
       "  </thead>\n",
       "  <tbody>\n",
       "    <tr>\n",
       "      <th>0</th>\n",
       "      <td>-4.1</td>\n",
       "      <td>10.900261</td>\n",
       "    </tr>\n",
       "    <tr>\n",
       "      <th>1</th>\n",
       "      <td>-3.7</td>\n",
       "      <td>14.002524</td>\n",
       "    </tr>\n",
       "    <tr>\n",
       "      <th>2</th>\n",
       "      <td>-3.0</td>\n",
       "      <td>15.928335</td>\n",
       "    </tr>\n",
       "    <tr>\n",
       "      <th>3</th>\n",
       "      <td>-1.3</td>\n",
       "      <td>17.673681</td>\n",
       "    </tr>\n",
       "    <tr>\n",
       "      <th>4</th>\n",
       "      <td>-0.5</td>\n",
       "      <td>19.463362</td>\n",
       "    </tr>\n",
       "    <tr>\n",
       "      <th>...</th>\n",
       "      <td>...</td>\n",
       "      <td>...</td>\n",
       "    </tr>\n",
       "    <tr>\n",
       "      <th>95</th>\n",
       "      <td>12.4</td>\n",
       "      <td>54.926065</td>\n",
       "    </tr>\n",
       "    <tr>\n",
       "      <th>96</th>\n",
       "      <td>13.4</td>\n",
       "      <td>54.716129</td>\n",
       "    </tr>\n",
       "    <tr>\n",
       "      <th>97</th>\n",
       "      <td>14.7</td>\n",
       "      <td>56.194791</td>\n",
       "    </tr>\n",
       "    <tr>\n",
       "      <th>98</th>\n",
       "      <td>15.0</td>\n",
       "      <td>60.666163</td>\n",
       "    </tr>\n",
       "    <tr>\n",
       "      <th>99</th>\n",
       "      <td>15.2</td>\n",
       "      <td>61.561043</td>\n",
       "    </tr>\n",
       "  </tbody>\n",
       "</table>\n",
       "<p>100 rows × 2 columns</p>\n",
       "</div>"
      ],
      "text/plain": [
       "    temp      sales\n",
       "0   -4.1  10.900261\n",
       "1   -3.7  14.002524\n",
       "2   -3.0  15.928335\n",
       "3   -1.3  17.673681\n",
       "4   -0.5  19.463362\n",
       "..   ...        ...\n",
       "95  12.4  54.926065\n",
       "96  13.4  54.716129\n",
       "97  14.7  56.194791\n",
       "98  15.0  60.666163\n",
       "99  15.2  61.561043\n",
       "\n",
       "[100 rows x 2 columns]"
      ]
     },
     "execution_count": 21,
     "metadata": {},
     "output_type": "execute_result"
    }
   ],
   "source": [
    "df"
   ]
  },
  {
   "cell_type": "markdown",
   "id": "65cdbc75-698e-4217-8097-d447c1f6308f",
   "metadata": {},
   "source": [
    "`-` 편의상 아래와 같은 기호를 도입하자.\n",
    "\n",
    "- (`df.temp[0]`, `df.temp[1]`, ... , `df.temp[99]`) = $(x_1,x_2,\\dots,x_{100})=(-4.1,-3.7,\\dots,15.2)$\n",
    "- (`df.sales[0]`, `df.sales[1]`, ... , `df.sales[99]`) = $(y_1,y_2,\\dots,y_{100})=(10.90,14.00, \\dots,61.56)$"
   ]
  },
  {
   "cell_type": "markdown",
   "id": "096a1f10-6694-4ed1-b361-ef1b7a014304",
   "metadata": {},
   "source": [
    "`-` 우리는 이 자료 $\\big\\{(x_i,y_i)\\big\\}_{i=1}^{100}$ 를 바탕으로 어떠한 \"패턴\"을 발견하여 새로운 $x$에 대한 예측값을 알고 싶다. "
   ]
  },
  {
   "cell_type": "markdown",
   "id": "2cd47519-5dcf-4987-b729-0fde289cdead",
   "metadata": {},
   "source": [
    "## A. 질문"
   ]
  },
  {
   "cell_type": "markdown",
   "id": "fece770b-e9b7-4925-b90f-19ace683b472",
   "metadata": {},
   "source": [
    "`-` 질문: 기온이 $x=-2.0$ 일 때 아이스크림을 얼마정도 판다고 보는게 타당할까? "
   ]
  },
  {
   "cell_type": "markdown",
   "id": "c7464831-bc34-4985-b18b-56e4919befb2",
   "metadata": {},
   "source": [
    "## B. 답1"
   ]
  },
  {
   "cell_type": "markdown",
   "id": "0e8ef0d1-489a-4d2a-832f-21b630e678b9",
   "metadata": {},
   "source": [
    "`-` $x=-2.0$ 근처의 데이터를 살펴보자. "
   ]
  },
  {
   "cell_type": "code",
   "execution_count": 22,
   "id": "aeb5adad-3d17-4b57-8058-68e19abc0acc",
   "metadata": {},
   "outputs": [
    {
     "data": {
      "text/html": [
       "<div>\n",
       "<style scoped>\n",
       "    .dataframe tbody tr th:only-of-type {\n",
       "        vertical-align: middle;\n",
       "    }\n",
       "\n",
       "    .dataframe tbody tr th {\n",
       "        vertical-align: top;\n",
       "    }\n",
       "\n",
       "    .dataframe thead th {\n",
       "        text-align: right;\n",
       "    }\n",
       "</style>\n",
       "<table border=\"1\" class=\"dataframe\">\n",
       "  <thead>\n",
       "    <tr style=\"text-align: right;\">\n",
       "      <th></th>\n",
       "      <th>temp</th>\n",
       "      <th>sales</th>\n",
       "    </tr>\n",
       "  </thead>\n",
       "  <tbody>\n",
       "    <tr>\n",
       "      <th>3</th>\n",
       "      <td>-1.3</td>\n",
       "      <td>17.673681</td>\n",
       "    </tr>\n",
       "  </tbody>\n",
       "</table>\n",
       "</div>"
      ],
      "text/plain": [
       "   temp      sales\n",
       "3  -1.3  17.673681"
      ]
     },
     "execution_count": 22,
     "metadata": {},
     "output_type": "execute_result"
    }
   ],
   "source": [
    "df[(-3.0 < df.temp) & (df.temp < -1.0)]"
   ]
  },
  {
   "cell_type": "markdown",
   "id": "889c2728-71fa-4e55-9242-ef8550d8ae5c",
   "metadata": {},
   "source": [
    "대충 17.67 근처이지 않을까?.."
   ]
  },
  {
   "cell_type": "markdown",
   "id": "6d83bc53-2977-4fa9-9db3-36d8dc14291e",
   "metadata": {},
   "source": [
    "## C. 답2"
   ]
  },
  {
   "cell_type": "markdown",
   "id": "a8a0db96-4d72-4472-b4a4-defead92e813",
   "metadata": {},
   "source": [
    "`-` 자료를 바탕으로 그림을 그려보자. "
   ]
  },
  {
   "cell_type": "code",
   "execution_count": 23,
   "id": "d2e84aae-6d17-4dcd-8251-65e5d192ae96",
   "metadata": {},
   "outputs": [
    {
     "data": {
      "text/plain": [
       "[<matplotlib.lines.Line2D at 0x7f7e6388f2d0>]"
      ]
     },
     "execution_count": 23,
     "metadata": {},
     "output_type": "execute_result"
    },
    {
     "data": {
      "image/png": "[encoded data removed]",
      "text/plain": [
       "<Figure size 640x480 with 1 Axes>"
      ]
     },
     "metadata": {},
     "output_type": "display_data"
    }
   ],
   "source": [
    "plt.plot(df.temp,df.sales,'o')\n",
    "plt.plot([-2.0],[17.67],'x')"
   ]
  },
  {
   "cell_type": "markdown",
   "id": "4d55249b-5ed0-4bed-9bc7-0e9e4752b6ae",
   "metadata": {},
   "source": [
    "- 저거 보다 못팔 것 같은데?"
   ]
  },
  {
   "cell_type": "markdown",
   "id": "35df19f6-7d90-4ce8-8c9f-264813e0f53a",
   "metadata": {},
   "source": [
    "## D. 아이디어 "
   ]
  },
  {
   "cell_type": "markdown",
   "id": "2bd49768-ecfb-4ff0-8580-c38e52e052e7",
   "metadata": {},
   "source": [
    "`-` 선을 기가 막히게 그어서 추세선을 만들고, 그 추세선 위의 점으로 예측하자. "
   ]
  },
  {
   "cell_type": "markdown",
   "id": "c7e910cc-3f5e-43e7-b122-5863a7ebf4d7",
   "metadata": {},
   "source": [
    "`-` 속마음: 사실 추세선을 알고 있긴함 "
   ]
  },
  {
   "cell_type": "code",
   "execution_count": 24,
   "id": "f1074b95-71d1-466a-bbdd-55540c12beb5",
   "metadata": {},
   "outputs": [
    {
     "data": {
      "text/plain": [
       "[<matplotlib.lines.Line2D at 0x7f7e638cde50>]"
      ]
     },
     "execution_count": 24,
     "metadata": {},
     "output_type": "execute_result"
    },
    {
     "data": {
      "image/png": "[encoded data removed]",
      "text/plain": [
       "<Figure size 640x480 with 1 Axes>"
      ]
     },
     "metadata": {},
     "output_type": "display_data"
    }
   ],
   "source": [
    "plt.plot(df.temp,df.sales,'o')\n",
    "plt.plot(df.temp,20+df.temp*2.5,'--')"
   ]
  },
  {
   "cell_type": "markdown",
   "id": "bf8acafe-eb32-41f7-979e-e7db1051c4b3",
   "metadata": {},
   "source": [
    "`-` 사실 $y=20+2.5x$ 라는 추세선을 그으면 된다는 것을 알고 있다. "
   ]
  },
  {
   "cell_type": "markdown",
   "id": "416dfe2f-5ff6-4650-8467-2177c84f69aa",
   "metadata": {},
   "source": [
    "`-` 그래서 $x=-2$ 이라면 $y=20-2.5\\times 2=15$ 라고 보는게 합리적임. (물론 오차가 있을 수 있지만 그건 운이므로 어쩔수 없는것임, 랜덤으로 뭐가 나올지까지 맞출 수는 없음^[만약 그렇다면 랜덤이 아니겠지?]) "
   ]
  },
  {
   "cell_type": "markdown",
   "id": "2a5d4624-a860-4e63-9fcc-50e1183437b8",
   "metadata": {},
   "source": [
    "`-` 그렇지만 우리는 사실 $20, 2.5$ 라는 숫자를 모른다. (이 숫자만 안다면 임의의 $x$에 대한 $y$값을 알 수 있을 텐데...)"
   ]
  },
  {
   "cell_type": "markdown",
   "id": "ead9b86e-a573-4a86-9365-13c17c8e7cc8",
   "metadata": {},
   "source": [
    "`-` 게임셋팅 \n",
    "\n",
    "- 원래게임: 임의의 $x$에 대하여 합리적인 $y$를 잘 찾는 게임 \n",
    "- 변형된게임: $20,2.5$ 라는 숫자를 잘 찾는 게임, 즉 데이터를 보고 최대한 $y_i \\approx ax_i+b$ 이 되도록 $a,b$를 잘 선택하는 게임 "
   ]
  },
  {
   "cell_type": "markdown",
   "id": "a83bbaee-b2d7-4888-9318-9b111cb2f8ae",
   "metadata": {},
   "source": [
    "# 5. 분석"
   ]
  },
  {
   "cell_type": "markdown",
   "id": "6fb0a1fa-b6e5-4d62-b48e-8db54369d105",
   "metadata": {},
   "source": [
    "## A. 데이터 "
   ]
  },
  {
   "cell_type": "markdown",
   "id": "e7cd5e75-edac-4a6a-9b94-57d8017f30e5",
   "metadata": {},
   "source": [
    "`-` 변수 설정 "
   ]
  },
  {
   "cell_type": "code",
   "execution_count": 28,
   "id": "2db86951-040c-40b3-bcc0-9bc6ae3a971f",
   "metadata": {},
   "outputs": [],
   "source": [
    "X = df[['temp']] # 독립변수, 설명변수, 피쳐\n",
    "y = df[['sales']] # 종속변수, 반응변수, 타겟 "
   ]
  },
  {
   "cell_type": "code",
   "execution_count": 29,
   "id": "2ee009bc-977b-473d-8a80-4c35c31c3143",
   "metadata": {},
   "outputs": [
    {
     "data": {
      "text/plain": [
       "[<matplotlib.lines.Line2D at 0x7f7e6382d510>]"
      ]
     },
     "execution_count": 29,
     "metadata": {},
     "output_type": "execute_result"
    },
    {
     "data": {
      "image/png": "[encoded data removed]",
      "text/plain": [
       "<Figure size 640x480 with 1 Axes>"
      ]
     },
     "metadata": {},
     "output_type": "display_data"
    }
   ],
   "source": [
    "plt.plot(X,y,'o')"
   ]
  },
  {
   "cell_type": "markdown",
   "id": "c54339d7-d143-404e-a603-8d09aa3f0b44",
   "metadata": {},
   "source": [
    "`-` 질문: 기온이 $x=-2.0$ 일 때 아이스크림을 얼마정도 판다고 보는게 타당할까? "
   ]
  },
  {
   "cell_type": "code",
   "execution_count": 31,
   "id": "78e043c1-173a-47a5-afb3-56a43bee8d4a",
   "metadata": {},
   "outputs": [
    {
     "data": {
      "text/html": [
       "<div>\n",
       "<style scoped>\n",
       "    .dataframe tbody tr th:only-of-type {\n",
       "        vertical-align: middle;\n",
       "    }\n",
       "\n",
       "    .dataframe tbody tr th {\n",
       "        vertical-align: top;\n",
       "    }\n",
       "\n",
       "    .dataframe thead th {\n",
       "        text-align: right;\n",
       "    }\n",
       "</style>\n",
       "<table border=\"1\" class=\"dataframe\">\n",
       "  <thead>\n",
       "    <tr style=\"text-align: right;\">\n",
       "      <th></th>\n",
       "      <th>temp</th>\n",
       "      <th>sales</th>\n",
       "    </tr>\n",
       "  </thead>\n",
       "  <tbody>\n",
       "    <tr>\n",
       "      <th>3</th>\n",
       "      <td>-1.3</td>\n",
       "      <td>17.673681</td>\n",
       "    </tr>\n",
       "  </tbody>\n",
       "</table>\n",
       "</div>"
      ],
      "text/plain": [
       "   temp      sales\n",
       "3  -1.3  17.673681"
      ]
     },
     "execution_count": 31,
     "metadata": {},
     "output_type": "execute_result"
    }
   ],
   "source": [
    "df[(-3.0 < df.temp) & (df.temp < -1.0)]"
   ]
  },
  {
   "cell_type": "markdown",
   "id": "c9a0c761-22e2-4e18-93c9-241e0092fd7b",
   "metadata": {},
   "source": [
    "`-` 답1: 대충 17.67 근처이지 않을까?.. "
   ]
  },
  {
   "cell_type": "markdown",
   "id": "e939d88c-258b-4211-909a-0dc094f520f8",
   "metadata": {},
   "source": [
    "`-` 답2: 17.67 보다 작지 않을까? "
   ]
  },
  {
   "cell_type": "markdown",
   "id": "7ba8aef7-d5f2-479d-9b44-76aa41326284",
   "metadata": {},
   "source": [
    "`-` 아이디어: 추세선을 그리고 거기서 예측해보면 어떨까? "
   ]
  },
  {
   "cell_type": "markdown",
   "id": "1f80d6d1-34b7-498b-9487-65397d12a186",
   "metadata": {},
   "source": [
    "`-` 데이터를 학습하여 추세선을 적절히 그릴 수 있고, 그려진 추세선으로 예측까지 해줄수 있는 아이(predictor)를 만들자."
   ]
  },
  {
   "cell_type": "markdown",
   "id": "a27a29e7-b5f3-4469-ae30-edb77b58f2dc",
   "metadata": {},
   "source": [
    "## B. Predictor 생성 "
   ]
  },
  {
   "cell_type": "code",
   "execution_count": 32,
   "id": "cd5b823f-9387-49ef-aac0-869e80292e9c",
   "metadata": {},
   "outputs": [
    {
     "data": {
      "text/html": [
       "<style>#sk-container-id-1 {color: black;}#sk-container-id-1 pre{padding: 0;}#sk-container-id-1 div.sk-toggleable {background-color: white;}#sk-container-id-1 label.sk-toggleable__label {cursor: pointer;display: block;width: 100%;margin-bottom: 0;padding: 0.3em;box-sizing: border-box;text-align: center;}#sk-container-id-1 label.sk-toggleable__label-arrow:before {content: \"▸\";float: left;margin-right: 0.25em;color: #696969;}#sk-container-id-1 label.sk-toggleable__label-arrow:hover:before {color: black;}#sk-container-id-1 div.sk-estimator:hover label.sk-toggleable__label-arrow:before {color: black;}#sk-container-id-1 div.sk-toggleable__content {max-height: 0;max-width: 0;overflow: hidden;text-align: left;background-color: #f0f8ff;}#sk-container-id-1 div.sk-toggleable__content pre {margin: 0.2em;color: black;border-radius: 0.25em;background-color: #f0f8ff;}#sk-container-id-1 input.sk-toggleable__control:checked~div.sk-toggleable__content {max-height: 200px;max-width: 100%;overflow: auto;}#sk-container-id-1 input.sk-toggleable__control:checked~label.sk-toggleable__label-arrow:before {content: \"▾\";}#sk-container-id-1 div.sk-estimator input.sk-toggleable__control:checked~label.sk-toggleable__label {background-color: #d4ebff;}#sk-container-id-1 div.sk-label input.sk-toggleable__control:checked~label.sk-toggleable__label {background-color: #d4ebff;}#sk-container-id-1 input.sk-hidden--visually {border: 0;clip: rect(1px 1px 1px 1px);clip: rect(1px, 1px, 1px, 1px);height: 1px;margin: -1px;overflow: hidden;padding: 0;position: absolute;width: 1px;}#sk-container-id-1 div.sk-estimator {font-family: monospace;background-color: #f0f8ff;border: 1px dotted black;border-radius: 0.25em;box-sizing: border-box;margin-bottom: 0.5em;}#sk-container-id-1 div.sk-estimator:hover {background-color: #d4ebff;}#sk-container-id-1 div.sk-parallel-item::after {content: \"\";width: 100%;border-bottom: 1px solid gray;flex-grow: 1;}#sk-container-id-1 div.sk-label:hover label.sk-toggleable__label {background-color: #d4ebff;}#sk-container-id-1 div.sk-serial::before {content: \"\";position: absolute;border-left: 1px solid gray;box-sizing: border-box;top: 0;bottom: 0;left: 50%;z-index: 0;}#sk-container-id-1 div.sk-serial {display: flex;flex-direction: column;align-items: center;background-color: white;padding-right: 0.2em;padding-left: 0.2em;position: relative;}#sk-container-id-1 div.sk-item {position: relative;z-index: 1;}#sk-container-id-1 div.sk-parallel {display: flex;align-items: stretch;justify-content: center;background-color: white;position: relative;}#sk-container-id-1 div.sk-item::before, #sk-container-id-1 div.sk-parallel-item::before {content: \"\";position: absolute;border-left: 1px solid gray;box-sizing: border-box;top: 0;bottom: 0;left: 50%;z-index: -1;}#sk-container-id-1 div.sk-parallel-item {display: flex;flex-direction: column;z-index: 1;position: relative;background-color: white;}#sk-container-id-1 div.sk-parallel-item:first-child::after {align-self: flex-end;width: 50%;}#sk-container-id-1 div.sk-parallel-item:last-child::after {align-self: flex-start;width: 50%;}#sk-container-id-1 div.sk-parallel-item:only-child::after {width: 0;}#sk-container-id-1 div.sk-dashed-wrapped {border: 1px dashed gray;margin: 0 0.4em 0.5em 0.4em;box-sizing: border-box;padding-bottom: 0.4em;background-color: white;}#sk-container-id-1 div.sk-label label {font-family: monospace;font-weight: bold;display: inline-block;line-height: 1.2em;}#sk-container-id-1 div.sk-label-container {text-align: center;}#sk-container-id-1 div.sk-container {/* jupyter's `normalize.less` sets `[hidden] { display: none; }` but bootstrap.min.css set `[hidden] { display: none !important; }` so we also need the `!important` here to be able to override the default hidden behavior on the sphinx rendered scikit-learn.org. See: https://github.com/scikit-learn/scikit-learn/issues/21755 */display: inline-block !important;position: relative;}#sk-container-id-1 div.sk-text-repr-fallback {display: none;}</style><div id=\"sk-container-id-1\" class=\"sk-top-container\"><div class=\"sk-text-repr-fallback\"><pre>LinearRegression()</pre><b>In a Jupyter environment, please rerun this cell to show the HTML representation or trust the notebook. <br />On GitHub, the HTML representation is unable to render, please try loading this page with nbviewer.org.</b></div><div class=\"sk-container\" hidden><div class=\"sk-item\"><div class=\"sk-estimator sk-toggleable\"><input class=\"sk-toggleable__control sk-hidden--visually\" id=\"sk-estimator-id-1\" type=\"checkbox\" checked><label for=\"sk-estimator-id-1\" class=\"sk-toggleable__label sk-toggleable__label-arrow\">LinearRegression</label><div class=\"sk-toggleable__content\"><pre>LinearRegression()</pre></div></div></div></div></div>"
      ],
      "text/plain": [
       "LinearRegression()"
      ]
     },
     "execution_count": 32,
     "metadata": {},
     "output_type": "execute_result"
    }
   ],
   "source": [
    "predictr = sklearn.linear_model.LinearRegression() \n",
    "predictr "
   ]
  },
  {
   "cell_type": "markdown",
   "id": "19580b61-1965-419c-aeca-eac45f9cb44e",
   "metadata": {},
   "source": [
    "- linear regression 이라는 방법으로 추세선을 만들고 예측하는 아이(predictor)를 만드는 코드"
   ]
  },
  {
   "cell_type": "markdown",
   "id": "4fda8a49-3b1c-48b5-b699-f4c6d25b4470",
   "metadata": {},
   "source": [
    "## C. 학습 (fit, learn)"
   ]
  },
  {
   "cell_type": "code",
   "execution_count": 33,
   "id": "f57be0b0-fb06-4314-bfff-4610586408fb",
   "metadata": {},
   "outputs": [
    {
     "data": {
      "text/html": [
       "<style>#sk-container-id-2 {color: black;}#sk-container-id-2 pre{padding: 0;}#sk-container-id-2 div.sk-toggleable {background-color: white;}#sk-container-id-2 label.sk-toggleable__label {cursor: pointer;display: block;width: 100%;margin-bottom: 0;padding: 0.3em;box-sizing: border-box;text-align: center;}#sk-container-id-2 label.sk-toggleable__label-arrow:before {content: \"▸\";float: left;margin-right: 0.25em;color: #696969;}#sk-container-id-2 label.sk-toggleable__label-arrow:hover:before {color: black;}#sk-container-id-2 div.sk-estimator:hover label.sk-toggleable__label-arrow:before {color: black;}#sk-container-id-2 div.sk-toggleable__content {max-height: 0;max-width: 0;overflow: hidden;text-align: left;background-color: #f0f8ff;}#sk-container-id-2 div.sk-toggleable__content pre {margin: 0.2em;color: black;border-radius: 0.25em;background-color: #f0f8ff;}#sk-container-id-2 input.sk-toggleable__control:checked~div.sk-toggleable__content {max-height: 200px;max-width: 100%;overflow: auto;}#sk-container-id-2 input.sk-toggleable__control:checked~label.sk-toggleable__label-arrow:before {content: \"▾\";}#sk-container-id-2 div.sk-estimator input.sk-toggleable__control:checked~label.sk-toggleable__label {background-color: #d4ebff;}#sk-container-id-2 div.sk-label input.sk-toggleable__control:checked~label.sk-toggleable__label {background-color: #d4ebff;}#sk-container-id-2 input.sk-hidden--visually {border: 0;clip: rect(1px 1px 1px 1px);clip: rect(1px, 1px, 1px, 1px);height: 1px;margin: -1px;overflow: hidden;padding: 0;position: absolute;width: 1px;}#sk-container-id-2 div.sk-estimator {font-family: monospace;background-color: #f0f8ff;border: 1px dotted black;border-radius: 0.25em;box-sizing: border-box;margin-bottom: 0.5em;}#sk-container-id-2 div.sk-estimator:hover {background-color: #d4ebff;}#sk-container-id-2 div.sk-parallel-item::after {content: \"\";width: 100%;border-bottom: 1px solid gray;flex-grow: 1;}#sk-container-id-2 div.sk-label:hover label.sk-toggleable__label {background-color: #d4ebff;}#sk-container-id-2 div.sk-serial::before {content: \"\";position: absolute;border-left: 1px solid gray;box-sizing: border-box;top: 0;bottom: 0;left: 50%;z-index: 0;}#sk-container-id-2 div.sk-serial {display: flex;flex-direction: column;align-items: center;background-color: white;padding-right: 0.2em;padding-left: 0.2em;position: relative;}#sk-container-id-2 div.sk-item {position: relative;z-index: 1;}#sk-container-id-2 div.sk-parallel {display: flex;align-items: stretch;justify-content: center;background-color: white;position: relative;}#sk-container-id-2 div.sk-item::before, #sk-container-id-2 div.sk-parallel-item::before {content: \"\";position: absolute;border-left: 1px solid gray;box-sizing: border-box;top: 0;bottom: 0;left: 50%;z-index: -1;}#sk-container-id-2 div.sk-parallel-item {display: flex;flex-direction: column;z-index: 1;position: relative;background-color: white;}#sk-container-id-2 div.sk-parallel-item:first-child::after {align-self: flex-end;width: 50%;}#sk-container-id-2 div.sk-parallel-item:last-child::after {align-self: flex-start;width: 50%;}#sk-container-id-2 div.sk-parallel-item:only-child::after {width: 0;}#sk-container-id-2 div.sk-dashed-wrapped {border: 1px dashed gray;margin: 0 0.4em 0.5em 0.4em;box-sizing: border-box;padding-bottom: 0.4em;background-color: white;}#sk-container-id-2 div.sk-label label {font-family: monospace;font-weight: bold;display: inline-block;line-height: 1.2em;}#sk-container-id-2 div.sk-label-container {text-align: center;}#sk-container-id-2 div.sk-container {/* jupyter's `normalize.less` sets `[hidden] { display: none; }` but bootstrap.min.css set `[hidden] { display: none !important; }` so we also need the `!important` here to be able to override the default hidden behavior on the sphinx rendered scikit-learn.org. See: https://github.com/scikit-learn/scikit-learn/issues/21755 */display: inline-block !important;position: relative;}#sk-container-id-2 div.sk-text-repr-fallback {display: none;}</style><div id=\"sk-container-id-2\" class=\"sk-top-container\"><div class=\"sk-text-repr-fallback\"><pre>LinearRegression()</pre><b>In a Jupyter environment, please rerun this cell to show the HTML representation or trust the notebook. <br />On GitHub, the HTML representation is unable to render, please try loading this page with nbviewer.org.</b></div><div class=\"sk-container\" hidden><div class=\"sk-item\"><div class=\"sk-estimator sk-toggleable\"><input class=\"sk-toggleable__control sk-hidden--visually\" id=\"sk-estimator-id-2\" type=\"checkbox\" checked><label for=\"sk-estimator-id-2\" class=\"sk-toggleable__label sk-toggleable__label-arrow\">LinearRegression</label><div class=\"sk-toggleable__content\"><pre>LinearRegression()</pre></div></div></div></div></div>"
      ],
      "text/plain": [
       "LinearRegression()"
      ]
     },
     "execution_count": 33,
     "metadata": {},
     "output_type": "execute_result"
    }
   ],
   "source": [
    "predictr.fit(X,y)"
   ]
  },
  {
   "cell_type": "markdown",
   "id": "f2efbb5b-6fcb-42a8-93fd-9937ee55da3f",
   "metadata": {},
   "source": [
    "## D. 예측 (predict)"
   ]
  },
  {
   "cell_type": "markdown",
   "id": "68369407-cfa6-4788-bb1a-1a8c907650f6",
   "metadata": {},
   "source": [
    "`-` Predictor: 데이터를 살펴보니 원래 true는 이럴것 같아요"
   ]
  },
  {
   "cell_type": "code",
   "execution_count": 34,
   "id": "7bfc77e2-2061-405c-92b6-69bcd309ddc1",
   "metadata": {},
   "outputs": [],
   "source": [
    "yhat = predictr.predict(X)"
   ]
  },
  {
   "cell_type": "code",
   "execution_count": 35,
   "id": "3433b0f2-b5cf-493c-bbdc-d0eb73fb368a",
   "metadata": {},
   "outputs": [
    {
     "data": {
      "text/plain": [
       "[<matplotlib.lines.Line2D at 0x7f7e636b27d0>]"
      ]
     },
     "execution_count": 35,
     "metadata": {},
     "output_type": "execute_result"
    },
    {
     "data": {
      "image/png": "[encoded data removed]",
      "text/plain": [
       "<Figure size 640x480 with 1 Axes>"
      ]
     },
     "metadata": {},
     "output_type": "display_data"
    }
   ],
   "source": [
    "plt.plot(X,y,'o',alpha=0.5)\n",
    "plt.plot(X,yhat, 'o--',alpha=0.5)"
   ]
  },
  {
   "cell_type": "markdown",
   "id": "0814c6b3-db6c-4555-9c39-2d230491d9ab",
   "metadata": {},
   "source": [
    "`-` 최규빈: 저런 추세선을 그었다면, $y=ax+b$ 꼴의 식에서 $a$, $b$를 적당한 값으로 찾았다는 의미인데, 그 값은 어디있지? "
   ]
  },
  {
   "cell_type": "markdown",
   "id": "c22a4c26-712f-4c65-a275-0a0596f5163a",
   "metadata": {},
   "source": [
    "`-` Predictor: 아래에 있어요 "
   ]
  },
  {
   "cell_type": "code",
   "execution_count": 36,
   "id": "08e9a4c2-8404-4207-8d1c-5d9ba7d84716",
   "metadata": {},
   "outputs": [],
   "source": [
    "a = predictr.coef_,\n",
    "b = predictr.intercept_"
   ]
  },
  {
   "cell_type": "code",
   "execution_count": 37,
   "id": "cfc0eab4-bbd5-46a5-ad23-c056a44a9de6",
   "metadata": {},
   "outputs": [
    {
     "data": {
      "text/plain": [
       "((array([[2.51561216]]),), array([19.66713127]))"
      ]
     },
     "execution_count": 37,
     "metadata": {},
     "output_type": "execute_result"
    }
   ],
   "source": [
    "a,b"
   ]
  },
  {
   "cell_type": "markdown",
   "id": "894d910c-79f3-4394-b46f-fcfd8ca12c92",
   "metadata": {},
   "source": [
    "`-` 최규빈: 확인해보자.."
   ]
  },
  {
   "cell_type": "code",
   "execution_count": 39,
   "id": "254520a2-25c2-4374-93cd-6f91231d33b7",
   "metadata": {},
   "outputs": [
    {
     "data": {
      "text/plain": [
       "(0     9.353121\n",
       " 1    10.359366\n",
       " 2    12.120295\n",
       " 3    16.396835\n",
       " 4    18.409325\n",
       " Name: temp, dtype: float64,\n",
       " array([[ 9.35312141],\n",
       "        [10.35936628],\n",
       "        [12.12029479],\n",
       "        [16.39683546],\n",
       "        [18.40932519]]))"
      ]
     },
     "execution_count": 39,
     "metadata": {},
     "output_type": "execute_result"
    }
   ],
   "source": [
    "(df.temp * 2.51561216 + 19.66713127)[:5], yhat[:5]"
   ]
  },
  {
   "cell_type": "markdown",
   "id": "708489b9-8ed0-4f29-9a11-a40efdfb28b4",
   "metadata": {},
   "source": [
    "`-` 새로운 데이터 $x=-2$ 에 대한 예측 (1) -- 수식위주로"
   ]
  },
  {
   "cell_type": "code",
   "execution_count": 40,
   "id": "eee59833-cc97-4fd1-99b6-79cca720a67a",
   "metadata": {},
   "outputs": [
    {
     "data": {
      "text/plain": [
       "14.635906949999999"
      ]
     },
     "execution_count": 40,
     "metadata": {},
     "output_type": "execute_result"
    }
   ],
   "source": [
    "2.51561216*(-2) + 19.66713127"
   ]
  },
  {
   "cell_type": "code",
   "execution_count": 42,
   "id": "65ab5173-e47a-4e0d-a790-7add0a11027f",
   "metadata": {},
   "outputs": [
    {
     "data": {
      "text/plain": [
       "[<matplotlib.lines.Line2D at 0x7f7e63589010>]"
      ]
     },
     "execution_count": 42,
     "metadata": {},
     "output_type": "execute_result"
    },
    {
     "data": {
      "image/png": "[encoded data removed]",
      "text/plain": [
       "<Figure size 640x480 with 1 Axes>"
      ]
     },
     "metadata": {},
     "output_type": "display_data"
    }
   ],
   "source": [
    "plt.plot(X,y,'o',alpha=0.5)\n",
    "plt.plot(X,yhat,'--',alpha=0.5)\n",
    "plt.plot([-2],[14.635906949999999],'xr')"
   ]
  },
  {
   "cell_type": "markdown",
   "id": "e0a8ea7a-6bcd-4f53-96db-b274d02e45b1",
   "metadata": {},
   "source": [
    "`-` 새로운 데이터 $x=-2$ 에 대한 예측 (2) -- 코드위주로 ($\\star$)"
   ]
  },
  {
   "cell_type": "code",
   "execution_count": 43,
   "id": "3887c058-d300-4742-8b6c-b757bf248c91",
   "metadata": {},
   "outputs": [],
   "source": [
    "Xnew = pd.DataFrame({'temp':[-2.0]})"
   ]
  },
  {
   "cell_type": "code",
   "execution_count": 44,
   "id": "73b2c1bc-9ddd-4f35-aa18-31d7217935db",
   "metadata": {},
   "outputs": [
    {
     "data": {
      "text/plain": [
       "array([[14.63590695]])"
      ]
     },
     "execution_count": 44,
     "metadata": {},
     "output_type": "execute_result"
    }
   ],
   "source": [
    "predictr.predict(Xnew)"
   ]
  },
  {
   "cell_type": "code",
   "execution_count": 46,
   "id": "1c4aebb0-9914-428f-af50-81b410da31dd",
   "metadata": {},
   "outputs": [
    {
     "data": {
      "text/plain": [
       "[<matplotlib.lines.Line2D at 0x7f7e634b3ed0>]"
      ]
     },
     "execution_count": 46,
     "metadata": {},
     "output_type": "execute_result"
    },
    {
     "data": {
      "image/png": "[encoded data removed]",
      "text/plain": [
       "<Figure size 640x480 with 1 Axes>"
      ]
     },
     "metadata": {},
     "output_type": "display_data"
    }
   ],
   "source": [
    "plt.plot(X,y,'o',alpha=0.5)\n",
    "plt.plot(X,yhat,'--',alpha=0.5)\n",
    "plt.plot(Xnew, predictr.predict(Xnew),'xr')"
   ]
  }
 ],
 "metadata": {
  "kernelspec": {
   "display_name": "Python 3 (ipykernel)",
   "language": "python",
   "name": "python3"
  },
  "language_info": {
   "codemirror_mode": {
    "name": "ipython",
    "version": 3
   },
   "file_extension": ".py",
   "mimetype": "text/x-python",
   "name": "python",
   "nbconvert_exporter": "python",
   "pygments_lexer": "ipython3",
   "version": "3.11.4"
  }
 },
 "nbformat": 4,
 "nbformat_minor": 5
}
