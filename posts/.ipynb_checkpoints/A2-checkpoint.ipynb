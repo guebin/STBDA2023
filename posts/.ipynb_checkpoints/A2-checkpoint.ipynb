{
 "cells": [
  {
   "cell_type": "raw",
   "id": "89a4ddbf-fe5d-440f-9ef4-595365cf19ba",
   "metadata": {},
   "source": [
    "---\n",
    "title: \"0wk-A2: 코드스페이스, 리눅스명령어, kaggle.json\"\n",
    "author: \"최규빈\"\n",
    "date: \"10/10/2023\"\n",
    "---"
   ]
  },
  {
   "cell_type": "markdown",
   "id": "eff6bb9e-2704-4a9f-9207-8c51863e169d",
   "metadata": {},
   "source": [
    "# 1. 코드스페이스"
   ]
  },
  {
   "cell_type": "markdown",
   "id": "20726cf0-0a2f-45e1-8421-b78d2ee03e13",
   "metadata": {},
   "source": [
    "`-` 장점: \n",
    "\n",
    "- 슈퍼장점: 자동으로 깃헙연결 되어있음 (요즘 깃헙쓰기 짜증나서 이게 장점임)\n",
    "- 로칼컴퓨터대비 장점: 내 컴퓨터 깨끗하게 쓸 수 있음 + 내 맘대로 무한 리눅스서버 사용가능 \n",
    "- 코랩/kaggle 대비 장점: 한번 정리된 셋팅이 영구적으로 적용됨. (autogluon 맨날 안깔아도 된다)"
   ]
  },
  {
   "cell_type": "markdown",
   "id": "650f9ad9-b29e-4629-af83-336b1f21a5fb",
   "metadata": {},
   "source": [
    "`-` 단점: \n",
    "\n",
    "- 컴터가 별로임, 사용시간 제한있음 (월 100시간?)\n",
    "- 단점을 극복하려면 결재해야함 "
   ]
  },
  {
   "cell_type": "markdown",
   "id": "9bfc016d-7802-41ed-8401-69f70d31e19d",
   "metadata": {},
   "source": [
    "`-` 초기설정: 복붙설정하기, 주피터 extension 설치 "
   ]
  },
  {
   "cell_type": "markdown",
   "id": "2efe14b7-5c9d-46a1-aacd-5a4ef2fb3dd2",
   "metadata": {},
   "source": [
    "# 2. kaggle.json"
   ]
  },
  {
   "cell_type": "markdown",
   "id": "4f0beef0-a3a3-4081-92b7-555622b23c67",
   "metadata": {},
   "source": [
    "# 3. 간단한 리눅스 명령어"
   ]
  },
  {
   "cell_type": "markdown",
   "id": "90619f51-9e05-495a-bb80-28d38af1a4f7",
   "metadata": {},
   "source": [
    "`-` 이동: `ls`, `cd`\n",
    "\n",
    "`-` 폴더생성 및 삭제: `mkdir`, `rm -rf`\n",
    "\n",
    "`-` 복붙: `cp`/`mv` \n",
    "\n",
    "`-` zip압출풀기: `unzip`"
   ]
  },
  {
   "cell_type": "markdown",
   "id": "73f75f87-f25b-4b85-9daa-d61107981cd2",
   "metadata": {},
   "source": [
    "> 리눅스에 익숙해지면 코랩, 캐글등을 쉽게 사용할 수 있다. "
   ]
  },
  {
   "cell_type": "markdown",
   "id": "f57f07fa-7800-43fa-8a89-1174bfc9816d",
   "metadata": {},
   "source": [
    "> 코랩 혹은 캐글에서 사용하지 않더라도, 코랩 혹은 캐글에서 사용하는 코드를 쉽게 해석할 수 있다. "
   ]
  },
  {
   "cell_type": "markdown",
   "id": "19ec4069-0beb-4e2f-8dc4-bd6264b5facb",
   "metadata": {},
   "source": [
    "# 4. 타이타닉 데이터 불러오기 "
   ]
  }
 ],
 "metadata": {
  "kernelspec": {
   "display_name": "Python 3 (ipykernel)",
   "language": "python",
   "name": "python3"
  },
  "language_info": {
   "codemirror_mode": {
    "name": "ipython",
    "version": 3
   },
   "file_extension": ".py",
   "mimetype": "text/x-python",
   "name": "python",
   "nbconvert_exporter": "python",
   "pygments_lexer": "ipython3",
   "version": "3.10.13"
  }
 },
 "nbformat": 4,
 "nbformat_minor": 5
}
