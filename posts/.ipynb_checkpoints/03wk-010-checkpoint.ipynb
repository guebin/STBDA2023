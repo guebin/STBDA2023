{
 "cells": [
  {
   "cell_type": "raw",
   "id": "10226c42-3337-4bfd-b1c1-e776afe7e144",
   "metadata": {},
   "source": [
    "---\n",
    "title: \"03wk-010: 아이스크림(범주) / 회귀분석 -- 추가해설\"\n",
    "author: \"최규빈\"\n",
    "date: \"09/21/2023\"\n",
    "bibliography: ref.bib\n",
    "---"
   ]
  },
  {
   "cell_type": "markdown",
   "id": "bc7f210b-5769-4471-8372-fdb8c5b320f3",
   "metadata": {},
   "source": [
    "# 1. 강의영상 "
   ]
  },
  {
   "cell_type": "markdown",
   "id": "84b37fa7-f9c3-4a5b-b07e-afc40f624310",
   "metadata": {},
   "source": [
    "{{<video https://youtu.be/playlist?list=PLQqh36zP38-yMATKoY2e3Ltd85lyvT-Ht&si=8Ke2fNuWswEvFReG >}}"
   ]
  },
  {
   "cell_type": "markdown",
   "id": "83c59449-b565-44d1-9190-190ccd11bfa5",
   "metadata": {},
   "source": [
    "# 2. Imports "
   ]
  },
  {
   "cell_type": "code",
   "execution_count": 4,
   "id": "070c4459-073e-4ba2-843b-976dd4d99ab2",
   "metadata": {},
   "outputs": [],
   "source": [
    "import numpy as np\n",
    "import pandas as pd\n",
    "import matplotlib.pyplot as plt\n",
    "import sklearn.linear_model"
   ]
  },
  {
   "cell_type": "markdown",
   "id": "4e0c980e-8261-412e-aa00-5957e76e0297",
   "metadata": {},
   "source": [
    "# 3. Data "
   ]
  },
  {
   "cell_type": "markdown",
   "id": "46fd5ca7-7971-40d0-97fc-df84320f8b26",
   "metadata": {},
   "source": [
    "`-` 전주시의 기온 불러오기 "
   ]
  },
  {
   "cell_type": "code",
   "execution_count": 5,
   "id": "e972d778-739b-417f-a6ab-7465486eaff0",
   "metadata": {},
   "outputs": [],
   "source": [
    "temp = pd.read_csv('https://raw.githubusercontent.com/guebin/DV2022/master/posts/temp.csv').iloc[:,3].to_numpy()[:100]\n",
    "temp.sort()"
   ]
  },
  {
   "cell_type": "code",
   "execution_count": 6,
   "id": "89c53a10-080e-4aab-918e-787f9ad05b4c",
   "metadata": {},
   "outputs": [
    {
     "data": {
      "text/plain": [
       "array([-4.1, -3.7, -3. , -1.3, -0.5, -0.3,  0.3,  0.4,  0.4,  0.7,  0.7,\n",
       "        0.9,  0.9,  1. ,  1.2,  1.4,  1.4,  1.5,  1.5,  2. ,  2. ,  2. ,\n",
       "        2.3,  2.5,  2.5,  2.5,  2.6,  2.6,  2.9,  3.2,  3.5,  3.5,  3.6,\n",
       "        3.7,  3.8,  4.2,  4.4,  4.5,  4.5,  4.6,  4.9,  4.9,  4.9,  5. ,\n",
       "        5. ,  5.1,  5.6,  5.9,  5.9,  6. ,  6. ,  6.1,  6.1,  6.3,  6.3,\n",
       "        6.4,  6.4,  6.5,  6.7,  6.8,  6.8,  7. ,  7. ,  7.1,  7.2,  7.4,\n",
       "        7.7,  8. ,  8.1,  8.1,  8.3,  8.4,  8.4,  8.4,  8.5,  8.8,  8.9,\n",
       "        9.1,  9.2,  9.3,  9.4,  9.4,  9.5,  9.6,  9.6,  9.7,  9.8,  9.9,\n",
       "       10.2, 10.3, 10.6, 10.6, 10.8, 11.2, 12.1, 12.4, 13.4, 14.7, 15. ,\n",
       "       15.2])"
      ]
     },
     "execution_count": 6,
     "metadata": {},
     "output_type": "execute_result"
    }
   ],
   "source": [
    "temp # 전주시의 기온, 100개"
   ]
  },
  {
   "cell_type": "markdown",
   "id": "8e2821d7-040d-4500-9a75-7d4a912025d9",
   "metadata": {},
   "source": [
    "`-` 아래와 같은 모형을 가정하자. "
   ]
  },
  {
   "cell_type": "markdown",
   "id": "8173f2ef-8a3f-40e8-8697-01109de5ff91",
   "metadata": {},
   "source": [
    "$$\\textup{초코 아이스크림 판매량} = 20 + \\textup{온도} \\times 2.5 + \\textup{오차(운)}$$"
   ]
  },
  {
   "cell_type": "markdown",
   "id": "3e62f6e3-fbf0-428d-9ff6-ce2ab5729ec7",
   "metadata": {},
   "source": [
    "$$\\textup{바닐라 아이스크림 판매량} = 40 + \\textup{온도} \\times 2.5 + \\textup{오차(운)}$$"
   ]
  },
  {
   "cell_type": "markdown",
   "id": "e0af05a4-6e7f-4285-bef6-636724c6496a",
   "metadata": {},
   "source": [
    "> 의미: (1) 온도가 1 올라가면 판매량이 2.5정도 오른다. (2) 동일 온도라면, 바닐라아이스크림은 초코아이스크림보다 20만큼 잘팔린다. "
   ]
  },
  {
   "cell_type": "code",
   "execution_count": 7,
   "id": "5f88b358-4a42-4cfb-851d-84c716681a96",
   "metadata": {},
   "outputs": [],
   "source": [
    "np.random.seed(43052)\n",
    "choco = 20 + temp * 2.5 + np.random.randn(100)*3\n",
    "vanilla = 40 + temp * 2.5 + np.random.randn(100)*3"
   ]
  },
  {
   "cell_type": "code",
   "execution_count": 8,
   "id": "a5048834-319d-402a-b497-bee57547c6e7",
   "metadata": {},
   "outputs": [
    {
     "data": {
      "text/plain": [
       "<matplotlib.legend.Legend at 0x7fef15b1dc00>"
      ]
     },
     "execution_count": 8,
     "metadata": {},
     "output_type": "execute_result"
    },
    {
     "data": {
      "image/png": "[encoded data removed]",
      "text/plain": [
       "<Figure size 640x480 with 1 Axes>"
      ]
     },
     "metadata": {},
     "output_type": "display_data"
    }
   ],
   "source": [
    "plt.plot(temp,choco,'o',label='choco')\n",
    "plt.plot(temp,vanilla,'o',label='vanilla')\n",
    "plt.legend()"
   ]
  },
  {
   "cell_type": "markdown",
   "id": "35e84ead-d9a8-4b4a-ae3b-6520cdca00ba",
   "metadata": {},
   "source": [
    "`-` 주어진 자료: 우리는 아래를 관측했다고 생각하자. "
   ]
  },
  {
   "cell_type": "code",
   "execution_count": 9,
   "id": "0ecedd6e-680f-4c48-8243-c5b1cf16a307",
   "metadata": {},
   "outputs": [
    {
     "data": {
      "text/html": [
       "<div>\n",
       "<style scoped>\n",
       "    .dataframe tbody tr th:only-of-type {\n",
       "        vertical-align: middle;\n",
       "    }\n",
       "\n",
       "    .dataframe tbody tr th {\n",
       "        vertical-align: top;\n",
       "    }\n",
       "\n",
       "    .dataframe thead th {\n",
       "        text-align: right;\n",
       "    }\n",
       "</style>\n",
       "<table border=\"1\" class=\"dataframe\">\n",
       "  <thead>\n",
       "    <tr style=\"text-align: right;\">\n",
       "      <th></th>\n",
       "      <th>temp</th>\n",
       "      <th>sales</th>\n",
       "      <th>type</th>\n",
       "    </tr>\n",
       "  </thead>\n",
       "  <tbody>\n",
       "    <tr>\n",
       "      <th>0</th>\n",
       "      <td>-4.1</td>\n",
       "      <td>10.900261</td>\n",
       "      <td>choco</td>\n",
       "    </tr>\n",
       "    <tr>\n",
       "      <th>1</th>\n",
       "      <td>-3.7</td>\n",
       "      <td>14.002524</td>\n",
       "      <td>choco</td>\n",
       "    </tr>\n",
       "    <tr>\n",
       "      <th>2</th>\n",
       "      <td>-3.0</td>\n",
       "      <td>15.928335</td>\n",
       "      <td>choco</td>\n",
       "    </tr>\n",
       "    <tr>\n",
       "      <th>3</th>\n",
       "      <td>-1.3</td>\n",
       "      <td>17.673681</td>\n",
       "      <td>choco</td>\n",
       "    </tr>\n",
       "    <tr>\n",
       "      <th>4</th>\n",
       "      <td>-0.5</td>\n",
       "      <td>19.463362</td>\n",
       "      <td>choco</td>\n",
       "    </tr>\n",
       "    <tr>\n",
       "      <th>...</th>\n",
       "      <td>...</td>\n",
       "      <td>...</td>\n",
       "      <td>...</td>\n",
       "    </tr>\n",
       "    <tr>\n",
       "      <th>95</th>\n",
       "      <td>12.4</td>\n",
       "      <td>68.708075</td>\n",
       "      <td>vanilla</td>\n",
       "    </tr>\n",
       "    <tr>\n",
       "      <th>96</th>\n",
       "      <td>13.4</td>\n",
       "      <td>75.800464</td>\n",
       "      <td>vanilla</td>\n",
       "    </tr>\n",
       "    <tr>\n",
       "      <th>97</th>\n",
       "      <td>14.7</td>\n",
       "      <td>79.846568</td>\n",
       "      <td>vanilla</td>\n",
       "    </tr>\n",
       "    <tr>\n",
       "      <th>98</th>\n",
       "      <td>15.0</td>\n",
       "      <td>78.713140</td>\n",
       "      <td>vanilla</td>\n",
       "    </tr>\n",
       "    <tr>\n",
       "      <th>99</th>\n",
       "      <td>15.2</td>\n",
       "      <td>77.595252</td>\n",
       "      <td>vanilla</td>\n",
       "    </tr>\n",
       "  </tbody>\n",
       "</table>\n",
       "<p>200 rows × 3 columns</p>\n",
       "</div>"
      ],
      "text/plain": [
       "    temp      sales     type\n",
       "0   -4.1  10.900261    choco\n",
       "1   -3.7  14.002524    choco\n",
       "2   -3.0  15.928335    choco\n",
       "3   -1.3  17.673681    choco\n",
       "4   -0.5  19.463362    choco\n",
       "..   ...        ...      ...\n",
       "95  12.4  68.708075  vanilla\n",
       "96  13.4  75.800464  vanilla\n",
       "97  14.7  79.846568  vanilla\n",
       "98  15.0  78.713140  vanilla\n",
       "99  15.2  77.595252  vanilla\n",
       "\n",
       "[200 rows x 3 columns]"
      ]
     },
     "execution_count": 9,
     "metadata": {},
     "output_type": "execute_result"
    }
   ],
   "source": [
    "df1 = pd.DataFrame({'temp':temp,'sales':choco}).assign(type='choco')\n",
    "df2 = pd.DataFrame({'temp':temp,'sales':vanilla}).assign(type='vanilla')\n",
    "df_train = pd.concat([df1,df2])\n",
    "df_train"
   ]
  },
  {
   "cell_type": "markdown",
   "id": "a83bbaee-b2d7-4888-9318-9b111cb2f8ae",
   "metadata": {},
   "source": [
    "# 5. 분석"
   ]
  },
  {
   "cell_type": "markdown",
   "id": "6fb0a1fa-b6e5-4d62-b48e-8db54369d105",
   "metadata": {},
   "source": [
    "## A. 데이터 "
   ]
  },
  {
   "cell_type": "code",
   "execution_count": 11,
   "id": "2db86951-040c-40b3-bcc0-9bc6ae3a971f",
   "metadata": {},
   "outputs": [],
   "source": [
    "X = df_train[['temp','type']] # 독립변수, 설명변수, 피쳐\n",
    "y = df_train[['sales']] # 종속변수, 반응변수, 타겟 "
   ]
  },
  {
   "cell_type": "code",
   "execution_count": 12,
   "id": "568464e9-f33b-4e69-8aab-3c2a8a6d3059",
   "metadata": {},
   "outputs": [],
   "source": [
    "X = X.assign(type = [type == 'choco' for type in X.type])"
   ]
  },
  {
   "cell_type": "markdown",
   "id": "a27a29e7-b5f3-4469-ae30-edb77b58f2dc",
   "metadata": {},
   "source": [
    "## B. Predictor 생성 "
   ]
  },
  {
   "cell_type": "code",
   "execution_count": 13,
   "id": "cd5b823f-9387-49ef-aac0-869e80292e9c",
   "metadata": {},
   "outputs": [
    {
     "data": {
      "text/html": [
       "<style>#sk-container-id-1 {color: black;}#sk-container-id-1 pre{padding: 0;}#sk-container-id-1 div.sk-toggleable {background-color: white;}#sk-container-id-1 label.sk-toggleable__label {cursor: pointer;display: block;width: 100%;margin-bottom: 0;padding: 0.3em;box-sizing: border-box;text-align: center;}#sk-container-id-1 label.sk-toggleable__label-arrow:before {content: \"▸\";float: left;margin-right: 0.25em;color: #696969;}#sk-container-id-1 label.sk-toggleable__label-arrow:hover:before {color: black;}#sk-container-id-1 div.sk-estimator:hover label.sk-toggleable__label-arrow:before {color: black;}#sk-container-id-1 div.sk-toggleable__content {max-height: 0;max-width: 0;overflow: hidden;text-align: left;background-color: #f0f8ff;}#sk-container-id-1 div.sk-toggleable__content pre {margin: 0.2em;color: black;border-radius: 0.25em;background-color: #f0f8ff;}#sk-container-id-1 input.sk-toggleable__control:checked~div.sk-toggleable__content {max-height: 200px;max-width: 100%;overflow: auto;}#sk-container-id-1 input.sk-toggleable__control:checked~label.sk-toggleable__label-arrow:before {content: \"▾\";}#sk-container-id-1 div.sk-estimator input.sk-toggleable__control:checked~label.sk-toggleable__label {background-color: #d4ebff;}#sk-container-id-1 div.sk-label input.sk-toggleable__control:checked~label.sk-toggleable__label {background-color: #d4ebff;}#sk-container-id-1 input.sk-hidden--visually {border: 0;clip: rect(1px 1px 1px 1px);clip: rect(1px, 1px, 1px, 1px);height: 1px;margin: -1px;overflow: hidden;padding: 0;position: absolute;width: 1px;}#sk-container-id-1 div.sk-estimator {font-family: monospace;background-color: #f0f8ff;border: 1px dotted black;border-radius: 0.25em;box-sizing: border-box;margin-bottom: 0.5em;}#sk-container-id-1 div.sk-estimator:hover {background-color: #d4ebff;}#sk-container-id-1 div.sk-parallel-item::after {content: \"\";width: 100%;border-bottom: 1px solid gray;flex-grow: 1;}#sk-container-id-1 div.sk-label:hover label.sk-toggleable__label {background-color: #d4ebff;}#sk-container-id-1 div.sk-serial::before {content: \"\";position: absolute;border-left: 1px solid gray;box-sizing: border-box;top: 0;bottom: 0;left: 50%;z-index: 0;}#sk-container-id-1 div.sk-serial {display: flex;flex-direction: column;align-items: center;background-color: white;padding-right: 0.2em;padding-left: 0.2em;position: relative;}#sk-container-id-1 div.sk-item {position: relative;z-index: 1;}#sk-container-id-1 div.sk-parallel {display: flex;align-items: stretch;justify-content: center;background-color: white;position: relative;}#sk-container-id-1 div.sk-item::before, #sk-container-id-1 div.sk-parallel-item::before {content: \"\";position: absolute;border-left: 1px solid gray;box-sizing: border-box;top: 0;bottom: 0;left: 50%;z-index: -1;}#sk-container-id-1 div.sk-parallel-item {display: flex;flex-direction: column;z-index: 1;position: relative;background-color: white;}#sk-container-id-1 div.sk-parallel-item:first-child::after {align-self: flex-end;width: 50%;}#sk-container-id-1 div.sk-parallel-item:last-child::after {align-self: flex-start;width: 50%;}#sk-container-id-1 div.sk-parallel-item:only-child::after {width: 0;}#sk-container-id-1 div.sk-dashed-wrapped {border: 1px dashed gray;margin: 0 0.4em 0.5em 0.4em;box-sizing: border-box;padding-bottom: 0.4em;background-color: white;}#sk-container-id-1 div.sk-label label {font-family: monospace;font-weight: bold;display: inline-block;line-height: 1.2em;}#sk-container-id-1 div.sk-label-container {text-align: center;}#sk-container-id-1 div.sk-container {/* jupyter's `normalize.less` sets `[hidden] { display: none; }` but bootstrap.min.css set `[hidden] { display: none !important; }` so we also need the `!important` here to be able to override the default hidden behavior on the sphinx rendered scikit-learn.org. See: https://github.com/scikit-learn/scikit-learn/issues/21755 */display: inline-block !important;position: relative;}#sk-container-id-1 div.sk-text-repr-fallback {display: none;}</style><div id=\"sk-container-id-1\" class=\"sk-top-container\"><div class=\"sk-text-repr-fallback\"><pre>LinearRegression()</pre><b>In a Jupyter environment, please rerun this cell to show the HTML representation or trust the notebook. <br />On GitHub, the HTML representation is unable to render, please try loading this page with nbviewer.org.</b></div><div class=\"sk-container\" hidden><div class=\"sk-item\"><div class=\"sk-estimator sk-toggleable\"><input class=\"sk-toggleable__control sk-hidden--visually\" id=\"sk-estimator-id-1\" type=\"checkbox\" checked><label for=\"sk-estimator-id-1\" class=\"sk-toggleable__label sk-toggleable__label-arrow\">LinearRegression</label><div class=\"sk-toggleable__content\"><pre>LinearRegression()</pre></div></div></div></div></div>"
      ],
      "text/plain": [
       "LinearRegression()"
      ]
     },
     "execution_count": 13,
     "metadata": {},
     "output_type": "execute_result"
    }
   ],
   "source": [
    "predictr = sklearn.linear_model.LinearRegression() \n",
    "predictr "
   ]
  },
  {
   "cell_type": "markdown",
   "id": "4fda8a49-3b1c-48b5-b699-f4c6d25b4470",
   "metadata": {},
   "source": [
    "## C. 학습 (fit, learn)"
   ]
  },
  {
   "cell_type": "code",
   "execution_count": 14,
   "id": "f57be0b0-fb06-4314-bfff-4610586408fb",
   "metadata": {},
   "outputs": [
    {
     "data": {
      "text/html": [
       "<style>#sk-container-id-2 {color: black;}#sk-container-id-2 pre{padding: 0;}#sk-container-id-2 div.sk-toggleable {background-color: white;}#sk-container-id-2 label.sk-toggleable__label {cursor: pointer;display: block;width: 100%;margin-bottom: 0;padding: 0.3em;box-sizing: border-box;text-align: center;}#sk-container-id-2 label.sk-toggleable__label-arrow:before {content: \"▸\";float: left;margin-right: 0.25em;color: #696969;}#sk-container-id-2 label.sk-toggleable__label-arrow:hover:before {color: black;}#sk-container-id-2 div.sk-estimator:hover label.sk-toggleable__label-arrow:before {color: black;}#sk-container-id-2 div.sk-toggleable__content {max-height: 0;max-width: 0;overflow: hidden;text-align: left;background-color: #f0f8ff;}#sk-container-id-2 div.sk-toggleable__content pre {margin: 0.2em;color: black;border-radius: 0.25em;background-color: #f0f8ff;}#sk-container-id-2 input.sk-toggleable__control:checked~div.sk-toggleable__content {max-height: 200px;max-width: 100%;overflow: auto;}#sk-container-id-2 input.sk-toggleable__control:checked~label.sk-toggleable__label-arrow:before {content: \"▾\";}#sk-container-id-2 div.sk-estimator input.sk-toggleable__control:checked~label.sk-toggleable__label {background-color: #d4ebff;}#sk-container-id-2 div.sk-label input.sk-toggleable__control:checked~label.sk-toggleable__label {background-color: #d4ebff;}#sk-container-id-2 input.sk-hidden--visually {border: 0;clip: rect(1px 1px 1px 1px);clip: rect(1px, 1px, 1px, 1px);height: 1px;margin: -1px;overflow: hidden;padding: 0;position: absolute;width: 1px;}#sk-container-id-2 div.sk-estimator {font-family: monospace;background-color: #f0f8ff;border: 1px dotted black;border-radius: 0.25em;box-sizing: border-box;margin-bottom: 0.5em;}#sk-container-id-2 div.sk-estimator:hover {background-color: #d4ebff;}#sk-container-id-2 div.sk-parallel-item::after {content: \"\";width: 100%;border-bottom: 1px solid gray;flex-grow: 1;}#sk-container-id-2 div.sk-label:hover label.sk-toggleable__label {background-color: #d4ebff;}#sk-container-id-2 div.sk-serial::before {content: \"\";position: absolute;border-left: 1px solid gray;box-sizing: border-box;top: 0;bottom: 0;left: 50%;z-index: 0;}#sk-container-id-2 div.sk-serial {display: flex;flex-direction: column;align-items: center;background-color: white;padding-right: 0.2em;padding-left: 0.2em;position: relative;}#sk-container-id-2 div.sk-item {position: relative;z-index: 1;}#sk-container-id-2 div.sk-parallel {display: flex;align-items: stretch;justify-content: center;background-color: white;position: relative;}#sk-container-id-2 div.sk-item::before, #sk-container-id-2 div.sk-parallel-item::before {content: \"\";position: absolute;border-left: 1px solid gray;box-sizing: border-box;top: 0;bottom: 0;left: 50%;z-index: -1;}#sk-container-id-2 div.sk-parallel-item {display: flex;flex-direction: column;z-index: 1;position: relative;background-color: white;}#sk-container-id-2 div.sk-parallel-item:first-child::after {align-self: flex-end;width: 50%;}#sk-container-id-2 div.sk-parallel-item:last-child::after {align-self: flex-start;width: 50%;}#sk-container-id-2 div.sk-parallel-item:only-child::after {width: 0;}#sk-container-id-2 div.sk-dashed-wrapped {border: 1px dashed gray;margin: 0 0.4em 0.5em 0.4em;box-sizing: border-box;padding-bottom: 0.4em;background-color: white;}#sk-container-id-2 div.sk-label label {font-family: monospace;font-weight: bold;display: inline-block;line-height: 1.2em;}#sk-container-id-2 div.sk-label-container {text-align: center;}#sk-container-id-2 div.sk-container {/* jupyter's `normalize.less` sets `[hidden] { display: none; }` but bootstrap.min.css set `[hidden] { display: none !important; }` so we also need the `!important` here to be able to override the default hidden behavior on the sphinx rendered scikit-learn.org. See: https://github.com/scikit-learn/scikit-learn/issues/21755 */display: inline-block !important;position: relative;}#sk-container-id-2 div.sk-text-repr-fallback {display: none;}</style><div id=\"sk-container-id-2\" class=\"sk-top-container\"><div class=\"sk-text-repr-fallback\"><pre>LinearRegression()</pre><b>In a Jupyter environment, please rerun this cell to show the HTML representation or trust the notebook. <br />On GitHub, the HTML representation is unable to render, please try loading this page with nbviewer.org.</b></div><div class=\"sk-container\" hidden><div class=\"sk-item\"><div class=\"sk-estimator sk-toggleable\"><input class=\"sk-toggleable__control sk-hidden--visually\" id=\"sk-estimator-id-2\" type=\"checkbox\" checked><label for=\"sk-estimator-id-2\" class=\"sk-toggleable__label sk-toggleable__label-arrow\">LinearRegression</label><div class=\"sk-toggleable__content\"><pre>LinearRegression()</pre></div></div></div></div></div>"
      ],
      "text/plain": [
       "LinearRegression()"
      ]
     },
     "execution_count": 14,
     "metadata": {},
     "output_type": "execute_result"
    }
   ],
   "source": [
    "predictr.fit(X,y)"
   ]
  },
  {
   "cell_type": "markdown",
   "id": "f2efbb5b-6fcb-42a8-93fd-9937ee55da3f",
   "metadata": {},
   "source": [
    "## D. 예측 (predict)"
   ]
  },
  {
   "cell_type": "code",
   "execution_count": 15,
   "id": "7bfc77e2-2061-405c-92b6-69bcd309ddc1",
   "metadata": {},
   "outputs": [],
   "source": [
    "yhat = predictr.predict(X)"
   ]
  },
  {
   "cell_type": "code",
   "execution_count": 17,
   "id": "3433b0f2-b5cf-493c-bbdc-d0eb73fb368a",
   "metadata": {},
   "outputs": [
    {
     "data": {
      "text/plain": [
       "[<matplotlib.lines.Line2D at 0x7fef0d3b0d30>]"
      ]
     },
     "execution_count": 17,
     "metadata": {},
     "output_type": "execute_result"
    },
    {
     "data": {
      "image/png": "[encoded data removed]",
      "text/plain": [
       "<Figure size 640x480 with 1 Axes>"
      ]
     },
     "metadata": {},
     "output_type": "display_data"
    }
   ],
   "source": [
    "plt.plot(df_train.temp,df_train.sales,'o',alpha=0.5)\n",
    "plt.plot(df_train.temp,yhat, 'x',alpha=0.5)"
   ]
  },
  {
   "cell_type": "markdown",
   "id": "0814c6b3-db6c-4555-9c39-2d230491d9ab",
   "metadata": {},
   "source": [
    "`-` 어떻게 맞춘거지? "
   ]
  },
  {
   "cell_type": "markdown",
   "id": "50e8fcf4-b3c3-4381-bd21-e26bd8b17b7e",
   "metadata": {},
   "source": [
    "$$\\textup{아이스크림 판매량} = 40 + \\textup{아이스크림종류} \\times (-20) + \\textup{온도} \\times 2.5 + \\textup{오차(운)}$$"
   ]
  },
  {
   "cell_type": "code",
   "execution_count": 18,
   "id": "08e9a4c2-8404-4207-8d1c-5d9ba7d84716",
   "metadata": {},
   "outputs": [
    {
     "data": {
      "text/plain": [
       "(array([[  2.52239574, -20.54021854]]), array([40.16877158]))"
      ]
     },
     "execution_count": 18,
     "metadata": {},
     "output_type": "execute_result"
    }
   ],
   "source": [
    "predictr.coef_, predictr.intercept_"
   ]
  },
  {
   "cell_type": "markdown",
   "id": "e0a8ea7a-6bcd-4f53-96db-b274d02e45b1",
   "metadata": {},
   "source": [
    "`-` 온도가 -2이고, type이 초코라면? 예측값은? "
   ]
  },
  {
   "cell_type": "code",
   "execution_count": 19,
   "id": "3887c058-d300-4742-8b6c-b757bf248c91",
   "metadata": {},
   "outputs": [
    {
     "data": {
      "text/html": [
       "<div>\n",
       "<style scoped>\n",
       "    .dataframe tbody tr th:only-of-type {\n",
       "        vertical-align: middle;\n",
       "    }\n",
       "\n",
       "    .dataframe tbody tr th {\n",
       "        vertical-align: top;\n",
       "    }\n",
       "\n",
       "    .dataframe thead th {\n",
       "        text-align: right;\n",
       "    }\n",
       "</style>\n",
       "<table border=\"1\" class=\"dataframe\">\n",
       "  <thead>\n",
       "    <tr style=\"text-align: right;\">\n",
       "      <th></th>\n",
       "      <th>temp</th>\n",
       "      <th>type</th>\n",
       "    </tr>\n",
       "  </thead>\n",
       "  <tbody>\n",
       "    <tr>\n",
       "      <th>0</th>\n",
       "      <td>-2.0</td>\n",
       "      <td>1</td>\n",
       "    </tr>\n",
       "  </tbody>\n",
       "</table>\n",
       "</div>"
      ],
      "text/plain": [
       "   temp  type\n",
       "0  -2.0     1"
      ]
     },
     "execution_count": 19,
     "metadata": {},
     "output_type": "execute_result"
    }
   ],
   "source": [
    "XX = pd.DataFrame({'temp':[-2.0],'type':[1]})\n",
    "XX"
   ]
  },
  {
   "cell_type": "code",
   "execution_count": 21,
   "id": "73b2c1bc-9ddd-4f35-aa18-31d7217935db",
   "metadata": {},
   "outputs": [
    {
     "data": {
      "text/plain": [
       "array([[14.58376156]])"
      ]
     },
     "execution_count": 21,
     "metadata": {},
     "output_type": "execute_result"
    }
   ],
   "source": [
    "predictr.predict(XX)"
   ]
  },
  {
   "cell_type": "markdown",
   "id": "fafc3ef8-df0c-4eb5-b927-cb958e4a4a4f",
   "metadata": {},
   "source": [
    "`-` 온도가 -2이고, type이 바닐라라면? 예측값은? "
   ]
  },
  {
   "cell_type": "code",
   "execution_count": 22,
   "id": "949f1777-f625-45bc-93b8-c3d4aeff2ab6",
   "metadata": {},
   "outputs": [
    {
     "data": {
      "text/html": [
       "<div>\n",
       "<style scoped>\n",
       "    .dataframe tbody tr th:only-of-type {\n",
       "        vertical-align: middle;\n",
       "    }\n",
       "\n",
       "    .dataframe tbody tr th {\n",
       "        vertical-align: top;\n",
       "    }\n",
       "\n",
       "    .dataframe thead th {\n",
       "        text-align: right;\n",
       "    }\n",
       "</style>\n",
       "<table border=\"1\" class=\"dataframe\">\n",
       "  <thead>\n",
       "    <tr style=\"text-align: right;\">\n",
       "      <th></th>\n",
       "      <th>temp</th>\n",
       "      <th>type</th>\n",
       "    </tr>\n",
       "  </thead>\n",
       "  <tbody>\n",
       "    <tr>\n",
       "      <th>0</th>\n",
       "      <td>-2.0</td>\n",
       "      <td>0</td>\n",
       "    </tr>\n",
       "  </tbody>\n",
       "</table>\n",
       "</div>"
      ],
      "text/plain": [
       "   temp  type\n",
       "0  -2.0     0"
      ]
     },
     "execution_count": 22,
     "metadata": {},
     "output_type": "execute_result"
    }
   ],
   "source": [
    "XX = pd.DataFrame({'temp':[-2.0],'type':[0]})\n",
    "XX"
   ]
  },
  {
   "cell_type": "code",
   "execution_count": 23,
   "id": "9e18adb9-6a47-40fe-8925-497b59fa4f9e",
   "metadata": {},
   "outputs": [
    {
     "data": {
      "text/plain": [
       "array([[35.1239801]])"
      ]
     },
     "execution_count": 23,
     "metadata": {},
     "output_type": "execute_result"
    }
   ],
   "source": [
    "predictr.predict(XX)"
   ]
  },
  {
   "cell_type": "markdown",
   "id": "2e3167eb-15aa-4f62-98ca-b9a89fc98b52",
   "metadata": {},
   "source": [
    "# 6. 데이터를 전처리하는 다른 방법 "
   ]
  },
  {
   "cell_type": "markdown",
   "id": "117ecaa2-a199-4127-aebc-675a93954f5b",
   "metadata": {},
   "source": [
    "`-` 데이터"
   ]
  },
  {
   "cell_type": "code",
   "execution_count": 24,
   "id": "a158077e-1b98-4135-9fd9-63e7fee6eeca",
   "metadata": {},
   "outputs": [],
   "source": [
    "X = df_train[['temp','type']] # 독립변수, 설명변수, 피쳐\n",
    "y = df_train[['sales']] # 종속변수, 반응변수, 타겟 "
   ]
  },
  {
   "cell_type": "markdown",
   "id": "9ff6157e-5ac3-45a7-8df4-eed4ffbb4816",
   "metadata": {},
   "source": [
    "`-` 원-핫 인코딩 "
   ]
  },
  {
   "cell_type": "code",
   "execution_count": 25,
   "id": "23ea4269-881a-4c85-aa7e-bf8f865eaa81",
   "metadata": {},
   "outputs": [
    {
     "data": {
      "text/html": [
       "<div>\n",
       "<style scoped>\n",
       "    .dataframe tbody tr th:only-of-type {\n",
       "        vertical-align: middle;\n",
       "    }\n",
       "\n",
       "    .dataframe tbody tr th {\n",
       "        vertical-align: top;\n",
       "    }\n",
       "\n",
       "    .dataframe thead th {\n",
       "        text-align: right;\n",
       "    }\n",
       "</style>\n",
       "<table border=\"1\" class=\"dataframe\">\n",
       "  <thead>\n",
       "    <tr style=\"text-align: right;\">\n",
       "      <th></th>\n",
       "      <th>temp</th>\n",
       "      <th>type_choco</th>\n",
       "      <th>type_vanilla</th>\n",
       "    </tr>\n",
       "  </thead>\n",
       "  <tbody>\n",
       "    <tr>\n",
       "      <th>0</th>\n",
       "      <td>-4.1</td>\n",
       "      <td>True</td>\n",
       "      <td>False</td>\n",
       "    </tr>\n",
       "    <tr>\n",
       "      <th>1</th>\n",
       "      <td>-3.7</td>\n",
       "      <td>True</td>\n",
       "      <td>False</td>\n",
       "    </tr>\n",
       "    <tr>\n",
       "      <th>2</th>\n",
       "      <td>-3.0</td>\n",
       "      <td>True</td>\n",
       "      <td>False</td>\n",
       "    </tr>\n",
       "    <tr>\n",
       "      <th>3</th>\n",
       "      <td>-1.3</td>\n",
       "      <td>True</td>\n",
       "      <td>False</td>\n",
       "    </tr>\n",
       "    <tr>\n",
       "      <th>4</th>\n",
       "      <td>-0.5</td>\n",
       "      <td>True</td>\n",
       "      <td>False</td>\n",
       "    </tr>\n",
       "    <tr>\n",
       "      <th>...</th>\n",
       "      <td>...</td>\n",
       "      <td>...</td>\n",
       "      <td>...</td>\n",
       "    </tr>\n",
       "    <tr>\n",
       "      <th>95</th>\n",
       "      <td>12.4</td>\n",
       "      <td>False</td>\n",
       "      <td>True</td>\n",
       "    </tr>\n",
       "    <tr>\n",
       "      <th>96</th>\n",
       "      <td>13.4</td>\n",
       "      <td>False</td>\n",
       "      <td>True</td>\n",
       "    </tr>\n",
       "    <tr>\n",
       "      <th>97</th>\n",
       "      <td>14.7</td>\n",
       "      <td>False</td>\n",
       "      <td>True</td>\n",
       "    </tr>\n",
       "    <tr>\n",
       "      <th>98</th>\n",
       "      <td>15.0</td>\n",
       "      <td>False</td>\n",
       "      <td>True</td>\n",
       "    </tr>\n",
       "    <tr>\n",
       "      <th>99</th>\n",
       "      <td>15.2</td>\n",
       "      <td>False</td>\n",
       "      <td>True</td>\n",
       "    </tr>\n",
       "  </tbody>\n",
       "</table>\n",
       "<p>200 rows × 3 columns</p>\n",
       "</div>"
      ],
      "text/plain": [
       "    temp  type_choco  type_vanilla\n",
       "0   -4.1        True         False\n",
       "1   -3.7        True         False\n",
       "2   -3.0        True         False\n",
       "3   -1.3        True         False\n",
       "4   -0.5        True         False\n",
       "..   ...         ...           ...\n",
       "95  12.4       False          True\n",
       "96  13.4       False          True\n",
       "97  14.7       False          True\n",
       "98  15.0       False          True\n",
       "99  15.2       False          True\n",
       "\n",
       "[200 rows x 3 columns]"
      ]
     },
     "execution_count": 25,
     "metadata": {},
     "output_type": "execute_result"
    }
   ],
   "source": [
    "X = pd.get_dummies(X)\n",
    "X"
   ]
  },
  {
   "cell_type": "markdown",
   "id": "9f137a1b-934b-43a8-aae7-afec664415fb",
   "metadata": {},
   "source": [
    "`-` 이후의 과정은 동일 "
   ]
  },
  {
   "cell_type": "code",
   "execution_count": 26,
   "id": "a4ca2a6e-f693-4aac-84f4-f41f893cfb2e",
   "metadata": {},
   "outputs": [],
   "source": [
    "predictr = sklearn.linear_model.LinearRegression() \n",
    "predictr.fit(X,y)\n",
    "yhat2 = predictr.predict(X)"
   ]
  },
  {
   "cell_type": "code",
   "execution_count": 27,
   "id": "bcb37808-ca2d-43be-8ed6-9c33402ff6aa",
   "metadata": {},
   "outputs": [
    {
     "data": {
      "text/plain": [
       "[<matplotlib.lines.Line2D at 0x7fef0d429fc0>]"
      ]
     },
     "execution_count": 27,
     "metadata": {},
     "output_type": "execute_result"
    },
    {
     "data": {
      "image/png": "[encoded data removed]",
      "text/plain": [
       "<Figure size 640x480 with 1 Axes>"
      ]
     },
     "metadata": {},
     "output_type": "display_data"
    }
   ],
   "source": [
    "plt.plot(df_train.temp,df_train.sales,'o',alpha=0.5)\n",
    "plt.plot(df_train.temp,yhat2, 'x',alpha=0.5)"
   ]
  },
  {
   "cell_type": "markdown",
   "id": "e5907a36-cc5e-4385-a086-cb490a8ad819",
   "metadata": {},
   "source": [
    "`-` 모형을 어떻게 바라본걸까? "
   ]
  },
  {
   "cell_type": "code",
   "execution_count": 192,
   "id": "11a7d702-5d37-4836-be80-ec8f48ddc11a",
   "metadata": {},
   "outputs": [
    {
     "data": {
      "text/plain": [
       "array([[  2.52239574, -10.27010927,  10.27010927]])"
      ]
     },
     "execution_count": 192,
     "metadata": {},
     "output_type": "execute_result"
    }
   ],
   "source": [
    "predictr.coef_"
   ]
  },
  {
   "cell_type": "code",
   "execution_count": 193,
   "id": "0907734b-a1e1-43a1-9946-ad9e696aff8f",
   "metadata": {},
   "outputs": [
    {
     "data": {
      "text/plain": [
       "array([29.89866231])"
      ]
     },
     "execution_count": 193,
     "metadata": {},
     "output_type": "execute_result"
    }
   ],
   "source": [
    "predictr.intercept_"
   ]
  },
  {
   "cell_type": "markdown",
   "id": "216f9278-c34a-4c5c-a2ba-0ca4df8eb6a7",
   "metadata": {},
   "source": [
    "$$\\textup{아이스크림 판매량} = 30 + \\textup{초코} \\times (-10) + \\textup{바닐라} \\times 10 + \\textup{온도} \\times 2.5 + \\textup{오차(운)}$$"
   ]
  },
  {
   "cell_type": "markdown",
   "id": "f31abaf9-6c2b-4de5-aa22-267066d290e9",
   "metadata": {
    "tags": []
   },
   "source": [
    ":::{.callout-important}\n",
    "### 2023-10-24 추가해설\n",
    "**오버피팅**: 엄밀하게 보면 초코를 의미하는 더미변수와 바닐라를 의미하는 더미변수 둘다 필요한것은 아님. 둘 중 하나는 제외해도 무방함. (R에서는 꼭 제외해야만 함)\n",
    ":::"
   ]
  },
  {
   "cell_type": "markdown",
   "id": "62532023-6589-4667-90c9-9fbf0dc12161",
   "metadata": {},
   "source": [
    "# 7. 모형을 평가하는 방법 "
   ]
  },
  {
   "cell_type": "code",
   "execution_count": 194,
   "id": "650e0ac9-ed17-4213-b555-dce7aadfdef4",
   "metadata": {},
   "outputs": [
    {
     "data": {
      "text/plain": [
       "0.9628857449454437"
      ]
     },
     "execution_count": 194,
     "metadata": {},
     "output_type": "execute_result"
    }
   ],
   "source": [
    "predictr.score(X,y)"
   ]
  }
 ],
 "metadata": {
  "kernelspec": {
   "display_name": "Python 3 (ipykernel)",
   "language": "python",
   "name": "python3"
  },
  "language_info": {
   "codemirror_mode": {
    "name": "ipython",
    "version": 3
   },
   "file_extension": ".py",
   "mimetype": "text/x-python",
   "name": "python",
   "nbconvert_exporter": "python",
   "pygments_lexer": "ipython3",
   "version": "3.10.13"
  }
 },
 "nbformat": 4,
 "nbformat_minor": 5
}
