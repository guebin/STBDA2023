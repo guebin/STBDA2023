{
  "cells": [
    {
      "cell_type": "markdown",
      "metadata": {},
      "source": [
        "# 14wk-61: NLP with Disaster Tweets / 자료분석(Autogluon)\n",
        "\n",
        "최규빈  \n",
        "2023-12-01\n",
        "\n",
        "# 1. 강의영상\n",
        "\n",
        "[???](???)\n",
        "\n",
        "# 2. Imports"
      ],
      "id": "5fadd10d-6a78-4d15-9174-a1d51bf99313"
    },
    {
      "cell_type": "code",
      "execution_count": 2,
      "metadata": {
        "tags": []
      },
      "outputs": [],
      "source": [
        "#!pip install autogluon.eda"
      ],
      "id": "11f3d6e8-e7b3-453a-81a2-99b3a0cddbdb"
    },
    {
      "cell_type": "code",
      "execution_count": 3,
      "metadata": {
        "tags": []
      },
      "outputs": [],
      "source": [
        "import numpy as np\n",
        "import pandas as pd\n",
        "import matplotlib.pyplot as plt \n",
        "#---#\n",
        "from autogluon.tabular import TabularPredictor\n",
        "#---#\n",
        "import warnings\n",
        "warnings.filterwarnings('ignore')"
      ],
      "id": "b7b83a12-e79d-4be9-a6fe-8edc6f39d7a1"
    },
    {
      "cell_type": "markdown",
      "metadata": {},
      "source": [
        "# 3. Data"
      ],
      "id": "fa38f587-4127-4b5c-967b-94d3111d6f78"
    },
    {
      "cell_type": "code",
      "execution_count": 4,
      "metadata": {
        "tags": []
      },
      "outputs": [
        {
          "output_type": "stream",
          "name": "stdout",
          "text": [
            "Downloading nlp-getting-started.zip to /home/cgb2/Dropbox/07_lectures/2023-09-MP2023/posts\n",
            "100%|████████████████████████████████████████| 593k/593k [00:00<00:00, 2.47MB/s]\n",
            "100%|████████████████████████████████████████| 593k/593k [00:00<00:00, 2.46MB/s]"
          ]
        }
      ],
      "source": [
        "!kaggle competitions download -c nlp-getting-started"
      ],
      "id": "89f0eb89-c429-4210-9a68-d5bac8d054b8"
    },
    {
      "cell_type": "code",
      "execution_count": 5,
      "metadata": {
        "tags": []
      },
      "outputs": [
        {
          "output_type": "stream",
          "name": "stdout",
          "text": [
            "Archive:  nlp-getting-started.zip\n",
            "  inflating: data/sample_submission.csv  \n",
            "  inflating: data/test.csv           \n",
            "  inflating: data/train.csv          "
          ]
        }
      ],
      "source": [
        "!unzip nlp-getting-started.zip -d data "
      ],
      "id": "0589d6d0-4cbf-4a6f-9448-9902f4b0f1fc"
    },
    {
      "cell_type": "code",
      "execution_count": 6,
      "metadata": {
        "tags": []
      },
      "outputs": [],
      "source": [
        "df_train = pd.read_csv('data/train.csv')\n",
        "df_test = pd.read_csv('data/test.csv')\n",
        "sample_submission = pd.read_csv('data/sample_submission.csv')"
      ],
      "id": "f39229d9-0244-4b4b-895f-1556aa8abb26"
    },
    {
      "cell_type": "code",
      "execution_count": 7,
      "metadata": {
        "tags": []
      },
      "outputs": [],
      "source": [
        "!rm -rf data\n",
        "!rm nlp-getting-started.zip"
      ],
      "id": "7d1f6ed1-cbaa-483e-8dbf-efb2c996c749"
    },
    {
      "cell_type": "markdown",
      "metadata": {},
      "source": [
        "# 4. 분석"
      ],
      "id": "d563ffe9-8d0d-4d0e-b5ac-6217ac9ec633"
    },
    {
      "cell_type": "code",
      "execution_count": 8,
      "metadata": {
        "tags": []
      },
      "outputs": [],
      "source": [
        "df_train.head()"
      ],
      "id": "c27765f2-6f57-4895-88aa-4954e8560cf1"
    },
    {
      "cell_type": "code",
      "execution_count": 9,
      "metadata": {
        "tags": []
      },
      "outputs": [],
      "source": [
        "df_test.head()"
      ],
      "id": "f972a6ac-2e28-4a9f-8296-f67ca3b7c7b3"
    },
    {
      "cell_type": "code",
      "execution_count": 15,
      "metadata": {},
      "outputs": [
        {
          "output_type": "stream",
          "name": "stderr",
          "text": [
            "No path specified. Models will be saved in: \"AutogluonModels/ag-20231207_031213\"\n",
            "No presets specified! To achieve strong results with AutoGluon, it is recommended to use the available presets.\n",
            "    Recommended Presets (For more details refer to https://auto.gluon.ai/stable/tutorials/tabular/tabular-essentials.html#presets):\n",
            "    presets='best_quality'   : Maximize accuracy. Default time_limit=3600.\n",
            "    presets='high_quality'   : Strong accuracy with fast inference speed. Default time_limit=3600.\n",
            "    presets='good_quality'   : Good accuracy with very fast inference speed. Default time_limit=3600.\n",
            "    presets='medium_quality' : Fast training time, ideal for initial prototyping.\n",
            "Beginning AutoGluon training ...\n",
            "AutoGluon will save models to \"AutogluonModels/ag-20231207_031213\"\n",
            "=================== System Info ===================\n",
            "AutoGluon Version:  1.0.0\n",
            "Python Version:     3.10.13\n",
            "Operating System:   Linux\n",
            "Platform Machine:   x86_64\n",
            "Platform Version:   #26~22.04.1-Ubuntu SMP PREEMPT_DYNAMIC Thu Jul 13 16:27:29 UTC 2\n",
            "CPU Count:          16\n",
            "Memory Avail:       117.71 GB / 125.71 GB (93.6%)\n",
            "Disk Space Avail:   217.68 GB / 456.88 GB (47.6%)\n",
            "===================================================\n",
            "Train Data Rows:    7613\n",
            "Train Data Columns: 4\n",
            "Label Column:       target\n",
            "AutoGluon infers your prediction problem is: 'binary' (because only two unique label-values observed).\n",
            "    2 unique label values:  [1, 0]\n",
            "    If 'binary' is not the correct problem_type, please manually specify the problem_type parameter during predictor init (You may specify problem_type as one of: ['binary', 'multiclass', 'regression'])\n",
            "Problem Type:       binary\n",
            "Preprocessing data ...\n",
            "Selected class <--> label mapping:  class 1 = 1, class 0 = 0\n",
            "Using Feature Generators to preprocess the data ...\n",
            "Fitting AutoMLPipelineFeatureGenerator...\n",
            "    Available Memory:                    120538.91 MB\n",
            "    Train Data (Original)  Memory Usage: 2.19 MB (0.0% of available memory)\n",
            "    Inferring data type of each feature based on column values. Set feature_metadata_in to manually specify special dtypes of the features.\n",
            "    Stage 1 Generators:\n",
            "        Fitting AsTypeFeatureGenerator...\n",
            "    Stage 2 Generators:\n",
            "        Fitting FillNaFeatureGenerator...\n",
            "    Stage 3 Generators:\n",
            "        Fitting IdentityFeatureGenerator...\n",
            "        Fitting CategoryFeatureGenerator...\n",
            "            Fitting CategoryMemoryMinimizeFeatureGenerator...\n",
            "        Fitting TextSpecialFeatureGenerator...\n",
            "            Fitting BinnedFeatureGenerator...\n",
            "            Fitting DropDuplicatesFeatureGenerator...\n",
            "        Fitting TextNgramFeatureGenerator...\n",
            "            Fitting CountVectorizer for text features: ['text']\n",
            "            CountVectorizer fit with vocabulary size = 641\n",
            "    Stage 4 Generators:\n",
            "        Fitting DropUniqueFeatureGenerator...\n",
            "    Stage 5 Generators:\n",
            "        Fitting DropDuplicatesFeatureGenerator...\n",
            "    Types of features in original data (raw dtype, special dtypes):\n",
            "        ('int', [])          : 1 | ['id']\n",
            "        ('object', [])       : 2 | ['keyword', 'location']\n",
            "        ('object', ['text']) : 1 | ['text']\n",
            "    Types of features in processed data (raw dtype, special dtypes):\n",
            "        ('category', [])                    :   2 | ['keyword', 'location']\n",
            "        ('category', ['text_as_category'])  :   1 | ['text']\n",
            "        ('int', [])                         :   1 | ['id']\n",
            "        ('int', ['binned', 'text_special']) :  28 | ['text.char_count', 'text.word_count', 'text.capital_ratio', 'text.lower_ratio', 'text.digit_ratio', ...]\n",
            "        ('int', ['text_ngram'])             : 631 | ['__nlp__.05', '__nlp__.08', '__nlp__.10', '__nlp__.11', '__nlp__.15', ...]\n",
            "    3.3s = Fit runtime\n",
            "    4 features in original data used to generate 663 features in processed data.\n",
            "    Train Data (Processed) Memory Usage: 9.46 MB (0.0% of available memory)\n",
            "Data preprocessing and feature engineering runtime = 3.3s ...\n",
            "AutoGluon will gauge predictive performance using evaluation metric: 'accuracy'\n",
            "    To change this, specify the eval_metric parameter of Predictor()\n",
            "Automatically generating train/validation split with holdout_frac=0.1, Train Rows: 6851, Val Rows: 762\n",
            "User-specified model hyperparameters to be fit:\n",
            "{\n",
            "    'NN_TORCH': {},\n",
            "    'GBM': [{'extra_trees': True, 'ag_args': {'name_suffix': 'XT'}}, {}, 'GBMLarge'],\n",
            "    'CAT': {},\n",
            "    'XGB': {},\n",
            "    'FASTAI': {},\n",
            "    'RF': [{'criterion': 'gini', 'ag_args': {'name_suffix': 'Gini', 'problem_types': ['binary', 'multiclass']}}, {'criterion': 'entropy', 'ag_args': {'name_suffix': 'Entr', 'problem_types': ['binary', 'multiclass']}}, {'criterion': 'squared_error', 'ag_args': {'name_suffix': 'MSE', 'problem_types': ['regression', 'quantile']}}],\n",
            "    'XT': [{'criterion': 'gini', 'ag_args': {'name_suffix': 'Gini', 'problem_types': ['binary', 'multiclass']}}, {'criterion': 'entropy', 'ag_args': {'name_suffix': 'Entr', 'problem_types': ['binary', 'multiclass']}}, {'criterion': 'squared_error', 'ag_args': {'name_suffix': 'MSE', 'problem_types': ['regression', 'quantile']}}],\n",
            "    'KNN': [{'weights': 'uniform', 'ag_args': {'name_suffix': 'Unif'}}, {'weights': 'distance', 'ag_args': {'name_suffix': 'Dist'}}],\n",
            "}\n",
            "Fitting 13 L1 models ...\n",
            "Fitting model: KNeighborsUnif ...\n",
            "    0.7283   = Validation score   (accuracy)\n",
            "    0.07s    = Training   runtime\n",
            "    0.04s    = Validation runtime\n",
            "Fitting model: KNeighborsDist ...\n",
            "    0.7402   = Validation score   (accuracy)\n",
            "    0.07s    = Training   runtime\n",
            "    0.04s    = Validation runtime\n",
            "Fitting model: LightGBMXT ...\n",
            "    Training LightGBMXT with GPU, note that this may negatively impact model quality compared to CPU training.\n",
            "[LightGBM] [Fatal] GPU Tree Learner was not enabled in this build.\n",
            "Please recompile with CMake option -DUSE_GPU=1\n",
            "Warning: GPU mode might not be installed for LightGBM, GPU training raised an exception. Falling back to CPU training...Refer to LightGBM GPU documentation: https://github.com/Microsoft/LightGBM/tree/master/python-package#build-gpu-versionOne possible method is:  pip uninstall lightgbm -y   pip install lightgbm --install-option=--gpu\n",
            "    0.7953   = Validation score   (accuracy)\n",
            "    0.58s    = Training   runtime\n",
            "    0.01s    = Validation runtime\n",
            "Fitting model: LightGBM ...\n",
            "    Training LightGBM with GPU, note that this may negatively impact model quality compared to CPU training.\n",
            "Warning: GPU mode might not be installed for LightGBM, GPU training raised an exception. Falling back to CPU training...Refer to LightGBM GPU documentation: https://github.com/Microsoft/LightGBM/tree/master/python-package#build-gpu-versionOne possible method is:  pip uninstall lightgbm -y   pip install lightgbm --install-option=--gpu\n",
            "[LightGBM] [Fatal] GPU Tree Learner was not enabled in this build.\n",
            "Please recompile with CMake option -DUSE_GPU=1\n",
            "    0.7992   = Validation score   (accuracy)\n",
            "    0.75s    = Training   runtime\n",
            "    0.01s    = Validation runtime\n",
            "Fitting model: RandomForestGini ...\n",
            "    0.7808   = Validation score   (accuracy)\n",
            "    0.99s    = Training   runtime\n",
            "    0.05s    = Validation runtime\n",
            "Fitting model: RandomForestEntr ...\n",
            "    0.7703   = Validation score   (accuracy)\n",
            "    1.0s     = Training   runtime\n",
            "    0.3s     = Validation runtime\n",
            "Fitting model: CatBoost ...\n",
            "    Training CatBoost with GPU, note that this may negatively impact model quality compared to CPU training.\n",
            "    Warning: CatBoost on GPU is experimental. If you encounter issues, use CPU for training CatBoost instead.\n",
            "    0.8018   = Validation score   (accuracy)\n",
            "    4.63s    = Training   runtime\n",
            "    0.02s    = Validation runtime\n",
            "Fitting model: ExtraTreesGini ...\n",
            "    0.7874   = Validation score   (accuracy)\n",
            "    1.13s    = Training   runtime\n",
            "    0.05s    = Validation runtime\n",
            "Fitting model: ExtraTreesEntr ...\n",
            "    0.7835   = Validation score   (accuracy)\n",
            "    1.15s    = Training   runtime\n",
            "    0.05s    = Validation runtime\n",
            "Fitting model: NeuralNetFastAI ...\n",
            "No improvement since epoch 2: early stopping\n",
            "    0.7808   = Validation score   (accuracy)\n",
            "    7.44s    = Training   runtime\n",
            "    0.02s    = Validation runtime\n",
            "Fitting model: XGBoost ...\n",
            "    0.7953   = Validation score   (accuracy)\n",
            "    0.99s    = Training   runtime\n",
            "    0.01s    = Validation runtime\n",
            "Fitting model: NeuralNetTorch ...\n",
            "    0.727    = Validation score   (accuracy)\n",
            "    17.46s   = Training   runtime\n",
            "    0.02s    = Validation runtime\n",
            "Fitting model: LightGBMLarge ...\n",
            "    Training LightGBMLarge with GPU, note that this may negatively impact model quality compared to CPU training.\n",
            "[LightGBM] [Fatal] GPU Tree Learner was not enabled in this build.\n",
            "Please recompile with CMake option -DUSE_GPU=1\n",
            "Warning: GPU mode might not be installed for LightGBM, GPU training raised an exception. Falling back to CPU training...Refer to LightGBM GPU documentation: https://github.com/Microsoft/LightGBM/tree/master/python-package#build-gpu-versionOne possible method is:  pip uninstall lightgbm -y   pip install lightgbm --install-option=--gpu\n",
            "    0.8071   = Validation score   (accuracy)\n",
            "    2.71s    = Training   runtime\n",
            "    0.02s    = Validation runtime\n",
            "Fitting model: WeightedEnsemble_L2 ...\n",
            "    Ensemble Weights: {'LightGBMLarge': 0.265, 'XGBoost': 0.163, 'CatBoost': 0.143, 'NeuralNetFastAI': 0.143, 'RandomForestEntr': 0.102, 'LightGBMXT': 0.082, 'LightGBM': 0.041, 'ExtraTreesGini': 0.041, 'KNeighborsDist': 0.02}\n",
            "    0.8268   = Validation score   (accuracy)\n",
            "    0.59s    = Training   runtime\n",
            "    0.0s     = Validation runtime\n",
            "AutoGluon training complete, total runtime = 44.0s ... Best model: \"WeightedEnsemble_L2\"\n",
            "TabularPredictor saved. To load, use: predictor = TabularPredictor.load(\"AutogluonModels/ag-20231207_031213\")"
          ]
        }
      ],
      "source": [
        "# step1 -- pass\n",
        "# step2 \n",
        "predictr = TabularPredictor(label = 'target')\n",
        "# step3\n",
        "predictr.fit(df_train,num_gpus=1)\n",
        "# step4 \n",
        "yhat = predictr.predict(df_test) "
      ],
      "id": "f8c242f1-ed6b-4ef5-a5b1-f271462dcafc"
    },
    {
      "cell_type": "markdown",
      "metadata": {},
      "source": [
        "# 5. 제출"
      ],
      "id": "e678d3ba-7ba7-40c6-9f83-8cb0bb8cbc4d"
    },
    {
      "cell_type": "code",
      "execution_count": 18,
      "metadata": {
        "tags": []
      },
      "outputs": [],
      "source": [
        "sample_submission"
      ],
      "id": "ca1eb571-3c6f-4611-95b9-a25e773962b9"
    },
    {
      "cell_type": "code",
      "execution_count": 19,
      "metadata": {
        "tags": []
      },
      "outputs": [],
      "source": [
        "sample_submission['target'] = yhat \n",
        "sample_submission.to_csv(\"submission.csv\",index=False)"
      ],
      "id": "62c02867-9044-478b-8afe-bc3557af635e"
    },
    {
      "cell_type": "code",
      "execution_count": 20,
      "metadata": {
        "tags": []
      },
      "outputs": [
        {
          "output_type": "stream",
          "name": "stdout",
          "text": [
            "100%|██████████████████████████████████████| 22.2k/22.2k [00:02<00:00, 10.4kB/s]\n",
            "Successfully submitted to Natural Language Processing with Disaster Tweets"
          ]
        }
      ],
      "source": [
        "!kaggle competitions submit -c nlp-getting-started -f submission.csv -m \"오토글루온, TabularPredictor\""
      ],
      "id": "6d4455f3-9ddb-4d3e-afad-fce8e9ee81d0"
    },
    {
      "cell_type": "markdown",
      "metadata": {},
      "source": [
        "![](attachment:14wk-61_files/figure-ipynb/4226abd1-a58f-4e5d-af3f-a82ff87a8023-1-c69244fc-e941-48a8-bbff-5dfbdf134bf2.png)"
      ],
      "attachments": {
        "14wk-61_files/figure-ipynb/4226abd1-a58f-4e5d-af3f-a82ff87a8023-1-c69244fc-e941-48a8-bbff-5dfbdf134bf2.png": {
          "image/png": "[encoded data removed]"
        }
      },
      "id": "9510cb94-990a-4f3e-94f1-d2267e2d0a72"
    },
    {
      "cell_type": "code",
      "execution_count": 21,
      "metadata": {
        "tags": []
      },
      "outputs": [],
      "source": [
        "761/1094"
      ],
      "id": "eb92711f-b53b-4c34-b06a-1bc9ca70b97d"
    },
    {
      "cell_type": "markdown",
      "metadata": {},
      "source": [
        "별로네.."
      ],
      "id": "cc9dd067-3ac1-4c8c-b96e-ac7ff60c0616"
    }
  ],
  "nbformat": 4,
  "nbformat_minor": 5,
  "metadata": {
    "kernelspec": {
      "name": "python3",
      "display_name": "Python 3 (ipykernel)",
      "language": "python"
    },
    "language_info": {
      "name": "python",
      "codemirror_mode": {
        "name": "ipython",
        "version": "3"
      },
      "file_extension": ".py",
      "mimetype": "text/x-python",
      "nbconvert_exporter": "python",
      "pygments_lexer": "ipython3",
      "version": "3.11.6"
    }
  }
}