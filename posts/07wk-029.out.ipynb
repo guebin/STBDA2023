{
  "cells": [
    {
      "cell_type": "markdown",
      "metadata": {},
      "source": [
        "# 07wk-029: 체중감량(교호작용) / 회귀분석 – 추가해설\n",
        "\n",
        "최규빈  \n",
        "2023-10-17\n",
        "\n",
        "# 1. 강의영상\n",
        "\n",
        "<https://youtu.be/playlist?list=PLQqh36zP38-y6dmKt32J5hobALnT8wigT&si=ScK7ryQpemMS4cJd>\n",
        "\n",
        "# 2. Imports"
      ],
      "id": "ac3c88f3-2e77-4aaa-a45c-7e4d1976cb36"
    },
    {
      "cell_type": "code",
      "execution_count": 1,
      "metadata": {
        "tags": []
      },
      "outputs": [],
      "source": [
        "import numpy as np\n",
        "import pandas as pd \n",
        "import matplotlib.pyplot as plt \n",
        "import sklearn.linear_model \n",
        "import sklearn.tree\n",
        "import sklearn.model_selection"
      ],
      "id": "183d0665-f3a8-4945-9454-75da15083048"
    },
    {
      "cell_type": "markdown",
      "metadata": {},
      "source": [
        "# 3. Data"
      ],
      "id": "15b33f6a-6bc2-43d7-ab10-8bac5e8fdbdb"
    },
    {
      "cell_type": "code",
      "execution_count": 2,
      "metadata": {
        "tags": []
      },
      "outputs": [],
      "source": [
        "# n = 10000\n",
        "# Supplement = np.random.choice([True, False], n)\n",
        "# Exercise = np.random.choice([False, True], n)\n",
        "# Weight_Loss = np.where(\n",
        "#     (~Supplement & (~Exercise)),\n",
        "#     np.random.normal(loc=0, scale=1, size=n),  \n",
        "#     np.where(\n",
        "#         (Supplement & (Exercise)),\n",
        "#         np.random.normal(loc=15.00, scale=1, size=n),\n",
        "#         np.where(\n",
        "#             (~Supplement & (Exercise)),\n",
        "#             np.random.normal(loc=5.00, scale=1, size=n),\n",
        "#             np.random.normal(loc=0.5, scale=1, size=n)\n",
        "#         )\n",
        "#     )\n",
        "# )\n",
        "# df = pd.DataFrame({\n",
        "#     'Supplement': Supplement,\n",
        "#     'Exercise': Exercise,\n",
        "#     'Weight_Loss': Weight_Loss\n",
        "# })\n",
        "df_train = pd.read_csv('https://raw.githubusercontent.com/guebin/MP2023/main/posts/weightloss.csv')"
      ],
      "id": "683edec5-6a74-4085-a650-9764c9aa9b17"
    },
    {
      "cell_type": "code",
      "execution_count": 3,
      "metadata": {
        "tags": []
      },
      "outputs": [],
      "source": [
        "df_train"
      ],
      "id": "c66adefb-e333-4863-bde1-daeb72b165e4"
    },
    {
      "cell_type": "code",
      "execution_count": 4,
      "metadata": {
        "tags": []
      },
      "outputs": [],
      "source": [
        "df_train.pivot_table(index='Supplement',columns='Exercise',values='Weight_Loss')"
      ],
      "id": "5dff8ead-e270-4c83-8429-3ca06296f184"
    },
    {
      "cell_type": "markdown",
      "metadata": {},
      "source": [
        "`-` 운동과 체중감량보조제를 병행하면 시너지가 나는 것 같음\n",
        "\n",
        "# 4. 분석\n",
        "\n",
        "`-` 분석1: 모형을 아래와 같이 본다. – 언더피팅\n",
        "\n",
        "-   ${\\bf X}$: `Supplement`, `Exercise`\n",
        "-   ${\\bf y}$: `Weight_Loss`"
      ],
      "id": "32b185c5-4698-45cc-bc70-3531a0e72a1c"
    },
    {
      "cell_type": "code",
      "execution_count": 5,
      "metadata": {
        "tags": []
      },
      "outputs": [
        {
          "output_type": "stream",
          "name": "stdout",
          "text": [
            "train score = 0.8208"
          ]
        }
      ],
      "source": [
        "# step1\n",
        "X = df_train[['Supplement','Exercise']]\n",
        "y = df_train['Weight_Loss']\n",
        "# step2 \n",
        "predictr = sklearn.linear_model.LinearRegression()\n",
        "# step3\n",
        "predictr.fit(X,y)\n",
        "# step4 \n",
        "df_train['Weight_Loss_hat'] = predictr.predict(X)\n",
        "#---#\n",
        "print(f'train score = {predictr.score(X,y):.4f}')"
      ],
      "id": "20f4811e-feaa-423d-a936-3de0e8df88fe"
    },
    {
      "cell_type": "code",
      "execution_count": 6,
      "metadata": {
        "tags": []
      },
      "outputs": [],
      "source": [
        "df_train.pivot_table(index='Supplement',columns='Exercise',values='Weight_Loss')"
      ],
      "id": "53ed806b-20e6-4d05-a0f3-3f08efc38b53"
    },
    {
      "cell_type": "code",
      "execution_count": 7,
      "metadata": {
        "tags": []
      },
      "outputs": [],
      "source": [
        "df_train.pivot_table(index='Supplement',columns='Exercise',values='Weight_Loss_hat')"
      ],
      "id": "5f4348bb-f3b3-4f4a-a973-f3b0b2e34efd"
    },
    {
      "cell_type": "markdown",
      "metadata": {},
      "source": [
        "-   운동을 하면 10키로 감량효과가 있다고 추정하고 있음.\n",
        "-   보충제를 먹으면 5키로 감량효과가 있다고 추정하고 있음.\n",
        "-   대충 (10,5)의 숫자를 바꿔가면서 적합해봤는데 이게 최선이라는 의미임\n",
        "\n",
        "`-` 분석2: 모형을 아래와 같이 본다. – 딱 맞아요\n",
        "\n",
        "-   ${\\bf X}$: `Supplement`, `Exercise`, `Supplement` $\\times$\n",
        "    `Exercise`\n",
        "-   ${\\bf y}$: `Weight_Loss`\n",
        "\n",
        "> Note: 기본적인 운동의 효과 및 보조제의 효과는 각각 `Supplement`,\n",
        "> `Exercise` 로 적합하고 운동과 보조제의 시너지는\n",
        "> `Supplement`$\\times$`Exercise` 로 적합한다."
      ],
      "id": "acedb33d-bfaf-4cd0-b669-d7ae99e6edf8"
    },
    {
      "cell_type": "code",
      "execution_count": 12,
      "metadata": {
        "tags": []
      },
      "outputs": [
        {
          "output_type": "stream",
          "name": "stdout",
          "text": [
            "train score = 0.9728"
          ]
        }
      ],
      "source": [
        "# step1 \n",
        "X = df_train.eval('Interaction = Supplement * Exercise')[['Supplement','Exercise','Interaction']]\n",
        "y = df_train['Weight_Loss']\n",
        "# step2 \n",
        "predictr = sklearn.linear_model.LinearRegression()\n",
        "# step3 \n",
        "predictr.fit(X,y)\n",
        "# step4 -- pass \n",
        "df_train['Weight_Loss_hat'] = predictr.predict(X)\n",
        "#---#\n",
        "print(f'train score = {predictr.score(X,y):.4f}')"
      ],
      "id": "05bd377e-7ff4-4069-8993-2b667e12b157"
    },
    {
      "cell_type": "code",
      "execution_count": 13,
      "metadata": {
        "tags": []
      },
      "outputs": [],
      "source": [
        "df_train.pivot_table(index='Supplement',columns='Exercise',values='Weight_Loss')"
      ],
      "id": "82465f9c-db32-434a-9007-f2f3ade98c8c"
    },
    {
      "cell_type": "code",
      "execution_count": 14,
      "metadata": {
        "tags": []
      },
      "outputs": [],
      "source": [
        "df_train.pivot_table(index='Supplement',columns='Exercise',values='Weight_Loss_hat')"
      ],
      "id": "4f5b54bf-356e-45e2-947e-0154c95a5007"
    },
    {
      "cell_type": "markdown",
      "metadata": {},
      "source": [
        "-   운동의 효과는 5정도 감량효과가 있다고 추정함.\n",
        "-   보충제를 먹으면 0.5키로 감량효과가 있다고 추정함.\n",
        "-   다만 운동을 하면서 보충제를 함께 먹을 경우 발생하는 추가적인\n",
        "    시너지효과가 9.5정도라고 추정하는 것임.\n",
        "\n",
        "> **2023-10-24 추가해설**\n",
        ">\n",
        "> 만약에 운동을 안하고, 약만먹을 경우 부작용이 생긴다면? (이것도\n",
        "> 교호작용의 일종)\n",
        ">\n",
        "> -   이러한 경우 위의 모형으로 단순적합하기 어렵다. (위의 모형은\n",
        ">     “운동O/약O”인 case에서 발생하는 효과만 고려하도록 설계되어있음)\n",
        "> -   따라서 이럴 경우 차라리 (운동,약)을 결합하여 새로운 범주형 변수를\n",
        ">     만들고 그 변수에서 원핫인코딩을 하는게 좋다. (마지막 더미변수는\n",
        ">     제외하는고 좋지만, 파이썬에서는 제외하지 않아도 큰일나는건 아님)\n",
        "> -   사실 (운동,약)을 결합하여 모든 새로운 범주를 만들고 이중 필요없는\n",
        ">     범주를 또 다시 제거해야하는 과정도 분석에 포함되어야 한다.\n",
        ">     ($p$-value를 보면서 뺼수도 있고 다른 방법을 쓸 수도 있고..)\n",
        "> -   그런데 범주형 변수가 3개라면? –\\> 솔직히 이것저것 생각하기\n",
        ">     귀찮으니까 이럴떄는 “트리모형”계열을 사용하는게 속편하다. (아니면\n",
        ">     교호작용이 없길 기도하거나)"
      ],
      "id": "9fe01390-aa24-4048-9d33-2278f0268a91"
    }
  ],
  "nbformat": 4,
  "nbformat_minor": 5,
  "metadata": {
    "kernelspec": {
      "name": "python3",
      "display_name": "Python 3 (ipykernel)",
      "language": "python"
    },
    "language_info": {
      "name": "python",
      "codemirror_mode": {
        "name": "ipython",
        "version": "3"
      },
      "file_extension": ".py",
      "mimetype": "text/x-python",
      "nbconvert_exporter": "python",
      "pygments_lexer": "ipython3",
      "version": "3.10.13"
    }
  }
}