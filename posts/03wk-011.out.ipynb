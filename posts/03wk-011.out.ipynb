{
  "cells": [
    {
      "cell_type": "markdown",
      "metadata": {},
      "source": [
        "# 03wk-011: Medical Cost, 회귀분석\n",
        "\n",
        "최규빈  \n",
        "2023-09-21\n",
        "\n",
        "# 1. 강의영상\n",
        "\n",
        "<https://youtu.be/playlist?list=PLQqh36zP38-zwUq3ZIN2SNas0l8htamMO&si=dH2sszdMPMFTGeEV>\n",
        "\n",
        "# 2. Import"
      ],
      "id": "d43faa3d-0752-4128-9ffb-9d9926b5335a"
    },
    {
      "cell_type": "code",
      "execution_count": 14,
      "metadata": {},
      "outputs": [],
      "source": [
        "import numpy as np\n",
        "import pandas as pd \n",
        "import sklearn.linear_model"
      ],
      "id": "de3fe823-7dd4-4a85-a330-3cb1abd2196a"
    },
    {
      "cell_type": "markdown",
      "metadata": {},
      "source": [
        "# 3. Data 불러오기\n",
        "\n",
        "`-` 캐글에서 `Medical Cost Personal Datasets` download\n",
        "\n",
        "-   <https://www.kaggle.com/datasets/mirichoi0218/insurance>\n",
        "\n",
        "`-` Data Load"
      ],
      "id": "5be6d421-717c-4955-a416-2fb0896f4c80"
    },
    {
      "cell_type": "code",
      "execution_count": 61,
      "metadata": {},
      "outputs": [],
      "source": [
        "df = pd.read_csv('insurance.csv')\n",
        "df"
      ],
      "id": "9e29a32e-0e6f-485b-820a-db2f80115a66"
    },
    {
      "cell_type": "markdown",
      "metadata": {},
      "source": [
        "# 4. 분석\n",
        "\n",
        "## A. Data 정리"
      ],
      "id": "cf446e45-5ac3-4c38-9da4-64da15e8748f"
    },
    {
      "cell_type": "code",
      "execution_count": 6,
      "metadata": {},
      "outputs": [],
      "source": [
        "df.columns"
      ],
      "id": "0557de7d-c430-48b0-9f0d-46f73c1e66f8"
    },
    {
      "cell_type": "code",
      "execution_count": 40,
      "metadata": {},
      "outputs": [],
      "source": [
        "X = pd.get_dummies(df.drop(['charges'],axis=1))\n",
        "y = df[['charges']]"
      ],
      "id": "224cf629-b314-46a7-9b12-2415f136f687"
    },
    {
      "cell_type": "code",
      "execution_count": 41,
      "metadata": {},
      "outputs": [],
      "source": [
        "X"
      ],
      "id": "6f0f7133-d5d4-4678-b440-aefaad0ddab0"
    },
    {
      "cell_type": "code",
      "execution_count": 42,
      "metadata": {},
      "outputs": [],
      "source": [
        "y"
      ],
      "id": "60ee23a3-be24-42a1-b5d6-8febd7798ecd"
    },
    {
      "cell_type": "markdown",
      "metadata": {},
      "source": [
        "## B. Predictor 생성"
      ],
      "id": "0431cb01-51cd-46f4-8bb8-dd822ae8073d"
    },
    {
      "cell_type": "code",
      "execution_count": 43,
      "metadata": {},
      "outputs": [],
      "source": [
        "predictr = sklearn.linear_model.LinearRegression()"
      ],
      "id": "8a0bc1be-83c6-4d6c-b302-b936728cfe4f"
    },
    {
      "cell_type": "markdown",
      "metadata": {},
      "source": [
        "## C. 학습"
      ],
      "id": "f0927bfc-8db2-4c49-9ba6-5c4f2c88d7b0"
    },
    {
      "cell_type": "code",
      "execution_count": 44,
      "metadata": {},
      "outputs": [],
      "source": [
        "predictr.fit(X,y)"
      ],
      "id": "0d0e17e2-1e5a-4d68-a1d9-974e56d4449e"
    },
    {
      "cell_type": "markdown",
      "metadata": {},
      "source": [
        "## D. 예측"
      ],
      "id": "575c2dd7-5959-4d6a-b511-fe64313a2bf6"
    },
    {
      "cell_type": "code",
      "execution_count": 45,
      "metadata": {},
      "outputs": [],
      "source": [
        "df.assign(yhat = predictr.predict(X))"
      ],
      "id": "ffa4e577-f798-4d2f-b1b9-35d718009778"
    },
    {
      "cell_type": "markdown",
      "metadata": {},
      "source": [
        "## E. 평가"
      ],
      "id": "08eee1eb-f6f0-469b-a997-e65546343954"
    },
    {
      "cell_type": "code",
      "execution_count": 47,
      "metadata": {},
      "outputs": [],
      "source": [
        "predictr.score(X,y) # R^2"
      ],
      "id": "9dfcdefa-8f2b-49eb-ae3a-1d2ec10792eb"
    },
    {
      "cell_type": "markdown",
      "metadata": {},
      "source": [
        "> 0.7 이상이면 망한모형까지는 아님 (대회용으로는 부적절할 수 있으나 대충\n",
        "> 쓸 수는 있는 정도)\n",
        "\n",
        "# 5. 계수해석\n",
        "\n",
        "`-` 상수항 해석"
      ],
      "id": "0a0feb4b-9033-43d2-bed2-de6eccd9d62a"
    },
    {
      "cell_type": "code",
      "execution_count": 49,
      "metadata": {},
      "outputs": [],
      "source": [
        "predictr.intercept_"
      ],
      "id": "f9a19827-52e6-4a72-9c5d-58cd643382b6"
    },
    {
      "cell_type": "markdown",
      "metadata": {},
      "source": [
        "-   기본적인 보험료는 -666이라는 의미\n",
        "\n",
        "`-` 계수해석"
      ],
      "id": "7439e0f2-ba5e-4868-9149-3ace45e52b36"
    },
    {
      "cell_type": "code",
      "execution_count": 60,
      "metadata": {},
      "outputs": [],
      "source": [
        "pd.DataFrame({'name':list(X.columns), 'coef':predictr.coef_.reshape(-1)})"
      ],
      "id": "fd802d3e-0413-470f-959c-e2729dd1a11a"
    },
    {
      "cell_type": "markdown",
      "metadata": {},
      "source": [
        "-   지역은 잘 모르겠으나 나머지는 꽤 그럴듯해 보임"
      ],
      "id": "c391f627-56f8-4a4c-9885-063acbf6a1d9"
    }
  ],
  "nbformat": 4,
  "nbformat_minor": 5,
  "metadata": {
    "kernelspec": {
      "name": "python3",
      "display_name": "Python 3 (ipykernel)",
      "language": "python"
    },
    "language_info": {
      "name": "python",
      "codemirror_mode": {
        "name": "ipython",
        "version": "3"
      },
      "file_extension": ".py",
      "mimetype": "text/x-python",
      "nbconvert_exporter": "python",
      "pygments_lexer": "ipython3",
      "version": "3.11.4"
    }
  }
}