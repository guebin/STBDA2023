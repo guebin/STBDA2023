{
  "cells": [
    {
      "cell_type": "markdown",
      "metadata": {},
      "source": [
        "# 05wk-019: MinMaxScaler를 이용한 전처리\n",
        "\n",
        "최규빈  \n",
        "2023-10-05\n",
        "\n",
        "# 1. 강의영상\n",
        "\n",
        "<https://youtu.be/playlist?list=PLQqh36zP38-ywZaSM1Sud-5KrwZr3CwCb&si=EknsMgx3Yq6jmOoF>\n",
        "\n",
        "# 2. Imports"
      ],
      "id": "b1920b55-5fea-4d17-ba62-cc4c3227682e"
    },
    {
      "cell_type": "code",
      "execution_count": 2,
      "metadata": {},
      "outputs": [],
      "source": [
        "import numpy as np\n",
        "import pandas as pd\n",
        "import sklearn.preprocessing "
      ],
      "id": "cell-4"
    },
    {
      "cell_type": "markdown",
      "metadata": {},
      "source": [
        "# 3. `MinMaxScaler()`\n",
        "\n",
        "## A. 모티브\n",
        "\n",
        "`-` 예제자료 로드"
      ],
      "id": "648c4a59-ef73-43d7-b62d-44ace4064da1"
    },
    {
      "cell_type": "code",
      "execution_count": 6,
      "metadata": {
        "tags": []
      },
      "outputs": [],
      "source": [
        "df = pd.read_csv('https://raw.githubusercontent.com/guebin/MP2023/main/posts/employment.csv').loc[:7,['toeic','gpa']]\n",
        "df"
      ],
      "id": "cell-8"
    },
    {
      "cell_type": "markdown",
      "metadata": {},
      "source": [
        "`-` 모형을 돌려보고 해석한 결과\n",
        "\n",
        "``` python\n",
        "u = X.toeic*0.00571598 + X.gpa*2.46520018 -8.45433334\n",
        "v = 1/(1+np.exp(-u))\n",
        "v # 확률같은것임\n",
        "```\n",
        "\n",
        "-   토익이 중요해? 아니면 학점이 중요해?\n",
        "-   얼만큼 중요해?\n",
        "\n",
        "`-` 모티브: 토익점수를 0-1사이로 맞추고 gpa도 0-1사이로 맞추면 해석이\n",
        "쉽지 않을까?\n",
        "\n",
        "## B. 사용방법\n",
        "\n",
        "`-` 스케일러 생성"
      ],
      "id": "713280e2-31c5-4f9a-aad1-e8169d526886"
    },
    {
      "cell_type": "code",
      "execution_count": 11,
      "metadata": {
        "tags": []
      },
      "outputs": [],
      "source": [
        "sclr = sklearn.preprocessing.MinMaxScaler()"
      ],
      "id": "cell-14"
    },
    {
      "cell_type": "markdown",
      "metadata": {},
      "source": [
        "`-` fit, transform"
      ],
      "id": "bf7bb469-2ae2-4155-9d77-f4b334320c78"
    },
    {
      "cell_type": "code",
      "execution_count": 27,
      "metadata": {
        "tags": []
      },
      "outputs": [],
      "source": [
        "sclr.fit(df)"
      ],
      "id": "cell-16"
    },
    {
      "cell_type": "code",
      "execution_count": 28,
      "metadata": {
        "tags": []
      },
      "outputs": [],
      "source": [
        "sclr.transform(df)"
      ],
      "id": "cell-17"
    },
    {
      "cell_type": "markdown",
      "metadata": {},
      "source": [
        "`-` fit_transform"
      ],
      "id": "0c1d8082-e183-46ce-a5dd-72d87f2b2653"
    },
    {
      "cell_type": "code",
      "execution_count": 26,
      "metadata": {
        "tags": []
      },
      "outputs": [],
      "source": [
        "sclr.fit_transform(df)"
      ],
      "id": "cell-19"
    },
    {
      "cell_type": "markdown",
      "metadata": {},
      "source": [
        "## C. 잘못된 사용\n",
        "\n",
        "`-` `sclr.fit()`와 `sclr.fit_transform()`은 입력으로 2차원 자료구조를\n",
        "기대한다. (그중에서도 은근히 numpy array를 기대함)"
      ],
      "id": "2a80a7eb-262c-4967-bc5b-e05fdb3753bd"
    },
    {
      "cell_type": "code",
      "execution_count": 35,
      "metadata": {
        "tags": []
      },
      "outputs": [],
      "source": [
        "sclr.fit_transform(df['toeic']) # df['toeic']는 1차원 자료구조"
      ],
      "id": "cell-22"
    },
    {
      "cell_type": "code",
      "execution_count": 39,
      "metadata": {
        "tags": []
      },
      "outputs": [],
      "source": [
        "sclr.fit_transform(df[['toeic']]) # df[['toeic']]는 2차원 자료구조"
      ],
      "id": "cell-23"
    },
    {
      "cell_type": "markdown",
      "metadata": {},
      "source": [
        "# 4. `minmax_scale()`\n",
        "\n",
        "## A. 사용방법\n",
        "\n",
        "`-` scaler를 오브젝트로 따로 만들지 않고 함수형으로 구현"
      ],
      "id": "29b8d11b-bb7b-4d9f-8c78-03451364912a"
    },
    {
      "cell_type": "code",
      "execution_count": 40,
      "metadata": {
        "tags": []
      },
      "outputs": [],
      "source": [
        "sklearn.preprocessing.minmax_scale(df)"
      ],
      "id": "cell-27"
    },
    {
      "cell_type": "markdown",
      "metadata": {},
      "source": [
        "`-` 이것은 심지어 1차원 자료구조에도 적용가능하다."
      ],
      "id": "e0c169a3-bb61-4a24-ac80-c224d5ff57db"
    },
    {
      "cell_type": "code",
      "execution_count": 43,
      "metadata": {
        "tags": []
      },
      "outputs": [],
      "source": [
        "sklearn.preprocessing.minmax_scale(df['toeic'])"
      ],
      "id": "cell-29"
    },
    {
      "cell_type": "markdown",
      "metadata": {},
      "source": [
        "`-` 열별로 스케일링을 하는게 아니라 행별로 스케일링을 하는 것도\n",
        "가능하다. (여기서는 필요없지만..)"
      ],
      "id": "35ada0bd-9ac5-452b-9cce-631eebd07279"
    },
    {
      "cell_type": "code",
      "execution_count": 47,
      "metadata": {
        "tags": []
      },
      "outputs": [],
      "source": [
        "sklearn.preprocessing.minmax_scale(df,axis=1)"
      ],
      "id": "cell-31"
    },
    {
      "cell_type": "markdown",
      "metadata": {},
      "source": [
        "## B. discussions\n",
        "\n",
        "`-` 언뜻 보기에는 `MinMaxScaler` 보다 `minmax_scale`이 좋아보이는데,\n",
        "생각보다 일반적으로 `minmax_scale`을 사용하지는 않음. 이유는 아래와\n",
        "같음.\n",
        "\n",
        "1.  파이썬을 쓰는 사람들이 함수형 접근방식보다 객체지향 접근방식을\n",
        "    선호한다. (이건 제생각)\n",
        "2.  학습데이터와 테스트데이터의 스케일링시 동일한 변환을 유지하는\n",
        "    상황에서는 `MinMaxScaler` 가 유리함.\n",
        "3.  `inverse_transform` 메서드를 같은 부가기능을 제공함.\n",
        "\n",
        "# 5. (tr,test)의 스케일링\n",
        "\n",
        "`-` 주어진 자료가 아래와 같이 train/test로 나누어져 있다고 가정해보자."
      ],
      "id": "97089f26-c4d1-4282-9469-f7543ce4afb1"
    },
    {
      "cell_type": "code",
      "execution_count": 108,
      "metadata": {
        "tags": []
      },
      "outputs": [],
      "source": [
        "X = np.array([1.0, 2.0, 3.0, 4.0, 5.0]).reshape(-1,1)\n",
        "XX = np.array([1.5, 2.5, 3.5]).reshape(-1,1)"
      ],
      "id": "cell-36"
    },
    {
      "cell_type": "code",
      "execution_count": 94,
      "metadata": {
        "tags": []
      },
      "outputs": [],
      "source": [
        "X,XX"
      ],
      "id": "cell-37"
    },
    {
      "cell_type": "markdown",
      "metadata": {},
      "source": [
        "## A. 잘못된 스케일링 방법 – 비효율의 문제"
      ],
      "id": "2eb1f3e4-d35d-425a-a8f5-19ddb33dfe20"
    },
    {
      "cell_type": "code",
      "execution_count": 95,
      "metadata": {
        "tags": []
      },
      "outputs": [],
      "source": [
        "sklearn.preprocessing.minmax_scale(X)"
      ],
      "id": "cell-39"
    },
    {
      "cell_type": "code",
      "execution_count": 96,
      "metadata": {
        "tags": []
      },
      "outputs": [],
      "source": [
        "sklearn.preprocessing.minmax_scale(XX)"
      ],
      "id": "cell-40"
    },
    {
      "cell_type": "markdown",
      "metadata": {},
      "source": [
        "`-` 이 방법은 전략적으로 비효율적인 문제이지, 치팅과 관련된 치명적인\n",
        "잘못은 아니다.\n",
        "\n",
        "-   만약에 어떠한 경우에 이러한 전처리 방식이 오히려 전략적이라고 판단될\n",
        "    경우 사용할수도 있음.\n",
        "\n",
        "## B. 올바른 스케일링 방법\n",
        "\n",
        "`-` 방법1"
      ],
      "id": "29d2727f-e48b-40f7-a99c-b3628b844269"
    },
    {
      "cell_type": "code",
      "execution_count": 101,
      "metadata": {
        "tags": []
      },
      "outputs": [],
      "source": [
        "sclr = sklearn.preprocessing.MinMaxScaler()\n",
        "sclr.fit(X) # "
      ],
      "id": "cell-44"
    },
    {
      "cell_type": "code",
      "execution_count": 102,
      "metadata": {
        "tags": []
      },
      "outputs": [],
      "source": [
        "sclr.transform(X)"
      ],
      "id": "cell-45"
    },
    {
      "cell_type": "code",
      "execution_count": 103,
      "metadata": {
        "tags": []
      },
      "outputs": [],
      "source": [
        "sclr.transform(XX)"
      ],
      "id": "cell-46"
    },
    {
      "cell_type": "markdown",
      "metadata": {},
      "source": [
        "`-` 방법2"
      ],
      "id": "33bfca1e-66e2-4e0c-93cb-32b7ee9bad77"
    },
    {
      "cell_type": "code",
      "execution_count": 105,
      "metadata": {
        "tags": []
      },
      "outputs": [],
      "source": [
        "sclr = sklearn.preprocessing.MinMaxScaler()\n",
        "sclr.fit_transform(X)"
      ],
      "id": "cell-48"
    },
    {
      "cell_type": "code",
      "execution_count": 107,
      "metadata": {
        "tags": []
      },
      "outputs": [],
      "source": [
        "sclr.transform(XX)"
      ],
      "id": "cell-49"
    },
    {
      "cell_type": "markdown",
      "metadata": {},
      "source": [
        "## C. scaled_value $\\in$ \\[0,1\\]?\n",
        "\n",
        "`-` 주어진 자료가 아래와 같다고 하자."
      ],
      "id": "9369b367-c257-407b-8085-8dd4dd4d66f6"
    },
    {
      "cell_type": "code",
      "execution_count": 109,
      "metadata": {
        "tags": []
      },
      "outputs": [],
      "source": [
        "X = np.array([1.0, 2.0, 3.0, 4.0, 3.5]).reshape(-1,1)\n",
        "XX = np.array([1.5, 2.5, 5.0]).reshape(-1,1)"
      ],
      "id": "cell-52"
    },
    {
      "cell_type": "code",
      "execution_count": 113,
      "metadata": {
        "tags": []
      },
      "outputs": [],
      "source": [
        "sclr = sklearn.preprocessing.MinMaxScaler()\n",
        "sclr.fit_transform(X)\n",
        "sclr.transform(XX)"
      ],
      "id": "cell-53"
    },
    {
      "cell_type": "markdown",
      "metadata": {},
      "source": [
        "-   스케일링된 값이 1보다 클 수도 있다.\n",
        "\n",
        "## D. 아주 잘못된 스케일링 방법 – 정보누수\n",
        "\n",
        "`-` 주어진 자료가 아래와 같다고 하자."
      ],
      "id": "493f999b-8f09-4d36-ab7f-8cbf519e75d6"
    },
    {
      "cell_type": "code",
      "execution_count": 121,
      "metadata": {
        "tags": []
      },
      "outputs": [],
      "source": [
        "X = np.array([1.0, 2.0, 3.0, 4.0, 3.5]).reshape(-1,1)\n",
        "XX = np.array([1.5, 2.5, 5.0]).reshape(-1,1)"
      ],
      "id": "cell-57"
    },
    {
      "cell_type": "markdown",
      "metadata": {},
      "source": [
        "`-` 데이터를 합친다.. (미쳤어??)"
      ],
      "id": "6a5dd2de-ef12-4917-a1dd-c44410ed7c2b"
    },
    {
      "cell_type": "code",
      "execution_count": 122,
      "metadata": {
        "tags": []
      },
      "outputs": [],
      "source": [
        "np.concatenate([X,XX])"
      ],
      "id": "cell-59"
    },
    {
      "cell_type": "markdown",
      "metadata": {},
      "source": [
        "`-` 합친데이터에서 스케일링"
      ],
      "id": "892131a6-f4c7-41c9-9a08-e16aaeb50b45"
    },
    {
      "cell_type": "code",
      "execution_count": 120,
      "metadata": {
        "tags": []
      },
      "outputs": [],
      "source": [
        "sklearn.preprocessing.minmax_scale(np.concatenate([X,XX]))[:5]"
      ],
      "id": "cell-61"
    },
    {
      "cell_type": "markdown",
      "metadata": {},
      "source": [
        "`-` 이러한 전처리 방식을 `정보누수`라고 한다. (대회 규정에 따라서\n",
        "탈락사유에 해당함)\n",
        "\n",
        "# 6. `inverse_transform`"
      ],
      "id": "ac9df0d5-07ab-4d98-bd66-3cdac3c48893"
    },
    {
      "cell_type": "code",
      "execution_count": 51,
      "metadata": {
        "tags": []
      },
      "outputs": [],
      "source": [
        "arr = sclr.fit_transform(df)\n",
        "arr "
      ],
      "id": "cell-64"
    },
    {
      "cell_type": "code",
      "execution_count": 62,
      "metadata": {
        "tags": []
      },
      "outputs": [],
      "source": [
        "sclr.inverse_transform(arr).round(5)"
      ],
      "id": "cell-65"
    }
  ],
  "nbformat": 4,
  "nbformat_minor": 5,
  "metadata": {
    "kernelspec": {
      "name": "python3",
      "display_name": "Python 3 (ipykernel)",
      "language": "python"
    },
    "language_info": {
      "name": "python",
      "codemirror_mode": {
        "name": "ipython",
        "version": "3"
      },
      "file_extension": ".py",
      "mimetype": "text/x-python",
      "nbconvert_exporter": "python",
      "pygments_lexer": "ipython3",
      "version": "3.10.13"
    }
  }
}