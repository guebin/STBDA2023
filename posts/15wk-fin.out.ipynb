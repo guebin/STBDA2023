{
  "cells": [
    {
      "cell_type": "markdown",
      "metadata": {},
      "source": [
        "# 15wk-fin\n",
        "\n",
        "최규빈  \n",
        "2023-12-21"
      ],
      "id": "4cce6c4b-cc6f-4907-bc1a-feac4adf3fec"
    },
    {
      "cell_type": "code",
      "execution_count": 1,
      "metadata": {
        "tags": []
      },
      "outputs": [],
      "source": [
        "import numpy as np\n",
        "import pandas as pd\n",
        "import matplotlib.pyplot as plt\n",
        "import seaborn as sns\n",
        "import sklearn.metrics"
      ],
      "id": "7c1e144d-9488-45db-aea5-bb5bf7f4693e"
    },
    {
      "cell_type": "markdown",
      "metadata": {},
      "source": [
        "1.  의사결정나무의 수동구현은 위에서 제시된 모듈 (numpy, pandas,\n",
        "    sklearn.metrics, matplotlib, seaborn) 만을 사용해야하며 이외의\n",
        "    모듈을 사용할 경우 0점 처리함.\n",
        "2.  True/False를 판단하는 문제는 답만 써도 무방함. (이유를 써도\n",
        "    상관없음)\n",
        "3.  Treu/False의 판단 문제는 모두 맞출 경우만 정답으로 인정함. 다만\n",
        "    틀린이유가 사소하다고 판단할경우 감점없이 만점처리함.\n",
        "\n",
        "# 1. 의사결정나무의 수동구현 (70점)"
      ],
      "id": "d7966f07-bc0d-48e8-aa8f-c72d54415bbb"
    },
    {
      "cell_type": "code",
      "execution_count": 2,
      "metadata": {},
      "outputs": [],
      "source": [
        "df_train = pd.read_csv('https://raw.githubusercontent.com/guebin/MP2023/master/posts/height_train.csv')\n",
        "df_train"
      ],
      "id": "c487030d-5f91-4ff0-92d5-791961eaf3fd"
    },
    {
      "cell_type": "markdown",
      "metadata": {},
      "source": [
        "`(1)` `df_train`에서 “sex”,“weight”를 설명변수로 “height”을 반응변수로\n",
        "설정하라. 결측치가 있을 경우 결측값에 일괄적으로 -99로 채워넣어라.\n",
        "\n",
        "**힌트**: 결측치를 처리하기 위해 아래의 코드를 관찰하라."
      ],
      "id": "b2aad5b6-c019-4eff-b7be-f8316b2077fd"
    },
    {
      "cell_type": "code",
      "execution_count": 3,
      "metadata": {
        "tags": []
      },
      "outputs": [],
      "source": [
        "df_toy = pd.DataFrame({'X':[1,2,np.nan,np.nan,5],'y':[3,4,5,1,2]})\n",
        "df_toy"
      ],
      "id": "c8592e77-fc5d-443b-9318-2f2ca9f1951b"
    },
    {
      "cell_type": "code",
      "execution_count": 4,
      "metadata": {
        "tags": []
      },
      "outputs": [],
      "source": [
        "df_toy.fillna(-99)"
      ],
      "id": "3dcce341-83e6-4ff4-9a2c-deeefe99a016"
    },
    {
      "cell_type": "markdown",
      "metadata": {},
      "source": [
        "`(2)` `height`열의 평균으로 `height`의 값을 추정하라. 추정값을 `yhat`에\n",
        "저장하라. `sklearn.metrics.r2_score()`을 이용하여 `r2_score`를 계산하라.\n",
        "\n",
        "**hint:** 0이 나와야 한다.\n",
        "\n",
        "`(3)` 아래를 계산하라.\n",
        "\n",
        "-   `r` = `y` - `yhat`\n",
        "\n",
        "여기에서 `yhat`은 `(2)`의 결과로 얻어진 적합값을 의미한다. 이제 `r`에\n",
        "Weight를 기준으로 의사결정나무를 적용하여 아래와 같은 분할을 만들어라.\n",
        "\n",
        "-   `X['weight']` \\< `c`\n",
        "-   `X['weight']` \\>= `c`\n",
        "\n",
        "`sklearn.metrics.r2_score()`를 이용하여 최적의 $c$값을 구하여라.\n",
        "\n",
        "**참고**\n",
        "\n",
        "아래의 구간을 적당히 등분하여 구할 것. 너무 세밀하게 등분하지 않아도\n",
        "무방함.\n",
        "\n",
        "``` python\n",
        "(X['weight'].min(), X['weight'].max())\n",
        "```\n",
        "\n",
        "`(4)` `(3)`의 결과로 얻어진 아래의 분할을 고려하자.\n",
        "\n",
        "``` python\n",
        "X['weight'] >= c\n",
        "```\n",
        "\n",
        "이 분할에서 depth=2 로 나무를 성장하고자 한다. 성장이가능한가? 성장이\n",
        "가능하다면 이때 나무를 성장시키기 위한 변수로 weigth와 sex중 무엇이\n",
        "적절한가? 왜 그렇다고 생각하는가?\n",
        "\n",
        "`(5)` `(3)`의 결과로 얻어진 아래의 분할을 고려하자.\n",
        "\n",
        "``` python\n",
        "X['weight'] < c\n",
        "```\n",
        "\n",
        "이 분할에서 depth=2 로 나무를 성장하고자 한다. 성장이가능한가? 성장이\n",
        "가능하다면 이때 나무를 성장시키기 위한 변수로 weigth와 sex중 무엇이\n",
        "적절한가? 왜 그렇다고 생각하는가?\n",
        "\n",
        "`(6)` `(3)`-`(5)`의 결과를 이용하여 `depth=2`인 의사결정나무에 의한\n",
        "`r`의 적합값을 구하여라. 이를 이용하여 `yhat`을 update하라. 이때\n",
        "학습률은 0.1로 설정하고 업데이트된 결과를 `yhat2`로 저장하라.\n",
        "그리고`sklearn.metrics.r2_score()`을 이용하여 `y`와 `yhat2`의\n",
        "`r2_score`를 계산하라.\n",
        "\n",
        "힌트: 아래의 알고리즘이 동치임을 이용하라.\n",
        "\n",
        "-   `yhat2` $\\leftarrow$ `yhat` + 학습률 $\\times$ `rhat`\n",
        "-   `r2` $\\leftarrow$ `r` - 학습률 $\\times$ `rhat`, where `r2` = `y` -\n",
        "    `yhat2`\n",
        "\n",
        "`(7)` `(6)`에서 학습률이 0.5일 경우 `y`와 `yhat2`의 `r2_score`를\n",
        "계산하라.\n",
        "\n",
        "# 2. 다음을 읽고 참거짓을 판단하라. (30점)\n",
        "\n",
        "`(1)` 의사결정나무에서 `max_depth`의 설정값이 커질수록 오버피팅의 위험이\n",
        "있다.\n",
        "\n",
        "`(2)` 배깅의 설명변수중 일부를 drop 하며 나무를 성장시킨다.\n",
        "\n",
        "`(3)` 랜덤포레스트는 나무가지를 랜덤으로 성장시키기도 하고 파괴시키기도\n",
        "한다.\n",
        "\n",
        "`(4)` 부스팅은 여러가지 의사결정나무의 적합값을 평균내는 방식으로\n",
        "최종예측을 한다.\n",
        "\n",
        "`(5)` `Accuracy`는 분류문제에서 언제나 가장 합리적인 평가지표이다.\n",
        "\n",
        "`(6)` 모듈49의 아래그림은 “sex == ‘male’” 일 경우 “sex=‘female’”\n",
        "일때보다 항상(=모든 관측치에 대하여) 키의 예측값을 +2.1 만큼 보정해야\n",
        "한다는 것을 의미한다.\n",
        "\n",
        "![](https://guebin.github.io/MP2023/posts/13wk-49_files/figure-html/cell-14-output-2.png)\n",
        "\n",
        "`(7)` 모듈54에서 제시된 아래의 그림은 사실 전혀 고려할 필요가 없다.\n",
        "\n",
        "![](https://guebin.github.io/MP2023/posts/13wk-54_files/figure-html/cell-6-output-6.png)\n",
        "\n",
        "왜냐하면 Exercise는 범주형, Weight_Loss는 연속형이므로 correlation값은\n",
        "의미가 없기 때문이다.\n",
        "\n",
        "`(8)` 시계열분석에서 `static_feature`란 이미 알고있는 미래의\n",
        "시계열자료를 의미한다.\n",
        "\n",
        "`(9)` 모듈59에서 소개된 자전거대여자료와 같이 시간특징이 포함된 자료는\n",
        "언제나 (과거를 기반으로 미래를 예측하는) 시계열분석을 하는 것이\n",
        "올바르다.\n",
        "\n",
        "`(10)` 모듈60에서 소개된 하이퍼파라메터 설정법을 이용하면 때때로 모형의\n",
        "적합도를 높일 수 있다."
      ],
      "id": "010fd09f-fafb-4e3b-9ae5-1966bc415cc5"
    }
  ],
  "nbformat": 4,
  "nbformat_minor": 5,
  "metadata": {
    "kernelspec": {
      "name": "python3",
      "display_name": "Python 3 (ipykernel)",
      "language": "python"
    },
    "language_info": {
      "name": "python",
      "codemirror_mode": {
        "name": "ipython",
        "version": "3"
      },
      "file_extension": ".py",
      "mimetype": "text/x-python",
      "nbconvert_exporter": "python",
      "pygments_lexer": "ipython3",
      "version": "3.10.13"
    }
  }
}