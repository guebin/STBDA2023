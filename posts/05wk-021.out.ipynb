{
  "cells": [
    {
      "cell_type": "markdown",
      "metadata": {},
      "source": [
        "# 05wk-021: 취업+밸런스게임, 오버피팅\n",
        "\n",
        "최규빈  \n",
        "2023-10-05\n",
        "\n",
        "# 1. 강의영상\n",
        "\n",
        "<https://youtu.be/playlist?list=PLQqh36zP38-zxnl-vcjgZTeJxvNiOT4V0&si=q98aHqMKQyrCr8dW>\n",
        "\n",
        "# 2. Imports"
      ],
      "id": "10e63b11-2578-46ca-9720-3aa31ecc1315"
    },
    {
      "cell_type": "code",
      "execution_count": 55,
      "metadata": {
        "tags": []
      },
      "outputs": [],
      "source": [
        "import numpy as np\n",
        "import pandas as pd\n",
        "import sklearn.linear_model"
      ],
      "id": "18b30a49-9c78-44b9-b1ad-a662c12ca804"
    },
    {
      "cell_type": "markdown",
      "metadata": {},
      "source": [
        "# 3. 밸런스게임\n",
        "\n",
        "`-` ref: <https://verovero1.tistory.com/136>\n",
        "\n",
        "`-` 하고 싶은 말: 내가 원한다면 무수히 많은 데이터를 모을 수 있다고\n",
        "가정하자.[1]\n",
        "\n",
        "# 4. 상황1\n",
        "\n",
        "`-` 아래의 자료를 고려하자.\n",
        "\n",
        "[1] 빅데이터?????"
      ],
      "id": "98f3dd42-107d-40ed-8985-3d6c86128bd5"
    },
    {
      "cell_type": "code",
      "execution_count": 2,
      "metadata": {
        "tags": []
      },
      "outputs": [],
      "source": [
        "data = {\n",
        "    'toeic': [640, 705, 930, 755, 410, 655, 400, 915, 970, 895],\n",
        "    'gpa': [0.712533, 0.639031, 0.148400, 1.230271, 3.279419, 1.255110, 4.157389, 3.714847, 1.584432, 2.170776],\n",
        "    'employment': [1, 0, 0, 0, 1, 0, 1, 1, 1, 0],\n",
        "    'balance_game_1': [1, 0, 0, 0, 1, 0, 1, 0, 0, 0]\n",
        "}\n",
        "\n",
        "df = pd.DataFrame(data)\n",
        "df"
      ],
      "id": "62d072e6-f83d-427c-a98f-2b1dcc5cb006"
    },
    {
      "cell_type": "markdown",
      "metadata": {},
      "source": [
        "`-` train/test 를 아래와 같이 구분한다고 하자."
      ],
      "id": "0e829a41-2bc9-4a9a-bfd0-29511be0bff9"
    },
    {
      "cell_type": "code",
      "execution_count": 3,
      "metadata": {
        "tags": []
      },
      "outputs": [],
      "source": [
        "df_train = df[:7]\n",
        "df_test = df[7:]"
      ],
      "id": "a73087b9-9be2-4573-9d01-f171a3611e09"
    },
    {
      "cell_type": "code",
      "execution_count": 4,
      "metadata": {
        "tags": []
      },
      "outputs": [],
      "source": [
        "df_train"
      ],
      "id": "37e48452-0cd8-47b1-b512-41dc14e88710"
    },
    {
      "cell_type": "code",
      "execution_count": 5,
      "metadata": {
        "tags": []
      },
      "outputs": [],
      "source": [
        "df_test"
      ],
      "id": "b44d3d75-c5ab-4018-81c1-6dc973f4de9e"
    },
    {
      "cell_type": "markdown",
      "metadata": {},
      "source": [
        "`-` 직감: 이 자료를 가지고 학습하면 반드시 망한다..\n",
        "\n",
        "`-` 결론: 자료가 많다고 무조건 좋은것은 아니다. 쓸모없는 자료는 오히려\n",
        "학습을 방해할 수 있다. 그래서 train에서는 잘 맞추지만 test에서는 잘\n",
        "못맞추는 현상이 생길수도 있다. 이러한 현상을 오버피팅이라고 한다.\n",
        "\n",
        "`-` 반론: 예제가 너무 억지스러운것 아니야?\n",
        "\n",
        "# 5. 상황2\n",
        "\n",
        "`-` 다시 아래의 자료를 가정하자."
      ],
      "id": "e5495c7a-841f-4946-8dd4-26163138cf74"
    },
    {
      "cell_type": "code",
      "execution_count": 28,
      "metadata": {
        "tags": []
      },
      "outputs": [],
      "source": [
        "data = {\n",
        "    'toeic': [640, 705, 930, 755, 410, 655, 400, 915, 970, 895],\n",
        "    'gpa': [0.712533, 0.639031, 0.148400, 1.230271, 3.279419, 1.255110, 4.157389, 3.714847, 1.584432, 2.170776],\n",
        "    'employment': [1, 0, 0, 0, 1, 0, 1, 1, 1, 0]\n",
        "}\n",
        "df = pd.DataFrame(data)\n",
        "df"
      ],
      "id": "7db4a6ff-0091-484d-a400-7432d6052054"
    },
    {
      "cell_type": "code",
      "execution_count": 29,
      "metadata": {
        "tags": []
      },
      "outputs": [],
      "source": [
        "np.random.seed(43052)\n",
        "arr = (np.random.rand(10*50).reshape(10,50) >0.5)*1.0\n",
        "df_balance = pd.DataFrame(arr,columns=['X'+str(i) for i in range(50)])\n",
        "df = pd.concat([df,df_balance],axis=1)"
      ],
      "id": "cd1c0376-90c8-47fe-864e-397af75dc826"
    },
    {
      "cell_type": "code",
      "execution_count": 37,
      "metadata": {
        "tags": []
      },
      "outputs": [],
      "source": [
        "df"
      ],
      "id": "7ae99eda-8119-4631-bceb-64467f98855c"
    },
    {
      "cell_type": "code",
      "execution_count": 42,
      "metadata": {
        "tags": []
      },
      "outputs": [],
      "source": [
        "(df.X12 + df.X43 + df.X8 - df.X29)>0"
      ],
      "id": "2eddb8c1-0098-4ef8-819d-5cc4e71d0e31"
    },
    {
      "cell_type": "code",
      "execution_count": 40,
      "metadata": {
        "tags": []
      },
      "outputs": [],
      "source": [
        "df.employment"
      ],
      "id": "9b578ff2-19d7-4eaf-aba2-cc66443e356f"
    },
    {
      "cell_type": "markdown",
      "metadata": {},
      "source": [
        "`-` 수틀리면 50억번 밸런스게임을 진행할 수도 있어..\n",
        "\n",
        "# 6. 이상한 자료로 분석\n",
        "\n",
        "`-` 취업자료를 변경"
      ],
      "id": "9d858446-1734-4bd1-91b7-0ebb91d073ef"
    },
    {
      "cell_type": "code",
      "execution_count": 45,
      "metadata": {
        "tags": []
      },
      "outputs": [],
      "source": [
        "df = pd.read_csv('https://raw.githubusercontent.com/guebin/MP2023/main/posts/employment.csv')\n",
        "df"
      ],
      "id": "cd0014c0-238e-490a-8920-4efb65db4281"
    },
    {
      "cell_type": "code",
      "execution_count": 46,
      "metadata": {
        "tags": []
      },
      "outputs": [],
      "source": [
        "df_balance = pd.DataFrame((np.random.randn(500,5000)>0.5).reshape(500,5000)*1,columns = ['X'+str(i) for i in range(5000)])\n",
        "df_merged = pd.concat([df,df_balance],axis=1)\n",
        "df_merged"
      ],
      "id": "bf3e3da1-53c4-4213-b829-e845597dade4"
    },
    {
      "cell_type": "markdown",
      "metadata": {},
      "source": [
        "`-` (X,y), (XX,yy)"
      ],
      "id": "55dd548d-4050-4c6a-b7ae-d95e2d776fda"
    },
    {
      "cell_type": "code",
      "execution_count": 60,
      "metadata": {
        "tags": []
      },
      "outputs": [],
      "source": [
        "X = df_merged.drop(['employment'],axis=1)[:400]\n",
        "XX = df_merged.drop(['employment'],axis=1)[400:]\n",
        "y = df_merged[['employment']][:400]\n",
        "yy = df_merged[['employment']][400:]"
      ],
      "id": "6509c146-c53b-4bd2-9259-eb7df0de159d"
    },
    {
      "cell_type": "markdown",
      "metadata": {},
      "source": [
        "`-` predictor 생성, 학습, 평가"
      ],
      "id": "287d5cb6-1de2-49a9-ba68-488256167f6c"
    },
    {
      "cell_type": "code",
      "execution_count": 61,
      "metadata": {
        "tags": []
      },
      "outputs": [
        {
          "output_type": "stream",
          "name": "stderr",
          "text": [
            "/home/cgb2/anaconda3/envs/ag/lib/python3.10/site-packages/sklearn/utils/validation.py:1183: DataConversionWarning: A column-vector y was passed when a 1d array was expected. Please change the shape of y to (n_samples, ), for example using ravel().\n",
            "  y = column_or_1d(y, warn=True)\n",
            "/home/cgb2/anaconda3/envs/ag/lib/python3.10/site-packages/sklearn/linear_model/_logistic.py:460: ConvergenceWarning: lbfgs failed to converge (status=1):\n",
            "STOP: TOTAL NO. of ITERATIONS REACHED LIMIT.\n",
            "\n",
            "Increase the number of iterations (max_iter) or scale the data as shown in:\n",
            "    https://scikit-learn.org/stable/modules/preprocessing.html\n",
            "Please also refer to the documentation for alternative solver options:\n",
            "    https://scikit-learn.org/stable/modules/linear_model.html#logistic-regression\n",
            "  n_iter_i = _check_optimize_result("
          ]
        }
      ],
      "source": [
        "prdtr = sklearn.linear_model.LogisticRegression()\n",
        "prdtr.fit(X,y) "
      ],
      "id": "e22c804d-c01b-4acc-bd67-2e18f6c34764"
    },
    {
      "cell_type": "code",
      "execution_count": 62,
      "metadata": {
        "tags": []
      },
      "outputs": [],
      "source": [
        "prdtr.score(X,y)"
      ],
      "id": "9a1afdda-54ef-4398-aefc-d48b91cb6d01"
    },
    {
      "cell_type": "code",
      "execution_count": 63,
      "metadata": {
        "tags": []
      },
      "outputs": [],
      "source": [
        "prdtr.score(XX,yy)"
      ],
      "id": "2c0e5051-d02e-4e14-9b49-8dacb68cdaa2"
    },
    {
      "cell_type": "markdown",
      "metadata": {},
      "source": [
        "# 7. 올바른 자료로 분석\n",
        "\n",
        "`-` 올바른 취업자료"
      ],
      "id": "902c7d63-8a14-4490-b328-48d710cc6e73"
    },
    {
      "cell_type": "code",
      "execution_count": 64,
      "metadata": {
        "tags": []
      },
      "outputs": [],
      "source": [
        "df = pd.read_csv('https://raw.githubusercontent.com/guebin/MP2023/main/posts/employment.csv')\n",
        "df"
      ],
      "id": "bf1d3acc-b79f-469e-8354-c16492842a25"
    },
    {
      "cell_type": "markdown",
      "metadata": {},
      "source": [
        "`-` (X,y), (XX,yy)"
      ],
      "id": "fa546eed-12f1-4876-83f7-51ca796a4c50"
    },
    {
      "cell_type": "code",
      "execution_count": 65,
      "metadata": {
        "tags": []
      },
      "outputs": [],
      "source": [
        "X = df.drop(['employment'],axis=1)[:400]\n",
        "XX = df.drop(['employment'],axis=1)[400:]\n",
        "y = df[['employment']][:400]\n",
        "yy = df[['employment']][400:]"
      ],
      "id": "0098e76e-eba7-4dec-bc61-adbc8240ecbd"
    },
    {
      "cell_type": "markdown",
      "metadata": {},
      "source": [
        "`-` predictor 생성, 학습, 평가"
      ],
      "id": "a1ad49e1-02fd-4604-8833-6354c7771e8f"
    },
    {
      "cell_type": "code",
      "execution_count": 71,
      "metadata": {
        "tags": []
      },
      "outputs": [
        {
          "output_type": "stream",
          "name": "stderr",
          "text": [
            "/home/cgb2/anaconda3/envs/ag/lib/python3.10/site-packages/sklearn/utils/validation.py:1183: DataConversionWarning: A column-vector y was passed when a 1d array was expected. Please change the shape of y to (n_samples, ), for example using ravel().\n",
            "  y = column_or_1d(y, warn=True)"
          ]
        }
      ],
      "source": [
        "prdtr = sklearn.linear_model.LogisticRegression()\n",
        "prdtr.fit(X,y) "
      ],
      "id": "73216647-49c0-430e-a217-d70be275bf15"
    },
    {
      "cell_type": "code",
      "execution_count": 72,
      "metadata": {
        "tags": []
      },
      "outputs": [],
      "source": [
        "prdtr.score(X,y)"
      ],
      "id": "14dc8547-3394-46dc-9781-8344b550c081"
    },
    {
      "cell_type": "code",
      "execution_count": 73,
      "metadata": {
        "tags": []
      },
      "outputs": [],
      "source": [
        "prdtr.score(XX,yy)"
      ],
      "id": "6287b8cd-7775-466b-aa79-b8cc24b6e72b"
    },
    {
      "cell_type": "markdown",
      "metadata": {},
      "source": [
        "# 8. 오버피팅\n",
        "\n",
        "## A. 학부1~2학년 수준의 설명\n",
        "\n",
        "`-` 과적합(Overfitting): 머신러닝과 통계에서 자주 나타나는 문제로,\n",
        "모델이 학습데이터에 과도하게 최적화가 되어서 실제로 새로운 데이터나\n",
        "테스트데이터에서 성능이 저하되는 현상을 말함.\n",
        "\n",
        "`-` 오버피팅의 원인:\n",
        "\n",
        "-   불필요한 특징: 불필요한 특징이 데이터에 포함되어 있다면 오버피팅이\n",
        "    발생할 수 있음.\n",
        "\n",
        "## B. 일반인 수준의 설명\n",
        "\n",
        "`-` 시험 공부(1): 공부를 하랬더니 외우고 있음..\n",
        "\n",
        "`-` 시험 공부(2): (시험 하루 전날에) 공부 그만하고 술이나 먹으러 가자..\n",
        "더 공부하면 train error만 줄일 뿐이야..\n",
        "\n",
        "`-` 운전: 특정도로에서만 운전연습을 했음. 그래서 그 도로의 구멍, 곡률,\n",
        "신호등의 위치까지 완벽하게 숙지하였음. 그 결과 그 도로에서는 잘하게\n",
        "되었지만, 그 도로 이외의 다른도로에서 운전을 한다면 문제가 발생함.\n",
        "\n",
        "`-` 언어: 특정 주제나 특정 상황에 대한 대화만을 반복적으로 연습하여, 그\n",
        "상황에서는 완벽한 대화가 가능하지만 그 외의 상황에서는 대화를 제대로\n",
        "이어나갈 수 없음.\n",
        "\n",
        "# 9. 숙제\n",
        "\n",
        "`-` 오버피팅을 쉽게 설명할 수 있는 예시를 고민해보고 그 예시를 제출할것."
      ],
      "id": "87210981-cf15-4554-bf84-618a49b87d64"
    }
  ],
  "nbformat": 4,
  "nbformat_minor": 5,
  "metadata": {
    "kernelspec": {
      "name": "python3",
      "display_name": "Python 3 (ipykernel)",
      "language": "python"
    },
    "language_info": {
      "name": "python",
      "codemirror_mode": {
        "name": "ipython",
        "version": "3"
      },
      "file_extension": ".py",
      "mimetype": "text/x-python",
      "nbconvert_exporter": "python",
      "pygments_lexer": "ipython3",
      "version": "3.10.13"
    }
  }
}