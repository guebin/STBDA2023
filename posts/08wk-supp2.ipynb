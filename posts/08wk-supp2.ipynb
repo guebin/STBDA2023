{
 "cells": [
  {
   "cell_type": "raw",
   "id": "f106c850-421c-4ebf-a682-70a387af49fa",
   "metadata": {
    "tags": []
   },
   "source": [
    "---\n",
    "title: \"08wk: 중간고사 (ver 0.1)\"\n",
    "author: \"최규빈\"\n",
    "date: \"11/02/2023\"\n",
    "bibliography: ref.bib\n",
    "draft: true\n",
    "---"
   ]
  },
  {
   "cell_type": "markdown",
   "id": "f46e54e6-f624-400a-aee4-af26f4fbd647",
   "metadata": {},
   "source": [
    "{{<video https://youtu.be/h5WnvWsqgtI?si=6-GRGyscR2_7BErA >}}"
   ]
  },
  {
   "cell_type": "markdown",
   "id": "415ef847-9b1e-4251-afec-816a442774f0",
   "metadata": {},
   "source": [
    "---\n",
    "\n",
    "1. True/False를 판단하는 문제는 답만 써도 무방함. \n",
    "2. \"자료분석\" 문제는 \"kaggle style score = 50%\", \"분석의 논리 = 50%\" 의 배점으로 채점한다. \n",
    "3. \"자료분석\" 유형의 경우 분석의 논리가 매우 우수하거나, 창의적인 접근법으로 분석을 시도할 경우 가산점을 부여한다. (아이디어 단계에서도 가산점 부여가능) 가산점은 문항점수의 최대 100%까지 부여한다. \n",
    "4. \"연구\" 문항의 경우 세부문항을 정확하게 수행한 경우에만 100%의 점수를 부여하며 이를 어길시 부분점수를 부여하지 않는다. 연구결과의 시각화나 해석이 우수한 답안은 문항점수의 20%까지 가산점을 부여한다. \n",
    "---"
   ]
  },
  {
   "cell_type": "code",
   "execution_count": 29,
   "id": "70bd7605-1f7a-48be-ab9a-ccca3295104e",
   "metadata": {
    "tags": []
   },
   "outputs": [],
   "source": [
    "import pandas as pd\n",
    "import numpy as np\n",
    "import matplotlib.pyplot as plt\n",
    "import sklearn.preprocessing \n",
    "import sklearn.model_selection"
   ]
  },
  {
   "cell_type": "markdown",
   "id": "e6e7a2bf-4c38-46bf-950e-7afa49680225",
   "metadata": {},
   "source": [
    "# `1`. O/X "
   ]
  },
  {
   "cell_type": "markdown",
   "id": "669302a1-c09d-4e7f-9c3c-50a99181bbed",
   "metadata": {},
   "source": [
    "- <https://www.kaggle.com/t/7911b05108f642e094ce13a77a5a4723>"
   ]
  },
  {
   "cell_type": "markdown",
   "id": "63b4d283-15a9-4d03-a44a-8070c535befe",
   "metadata": {},
   "source": [
    "`(1)` [모듈9 5-B](https://guebin.github.io/MP2023/posts/03wk-009.html#b.-predictor-%EC%83%9D%EC%84%B1)에서 `sklearn.linear_model.LinearRegression()` 대신 `sklearn.linear_model.LogisticRegression()` 를 이용하여 predictor를 생성해도 무방하다. "
   ]
  },
  {
   "cell_type": "markdown",
   "id": "a1491f1f-c598-4b55-b6f3-817b9cb130aa",
   "metadata": {
    "tags": []
   },
   "source": [
    "> 링크를 `shift + 클릭`하면 새 창으로 열려서 문제 풀기 수월합니다. "
   ]
  },
  {
   "cell_type": "markdown",
   "id": "950b1298-bb1b-4e6a-83fd-353a7783caaa",
   "metadata": {},
   "source": [
    "# `2`. 자료분석"
   ]
  },
  {
   "cell_type": "markdown",
   "id": "ee82d7da-ea2c-42c7-be32-5e3dd538c83a",
   "metadata": {},
   "source": [
    "`(1)` 아래의 자료를 해석하고 세부지침에 맞추어 분석하라. "
   ]
  },
  {
   "cell_type": "code",
   "execution_count": 121,
   "id": "54316308-ea49-4eac-9887-2896d4ee3011",
   "metadata": {
    "tags": []
   },
   "outputs": [],
   "source": [
    "df_train = pd.read_csv('https://raw.githubusercontent.com/guebin/MP2023/master/posts/mid/icesales_train.csv')\n",
    "df_test = pd.read_csv('https://raw.githubusercontent.com/guebin/MP2023/master/posts/mid/icesales_test.csv')"
   ]
  },
  {
   "cell_type": "code",
   "execution_count": 122,
   "id": "e76ab4c7-f5ad-4053-9027-59bb7dc86918",
   "metadata": {
    "tags": []
   },
   "outputs": [
    {
     "data": {
      "text/html": [
       "<div>\n",
       "<style scoped>\n",
       "    .dataframe tbody tr th:only-of-type {\n",
       "        vertical-align: middle;\n",
       "    }\n",
       "\n",
       "    .dataframe tbody tr th {\n",
       "        vertical-align: top;\n",
       "    }\n",
       "\n",
       "    .dataframe thead th {\n",
       "        text-align: right;\n",
       "    }\n",
       "</style>\n",
       "<table border=\"1\" class=\"dataframe\">\n",
       "  <thead>\n",
       "    <tr style=\"text-align: right;\">\n",
       "      <th></th>\n",
       "      <th>temp</th>\n",
       "      <th>type</th>\n",
       "      <th>sales</th>\n",
       "    </tr>\n",
       "  </thead>\n",
       "  <tbody>\n",
       "    <tr>\n",
       "      <th>0</th>\n",
       "      <td>-4.1</td>\n",
       "      <td>choco</td>\n",
       "      <td>10.900261</td>\n",
       "    </tr>\n",
       "    <tr>\n",
       "      <th>1</th>\n",
       "      <td>-3.7</td>\n",
       "      <td>choco</td>\n",
       "      <td>14.002524</td>\n",
       "    </tr>\n",
       "    <tr>\n",
       "      <th>2</th>\n",
       "      <td>-3.7</td>\n",
       "      <td>vanilla</td>\n",
       "      <td>26.008644</td>\n",
       "    </tr>\n",
       "    <tr>\n",
       "      <th>3</th>\n",
       "      <td>-3.0</td>\n",
       "      <td>choco</td>\n",
       "      <td>15.928335</td>\n",
       "    </tr>\n",
       "    <tr>\n",
       "      <th>4</th>\n",
       "      <td>-1.3</td>\n",
       "      <td>vanilla</td>\n",
       "      <td>29.597396</td>\n",
       "    </tr>\n",
       "  </tbody>\n",
       "</table>\n",
       "</div>"
      ],
      "text/plain": [
       "   temp     type      sales\n",
       "0  -4.1    choco  10.900261\n",
       "1  -3.7    choco  14.002524\n",
       "2  -3.7  vanilla  26.008644\n",
       "3  -3.0    choco  15.928335\n",
       "4  -1.3  vanilla  29.597396"
      ]
     },
     "execution_count": 122,
     "metadata": {},
     "output_type": "execute_result"
    }
   ],
   "source": [
    "df_train.head()"
   ]
  },
  {
   "cell_type": "code",
   "execution_count": 123,
   "id": "402f4c39-388c-4114-be5e-c38c88310fc8",
   "metadata": {
    "tags": []
   },
   "outputs": [
    {
     "data": {
      "text/html": [
       "<div>\n",
       "<style scoped>\n",
       "    .dataframe tbody tr th:only-of-type {\n",
       "        vertical-align: middle;\n",
       "    }\n",
       "\n",
       "    .dataframe tbody tr th {\n",
       "        vertical-align: top;\n",
       "    }\n",
       "\n",
       "    .dataframe thead th {\n",
       "        text-align: right;\n",
       "    }\n",
       "</style>\n",
       "<table border=\"1\" class=\"dataframe\">\n",
       "  <thead>\n",
       "    <tr style=\"text-align: right;\">\n",
       "      <th></th>\n",
       "      <th>temp</th>\n",
       "      <th>type</th>\n",
       "    </tr>\n",
       "  </thead>\n",
       "  <tbody>\n",
       "    <tr>\n",
       "      <th>0</th>\n",
       "      <td>-4.1</td>\n",
       "      <td>vanilla</td>\n",
       "    </tr>\n",
       "    <tr>\n",
       "      <th>1</th>\n",
       "      <td>-3.0</td>\n",
       "      <td>vanilla</td>\n",
       "    </tr>\n",
       "    <tr>\n",
       "      <th>2</th>\n",
       "      <td>-0.5</td>\n",
       "      <td>vanilla</td>\n",
       "    </tr>\n",
       "    <tr>\n",
       "      <th>3</th>\n",
       "      <td>0.4</td>\n",
       "      <td>choco</td>\n",
       "    </tr>\n",
       "    <tr>\n",
       "      <th>4</th>\n",
       "      <td>0.7</td>\n",
       "      <td>vanilla</td>\n",
       "    </tr>\n",
       "  </tbody>\n",
       "</table>\n",
       "</div>"
      ],
      "text/plain": [
       "   temp     type\n",
       "0  -4.1  vanilla\n",
       "1  -3.0  vanilla\n",
       "2  -0.5  vanilla\n",
       "3   0.4    choco\n",
       "4   0.7  vanilla"
      ]
     },
     "execution_count": 123,
     "metadata": {},
     "output_type": "execute_result"
    }
   ],
   "source": [
    "df_test.head()"
   ]
  },
  {
   "cell_type": "markdown",
   "id": "0841cd09-32eb-43e8-9df2-6fc8e1d5493c",
   "metadata": {},
   "source": [
    "**세부지침** \n",
    "\n",
    "1. 반응변수 ${\\bf y}$를 `sales`로 설정하고 나머지는 설명변수로 설정하라. \n",
    "2. `sklearn.linear_model` 에 포함된 모형들을 이용하여 분석하라. \n",
    "3. `df_test`에 sales에 대한 예측값을 포함하는 열을 추가하라."
   ]
  },
  {
   "cell_type": "markdown",
   "id": "569ec48b-94af-4714-9caf-117c685e9397",
   "metadata": {},
   "source": [
    "`(2)` 아래의 자료를 해석하고 세부지침에 맞추어 분석하라. "
   ]
  },
  {
   "cell_type": "code",
   "execution_count": 125,
   "id": "18a24cc9-5a5e-487d-9c21-2c728a0124a0",
   "metadata": {
    "tags": []
   },
   "outputs": [],
   "source": [
    "df_train = pd.read_csv('https://raw.githubusercontent.com/guebin/MP2023/master/posts/mid/synthetic_train.csv')\n",
    "df_test = pd.read_csv('https://raw.githubusercontent.com/guebin/MP2023/master/posts/mid/synthetic_test.csv')"
   ]
  },
  {
   "cell_type": "code",
   "execution_count": 128,
   "id": "27c4e565-3055-4b24-8331-ff0613ca1414",
   "metadata": {
    "tags": []
   },
   "outputs": [
    {
     "data": {
      "text/html": [
       "<div>\n",
       "<style scoped>\n",
       "    .dataframe tbody tr th:only-of-type {\n",
       "        vertical-align: middle;\n",
       "    }\n",
       "\n",
       "    .dataframe tbody tr th {\n",
       "        vertical-align: top;\n",
       "    }\n",
       "\n",
       "    .dataframe thead th {\n",
       "        text-align: right;\n",
       "    }\n",
       "</style>\n",
       "<table border=\"1\" class=\"dataframe\">\n",
       "  <thead>\n",
       "    <tr style=\"text-align: right;\">\n",
       "      <th></th>\n",
       "      <th>X1</th>\n",
       "      <th>X2</th>\n",
       "      <th>X3</th>\n",
       "      <th>y</th>\n",
       "    </tr>\n",
       "  </thead>\n",
       "  <tbody>\n",
       "    <tr>\n",
       "      <th>0</th>\n",
       "      <td>0.634499</td>\n",
       "      <td>4.562448</td>\n",
       "      <td>-0.593678</td>\n",
       "      <td>2.915723</td>\n",
       "    </tr>\n",
       "    <tr>\n",
       "      <th>1</th>\n",
       "      <td>-4.801602</td>\n",
       "      <td>2.924129</td>\n",
       "      <td>-0.057827</td>\n",
       "      <td>-3.339538</td>\n",
       "    </tr>\n",
       "    <tr>\n",
       "      <th>2</th>\n",
       "      <td>4.295305</td>\n",
       "      <td>5.086878</td>\n",
       "      <td>-0.353763</td>\n",
       "      <td>6.838744</td>\n",
       "    </tr>\n",
       "    <tr>\n",
       "      <th>3</th>\n",
       "      <td>-0.210203</td>\n",
       "      <td>5.994217</td>\n",
       "      <td>-0.833309</td>\n",
       "      <td>2.786905</td>\n",
       "    </tr>\n",
       "    <tr>\n",
       "      <th>4</th>\n",
       "      <td>0.063574</td>\n",
       "      <td>5.508144</td>\n",
       "      <td>-0.112174</td>\n",
       "      <td>2.817646</td>\n",
       "    </tr>\n",
       "  </tbody>\n",
       "</table>\n",
       "</div>"
      ],
      "text/plain": [
       "         X1        X2        X3         y\n",
       "0  0.634499  4.562448 -0.593678  2.915723\n",
       "1 -4.801602  2.924129 -0.057827 -3.339538\n",
       "2  4.295305  5.086878 -0.353763  6.838744\n",
       "3 -0.210203  5.994217 -0.833309  2.786905\n",
       "4  0.063574  5.508144 -0.112174  2.817646"
      ]
     },
     "execution_count": 128,
     "metadata": {},
     "output_type": "execute_result"
    }
   ],
   "source": [
    "df_train.head()"
   ]
  },
  {
   "cell_type": "code",
   "execution_count": 129,
   "id": "ad7c5005-2f90-47df-b7c9-10b4be34e792",
   "metadata": {
    "tags": []
   },
   "outputs": [
    {
     "data": {
      "text/html": [
       "<div>\n",
       "<style scoped>\n",
       "    .dataframe tbody tr th:only-of-type {\n",
       "        vertical-align: middle;\n",
       "    }\n",
       "\n",
       "    .dataframe tbody tr th {\n",
       "        vertical-align: top;\n",
       "    }\n",
       "\n",
       "    .dataframe thead th {\n",
       "        text-align: right;\n",
       "    }\n",
       "</style>\n",
       "<table border=\"1\" class=\"dataframe\">\n",
       "  <thead>\n",
       "    <tr style=\"text-align: right;\">\n",
       "      <th></th>\n",
       "      <th>X1</th>\n",
       "      <th>X2</th>\n",
       "      <th>X3</th>\n",
       "    </tr>\n",
       "  </thead>\n",
       "  <tbody>\n",
       "    <tr>\n",
       "      <th>0</th>\n",
       "      <td>-5.188183</td>\n",
       "      <td>5.355068</td>\n",
       "      <td>0.373713</td>\n",
       "    </tr>\n",
       "    <tr>\n",
       "      <th>1</th>\n",
       "      <td>-3.994075</td>\n",
       "      <td>6.607599</td>\n",
       "      <td>0.070830</td>\n",
       "    </tr>\n",
       "    <tr>\n",
       "      <th>2</th>\n",
       "      <td>-6.130300</td>\n",
       "      <td>5.909246</td>\n",
       "      <td>-0.505089</td>\n",
       "    </tr>\n",
       "    <tr>\n",
       "      <th>3</th>\n",
       "      <td>2.260182</td>\n",
       "      <td>7.382222</td>\n",
       "      <td>0.442493</td>\n",
       "    </tr>\n",
       "    <tr>\n",
       "      <th>4</th>\n",
       "      <td>2.022601</td>\n",
       "      <td>4.495572</td>\n",
       "      <td>0.016306</td>\n",
       "    </tr>\n",
       "  </tbody>\n",
       "</table>\n",
       "</div>"
      ],
      "text/plain": [
       "         X1        X2        X3\n",
       "0 -5.188183  5.355068  0.373713\n",
       "1 -3.994075  6.607599  0.070830\n",
       "2 -6.130300  5.909246 -0.505089\n",
       "3  2.260182  7.382222  0.442493\n",
       "4  2.022601  4.495572  0.016306"
      ]
     },
     "execution_count": 129,
     "metadata": {},
     "output_type": "execute_result"
    }
   ],
   "source": [
    "df_test.head()"
   ]
  },
  {
   "cell_type": "markdown",
   "id": "1f21c5e8-b2c8-4356-a329-21dd302d00d2",
   "metadata": {},
   "source": [
    "**세부지침** \n",
    "\n",
    "1. 반응변수 ${\\bf y}$를 `y`로 설정하고 나머지 `X1`,`X2`,`X3`는 설명변수로 설정하라. \n",
    "2. `sklearn.preprocessing`내의 적절한 scaler릉 이용하여 설명변수를 scaling하라. \n",
    "3. `df_test`에 y에 대한 예측값을 포함하는 열을 추가하라."
   ]
  },
  {
   "cell_type": "markdown",
   "id": "cddbf356-5511-49fc-a586-960d3fdb1d9d",
   "metadata": {},
   "source": [
    "# `3`. 연구"
   ]
  },
  {
   "cell_type": "markdown",
   "id": "dcc4b8e8-eeeb-405f-9cbe-894ede63845b",
   "metadata": {},
   "source": [
    "`(1)` 아래의 자료를 세부지침에 맞추어 연구하라. "
   ]
  },
  {
   "cell_type": "code",
   "execution_count": 130,
   "id": "7ea9b65b-6206-4cbf-b411-4acf4c6c1758",
   "metadata": {
    "tags": []
   },
   "outputs": [],
   "source": [
    "np.random.seed(43052)\n",
    "df = pd.read_csv(\"https://raw.githubusercontent.com/guebin/MP2023/main/posts/employment_multicollinearity.csv\")\n",
    "df['employment_score'] = df.gpa * 1.0 + df.toeic* 1/100 + np.random.randn(500)"
   ]
  },
  {
   "cell_type": "code",
   "execution_count": 131,
   "id": "3870d3e5-4d46-45db-9ea9-91e8e9e97bd2",
   "metadata": {
    "tags": []
   },
   "outputs": [
    {
     "data": {
      "text/html": [
       "<div>\n",
       "<style scoped>\n",
       "    .dataframe tbody tr th:only-of-type {\n",
       "        vertical-align: middle;\n",
       "    }\n",
       "\n",
       "    .dataframe tbody tr th {\n",
       "        vertical-align: top;\n",
       "    }\n",
       "\n",
       "    .dataframe thead th {\n",
       "        text-align: right;\n",
       "    }\n",
       "</style>\n",
       "<table border=\"1\" class=\"dataframe\">\n",
       "  <thead>\n",
       "    <tr style=\"text-align: right;\">\n",
       "      <th></th>\n",
       "      <th>employment_score</th>\n",
       "      <th>gpa</th>\n",
       "      <th>toeic</th>\n",
       "      <th>toeic0</th>\n",
       "      <th>toeic1</th>\n",
       "      <th>toeic2</th>\n",
       "      <th>toeic3</th>\n",
       "      <th>toeic4</th>\n",
       "      <th>toeic5</th>\n",
       "      <th>toeic6</th>\n",
       "      <th>...</th>\n",
       "      <th>toeic490</th>\n",
       "      <th>toeic491</th>\n",
       "      <th>toeic492</th>\n",
       "      <th>toeic493</th>\n",
       "      <th>toeic494</th>\n",
       "      <th>toeic495</th>\n",
       "      <th>toeic496</th>\n",
       "      <th>toeic497</th>\n",
       "      <th>toeic498</th>\n",
       "      <th>toeic499</th>\n",
       "    </tr>\n",
       "  </thead>\n",
       "  <tbody>\n",
       "    <tr>\n",
       "      <th>0</th>\n",
       "      <td>1.784955</td>\n",
       "      <td>0.051535</td>\n",
       "      <td>135</td>\n",
       "      <td>129.566309</td>\n",
       "      <td>133.078481</td>\n",
       "      <td>121.678398</td>\n",
       "      <td>113.457366</td>\n",
       "      <td>133.564200</td>\n",
       "      <td>136.026566</td>\n",
       "      <td>141.793547</td>\n",
       "      <td>...</td>\n",
       "      <td>132.014696</td>\n",
       "      <td>140.013265</td>\n",
       "      <td>135.575816</td>\n",
       "      <td>143.863346</td>\n",
       "      <td>152.162740</td>\n",
       "      <td>132.850033</td>\n",
       "      <td>115.956496</td>\n",
       "      <td>131.842126</td>\n",
       "      <td>125.090801</td>\n",
       "      <td>143.568527</td>\n",
       "    </tr>\n",
       "    <tr>\n",
       "      <th>1</th>\n",
       "      <td>10.789671</td>\n",
       "      <td>0.355496</td>\n",
       "      <td>935</td>\n",
       "      <td>940.563187</td>\n",
       "      <td>935.723570</td>\n",
       "      <td>939.190519</td>\n",
       "      <td>938.995672</td>\n",
       "      <td>945.376482</td>\n",
       "      <td>927.469901</td>\n",
       "      <td>952.424087</td>\n",
       "      <td>...</td>\n",
       "      <td>942.251184</td>\n",
       "      <td>923.241548</td>\n",
       "      <td>939.924802</td>\n",
       "      <td>921.912261</td>\n",
       "      <td>953.250300</td>\n",
       "      <td>931.743615</td>\n",
       "      <td>940.205853</td>\n",
       "      <td>930.575825</td>\n",
       "      <td>941.530348</td>\n",
       "      <td>934.221055</td>\n",
       "    </tr>\n",
       "    <tr>\n",
       "      <th>2</th>\n",
       "      <td>8.221213</td>\n",
       "      <td>2.228435</td>\n",
       "      <td>485</td>\n",
       "      <td>493.671390</td>\n",
       "      <td>493.909118</td>\n",
       "      <td>475.500970</td>\n",
       "      <td>480.363752</td>\n",
       "      <td>478.868942</td>\n",
       "      <td>493.321602</td>\n",
       "      <td>490.059102</td>\n",
       "      <td>...</td>\n",
       "      <td>484.438233</td>\n",
       "      <td>488.101275</td>\n",
       "      <td>485.626742</td>\n",
       "      <td>475.330715</td>\n",
       "      <td>485.147363</td>\n",
       "      <td>468.553780</td>\n",
       "      <td>486.870976</td>\n",
       "      <td>481.640957</td>\n",
       "      <td>499.340808</td>\n",
       "      <td>488.197332</td>\n",
       "    </tr>\n",
       "    <tr>\n",
       "      <th>3</th>\n",
       "      <td>2.137594</td>\n",
       "      <td>1.179701</td>\n",
       "      <td>65</td>\n",
       "      <td>62.272565</td>\n",
       "      <td>55.957257</td>\n",
       "      <td>68.521468</td>\n",
       "      <td>76.866765</td>\n",
       "      <td>51.436321</td>\n",
       "      <td>57.166824</td>\n",
       "      <td>67.834920</td>\n",
       "      <td>...</td>\n",
       "      <td>67.653225</td>\n",
       "      <td>65.710588</td>\n",
       "      <td>64.146780</td>\n",
       "      <td>76.662194</td>\n",
       "      <td>66.837839</td>\n",
       "      <td>82.379018</td>\n",
       "      <td>69.174745</td>\n",
       "      <td>64.475993</td>\n",
       "      <td>52.647087</td>\n",
       "      <td>59.493275</td>\n",
       "    </tr>\n",
       "    <tr>\n",
       "      <th>4</th>\n",
       "      <td>8.650144</td>\n",
       "      <td>3.962356</td>\n",
       "      <td>445</td>\n",
       "      <td>449.280637</td>\n",
       "      <td>438.895582</td>\n",
       "      <td>433.598274</td>\n",
       "      <td>444.081141</td>\n",
       "      <td>437.005100</td>\n",
       "      <td>434.761142</td>\n",
       "      <td>443.135269</td>\n",
       "      <td>...</td>\n",
       "      <td>455.940348</td>\n",
       "      <td>435.952854</td>\n",
       "      <td>441.521145</td>\n",
       "      <td>443.038886</td>\n",
       "      <td>433.118847</td>\n",
       "      <td>466.103355</td>\n",
       "      <td>430.056944</td>\n",
       "      <td>423.632873</td>\n",
       "      <td>446.973484</td>\n",
       "      <td>442.793633</td>\n",
       "    </tr>\n",
       "  </tbody>\n",
       "</table>\n",
       "<p>5 rows × 503 columns</p>\n",
       "</div>"
      ],
      "text/plain": [
       "   employment_score       gpa  toeic      toeic0      toeic1      toeic2  \\\n",
       "0          1.784955  0.051535    135  129.566309  133.078481  121.678398   \n",
       "1         10.789671  0.355496    935  940.563187  935.723570  939.190519   \n",
       "2          8.221213  2.228435    485  493.671390  493.909118  475.500970   \n",
       "3          2.137594  1.179701     65   62.272565   55.957257   68.521468   \n",
       "4          8.650144  3.962356    445  449.280637  438.895582  433.598274   \n",
       "\n",
       "       toeic3      toeic4      toeic5      toeic6  ...    toeic490  \\\n",
       "0  113.457366  133.564200  136.026566  141.793547  ...  132.014696   \n",
       "1  938.995672  945.376482  927.469901  952.424087  ...  942.251184   \n",
       "2  480.363752  478.868942  493.321602  490.059102  ...  484.438233   \n",
       "3   76.866765   51.436321   57.166824   67.834920  ...   67.653225   \n",
       "4  444.081141  437.005100  434.761142  443.135269  ...  455.940348   \n",
       "\n",
       "     toeic491    toeic492    toeic493    toeic494    toeic495    toeic496  \\\n",
       "0  140.013265  135.575816  143.863346  152.162740  132.850033  115.956496   \n",
       "1  923.241548  939.924802  921.912261  953.250300  931.743615  940.205853   \n",
       "2  488.101275  485.626742  475.330715  485.147363  468.553780  486.870976   \n",
       "3   65.710588   64.146780   76.662194   66.837839   82.379018   69.174745   \n",
       "4  435.952854  441.521145  443.038886  433.118847  466.103355  430.056944   \n",
       "\n",
       "     toeic497    toeic498    toeic499  \n",
       "0  131.842126  125.090801  143.568527  \n",
       "1  930.575825  941.530348  934.221055  \n",
       "2  481.640957  499.340808  488.197332  \n",
       "3   64.475993   52.647087   59.493275  \n",
       "4  423.632873  446.973484  442.793633  \n",
       "\n",
       "[5 rows x 503 columns]"
      ]
     },
     "execution_count": 131,
     "metadata": {},
     "output_type": "execute_result"
    }
   ],
   "source": [
    "df.head()"
   ]
  },
  {
   "cell_type": "markdown",
   "id": "abea2cb1-21a3-45f9-ad72-30d1bd8eb77c",
   "metadata": {},
   "source": [
    "**세부지침** \n",
    "\n",
    "1. 종속변수 ${\\bf y}$를 `employment_score`로 설정하고 나머지는 설명변수로 설정하라. \n",
    "2. `sklearn.linear_model.Lasso`를 이용하여 $\\alpha =0,1,0.2, \\dots, 1.9, 2.0$에 대해 predictor를 생성하라. \n",
    "3. $\\alpha$의 변화에 따른 score의 변화와^[`predictor.score` 함수이용하여 계산되는 값] 0이 아닌 계수값의 수를 시각화하라. "
   ]
  }
 ],
 "metadata": {
  "kernelspec": {
   "display_name": "Python 3 (ipykernel)",
   "language": "python",
   "name": "python3"
  },
  "language_info": {
   "codemirror_mode": {
    "name": "ipython",
    "version": 3
   },
   "file_extension": ".py",
   "mimetype": "text/x-python",
   "name": "python",
   "nbconvert_exporter": "python",
   "pygments_lexer": "ipython3",
   "version": "3.10.13"
  }
 },
 "nbformat": 4,
 "nbformat_minor": 5
}
