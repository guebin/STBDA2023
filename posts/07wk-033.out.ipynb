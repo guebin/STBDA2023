{
  "cells": [
    {
      "cell_type": "markdown",
      "metadata": {},
      "source": [
        "# 07wk-033: 취업(다중공선성) / 의사결정나무\n",
        "\n",
        "최규빈  \n",
        "2023-10-17\n",
        "\n",
        "# 1. 강의영상\n",
        "\n",
        "<https://youtu.be/playlist?list=PLQqh36zP38-y9gv3aEYpTCSbjj97u8zHM&si=YVaZvfWaat_E0tQv>\n",
        "\n",
        "# 2. Imports"
      ],
      "id": "9ad0c956-3ccf-4749-8540-12bd315f60e1"
    },
    {
      "cell_type": "code",
      "execution_count": 8,
      "metadata": {
        "tags": []
      },
      "outputs": [],
      "source": [
        "import numpy as np\n",
        "import pandas as pd\n",
        "import sklearn.model_selection\n",
        "import sklearn.linear_model\n",
        "import sklearn.tree"
      ],
      "id": "f2298395-f61a-45d1-92d9-53afd0c1f1f3"
    },
    {
      "cell_type": "markdown",
      "metadata": {},
      "source": [
        "# 3. Data"
      ],
      "id": "410a7507-95da-4b95-9a41-a09131f3850b"
    },
    {
      "cell_type": "code",
      "execution_count": 9,
      "metadata": {
        "tags": []
      },
      "outputs": [],
      "source": [
        "np.random.seed(43052)\n",
        "df = pd.read_csv(\"https://raw.githubusercontent.com/guebin/MP2023/main/posts/employment_multicollinearity.csv\")\n",
        "df['employment_score'] = df.gpa * 1.0 + df.toeic* 1/100 + np.random.randn(500)\n",
        "df"
      ],
      "id": "9073c08d-3f2b-4cb4-9ad3-115b84e031ac"
    },
    {
      "cell_type": "code",
      "execution_count": 10,
      "metadata": {
        "tags": []
      },
      "outputs": [],
      "source": [
        "df_train, df_test = sklearn.model_selection.train_test_split(df,test_size=0.3,random_state=42)"
      ],
      "id": "fe562d4f-becb-445a-984d-d9b0e1d3e1f5"
    },
    {
      "cell_type": "code",
      "execution_count": 11,
      "metadata": {
        "tags": []
      },
      "outputs": [],
      "source": [
        "X,y = df_train.loc[:,'gpa':],df_train['employment_score']\n",
        "XX,yy = df_test.loc[:,'gpa':],df_test['employment_score']"
      ],
      "id": "f94aa4ad-3682-4088-b912-3e2b23c96f71"
    },
    {
      "cell_type": "markdown",
      "metadata": {},
      "source": [
        "-   실제 kaggle에서는 yy를 모르는 상황임\n",
        "\n",
        "# 4. 분석\n",
        "\n",
        "`-` 분석1: 의사결정나무"
      ],
      "id": "7a5a824e-cef3-4490-a375-b6daee5eb339"
    },
    {
      "cell_type": "code",
      "execution_count": 14,
      "metadata": {
        "tags": []
      },
      "outputs": [
        {
          "output_type": "stream",
          "name": "stdout",
          "text": [
            "train score: 1.0000\n",
            "test score: 0.8300"
          ]
        }
      ],
      "source": [
        "## step1 -- pass \n",
        "## step2 \n",
        "predictr = sklearn.tree.DecisionTreeRegressor(random_state=42)\n",
        "## step3 \n",
        "predictr.fit(X,y)\n",
        "## step4\n",
        "df_train['employment_score_hat'] = predictr.predict(X)\n",
        "df_test['employment_score_hat'] = predictr.predict(XX)\n",
        "#---#\n",
        "print(f'train score: {predictr.score(X,y):.4f}')\n",
        "print(f'test score: {predictr.score(XX,yy):.4f}')"
      ],
      "id": "2b51b5f8-8039-437a-b8bb-0cb8ec2d3ac6"
    },
    {
      "cell_type": "markdown",
      "metadata": {},
      "source": [
        "-   오버핏이긴한데 나쁘지 않음..\n",
        "\n",
        "`-` 분석2: Lasso"
      ],
      "id": "e6b66b84-b528-4f4a-aaa2-810e17d10a74"
    },
    {
      "cell_type": "code",
      "execution_count": 15,
      "metadata": {
        "tags": []
      },
      "outputs": [
        {
          "output_type": "stream",
          "name": "stderr",
          "text": [
            "/home/cgb2/anaconda3/envs/ag/lib/python3.10/site-packages/sklearn/linear_model/_coordinate_descent.py:628: ConvergenceWarning: Objective did not converge. You might want to increase the number of iterations, check the scale of the features or consider increasing regularisation. Duality gap: 5.405e-01, tolerance: 2.707e-01\n",
            "  model = cd_fast.enet_coordinate_descent(\n",
            "/home/cgb2/anaconda3/envs/ag/lib/python3.10/site-packages/sklearn/linear_model/_coordinate_descent.py:628: ConvergenceWarning: Objective did not converge. You might want to increase the number of iterations, check the scale of the features or consider increasing regularisation. Duality gap: 1.201e+00, tolerance: 2.707e-01\n",
            "  model = cd_fast.enet_coordinate_descent(\n",
            "/home/cgb2/anaconda3/envs/ag/lib/python3.10/site-packages/sklearn/linear_model/_coordinate_descent.py:628: ConvergenceWarning: Objective did not converge. You might want to increase the number of iterations, check the scale of the features or consider increasing regularisation. Duality gap: 1.824e+00, tolerance: 2.707e-01\n",
            "  model = cd_fast.enet_coordinate_descent(\n",
            "/home/cgb2/anaconda3/envs/ag/lib/python3.10/site-packages/sklearn/linear_model/_coordinate_descent.py:628: ConvergenceWarning: Objective did not converge. You might want to increase the number of iterations, check the scale of the features or consider increasing regularisation. Duality gap: 3.914e+00, tolerance: 2.707e-01\n",
            "  model = cd_fast.enet_coordinate_descent(\n",
            "/home/cgb2/anaconda3/envs/ag/lib/python3.10/site-packages/sklearn/linear_model/_coordinate_descent.py:628: ConvergenceWarning: Objective did not converge. You might want to increase the number of iterations, check the scale of the features or consider increasing regularisation. Duality gap: 6.018e+00, tolerance: 2.707e-01\n",
            "  model = cd_fast.enet_coordinate_descent(\n",
            "/home/cgb2/anaconda3/envs/ag/lib/python3.10/site-packages/sklearn/linear_model/_coordinate_descent.py:628: ConvergenceWarning: Objective did not converge. You might want to increase the number of iterations, check the scale of the features or consider increasing regularisation. Duality gap: 8.785e+00, tolerance: 2.707e-01\n",
            "  model = cd_fast.enet_coordinate_descent(\n",
            "/home/cgb2/anaconda3/envs/ag/lib/python3.10/site-packages/sklearn/linear_model/_coordinate_descent.py:628: ConvergenceWarning: Objective did not converge. You might want to increase the number of iterations, check the scale of the features or consider increasing regularisation. Duality gap: 1.007e+01, tolerance: 2.707e-01\n",
            "  model = cd_fast.enet_coordinate_descent(\n",
            "/home/cgb2/anaconda3/envs/ag/lib/python3.10/site-packages/sklearn/linear_model/_coordinate_descent.py:628: ConvergenceWarning: Objective did not converge. You might want to increase the number of iterations, check the scale of the features or consider increasing regularisation. Duality gap: 1.099e+01, tolerance: 2.707e-01\n",
            "  model = cd_fast.enet_coordinate_descent(\n",
            "/home/cgb2/anaconda3/envs/ag/lib/python3.10/site-packages/sklearn/linear_model/_coordinate_descent.py:628: ConvergenceWarning: Objective did not converge. You might want to increase the number of iterations, check the scale of the features or consider increasing regularisation. Duality gap: 1.120e+01, tolerance: 2.707e-01\n",
            "  model = cd_fast.enet_coordinate_descent(\n",
            "/home/cgb2/anaconda3/envs/ag/lib/python3.10/site-packages/sklearn/linear_model/_coordinate_descent.py:628: ConvergenceWarning: Objective did not converge. You might want to increase the number of iterations, check the scale of the features or consider increasing regularisation. Duality gap: 1.084e+01, tolerance: 2.707e-01\n",
            "  model = cd_fast.enet_coordinate_descent(\n",
            "/home/cgb2/anaconda3/envs/ag/lib/python3.10/site-packages/sklearn/linear_model/_coordinate_descent.py:628: ConvergenceWarning: Objective did not converge. You might want to increase the number of iterations, check the scale of the features or consider increasing regularisation. Duality gap: 1.171e+01, tolerance: 2.707e-01\n",
            "  model = cd_fast.enet_coordinate_descent(\n",
            "/home/cgb2/anaconda3/envs/ag/lib/python3.10/site-packages/sklearn/linear_model/_coordinate_descent.py:628: ConvergenceWarning: Objective did not converge. You might want to increase the number of iterations, check the scale of the features or consider increasing regularisation. Duality gap: 1.346e+01, tolerance: 2.707e-01\n",
            "  model = cd_fast.enet_coordinate_descent(\n",
            "/home/cgb2/anaconda3/envs/ag/lib/python3.10/site-packages/sklearn/linear_model/_coordinate_descent.py:628: ConvergenceWarning: Objective did not converge. You might want to increase the number of iterations, check the scale of the features or consider increasing regularisation. Duality gap: 1.655e+01, tolerance: 2.707e-01\n",
            "  model = cd_fast.enet_coordinate_descent(\n",
            "/home/cgb2/anaconda3/envs/ag/lib/python3.10/site-packages/sklearn/linear_model/_coordinate_descent.py:628: ConvergenceWarning: Objective did not converge. You might want to increase the number of iterations, check the scale of the features or consider increasing regularisation. Duality gap: 1.898e+01, tolerance: 2.707e-01\n",
            "  model = cd_fast.enet_coordinate_descent(\n",
            "/home/cgb2/anaconda3/envs/ag/lib/python3.10/site-packages/sklearn/linear_model/_coordinate_descent.py:628: ConvergenceWarning: Objective did not converge. You might want to increase the number of iterations, check the scale of the features or consider increasing regularisation. Duality gap: 2.112e+01, tolerance: 2.707e-01\n",
            "  model = cd_fast.enet_coordinate_descent(\n",
            "/home/cgb2/anaconda3/envs/ag/lib/python3.10/site-packages/sklearn/linear_model/_coordinate_descent.py:628: ConvergenceWarning: Objective did not converge. You might want to increase the number of iterations, check the scale of the features or consider increasing regularisation. Duality gap: 1.258e+00, tolerance: 2.707e-01\n",
            "  model = cd_fast.enet_coordinate_descent(\n",
            "/home/cgb2/anaconda3/envs/ag/lib/python3.10/site-packages/sklearn/linear_model/_coordinate_descent.py:628: ConvergenceWarning: Objective did not converge. You might want to increase the number of iterations, check the scale of the features or consider increasing regularisation. Duality gap: 3.147e+00, tolerance: 2.707e-01\n",
            "  model = cd_fast.enet_coordinate_descent(\n",
            "/home/cgb2/anaconda3/envs/ag/lib/python3.10/site-packages/sklearn/linear_model/_coordinate_descent.py:628: ConvergenceWarning: Objective did not converge. You might want to increase the number of iterations, check the scale of the features or consider increasing regularisation. Duality gap: 5.844e+00, tolerance: 2.707e-01\n",
            "  model = cd_fast.enet_coordinate_descent(\n",
            "/home/cgb2/anaconda3/envs/ag/lib/python3.10/site-packages/sklearn/linear_model/_coordinate_descent.py:628: ConvergenceWarning: Objective did not converge. You might want to increase the number of iterations, check the scale of the features or consider increasing regularisation. Duality gap: 1.174e+01, tolerance: 2.707e-01\n",
            "  model = cd_fast.enet_coordinate_descent(\n",
            "/home/cgb2/anaconda3/envs/ag/lib/python3.10/site-packages/sklearn/linear_model/_coordinate_descent.py:628: ConvergenceWarning: Objective did not converge. You might want to increase the number of iterations, check the scale of the features or consider increasing regularisation. Duality gap: 1.206e+01, tolerance: 2.707e-01\n",
            "  model = cd_fast.enet_coordinate_descent(\n",
            "/home/cgb2/anaconda3/envs/ag/lib/python3.10/site-packages/sklearn/linear_model/_coordinate_descent.py:628: ConvergenceWarning: Objective did not converge. You might want to increase the number of iterations, check the scale of the features or consider increasing regularisation. Duality gap: 1.447e+01, tolerance: 2.707e-01\n",
            "  model = cd_fast.enet_coordinate_descent(\n",
            "/home/cgb2/anaconda3/envs/ag/lib/python3.10/site-packages/sklearn/linear_model/_coordinate_descent.py:628: ConvergenceWarning: Objective did not converge. You might want to increase the number of iterations, check the scale of the features or consider increasing regularisation. Duality gap: 1.739e+01, tolerance: 2.707e-01\n",
            "  model = cd_fast.enet_coordinate_descent(\n",
            "/home/cgb2/anaconda3/envs/ag/lib/python3.10/site-packages/sklearn/linear_model/_coordinate_descent.py:628: ConvergenceWarning: Objective did not converge. You might want to increase the number of iterations, check the scale of the features or consider increasing regularisation. Duality gap: 2.238e+01, tolerance: 2.707e-01\n",
            "  model = cd_fast.enet_coordinate_descent(\n",
            "/home/cgb2/anaconda3/envs/ag/lib/python3.10/site-packages/sklearn/linear_model/_coordinate_descent.py:628: ConvergenceWarning: Objective did not converge. You might want to increase the number of iterations, check the scale of the features or consider increasing regularisation. Duality gap: 2.561e+01, tolerance: 2.707e-01\n",
            "  model = cd_fast.enet_coordinate_descent(\n",
            "/home/cgb2/anaconda3/envs/ag/lib/python3.10/site-packages/sklearn/linear_model/_coordinate_descent.py:628: ConvergenceWarning: Objective did not converge. You might want to increase the number of iterations, check the scale of the features or consider increasing regularisation. Duality gap: 2.673e+01, tolerance: 2.707e-01\n",
            "  model = cd_fast.enet_coordinate_descent(\n",
            "/home/cgb2/anaconda3/envs/ag/lib/python3.10/site-packages/sklearn/linear_model/_coordinate_descent.py:628: ConvergenceWarning: Objective did not converge. You might want to increase the number of iterations, check the scale of the features or consider increasing regularisation. Duality gap: 2.799e+01, tolerance: 2.707e-01\n",
            "  model = cd_fast.enet_coordinate_descent(\n",
            "/home/cgb2/anaconda3/envs/ag/lib/python3.10/site-packages/sklearn/linear_model/_coordinate_descent.py:628: ConvergenceWarning: Objective did not converge. You might want to increase the number of iterations, check the scale of the features or consider increasing regularisation. Duality gap: 2.659e+01, tolerance: 2.707e-01\n",
            "  model = cd_fast.enet_coordinate_descent(\n",
            "/home/cgb2/anaconda3/envs/ag/lib/python3.10/site-packages/sklearn/linear_model/_coordinate_descent.py:628: ConvergenceWarning: Objective did not converge. You might want to increase the number of iterations, check the scale of the features or consider increasing regularisation. Duality gap: 2.574e+01, tolerance: 2.707e-01\n",
            "  model = cd_fast.enet_coordinate_descent(\n",
            "/home/cgb2/anaconda3/envs/ag/lib/python3.10/site-packages/sklearn/linear_model/_coordinate_descent.py:628: ConvergenceWarning: Objective did not converge. You might want to increase the number of iterations, check the scale of the features or consider increasing regularisation. Duality gap: 2.414e+01, tolerance: 2.707e-01\n",
            "  model = cd_fast.enet_coordinate_descent(\n",
            "/home/cgb2/anaconda3/envs/ag/lib/python3.10/site-packages/sklearn/linear_model/_coordinate_descent.py:628: ConvergenceWarning: Objective did not converge. You might want to increase the number of iterations, check the scale of the features or consider increasing regularisation. Duality gap: 2.699e+01, tolerance: 2.707e-01\n",
            "  model = cd_fast.enet_coordinate_descent(\n",
            "/home/cgb2/anaconda3/envs/ag/lib/python3.10/site-packages/sklearn/linear_model/_coordinate_descent.py:628: ConvergenceWarning: Objective did not converge. You might want to increase the number of iterations, check the scale of the features or consider increasing regularisation. Duality gap: 3.640e-01, tolerance: 2.670e-01\n",
            "  model = cd_fast.enet_coordinate_descent(\n",
            "/home/cgb2/anaconda3/envs/ag/lib/python3.10/site-packages/sklearn/linear_model/_coordinate_descent.py:628: ConvergenceWarning: Objective did not converge. You might want to increase the number of iterations, check the scale of the features or consider increasing regularisation. Duality gap: 9.357e-01, tolerance: 2.670e-01\n",
            "  model = cd_fast.enet_coordinate_descent(\n",
            "/home/cgb2/anaconda3/envs/ag/lib/python3.10/site-packages/sklearn/linear_model/_coordinate_descent.py:628: ConvergenceWarning: Objective did not converge. You might want to increase the number of iterations, check the scale of the features or consider increasing regularisation. Duality gap: 1.353e+00, tolerance: 2.670e-01\n",
            "  model = cd_fast.enet_coordinate_descent(\n",
            "/home/cgb2/anaconda3/envs/ag/lib/python3.10/site-packages/sklearn/linear_model/_coordinate_descent.py:628: ConvergenceWarning: Objective did not converge. You might want to increase the number of iterations, check the scale of the features or consider increasing regularisation. Duality gap: 2.341e+00, tolerance: 2.670e-01\n",
            "  model = cd_fast.enet_coordinate_descent(\n",
            "/home/cgb2/anaconda3/envs/ag/lib/python3.10/site-packages/sklearn/linear_model/_coordinate_descent.py:628: ConvergenceWarning: Objective did not converge. You might want to increase the number of iterations, check the scale of the features or consider increasing regularisation. Duality gap: 4.380e+00, tolerance: 2.670e-01\n",
            "  model = cd_fast.enet_coordinate_descent(\n",
            "/home/cgb2/anaconda3/envs/ag/lib/python3.10/site-packages/sklearn/linear_model/_coordinate_descent.py:628: ConvergenceWarning: Objective did not converge. You might want to increase the number of iterations, check the scale of the features or consider increasing regularisation. Duality gap: 7.561e+00, tolerance: 2.670e-01\n",
            "  model = cd_fast.enet_coordinate_descent(\n",
            "/home/cgb2/anaconda3/envs/ag/lib/python3.10/site-packages/sklearn/linear_model/_coordinate_descent.py:628: ConvergenceWarning: Objective did not converge. You might want to increase the number of iterations, check the scale of the features or consider increasing regularisation. Duality gap: 9.144e+00, tolerance: 2.670e-01\n",
            "  model = cd_fast.enet_coordinate_descent(\n",
            "/home/cgb2/anaconda3/envs/ag/lib/python3.10/site-packages/sklearn/linear_model/_coordinate_descent.py:628: ConvergenceWarning: Objective did not converge. You might want to increase the number of iterations, check the scale of the features or consider increasing regularisation. Duality gap: 9.869e+00, tolerance: 2.670e-01\n",
            "  model = cd_fast.enet_coordinate_descent(\n",
            "/home/cgb2/anaconda3/envs/ag/lib/python3.10/site-packages/sklearn/linear_model/_coordinate_descent.py:628: ConvergenceWarning: Objective did not converge. You might want to increase the number of iterations, check the scale of the features or consider increasing regularisation. Duality gap: 1.042e+01, tolerance: 2.670e-01\n",
            "  model = cd_fast.enet_coordinate_descent(\n",
            "/home/cgb2/anaconda3/envs/ag/lib/python3.10/site-packages/sklearn/linear_model/_coordinate_descent.py:628: ConvergenceWarning: Objective did not converge. You might want to increase the number of iterations, check the scale of the features or consider increasing regularisation. Duality gap: 1.151e+01, tolerance: 2.670e-01\n",
            "  model = cd_fast.enet_coordinate_descent(\n",
            "/home/cgb2/anaconda3/envs/ag/lib/python3.10/site-packages/sklearn/linear_model/_coordinate_descent.py:628: ConvergenceWarning: Objective did not converge. You might want to increase the number of iterations, check the scale of the features or consider increasing regularisation. Duality gap: 1.362e+01, tolerance: 2.670e-01\n",
            "  model = cd_fast.enet_coordinate_descent(\n",
            "/home/cgb2/anaconda3/envs/ag/lib/python3.10/site-packages/sklearn/linear_model/_coordinate_descent.py:628: ConvergenceWarning: Objective did not converge. You might want to increase the number of iterations, check the scale of the features or consider increasing regularisation. Duality gap: 1.393e+01, tolerance: 2.670e-01\n",
            "  model = cd_fast.enet_coordinate_descent(\n",
            "/home/cgb2/anaconda3/envs/ag/lib/python3.10/site-packages/sklearn/linear_model/_coordinate_descent.py:628: ConvergenceWarning: Objective did not converge. You might want to increase the number of iterations, check the scale of the features or consider increasing regularisation. Duality gap: 1.565e+01, tolerance: 2.670e-01\n",
            "  model = cd_fast.enet_coordinate_descent(\n",
            "/home/cgb2/anaconda3/envs/ag/lib/python3.10/site-packages/sklearn/linear_model/_coordinate_descent.py:628: ConvergenceWarning: Objective did not converge. You might want to increase the number of iterations, check the scale of the features or consider increasing regularisation. Duality gap: 1.660e+01, tolerance: 2.670e-01\n",
            "  model = cd_fast.enet_coordinate_descent(\n",
            "/home/cgb2/anaconda3/envs/ag/lib/python3.10/site-packages/sklearn/linear_model/_coordinate_descent.py:628: ConvergenceWarning: Objective did not converge. You might want to increase the number of iterations, check the scale of the features or consider increasing regularisation. Duality gap: 1.788e+01, tolerance: 2.670e-01\n",
            "  model = cd_fast.enet_coordinate_descent(\n",
            "/home/cgb2/anaconda3/envs/ag/lib/python3.10/site-packages/sklearn/linear_model/_coordinate_descent.py:628: ConvergenceWarning: Objective did not converge. You might want to increase the number of iterations, check the scale of the features or consider increasing regularisation. Duality gap: 2.947e-01, tolerance: 2.721e-01\n",
            "  model = cd_fast.enet_coordinate_descent(\n",
            "/home/cgb2/anaconda3/envs/ag/lib/python3.10/site-packages/sklearn/linear_model/_coordinate_descent.py:628: ConvergenceWarning: Objective did not converge. You might want to increase the number of iterations, check the scale of the features or consider increasing regularisation. Duality gap: 8.008e-01, tolerance: 2.721e-01\n",
            "  model = cd_fast.enet_coordinate_descent(\n",
            "/home/cgb2/anaconda3/envs/ag/lib/python3.10/site-packages/sklearn/linear_model/_coordinate_descent.py:628: ConvergenceWarning: Objective did not converge. You might want to increase the number of iterations, check the scale of the features or consider increasing regularisation. Duality gap: 1.337e+00, tolerance: 2.721e-01\n",
            "  model = cd_fast.enet_coordinate_descent(\n",
            "/home/cgb2/anaconda3/envs/ag/lib/python3.10/site-packages/sklearn/linear_model/_coordinate_descent.py:628: ConvergenceWarning: Objective did not converge. You might want to increase the number of iterations, check the scale of the features or consider increasing regularisation. Duality gap: 3.410e+00, tolerance: 2.721e-01\n",
            "  model = cd_fast.enet_coordinate_descent(\n",
            "/home/cgb2/anaconda3/envs/ag/lib/python3.10/site-packages/sklearn/linear_model/_coordinate_descent.py:628: ConvergenceWarning: Objective did not converge. You might want to increase the number of iterations, check the scale of the features or consider increasing regularisation. Duality gap: 5.400e+00, tolerance: 2.721e-01\n",
            "  model = cd_fast.enet_coordinate_descent(\n",
            "/home/cgb2/anaconda3/envs/ag/lib/python3.10/site-packages/sklearn/linear_model/_coordinate_descent.py:628: ConvergenceWarning: Objective did not converge. You might want to increase the number of iterations, check the scale of the features or consider increasing regularisation. Duality gap: 9.299e+00, tolerance: 2.721e-01\n",
            "  model = cd_fast.enet_coordinate_descent(\n",
            "/home/cgb2/anaconda3/envs/ag/lib/python3.10/site-packages/sklearn/linear_model/_coordinate_descent.py:628: ConvergenceWarning: Objective did not converge. You might want to increase the number of iterations, check the scale of the features or consider increasing regularisation. Duality gap: 1.387e+01, tolerance: 2.721e-01\n",
            "  model = cd_fast.enet_coordinate_descent(\n",
            "/home/cgb2/anaconda3/envs/ag/lib/python3.10/site-packages/sklearn/linear_model/_coordinate_descent.py:628: ConvergenceWarning: Objective did not converge. You might want to increase the number of iterations, check the scale of the features or consider increasing regularisation. Duality gap: 1.721e+01, tolerance: 2.721e-01\n",
            "  model = cd_fast.enet_coordinate_descent(\n",
            "/home/cgb2/anaconda3/envs/ag/lib/python3.10/site-packages/sklearn/linear_model/_coordinate_descent.py:628: ConvergenceWarning: Objective did not converge. You might want to increase the number of iterations, check the scale of the features or consider increasing regularisation. Duality gap: 2.116e+01, tolerance: 2.721e-01\n",
            "  model = cd_fast.enet_coordinate_descent(\n",
            "/home/cgb2/anaconda3/envs/ag/lib/python3.10/site-packages/sklearn/linear_model/_coordinate_descent.py:628: ConvergenceWarning: Objective did not converge. You might want to increase the number of iterations, check the scale of the features or consider increasing regularisation. Duality gap: 2.587e+01, tolerance: 2.721e-01\n",
            "  model = cd_fast.enet_coordinate_descent(\n",
            "/home/cgb2/anaconda3/envs/ag/lib/python3.10/site-packages/sklearn/linear_model/_coordinate_descent.py:628: ConvergenceWarning: Objective did not converge. You might want to increase the number of iterations, check the scale of the features or consider increasing regularisation. Duality gap: 2.865e+01, tolerance: 2.721e-01\n",
            "  model = cd_fast.enet_coordinate_descent(\n",
            "/home/cgb2/anaconda3/envs/ag/lib/python3.10/site-packages/sklearn/linear_model/_coordinate_descent.py:628: ConvergenceWarning: Objective did not converge. You might want to increase the number of iterations, check the scale of the features or consider increasing regularisation. Duality gap: 3.174e+01, tolerance: 2.721e-01\n",
            "  model = cd_fast.enet_coordinate_descent(\n",
            "/home/cgb2/anaconda3/envs/ag/lib/python3.10/site-packages/sklearn/linear_model/_coordinate_descent.py:628: ConvergenceWarning: Objective did not converge. You might want to increase the number of iterations, check the scale of the features or consider increasing regularisation. Duality gap: 3.254e+01, tolerance: 2.721e-01\n",
            "  model = cd_fast.enet_coordinate_descent(\n",
            "/home/cgb2/anaconda3/envs/ag/lib/python3.10/site-packages/sklearn/linear_model/_coordinate_descent.py:628: ConvergenceWarning: Objective did not converge. You might want to increase the number of iterations, check the scale of the features or consider increasing regularisation. Duality gap: 2.614e+01, tolerance: 2.721e-01\n",
            "  model = cd_fast.enet_coordinate_descent(\n",
            "/home/cgb2/anaconda3/envs/ag/lib/python3.10/site-packages/sklearn/linear_model/_coordinate_descent.py:628: ConvergenceWarning: Objective did not converge. You might want to increase the number of iterations, check the scale of the features or consider increasing regularisation. Duality gap: 2.732e+01, tolerance: 2.721e-01\n",
            "  model = cd_fast.enet_coordinate_descent(\n",
            "/home/cgb2/anaconda3/envs/ag/lib/python3.10/site-packages/sklearn/linear_model/_coordinate_descent.py:628: ConvergenceWarning: Objective did not converge. You might want to increase the number of iterations, check the scale of the features or consider increasing regularisation. Duality gap: 3.030e+01, tolerance: 2.721e-01\n",
            "  model = cd_fast.enet_coordinate_descent(\n",
            "/home/cgb2/anaconda3/envs/ag/lib/python3.10/site-packages/sklearn/linear_model/_coordinate_descent.py:628: ConvergenceWarning: Objective did not converge. You might want to increase the number of iterations, check the scale of the features or consider increasing regularisation. Duality gap: 8.196e-01, tolerance: 2.540e-01\n",
            "  model = cd_fast.enet_coordinate_descent(\n",
            "/home/cgb2/anaconda3/envs/ag/lib/python3.10/site-packages/sklearn/linear_model/_coordinate_descent.py:628: ConvergenceWarning: Objective did not converge. You might want to increase the number of iterations, check the scale of the features or consider increasing regularisation. Duality gap: 1.200e+00, tolerance: 2.540e-01\n",
            "  model = cd_fast.enet_coordinate_descent(\n",
            "/home/cgb2/anaconda3/envs/ag/lib/python3.10/site-packages/sklearn/linear_model/_coordinate_descent.py:628: ConvergenceWarning: Objective did not converge. You might want to increase the number of iterations, check the scale of the features or consider increasing regularisation. Duality gap: 3.779e+00, tolerance: 2.540e-01\n",
            "  model = cd_fast.enet_coordinate_descent(\n",
            "/home/cgb2/anaconda3/envs/ag/lib/python3.10/site-packages/sklearn/linear_model/_coordinate_descent.py:628: ConvergenceWarning: Objective did not converge. You might want to increase the number of iterations, check the scale of the features or consider increasing regularisation. Duality gap: 6.594e+00, tolerance: 2.540e-01\n",
            "  model = cd_fast.enet_coordinate_descent(\n",
            "/home/cgb2/anaconda3/envs/ag/lib/python3.10/site-packages/sklearn/linear_model/_coordinate_descent.py:628: ConvergenceWarning: Objective did not converge. You might want to increase the number of iterations, check the scale of the features or consider increasing regularisation. Duality gap: 6.524e+00, tolerance: 2.540e-01\n",
            "  model = cd_fast.enet_coordinate_descent(\n",
            "/home/cgb2/anaconda3/envs/ag/lib/python3.10/site-packages/sklearn/linear_model/_coordinate_descent.py:628: ConvergenceWarning: Objective did not converge. You might want to increase the number of iterations, check the scale of the features or consider increasing regularisation. Duality gap: 5.851e+00, tolerance: 2.540e-01\n",
            "  model = cd_fast.enet_coordinate_descent(\n",
            "/home/cgb2/anaconda3/envs/ag/lib/python3.10/site-packages/sklearn/linear_model/_coordinate_descent.py:628: ConvergenceWarning: Objective did not converge. You might want to increase the number of iterations, check the scale of the features or consider increasing regularisation. Duality gap: 5.160e+00, tolerance: 2.540e-01\n",
            "  model = cd_fast.enet_coordinate_descent(\n",
            "/home/cgb2/anaconda3/envs/ag/lib/python3.10/site-packages/sklearn/linear_model/_coordinate_descent.py:628: ConvergenceWarning: Objective did not converge. You might want to increase the number of iterations, check the scale of the features or consider increasing regularisation. Duality gap: 6.410e+00, tolerance: 2.540e-01\n",
            "  model = cd_fast.enet_coordinate_descent(\n",
            "/home/cgb2/anaconda3/envs/ag/lib/python3.10/site-packages/sklearn/linear_model/_coordinate_descent.py:628: ConvergenceWarning: Objective did not converge. You might want to increase the number of iterations, check the scale of the features or consider increasing regularisation. Duality gap: 8.755e+00, tolerance: 2.540e-01\n",
            "  model = cd_fast.enet_coordinate_descent(\n",
            "/home/cgb2/anaconda3/envs/ag/lib/python3.10/site-packages/sklearn/linear_model/_coordinate_descent.py:628: ConvergenceWarning: Objective did not converge. You might want to increase the number of iterations, check the scale of the features or consider increasing regularisation. Duality gap: 1.131e+01, tolerance: 2.540e-01\n",
            "  model = cd_fast.enet_coordinate_descent(\n",
            "/home/cgb2/anaconda3/envs/ag/lib/python3.10/site-packages/sklearn/linear_model/_coordinate_descent.py:628: ConvergenceWarning: Objective did not converge. You might want to increase the number of iterations, check the scale of the features or consider increasing regularisation. Duality gap: 1.388e+01, tolerance: 2.540e-01\n",
            "  model = cd_fast.enet_coordinate_descent(\n",
            "/home/cgb2/anaconda3/envs/ag/lib/python3.10/site-packages/sklearn/linear_model/_coordinate_descent.py:628: ConvergenceWarning: Objective did not converge. You might want to increase the number of iterations, check the scale of the features or consider increasing regularisation. Duality gap: 1.581e+01, tolerance: 2.540e-01\n",
            "  model = cd_fast.enet_coordinate_descent(\n",
            "/home/cgb2/anaconda3/envs/ag/lib/python3.10/site-packages/sklearn/linear_model/_coordinate_descent.py:628: ConvergenceWarning: Objective did not converge. You might want to increase the number of iterations, check the scale of the features or consider increasing regularisation. Duality gap: 1.547e+01, tolerance: 2.540e-01\n",
            "  model = cd_fast.enet_coordinate_descent(\n",
            "/home/cgb2/anaconda3/envs/ag/lib/python3.10/site-packages/sklearn/linear_model/_coordinate_descent.py:628: ConvergenceWarning: Objective did not converge. You might want to increase the number of iterations, check the scale of the features or consider increasing regularisation. Duality gap: 1.379e+01, tolerance: 2.540e-01\n",
            "  model = cd_fast.enet_coordinate_descent(\n",
            "/home/cgb2/anaconda3/envs/ag/lib/python3.10/site-packages/sklearn/linear_model/_coordinate_descent.py:628: ConvergenceWarning: Objective did not converge. You might want to increase the number of iterations, check the scale of the features or consider increasing regularisation. Duality gap: 1.953e+01, tolerance: 2.540e-01\n",
            "  model = cd_fast.enet_coordinate_descent(\n",
            "/home/cgb2/anaconda3/envs/ag/lib/python3.10/site-packages/sklearn/linear_model/_coordinate_descent.py:628: ConvergenceWarning: Objective did not converge. You might want to increase the number of iterations, check the scale of the features or consider increasing regularisation. Duality gap: 8.392e+01, tolerance: 3.337e-01\n",
            "  model = cd_fast.enet_coordinate_descent("
          ]
        },
        {
          "output_type": "stream",
          "name": "stdout",
          "text": [
            "train score: 0.8994\n",
            "test score: 0.8587"
          ]
        }
      ],
      "source": [
        "## step1 -- pass \n",
        "## step2 \n",
        "predictr = sklearn.linear_model.LassoCV()\n",
        "## step3 \n",
        "predictr.fit(X,y)\n",
        "## step4\n",
        "df_train['employment_score_hat'] = predictr.predict(X)\n",
        "df_test['employment_score_hat'] = predictr.predict(XX)\n",
        "#---#\n",
        "print(f'train score: {predictr.score(X,y):.4f}')\n",
        "print(f'test score: {predictr.score(XX,yy):.4f}')"
      ],
      "id": "1c17de70-4ce2-4a2b-8196-c76efab2efe4"
    },
    {
      "cell_type": "markdown",
      "metadata": {},
      "source": [
        "`-` 총평: Lasso가 좋긴해요. 그런데 의사결정나무도 나쁘지 않아요.\n",
        "\n",
        "-   참고로 Lasso는 엄청 발전된 모델\n",
        "-   의사결정나무는 아주 초기모델임"
      ],
      "id": "79ad916c-1096-4418-95f9-6ae7d1899e42"
    }
  ],
  "nbformat": 4,
  "nbformat_minor": 5,
  "metadata": {
    "kernelspec": {
      "name": "python3",
      "display_name": "Python 3 (ipykernel)",
      "language": "python"
    },
    "language_info": {
      "name": "python",
      "codemirror_mode": {
        "name": "ipython",
        "version": "3"
      },
      "file_extension": ".py",
      "mimetype": "text/x-python",
      "nbconvert_exporter": "python",
      "pygments_lexer": "ipython3",
      "version": "3.10.13"
    }
  }
}