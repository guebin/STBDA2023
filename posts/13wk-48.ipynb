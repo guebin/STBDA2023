{
 "cells": [
  {
   "cell_type": "raw",
   "id": "4761a574-9120-43ae-98f7-11cd93b2d2a7",
   "metadata": {},
   "source": [
    "---\n",
    "title: \"13wk-48: 아이스크림 / 자료분석(Autogluon)\"\n",
    "author: \"최규빈\"\n",
    "date: \"12/01/2023\"\n",
    "bibliography: ref.bib\n",
    "draft: false\n",
    "---"
   ]
  },
  {
   "cell_type": "markdown",
   "id": "8003d353-7794-4e5d-b592-fb25ae891987",
   "metadata": {},
   "source": [
    "# 1. 강의영상 "
   ]
  },
  {
   "cell_type": "markdown",
   "id": "0e0e4db7-f3c9-4f92-80fe-a377f0b04e17",
   "metadata": {},
   "source": [
    "{{<video https://youtu.be/playlist?list=PLQqh36zP38-xD3gCT0L9vDSnXHHEpxP0E&si=PUo87ILydVK7moIk >}}"
   ]
  },
  {
   "cell_type": "markdown",
   "id": "db26139b-5514-441f-bebd-0d2378981fd5",
   "metadata": {},
   "source": [
    "# 2. Imports"
   ]
  },
  {
   "cell_type": "code",
   "execution_count": 1,
   "id": "712f6010-1e47-4485-879c-25364320fc5b",
   "metadata": {
    "tags": []
   },
   "outputs": [],
   "source": [
    "import numpy as np\n",
    "import pandas as pd\n",
    "import matplotlib.pyplot as plt\n",
    "import seaborn as sns\n",
    "import sklearn.metrics\n",
    "#---#\n",
    "import pickle\n",
    "from autogluon.tabular import TabularPredictor\n",
    "import autogluon.eda.auto as auto\n",
    "#---#\n",
    "import warnings\n",
    "warnings.filterwarnings('ignore')"
   ]
  },
  {
   "cell_type": "markdown",
   "id": "282681eb-f5cc-4f24-b841-c06acbd8f2d8",
   "metadata": {},
   "source": [
    "# 3. Data"
   ]
  },
  {
   "cell_type": "code",
   "execution_count": 3,
   "id": "06497039-a1ab-47de-8877-ee4df7b47a5a",
   "metadata": {
    "tags": []
   },
   "outputs": [],
   "source": [
    "temp = pd.read_csv('https://raw.githubusercontent.com/guebin/DV2022/master/posts/temp.csv').iloc[:,3].to_numpy()[:100]\n",
    "temp.sort()\n",
    "np.random.seed(43052)\n",
    "eps = np.random.randn(100)*3 # 오차\n",
    "icecream_sales = 20 + temp * 2.5 + eps \n",
    "df_train = pd.DataFrame({'temp':temp,'sales':icecream_sales})"
   ]
  },
  {
   "cell_type": "code",
   "execution_count": 5,
   "id": "c2a047ff-6ce6-4b98-bf10-8a0751f50f78",
   "metadata": {
    "tags": []
   },
   "outputs": [
    {
     "data": {
      "text/plain": [
       "<AxesSubplot: xlabel='temp', ylabel='sales'>"
      ]
     },
     "execution_count": 5,
     "metadata": {},
     "output_type": "execute_result"
    },
    {
     "data": {
      "image/png": "[encoded data removed]",
      "text/plain": [
       "<Figure size 640x480 with 1 Axes>"
      ]
     },
     "metadata": {},
     "output_type": "display_data"
    }
   ],
   "source": [
    "sns.scatterplot(df_train, x='temp',y='sales')"
   ]
  },
  {
   "cell_type": "markdown",
   "id": "c1f78816-caf8-46d5-b174-953bf3b5798b",
   "metadata": {},
   "source": [
    "# 4. 적합"
   ]
  },
  {
   "cell_type": "markdown",
   "id": "fedc0d95-64fb-4c83-8e74-368d1eddb1e5",
   "metadata": {},
   "source": [
    "## A. 맨날 쓰는 코드"
   ]
  },
  {
   "cell_type": "code",
   "execution_count": 9,
   "id": "3ca54d8c-65b9-4f56-8220-8c185afdd288",
   "metadata": {
    "tags": []
   },
   "outputs": [
    {
     "name": "stderr",
     "output_type": "stream",
     "text": [
      "No path specified. Models will be saved in: \"AutogluonModels/ag-20231201_091757/\"\n",
      "Beginning AutoGluon training ...\n",
      "AutoGluon will save models to \"AutogluonModels/ag-20231201_091757/\"\n",
      "AutoGluon Version:  0.8.2\n",
      "Python Version:     3.10.13\n",
      "Operating System:   Linux\n",
      "Platform Machine:   x86_64\n",
      "Platform Version:   #26~22.04.1-Ubuntu SMP PREEMPT_DYNAMIC Thu Jul 13 16:27:29 UTC 2\n",
      "Disk Space Avail:   248.45 GB / 490.57 GB (50.6%)\n",
      "Train Data Rows:    100\n",
      "Train Data Columns: 1\n",
      "Label Column: sales\n",
      "Preprocessing data ...\n",
      "AutoGluon infers your prediction problem is: 'regression' (because dtype of label-column == float and many unique label-values observed).\n",
      "\tLabel info (max, min, mean, stddev): (61.561043278721556, 10.90026146402572, 33.97342, 10.63375)\n",
      "\tIf 'regression' is not the correct problem_type, please manually specify the problem_type parameter during predictor init (You may specify problem_type as one of: ['binary', 'multiclass', 'regression'])\n",
      "Using Feature Generators to preprocess the data ...\n",
      "Fitting AutoMLPipelineFeatureGenerator...\n",
      "\tAvailable Memory:                    127664.44 MB\n",
      "\tTrain Data (Original)  Memory Usage: 0.0 MB (0.0% of available memory)\n",
      "\tInferring data type of each feature based on column values. Set feature_metadata_in to manually specify special dtypes of the features.\n",
      "\tStage 1 Generators:\n",
      "\t\tFitting AsTypeFeatureGenerator...\n",
      "\tStage 2 Generators:\n",
      "\t\tFitting FillNaFeatureGenerator...\n",
      "\tStage 3 Generators:\n",
      "\t\tFitting IdentityFeatureGenerator...\n",
      "\tStage 4 Generators:\n",
      "\t\tFitting DropUniqueFeatureGenerator...\n",
      "\tStage 5 Generators:\n",
      "\t\tFitting DropDuplicatesFeatureGenerator...\n",
      "\tTypes of features in original data (raw dtype, special dtypes):\n",
      "\t\t('float', []) : 1 | ['temp']\n",
      "\tTypes of features in processed data (raw dtype, special dtypes):\n",
      "\t\t('float', []) : 1 | ['temp']\n",
      "\t0.0s = Fit runtime\n",
      "\t1 features in original data used to generate 1 features in processed data.\n",
      "\tTrain Data (Processed) Memory Usage: 0.0 MB (0.0% of available memory)\n",
      "Data preprocessing and feature engineering runtime = 0.03s ...\n",
      "AutoGluon will gauge predictive performance using evaluation metric: 'root_mean_squared_error'\n",
      "\tThis metric's sign has been flipped to adhere to being higher_is_better. The metric score can be multiplied by -1 to get the metric value.\n",
      "\tTo change this, specify the eval_metric parameter of Predictor()\n",
      "Automatically generating train/validation split with holdout_frac=0.2, Train Rows: 80, Val Rows: 20\n",
      "User-specified model hyperparameters to be fit:\n",
      "{\n",
      "\t'NN_TORCH': {},\n",
      "\t'GBM': [{'extra_trees': True, 'ag_args': {'name_suffix': 'XT'}}, {}, 'GBMLarge'],\n",
      "\t'CAT': {},\n",
      "\t'XGB': {},\n",
      "\t'FASTAI': {},\n",
      "\t'RF': [{'criterion': 'gini', 'ag_args': {'name_suffix': 'Gini', 'problem_types': ['binary', 'multiclass']}}, {'criterion': 'entropy', 'ag_args': {'name_suffix': 'Entr', 'problem_types': ['binary', 'multiclass']}}, {'criterion': 'squared_error', 'ag_args': {'name_suffix': 'MSE', 'problem_types': ['regression', 'quantile']}}],\n",
      "\t'XT': [{'criterion': 'gini', 'ag_args': {'name_suffix': 'Gini', 'problem_types': ['binary', 'multiclass']}}, {'criterion': 'entropy', 'ag_args': {'name_suffix': 'Entr', 'problem_types': ['binary', 'multiclass']}}, {'criterion': 'squared_error', 'ag_args': {'name_suffix': 'MSE', 'problem_types': ['regression', 'quantile']}}],\n",
      "\t'KNN': [{'weights': 'uniform', 'ag_args': {'name_suffix': 'Unif'}}, {'weights': 'distance', 'ag_args': {'name_suffix': 'Dist'}}],\n",
      "}\n",
      "Fitting 11 L1 models ...\n",
      "Fitting model: KNeighborsUnif ...\n",
      "\t-4.2111\t = Validation score   (-root_mean_squared_error)\n",
      "\t0.01s\t = Training   runtime\n",
      "\t0.01s\t = Validation runtime\n",
      "Fitting model: KNeighborsDist ...\n",
      "\t-4.6714\t = Validation score   (-root_mean_squared_error)\n",
      "\t0.01s\t = Training   runtime\n",
      "\t0.01s\t = Validation runtime\n",
      "Fitting model: LightGBMXT ...\n",
      "\t-35.2477\t = Validation score   (-root_mean_squared_error)\n",
      "\t0.41s\t = Training   runtime\n",
      "\t0.0s\t = Validation runtime\n",
      "Fitting model: LightGBM ...\n"
     ]
    },
    {
     "name": "stdout",
     "output_type": "stream",
     "text": [
      "[1000]\tvalid_set's rmse: 5.45375\n",
      "[2000]\tvalid_set's rmse: 5.40245\n"
     ]
    },
    {
     "name": "stderr",
     "output_type": "stream",
     "text": [
      "\t-5.3708\t = Validation score   (-root_mean_squared_error)\n",
      "\t0.31s\t = Training   runtime\n",
      "\t0.0s\t = Validation runtime\n",
      "Fitting model: RandomForestMSE ...\n",
      "\t-4.4041\t = Validation score   (-root_mean_squared_error)\n",
      "\t0.25s\t = Training   runtime\n",
      "\t0.02s\t = Validation runtime\n",
      "Fitting model: CatBoost ...\n",
      "\t-3.8364\t = Validation score   (-root_mean_squared_error)\n",
      "\t0.16s\t = Training   runtime\n",
      "\t0.0s\t = Validation runtime\n",
      "Fitting model: ExtraTreesMSE ...\n",
      "\t-4.2375\t = Validation score   (-root_mean_squared_error)\n",
      "\t0.27s\t = Training   runtime\n",
      "\t0.09s\t = Validation runtime\n",
      "Fitting model: NeuralNetFastAI ...\n",
      "\t-3.7128\t = Validation score   (-root_mean_squared_error)\n",
      "\t0.7s\t = Training   runtime\n",
      "\t0.01s\t = Validation runtime\n",
      "Fitting model: XGBoost ...\n",
      "\t-4.0555\t = Validation score   (-root_mean_squared_error)\n",
      "\t0.1s\t = Training   runtime\n",
      "\t0.0s\t = Validation runtime\n",
      "Fitting model: NeuralNetTorch ...\n",
      "\t-3.4399\t = Validation score   (-root_mean_squared_error)\n",
      "\t1.23s\t = Training   runtime\n",
      "\t0.01s\t = Validation runtime\n",
      "Fitting model: LightGBMLarge ...\n",
      "\t-3.979\t = Validation score   (-root_mean_squared_error)\n",
      "\t0.36s\t = Training   runtime\n",
      "\t0.0s\t = Validation runtime\n",
      "Fitting model: WeightedEnsemble_L2 ...\n",
      "\t-3.4399\t = Validation score   (-root_mean_squared_error)\n",
      "\t0.19s\t = Training   runtime\n",
      "\t0.0s\t = Validation runtime\n",
      "AutoGluon training complete, total runtime = 4.29s ... Best model: \"WeightedEnsemble_L2\"\n",
      "TabularPredictor saved. To load, use: predictor = TabularPredictor.load(\"AutogluonModels/ag-20231201_091757/\")\n"
     ]
    }
   ],
   "source": [
    "# step1 -- pass \n",
    "# step2\n",
    "predictr = TabularPredictor(label='sales')\n",
    "# step3 \n",
    "predictr.fit(df_train)\n",
    "# step4 \n",
    "yhat = predictr.predict(df_train)"
   ]
  },
  {
   "cell_type": "markdown",
   "id": "80b70326-7569-40ba-8e78-0acd6185736b",
   "metadata": {},
   "source": [
    "## B. 적합결과 시각화 "
   ]
  },
  {
   "cell_type": "code",
   "execution_count": 17,
   "id": "35eb0bd3-bfd9-4892-bfb5-a38b0cb2cf4c",
   "metadata": {
    "tags": []
   },
   "outputs": [
    {
     "data": {
      "text/plain": [
       "<matplotlib.legend.Legend at 0x7f8f6c6031c0>"
      ]
     },
     "execution_count": 17,
     "metadata": {},
     "output_type": "execute_result"
    },
    {
     "data": {
      "image/png": "[encoded data removed]",
      "text/plain": [
       "<Figure size 640x480 with 1 Axes>"
      ]
     },
     "metadata": {},
     "output_type": "display_data"
    }
   ],
   "source": [
    "sns.scatterplot(df_train, x='temp',y='sales',label='y')\n",
    "sns.lineplot(df_train, x='temp',y=yhat,color='C1',linestyle='--',label='yhat')\n",
    "plt.legend()"
   ]
  },
  {
   "cell_type": "markdown",
   "id": "efebedff-cca9-48e8-b27d-b68574f748a7",
   "metadata": {},
   "source": [
    "- 잘 맞춘다? "
   ]
  },
  {
   "cell_type": "markdown",
   "id": "363fe4f3-76ed-4968-84cc-8e1cc8bbcbd7",
   "metadata": {},
   "source": [
    "## C. 모형들 확인 "
   ]
  },
  {
   "cell_type": "code",
   "execution_count": 19,
   "id": "2389955f-dc31-46d9-9c20-80a4e21197a2",
   "metadata": {
    "tags": []
   },
   "outputs": [
    {
     "data": {
      "text/html": [
       "<div>\n",
       "<style scoped>\n",
       "    .dataframe tbody tr th:only-of-type {\n",
       "        vertical-align: middle;\n",
       "    }\n",
       "\n",
       "    .dataframe tbody tr th {\n",
       "        vertical-align: top;\n",
       "    }\n",
       "\n",
       "    .dataframe thead th {\n",
       "        text-align: right;\n",
       "    }\n",
       "</style>\n",
       "<table border=\"1\" class=\"dataframe\">\n",
       "  <thead>\n",
       "    <tr style=\"text-align: right;\">\n",
       "      <th></th>\n",
       "      <th>model</th>\n",
       "      <th>score_val</th>\n",
       "      <th>pred_time_val</th>\n",
       "      <th>fit_time</th>\n",
       "      <th>pred_time_val_marginal</th>\n",
       "      <th>fit_time_marginal</th>\n",
       "      <th>stack_level</th>\n",
       "      <th>can_infer</th>\n",
       "      <th>fit_order</th>\n",
       "    </tr>\n",
       "  </thead>\n",
       "  <tbody>\n",
       "    <tr>\n",
       "      <th>0</th>\n",
       "      <td>NeuralNetTorch</td>\n",
       "      <td>-3.439941</td>\n",
       "      <td>0.006315</td>\n",
       "      <td>1.233929</td>\n",
       "      <td>0.006315</td>\n",
       "      <td>1.233929</td>\n",
       "      <td>1</td>\n",
       "      <td>True</td>\n",
       "      <td>10</td>\n",
       "    </tr>\n",
       "    <tr>\n",
       "      <th>1</th>\n",
       "      <td>WeightedEnsemble_L2</td>\n",
       "      <td>-3.439941</td>\n",
       "      <td>0.006579</td>\n",
       "      <td>1.426151</td>\n",
       "      <td>0.000264</td>\n",
       "      <td>0.192222</td>\n",
       "      <td>2</td>\n",
       "      <td>True</td>\n",
       "      <td>12</td>\n",
       "    </tr>\n",
       "    <tr>\n",
       "      <th>2</th>\n",
       "      <td>NeuralNetFastAI</td>\n",
       "      <td>-3.712791</td>\n",
       "      <td>0.005374</td>\n",
       "      <td>0.700766</td>\n",
       "      <td>0.005374</td>\n",
       "      <td>0.700766</td>\n",
       "      <td>1</td>\n",
       "      <td>True</td>\n",
       "      <td>8</td>\n",
       "    </tr>\n",
       "    <tr>\n",
       "      <th>3</th>\n",
       "      <td>CatBoost</td>\n",
       "      <td>-3.836449</td>\n",
       "      <td>0.000757</td>\n",
       "      <td>0.156355</td>\n",
       "      <td>0.000757</td>\n",
       "      <td>0.156355</td>\n",
       "      <td>1</td>\n",
       "      <td>True</td>\n",
       "      <td>6</td>\n",
       "    </tr>\n",
       "    <tr>\n",
       "      <th>4</th>\n",
       "      <td>LightGBMLarge</td>\n",
       "      <td>-3.978956</td>\n",
       "      <td>0.000699</td>\n",
       "      <td>0.362364</td>\n",
       "      <td>0.000699</td>\n",
       "      <td>0.362364</td>\n",
       "      <td>1</td>\n",
       "      <td>True</td>\n",
       "      <td>11</td>\n",
       "    </tr>\n",
       "    <tr>\n",
       "      <th>5</th>\n",
       "      <td>XGBoost</td>\n",
       "      <td>-4.055491</td>\n",
       "      <td>0.001666</td>\n",
       "      <td>0.100733</td>\n",
       "      <td>0.001666</td>\n",
       "      <td>0.100733</td>\n",
       "      <td>1</td>\n",
       "      <td>True</td>\n",
       "      <td>9</td>\n",
       "    </tr>\n",
       "    <tr>\n",
       "      <th>6</th>\n",
       "      <td>KNeighborsUnif</td>\n",
       "      <td>-4.211090</td>\n",
       "      <td>0.013718</td>\n",
       "      <td>0.006681</td>\n",
       "      <td>0.013718</td>\n",
       "      <td>0.006681</td>\n",
       "      <td>1</td>\n",
       "      <td>True</td>\n",
       "      <td>1</td>\n",
       "    </tr>\n",
       "    <tr>\n",
       "      <th>7</th>\n",
       "      <td>ExtraTreesMSE</td>\n",
       "      <td>-4.237516</td>\n",
       "      <td>0.086864</td>\n",
       "      <td>0.269765</td>\n",
       "      <td>0.086864</td>\n",
       "      <td>0.269765</td>\n",
       "      <td>1</td>\n",
       "      <td>True</td>\n",
       "      <td>7</td>\n",
       "    </tr>\n",
       "    <tr>\n",
       "      <th>8</th>\n",
       "      <td>RandomForestMSE</td>\n",
       "      <td>-4.404096</td>\n",
       "      <td>0.024585</td>\n",
       "      <td>0.254683</td>\n",
       "      <td>0.024585</td>\n",
       "      <td>0.254683</td>\n",
       "      <td>1</td>\n",
       "      <td>True</td>\n",
       "      <td>5</td>\n",
       "    </tr>\n",
       "    <tr>\n",
       "      <th>9</th>\n",
       "      <td>KNeighborsDist</td>\n",
       "      <td>-4.671405</td>\n",
       "      <td>0.013363</td>\n",
       "      <td>0.005603</td>\n",
       "      <td>0.013363</td>\n",
       "      <td>0.005603</td>\n",
       "      <td>1</td>\n",
       "      <td>True</td>\n",
       "      <td>2</td>\n",
       "    </tr>\n",
       "    <tr>\n",
       "      <th>10</th>\n",
       "      <td>LightGBM</td>\n",
       "      <td>-5.370826</td>\n",
       "      <td>0.000578</td>\n",
       "      <td>0.307852</td>\n",
       "      <td>0.000578</td>\n",
       "      <td>0.307852</td>\n",
       "      <td>1</td>\n",
       "      <td>True</td>\n",
       "      <td>4</td>\n",
       "    </tr>\n",
       "    <tr>\n",
       "      <th>11</th>\n",
       "      <td>LightGBMXT</td>\n",
       "      <td>-35.247682</td>\n",
       "      <td>0.000889</td>\n",
       "      <td>0.408746</td>\n",
       "      <td>0.000889</td>\n",
       "      <td>0.408746</td>\n",
       "      <td>1</td>\n",
       "      <td>True</td>\n",
       "      <td>3</td>\n",
       "    </tr>\n",
       "  </tbody>\n",
       "</table>\n",
       "</div>"
      ],
      "text/plain": [
       "                  model  score_val  pred_time_val  fit_time  \\\n",
       "0        NeuralNetTorch  -3.439941       0.006315  1.233929   \n",
       "1   WeightedEnsemble_L2  -3.439941       0.006579  1.426151   \n",
       "2       NeuralNetFastAI  -3.712791       0.005374  0.700766   \n",
       "3              CatBoost  -3.836449       0.000757  0.156355   \n",
       "4         LightGBMLarge  -3.978956       0.000699  0.362364   \n",
       "5               XGBoost  -4.055491       0.001666  0.100733   \n",
       "6        KNeighborsUnif  -4.211090       0.013718  0.006681   \n",
       "7         ExtraTreesMSE  -4.237516       0.086864  0.269765   \n",
       "8       RandomForestMSE  -4.404096       0.024585  0.254683   \n",
       "9        KNeighborsDist  -4.671405       0.013363  0.005603   \n",
       "10             LightGBM  -5.370826       0.000578  0.307852   \n",
       "11           LightGBMXT -35.247682       0.000889  0.408746   \n",
       "\n",
       "    pred_time_val_marginal  fit_time_marginal  stack_level  can_infer  \\\n",
       "0                 0.006315           1.233929            1       True   \n",
       "1                 0.000264           0.192222            2       True   \n",
       "2                 0.005374           0.700766            1       True   \n",
       "3                 0.000757           0.156355            1       True   \n",
       "4                 0.000699           0.362364            1       True   \n",
       "5                 0.001666           0.100733            1       True   \n",
       "6                 0.013718           0.006681            1       True   \n",
       "7                 0.086864           0.269765            1       True   \n",
       "8                 0.024585           0.254683            1       True   \n",
       "9                 0.013363           0.005603            1       True   \n",
       "10                0.000578           0.307852            1       True   \n",
       "11                0.000889           0.408746            1       True   \n",
       "\n",
       "    fit_order  \n",
       "0          10  \n",
       "1          12  \n",
       "2           8  \n",
       "3           6  \n",
       "4          11  \n",
       "5           9  \n",
       "6           1  \n",
       "7           7  \n",
       "8           5  \n",
       "9           2  \n",
       "10          4  \n",
       "11          3  "
      ]
     },
     "execution_count": 19,
     "metadata": {},
     "output_type": "execute_result"
    }
   ],
   "source": [
    "predictr.leaderboard(silent=True)"
   ]
  },
  {
   "cell_type": "markdown",
   "id": "e666cc3d-fe10-48a6-bc76-098e06f8cde2",
   "metadata": {},
   "source": [
    "## D. 최강모형의 `r2_score` 계산"
   ]
  },
  {
   "cell_type": "markdown",
   "id": "5e5e190e-d1a5-44e1-bcfe-c65313816cb1",
   "metadata": {},
   "source": [
    "`-` `r2_score` 계산 -- 방법1"
   ]
  },
  {
   "cell_type": "code",
   "execution_count": 22,
   "id": "14c40cda-7d9f-4157-86f2-ec05811ba56f",
   "metadata": {
    "tags": []
   },
   "outputs": [
    {
     "data": {
      "text/plain": [
       "0.92978293352643"
      ]
     },
     "execution_count": 22,
     "metadata": {},
     "output_type": "execute_result"
    }
   ],
   "source": [
    "_y = df_train.sales\n",
    "_yhat = predictr.predict(df_train)\n",
    "sklearn.metrics.r2_score(_y,_yhat)"
   ]
  },
  {
   "cell_type": "markdown",
   "id": "764601e7-9527-46f0-9ca0-84de41115b9a",
   "metadata": {},
   "source": [
    "`-` `r2_score` 계산 -- 방법2"
   ]
  },
  {
   "cell_type": "code",
   "execution_count": 23,
   "id": "89cf1341-6773-42b8-b88e-41dea8d1023e",
   "metadata": {
    "tags": []
   },
   "outputs": [
    {
     "data": {
      "text/plain": [
       "0.92978293352643"
      ]
     },
     "execution_count": 23,
     "metadata": {},
     "output_type": "execute_result"
    }
   ],
   "source": [
    "_y = df_train.sales\n",
    "_yhat = predictr.predict(df_train,model='NeuralNetTorch')\n",
    "sklearn.metrics.r2_score(_y,_yhat)"
   ]
  },
  {
   "cell_type": "markdown",
   "id": "90a33bef-1fc6-44c4-9712-8536bca8242e",
   "metadata": {},
   "source": [
    "## E. 특정모형의 적합값 구경 "
   ]
  },
  {
   "cell_type": "markdown",
   "id": "9fdb8990-2e89-4058-8147-8b8c58acca2e",
   "metadata": {},
   "source": [
    "`-` XGBoost 궁금해.."
   ]
  },
  {
   "cell_type": "code",
   "execution_count": 25,
   "id": "b206ed64-2aae-45f8-844e-c6cd05586d3a",
   "metadata": {
    "tags": []
   },
   "outputs": [
    {
     "data": {
      "text/plain": [
       "0.9516437954914487"
      ]
     },
     "execution_count": 25,
     "metadata": {},
     "output_type": "execute_result"
    }
   ],
   "source": [
    "_y = df_train.sales\n",
    "_yhat = predictr.predict(df_train,model='XGBoost')\n",
    "sklearn.metrics.r2_score(_y,_yhat)"
   ]
  },
  {
   "cell_type": "code",
   "execution_count": 28,
   "id": "efcf9ce5-2fe6-41c3-aed6-e45bd4ead548",
   "metadata": {
    "tags": []
   },
   "outputs": [
    {
     "data": {
      "text/plain": [
       "<matplotlib.legend.Legend at 0x7f8ee6a96620>"
      ]
     },
     "execution_count": 28,
     "metadata": {},
     "output_type": "execute_result"
    },
    {
     "data": {
      "image/png": "[encoded data removed]",
      "text/plain": [
       "<Figure size 640x480 with 1 Axes>"
      ]
     },
     "metadata": {},
     "output_type": "display_data"
    }
   ],
   "source": [
    "sns.scatterplot(df_train, x='temp', y='sales', label='y')\n",
    "sns.lineplot(df_train, x='temp',y=_yhat,color='C1',linestyle='--',label='yhat')\n",
    "ax = plt.gca()\n",
    "ax.set_title(\"XGBoost\")\n",
    "plt.legend()"
   ]
  }
 ],
 "metadata": {
  "kernelspec": {
   "display_name": "Python 3 (ipykernel)",
   "language": "python",
   "name": "python3"
  },
  "language_info": {
   "codemirror_mode": {
    "name": "ipython",
    "version": 3
   },
   "file_extension": ".py",
   "mimetype": "text/x-python",
   "name": "python",
   "nbconvert_exporter": "python",
   "pygments_lexer": "ipython3",
   "version": "3.10.13"
  }
 },
 "nbformat": 4,
 "nbformat_minor": 5
}
