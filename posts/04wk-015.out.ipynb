{
  "cells": [
    {
      "cell_type": "markdown",
      "metadata": {},
      "source": [
        "# 04wk-015: 결측치 처리, `sklearn.impute`\n",
        "\n",
        "최규빈  \n",
        "2023-09-26\n",
        "\n",
        "# 1. 강의영상\n",
        "\n",
        "<https://youtu.be/playlist?list=PLQqh36zP38-xoMM63o6AOYEePSFHrVsv9&si=DMXAb7dsADV4BG7C>\n",
        "\n",
        "# 2. Import"
      ],
      "id": "726cab4d-8c9a-4ffe-bc0e-c9e277d56b36"
    },
    {
      "cell_type": "code",
      "execution_count": 1,
      "metadata": {},
      "outputs": [],
      "source": [
        "import numpy as np\n",
        "import pandas as pd \n",
        "import sklearn.impute"
      ],
      "id": "e6f62597-d477-4ecb-95d8-15201acdfd65"
    },
    {
      "cell_type": "markdown",
      "metadata": {},
      "source": [
        "# 3. `sklearn.impute`\n",
        "\n",
        "## A. 숫자형자료의 impute\n",
        "\n",
        "`-` 주어진자료"
      ],
      "id": "af7e03b9-57f8-4968-ab4e-f57908f9e443"
    },
    {
      "cell_type": "code",
      "execution_count": 179,
      "metadata": {},
      "outputs": [],
      "source": [
        "df = pd.DataFrame({'A':[2.1,1.9,2.2,np.nan,1.9], 'B':[0,0,np.nan,0,0]})\n",
        "df"
      ],
      "id": "42aca123-1988-459d-9417-88b2865e201f"
    },
    {
      "cell_type": "markdown",
      "metadata": {},
      "source": [
        "`-` 빈칸은 대충 아래와 같이 추정하면 되지 않을까?"
      ],
      "id": "16bbf974-e183-452d-bc32-bc47b5e8590f"
    },
    {
      "cell_type": "code",
      "execution_count": 180,
      "metadata": {},
      "outputs": [],
      "source": [
        "df.loc[3,'A'] = df.A.mean()\n",
        "df.loc[2,'B'] = df.B.mean()"
      ],
      "id": "b8560511-594f-4394-9e09-94a1f8921e81"
    },
    {
      "cell_type": "code",
      "execution_count": 181,
      "metadata": {},
      "outputs": [],
      "source": [
        "df"
      ],
      "id": "3847b75d-247f-400f-9a14-037a6d95880e"
    },
    {
      "cell_type": "markdown",
      "metadata": {},
      "source": [
        "`-` 자동으로 하려면?"
      ],
      "id": "6c0cb1a4-9ffe-4af3-9144-8887cb3bc2a9"
    },
    {
      "cell_type": "code",
      "execution_count": 182,
      "metadata": {},
      "outputs": [],
      "source": [
        "df = pd.DataFrame({'A':[2.1,1.9,2.2,np.nan,1.9], 'B':[0,0,np.nan,0,0]})\n",
        "df"
      ],
      "id": "86e575a4-26ea-4307-bd8d-718d9e6ebc02"
    },
    {
      "cell_type": "markdown",
      "metadata": {},
      "source": [
        "(방법1)"
      ],
      "id": "d3742a8c-ec2c-44ff-a5ea-c4c24128975b"
    },
    {
      "cell_type": "code",
      "execution_count": 183,
      "metadata": {},
      "outputs": [],
      "source": [
        "imputer = sklearn.impute.SimpleImputer()\n",
        "imputer.fit(df)\n",
        "imputer.transform(df)"
      ],
      "id": "73853388-4d11-4840-9760-401cc38ea139"
    },
    {
      "cell_type": "markdown",
      "metadata": {},
      "source": [
        "(방법2)"
      ],
      "id": "beb78b36-1802-40a5-a185-cca24bd6f130"
    },
    {
      "cell_type": "code",
      "execution_count": 184,
      "metadata": {},
      "outputs": [],
      "source": [
        "imputer = sklearn.impute.SimpleImputer()\n",
        "imputer.fit_transform(df)"
      ],
      "id": "d640dd4a-51ca-4c1f-a6d3-afd9827e7e3c"
    },
    {
      "cell_type": "markdown",
      "metadata": {},
      "source": [
        "`-` 다른방식으로 결측값 대체\n",
        "\n",
        "(방법1) – 평균으로 대체"
      ],
      "id": "ad148a84-21df-4a3e-b88e-08c78e503b35"
    },
    {
      "cell_type": "code",
      "execution_count": 185,
      "metadata": {},
      "outputs": [],
      "source": [
        "imputer = sklearn.impute.SimpleImputer(strategy='mean')\n",
        "imputer.fit_transform(df)"
      ],
      "id": "b968cead-4852-48e0-ad46-6507357b8702"
    },
    {
      "cell_type": "markdown",
      "metadata": {},
      "source": [
        "(방법2) – 중앙값으로 대체"
      ],
      "id": "b7c24b60-e239-4107-b5aa-f6f2aabbdc7d"
    },
    {
      "cell_type": "code",
      "execution_count": 186,
      "metadata": {},
      "outputs": [],
      "source": [
        "imputer = sklearn.impute.SimpleImputer(strategy='median')\n",
        "imputer.fit_transform(df)"
      ],
      "id": "4a894761-644c-4373-92fe-7d7a3653c899"
    },
    {
      "cell_type": "markdown",
      "metadata": {},
      "source": [
        "(방법3) – 최빈값으로 대체"
      ],
      "id": "b31892a1-da7d-4b8e-a8f3-9082001caa30"
    },
    {
      "cell_type": "code",
      "execution_count": 187,
      "metadata": {},
      "outputs": [],
      "source": [
        "imputer = sklearn.impute.SimpleImputer(strategy='most_frequent')\n",
        "imputer.fit_transform(df)"
      ],
      "id": "1a4c3a82-0acf-4dae-aa83-dd92e45df875"
    },
    {
      "cell_type": "markdown",
      "metadata": {},
      "source": [
        "(방법4) – 상수대체"
      ],
      "id": "128ec4de-399a-46a4-b737-b57f7fc94674"
    },
    {
      "cell_type": "code",
      "execution_count": 188,
      "metadata": {},
      "outputs": [],
      "source": [
        "imputer = sklearn.impute.SimpleImputer(strategy='constant',fill_value=-999)\n",
        "imputer.fit_transform(df)"
      ],
      "id": "a6b9f114-5cbd-44d1-8e38-0535567155a3"
    },
    {
      "cell_type": "markdown",
      "metadata": {},
      "source": [
        "## B. 범주형자료의 impute\n",
        "\n",
        "`-` 자료"
      ],
      "id": "bc2d691b-af16-476e-a4f1-a28d555ad77a"
    },
    {
      "cell_type": "code",
      "execution_count": 192,
      "metadata": {},
      "outputs": [],
      "source": [
        "df = pd.DataFrame({'A':['Y','N','Y','Y',np.nan], 'B':['stat','math',np.nan,'stat','bio']})\n",
        "df"
      ],
      "id": "10cb2b46-52de-4a4f-96fd-8e238abbfc1f"
    },
    {
      "cell_type": "markdown",
      "metadata": {},
      "source": [
        "`-` 최빈값 혹은 상수대체만 가능\n",
        "\n",
        "(방법1) – 최빈값을 이용"
      ],
      "id": "e4a4ae20-e9ff-4c99-97a3-d5d559ee503c"
    },
    {
      "cell_type": "code",
      "execution_count": 193,
      "metadata": {},
      "outputs": [],
      "source": [
        "imptr = sklearn.impute.SimpleImputer(strategy='most_frequent')\n",
        "imptr.fit_transform(df)"
      ],
      "id": "9e537444-a7a4-4395-b3fd-dd094c8bbbac"
    },
    {
      "cell_type": "markdown",
      "metadata": {},
      "source": [
        "(방법2) – 상수로 대체함"
      ],
      "id": "2af62f39-d3cb-44c1-92a2-ea32e5ea423b"
    },
    {
      "cell_type": "code",
      "execution_count": 194,
      "metadata": {},
      "outputs": [],
      "source": [
        "imptr1 = sklearn.impute.SimpleImputer(strategy='constant',fill_value='Y')\n",
        "imptr1.fit_transform(df[['A']])\n",
        "imptr2 = sklearn.impute.SimpleImputer(strategy='constant',fill_value='math')\n",
        "imptr2.fit_transform(df[['B']])"
      ],
      "id": "ef4fc6c9-b06f-440b-b88f-1b5f86625cde"
    },
    {
      "cell_type": "code",
      "execution_count": 196,
      "metadata": {},
      "outputs": [],
      "source": [
        "np.concatenate([imptr1.fit_transform(df[['A']]),imptr2.fit_transform(df[['B']])],axis=1)"
      ],
      "id": "af303ecb-5344-4c3a-8616-d9c66901a6ef"
    },
    {
      "cell_type": "markdown",
      "metadata": {},
      "source": [
        "## C. 혼합형자료의 impute – (1) 모두 최빈값으로 impute\n",
        "\n",
        "`# 예제`: 아래의 df에서 결측치를 모두 최빈값으로 impute하라."
      ],
      "id": "4de78415-0453-448c-9a85-aac9c9e0a1a6"
    },
    {
      "cell_type": "code",
      "execution_count": 216,
      "metadata": {},
      "outputs": [],
      "source": [
        "df = pd.DataFrame(\n",
        "    {'A':[2.1,1.9,2.2,np.nan,1.9],\n",
        "     'B':[0,0,np.nan,0,0],\n",
        "     'C':['Y','N','Y','Y',np.nan], \n",
        "     'D':['stat','math',np.nan,'stat','bio']}\n",
        ")\n",
        "df"
      ],
      "id": "e43e0196-35ae-449f-8263-da41ecf5d95f"
    },
    {
      "cell_type": "markdown",
      "metadata": {},
      "source": [
        "(풀이)"
      ],
      "id": "7ffb93cf-1591-4648-b572-8a36b28d9f36"
    },
    {
      "cell_type": "code",
      "execution_count": 199,
      "metadata": {},
      "outputs": [],
      "source": [
        "imptr = sklearn.impute.SimpleImputer(strategy='most_frequent')\n",
        "imptr.fit_transform(df)"
      ],
      "id": "a70bb6bd-db29-497c-be44-e0fdade57273"
    },
    {
      "cell_type": "markdown",
      "metadata": {},
      "source": [
        "`#`\n",
        "\n",
        "## D. 혼합형자료의 impute – (2) 숫자형은 평균값으로, 범주는 최빈값으로 impute\n",
        "\n",
        "`# 예제`: 아래의 df를 숫자형일 경우는 평균대치, 문자형일 경우는\n",
        "최빈값으로 대치하라."
      ],
      "id": "2dbd57e3-e2af-41cf-91a2-fe6f5e119794"
    },
    {
      "cell_type": "code",
      "execution_count": 201,
      "metadata": {},
      "outputs": [],
      "source": [
        "df = pd.DataFrame(\n",
        "    {'A':[2.1,1.9,2.2,np.nan,1.9],\n",
        "     'B':[0,0,np.nan,0,0],\n",
        "     'C':['Y','N','Y','Y',np.nan], \n",
        "     'D':['stat','math',np.nan,'stat','bio']}\n",
        ")\n",
        "df"
      ],
      "id": "d5df4a1f-75cb-4570-a99d-89826bdac68a"
    },
    {
      "cell_type": "markdown",
      "metadata": {},
      "source": [
        "(풀이)\n",
        "\n",
        "`-` step1: 복사본 생성"
      ],
      "id": "edfdda01-9f32-4e42-9a70-bee554187c5a"
    },
    {
      "cell_type": "code",
      "execution_count": 219,
      "metadata": {},
      "outputs": [],
      "source": [
        "df_imputed = df.copy()\n",
        "df_imputed"
      ],
      "id": "eca5d372-6024-4c9e-827f-0222d9b0a7ad"
    },
    {
      "cell_type": "markdown",
      "metadata": {},
      "source": [
        "`-` step2: 데이터프레임 분리"
      ],
      "id": "8f4d2ae0-fd13-4bb8-8e53-989f196e0c18"
    },
    {
      "cell_type": "code",
      "execution_count": 211,
      "metadata": {},
      "outputs": [],
      "source": [
        "df_num = df.select_dtypes(include=\"number\")\n",
        "df_num"
      ],
      "id": "ea80139e-124a-4418-8ac0-cc8b1d416604"
    },
    {
      "cell_type": "code",
      "execution_count": 212,
      "metadata": {},
      "outputs": [],
      "source": [
        "df_cat = df.select_dtypes(exclude=\"number\")\n",
        "df_cat "
      ],
      "id": "9a543015-13be-4c46-a51d-20ca4b8460c0"
    },
    {
      "cell_type": "markdown",
      "metadata": {},
      "source": [
        "`-` step3: impute"
      ],
      "id": "4d1e2cd6-e816-45df-b7e1-91878c38b49d"
    },
    {
      "cell_type": "code",
      "execution_count": 214,
      "metadata": {},
      "outputs": [],
      "source": [
        "df_imputed[df_num.columns] = sklearn.impute.SimpleImputer(strategy='mean').fit_transform(df_num)\n",
        "df_imputed[df_cat.columns] = sklearn.impute.SimpleImputer(strategy='most_frequent').fit_transform(df_cat)"
      ],
      "id": "f8190463-2588-4485-9859-36c61b9e0ff6"
    },
    {
      "cell_type": "code",
      "execution_count": 215,
      "metadata": {},
      "outputs": [],
      "source": [
        "df_imputed"
      ],
      "id": "9c80f369-2290-492e-ae54-ba07bdecdb0e"
    }
  ],
  "nbformat": 4,
  "nbformat_minor": 5,
  "metadata": {
    "kernelspec": {
      "name": "python3",
      "display_name": "Python 3 (ipykernel)",
      "language": "python"
    },
    "language_info": {
      "name": "python",
      "codemirror_mode": {
        "name": "ipython",
        "version": "3"
      },
      "file_extension": ".py",
      "mimetype": "text/x-python",
      "nbconvert_exporter": "python",
      "pygments_lexer": "ipython3",
      "version": "3.10.13"
    }
  }
}