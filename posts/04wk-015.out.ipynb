{
  "cells": [
    {
      "cell_type": "markdown",
      "metadata": {},
      "source": [
        "# 04wk-015: 결측치 처리, `sklearn.impute`\n",
        "\n",
        "최규빈  \n",
        "2023-09-26\n",
        "\n",
        "# 1. 강의영상\n",
        "\n",
        "<https://youtu.be/playlist?list=PLQqh36zP38-xoMM63o6AOYEePSFHrVsv9&si=DMXAb7dsADV4BG7C>\n",
        "\n",
        "# 2. Import"
      ],
      "id": "acc9ed02-2f99-43f4-93a2-6da12d668147"
    },
    {
      "cell_type": "code",
      "execution_count": 1,
      "metadata": {},
      "outputs": [],
      "source": [
        "import numpy as np\n",
        "import pandas as pd \n",
        "import sklearn.impute"
      ],
      "id": "e6f62597-d477-4ecb-95d8-15201acdfd65"
    },
    {
      "cell_type": "markdown",
      "metadata": {},
      "source": [
        "# 3. `sklearn.impute`\n",
        "\n",
        "## A. 숫자형자료의 impute\n",
        "\n",
        "`-` 주어진자료"
      ],
      "id": "581f1496-1e99-49ee-a728-0a6daca55efa"
    },
    {
      "cell_type": "code",
      "execution_count": 179,
      "metadata": {},
      "outputs": [],
      "source": [
        "df = pd.DataFrame({'A':[2.1,1.9,2.2,np.nan,1.9], 'B':[0,0,np.nan,0,0]})\n",
        "df"
      ],
      "id": "42aca123-1988-459d-9417-88b2865e201f"
    },
    {
      "cell_type": "markdown",
      "metadata": {},
      "source": [
        "`-` 빈칸은 대충 아래와 같이 추정하면 되지 않을까?"
      ],
      "id": "0b06ee2b-b792-428b-af0f-3e1413696520"
    },
    {
      "cell_type": "code",
      "execution_count": 180,
      "metadata": {},
      "outputs": [],
      "source": [
        "df.loc[3,'A'] = df.A.mean()\n",
        "df.loc[2,'B'] = df.B.mean()"
      ],
      "id": "b8560511-594f-4394-9e09-94a1f8921e81"
    },
    {
      "cell_type": "code",
      "execution_count": 181,
      "metadata": {},
      "outputs": [],
      "source": [
        "df"
      ],
      "id": "3847b75d-247f-400f-9a14-037a6d95880e"
    },
    {
      "cell_type": "markdown",
      "metadata": {},
      "source": [
        "`-` 자동으로 하려면?"
      ],
      "id": "eb8b0fac-64cb-40aa-96fd-2e7e97c0f018"
    },
    {
      "cell_type": "code",
      "execution_count": 182,
      "metadata": {},
      "outputs": [],
      "source": [
        "df = pd.DataFrame({'A':[2.1,1.9,2.2,np.nan,1.9], 'B':[0,0,np.nan,0,0]})\n",
        "df"
      ],
      "id": "86e575a4-26ea-4307-bd8d-718d9e6ebc02"
    },
    {
      "cell_type": "markdown",
      "metadata": {},
      "source": [
        "(방법1)"
      ],
      "id": "7f8c4d27-9cb7-46e1-915c-43042b8bde07"
    },
    {
      "cell_type": "code",
      "execution_count": 183,
      "metadata": {},
      "outputs": [],
      "source": [
        "imputer = sklearn.impute.SimpleImputer()\n",
        "imputer.fit(df)\n",
        "imputer.transform(df)"
      ],
      "id": "73853388-4d11-4840-9760-401cc38ea139"
    },
    {
      "cell_type": "markdown",
      "metadata": {},
      "source": [
        "(방법2)"
      ],
      "id": "b934c426-f463-4776-aab5-152859f18b60"
    },
    {
      "cell_type": "code",
      "execution_count": 184,
      "metadata": {},
      "outputs": [],
      "source": [
        "imputer = sklearn.impute.SimpleImputer()\n",
        "imputer.fit_transform(df)"
      ],
      "id": "d640dd4a-51ca-4c1f-a6d3-afd9827e7e3c"
    },
    {
      "cell_type": "markdown",
      "metadata": {},
      "source": [
        "`-` 다른방식으로 결측값 대체\n",
        "\n",
        "(방법1) – 평균으로 대체"
      ],
      "id": "a458130d-4518-4938-9eef-2e91ba1408bc"
    },
    {
      "cell_type": "code",
      "execution_count": 185,
      "metadata": {},
      "outputs": [],
      "source": [
        "imputer = sklearn.impute.SimpleImputer(strategy='mean')\n",
        "imputer.fit_transform(df)"
      ],
      "id": "b968cead-4852-48e0-ad46-6507357b8702"
    },
    {
      "cell_type": "markdown",
      "metadata": {},
      "source": [
        "(방법2) – 중앙값으로 대체"
      ],
      "id": "1361ab96-a863-4d61-b17b-e0b1f72c6dbf"
    },
    {
      "cell_type": "code",
      "execution_count": 186,
      "metadata": {},
      "outputs": [],
      "source": [
        "imputer = sklearn.impute.SimpleImputer(strategy='median')\n",
        "imputer.fit_transform(df)"
      ],
      "id": "4a894761-644c-4373-92fe-7d7a3653c899"
    },
    {
      "cell_type": "markdown",
      "metadata": {},
      "source": [
        "(방법3) – 최빈값으로 대체"
      ],
      "id": "680966ac-4e0f-4047-8089-fa2a390aeff4"
    },
    {
      "cell_type": "code",
      "execution_count": 187,
      "metadata": {},
      "outputs": [],
      "source": [
        "imputer = sklearn.impute.SimpleImputer(strategy='most_frequent')\n",
        "imputer.fit_transform(df)"
      ],
      "id": "1a4c3a82-0acf-4dae-aa83-dd92e45df875"
    },
    {
      "cell_type": "markdown",
      "metadata": {},
      "source": [
        "(방법4) – 상수대체"
      ],
      "id": "1d62ed44-9502-4016-a7b4-581f656beee9"
    },
    {
      "cell_type": "code",
      "execution_count": 188,
      "metadata": {},
      "outputs": [],
      "source": [
        "imputer = sklearn.impute.SimpleImputer(strategy='constant',fill_value=-999)\n",
        "imputer.fit_transform(df)"
      ],
      "id": "a6b9f114-5cbd-44d1-8e38-0535567155a3"
    },
    {
      "cell_type": "markdown",
      "metadata": {},
      "source": [
        "## B. 범주형자료의 impute\n",
        "\n",
        "`-` 자료"
      ],
      "id": "908454e7-5bbd-4f69-9271-eca0b22018b2"
    },
    {
      "cell_type": "code",
      "execution_count": 192,
      "metadata": {},
      "outputs": [],
      "source": [
        "df = pd.DataFrame({'A':['Y','N','Y','Y',np.nan], 'B':['stat','math',np.nan,'stat','bio']})\n",
        "df"
      ],
      "id": "10cb2b46-52de-4a4f-96fd-8e238abbfc1f"
    },
    {
      "cell_type": "markdown",
      "metadata": {},
      "source": [
        "`-` 최빈값 혹은 상수대체만 가능\n",
        "\n",
        "(방법1) – 최빈값을 이용"
      ],
      "id": "1967a917-3605-4f21-805a-d93fa9e3693a"
    },
    {
      "cell_type": "code",
      "execution_count": 193,
      "metadata": {},
      "outputs": [],
      "source": [
        "imptr = sklearn.impute.SimpleImputer(strategy='most_frequent')\n",
        "imptr.fit_transform(df)"
      ],
      "id": "9e537444-a7a4-4395-b3fd-dd094c8bbbac"
    },
    {
      "cell_type": "markdown",
      "metadata": {},
      "source": [
        "(방법2) – 상수로 대체함"
      ],
      "id": "2a0b6908-8746-4362-986d-1356013e1125"
    },
    {
      "cell_type": "code",
      "execution_count": 194,
      "metadata": {},
      "outputs": [],
      "source": [
        "imptr1 = sklearn.impute.SimpleImputer(strategy='constant',fill_value='Y')\n",
        "imptr1.fit_transform(df[['A']])\n",
        "imptr2 = sklearn.impute.SimpleImputer(strategy='constant',fill_value='math')\n",
        "imptr2.fit_transform(df[['B']])"
      ],
      "id": "ef4fc6c9-b06f-440b-b88f-1b5f86625cde"
    },
    {
      "cell_type": "code",
      "execution_count": 196,
      "metadata": {},
      "outputs": [],
      "source": [
        "np.concatenate([imptr1.fit_transform(df[['A']]),imptr2.fit_transform(df[['B']])],axis=1)"
      ],
      "id": "af303ecb-5344-4c3a-8616-d9c66901a6ef"
    },
    {
      "cell_type": "markdown",
      "metadata": {},
      "source": [
        "## C. 혼합형자료의 impute – (1) 모두 최빈값으로 impute\n",
        "\n",
        "`# 예제`: 아래의 df에서 결측치를 모두 최빈값으로 impute하라."
      ],
      "id": "de7c6a7f-807c-4b82-af90-7de13910b9bc"
    },
    {
      "cell_type": "code",
      "execution_count": 216,
      "metadata": {},
      "outputs": [],
      "source": [
        "df = pd.DataFrame(\n",
        "    {'A':[2.1,1.9,2.2,np.nan,1.9],\n",
        "     'B':[0,0,np.nan,0,0],\n",
        "     'C':['Y','N','Y','Y',np.nan], \n",
        "     'D':['stat','math',np.nan,'stat','bio']}\n",
        ")\n",
        "df"
      ],
      "id": "e43e0196-35ae-449f-8263-da41ecf5d95f"
    },
    {
      "cell_type": "markdown",
      "metadata": {},
      "source": [
        "(풀이)"
      ],
      "id": "d5fa12ff-050d-42aa-a536-0a8b4ddf1206"
    },
    {
      "cell_type": "code",
      "execution_count": 199,
      "metadata": {},
      "outputs": [],
      "source": [
        "imptr = sklearn.impute.SimpleImputer(strategy='most_frequent')\n",
        "imptr.fit_transform(df)"
      ],
      "id": "a70bb6bd-db29-497c-be44-e0fdade57273"
    },
    {
      "cell_type": "markdown",
      "metadata": {},
      "source": [
        "`#`\n",
        "\n",
        "## D. 혼합형자료의 impute – (2) 숫자형은 평균값으로, 범주는 최빈값으로 impute\n",
        "\n",
        "`# 예제`: 아래의 df를 숫자형일 경우는 평균대치, 문자형일 경우는\n",
        "최빈값으로 대치하라."
      ],
      "id": "c2d8f28c-8a8b-4093-965b-8e2f38c6074f"
    },
    {
      "cell_type": "code",
      "execution_count": 201,
      "metadata": {},
      "outputs": [],
      "source": [
        "df = pd.DataFrame(\n",
        "    {'A':[2.1,1.9,2.2,np.nan,1.9],\n",
        "     'B':[0,0,np.nan,0,0],\n",
        "     'C':['Y','N','Y','Y',np.nan], \n",
        "     'D':['stat','math',np.nan,'stat','bio']}\n",
        ")\n",
        "df"
      ],
      "id": "d5df4a1f-75cb-4570-a99d-89826bdac68a"
    },
    {
      "cell_type": "markdown",
      "metadata": {},
      "source": [
        "(풀이)\n",
        "\n",
        "`-` step1: 복사본 생성"
      ],
      "id": "31b22731-1578-459a-ae2c-2c2ce7a7d7e3"
    },
    {
      "cell_type": "code",
      "execution_count": 219,
      "metadata": {},
      "outputs": [],
      "source": [
        "df_imputed = df.copy()\n",
        "df_imputed"
      ],
      "id": "eca5d372-6024-4c9e-827f-0222d9b0a7ad"
    },
    {
      "cell_type": "markdown",
      "metadata": {},
      "source": [
        "`-` step2: 데이터프레임 분리"
      ],
      "id": "f56d2b6a-ef8d-478a-93b0-b01497e96f8f"
    },
    {
      "cell_type": "code",
      "execution_count": 211,
      "metadata": {},
      "outputs": [],
      "source": [
        "df_num = df.select_dtypes(include=\"number\")\n",
        "df_num"
      ],
      "id": "ea80139e-124a-4418-8ac0-cc8b1d416604"
    },
    {
      "cell_type": "code",
      "execution_count": 212,
      "metadata": {},
      "outputs": [],
      "source": [
        "df_cat = df.select_dtypes(exclude=\"number\")\n",
        "df_cat "
      ],
      "id": "9a543015-13be-4c46-a51d-20ca4b8460c0"
    },
    {
      "cell_type": "markdown",
      "metadata": {},
      "source": [
        "`-` step3: impute"
      ],
      "id": "a57d0089-bd29-4081-a7e0-530bc36f79ea"
    },
    {
      "cell_type": "code",
      "execution_count": 214,
      "metadata": {},
      "outputs": [],
      "source": [
        "df_imputed[df_num.columns] = sklearn.impute.SimpleImputer(strategy='mean').fit_transform(df_num)\n",
        "df_imputed[df_cat.columns] = sklearn.impute.SimpleImputer(strategy='most_frequent').fit_transform(df_cat)"
      ],
      "id": "f8190463-2588-4485-9859-36c61b9e0ff6"
    },
    {
      "cell_type": "code",
      "execution_count": 215,
      "metadata": {},
      "outputs": [],
      "source": [
        "df_imputed"
      ],
      "id": "9c80f369-2290-492e-ae54-ba07bdecdb0e"
    }
  ],
  "nbformat": 4,
  "nbformat_minor": 5,
  "metadata": {
    "kernelspec": {
      "name": "python3",
      "display_name": "Python 3 (ipykernel)",
      "language": "python"
    },
    "language_info": {
      "name": "python",
      "codemirror_mode": {
        "name": "ipython",
        "version": "3"
      },
      "file_extension": ".py",
      "mimetype": "text/x-python",
      "nbconvert_exporter": "python",
      "pygments_lexer": "ipython3",
      "version": "3.10.13"
    }
  }
}