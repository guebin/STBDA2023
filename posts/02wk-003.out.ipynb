{
  "cells": [
    {
      "cell_type": "markdown",
      "metadata": {},
      "source": [
        "# 02wk-003: 타이타닉 / 첫 제출\n",
        "\n",
        "최규빈  \n",
        "2023-09-12\n",
        "\n",
        "# 1. 강의영상\n",
        "\n",
        "<https://youtu.be/playlist?list=PLQqh36zP38-zw88937ohvzYyltCjK-_mg&si=gQE8ICf9c9TvFaxy>\n",
        "\n",
        "# 2. Imports"
      ],
      "id": "112a93ef-aedf-457d-b759-d3844a516f0b"
    },
    {
      "cell_type": "code",
      "execution_count": 1,
      "metadata": {
        "tags": []
      },
      "outputs": [],
      "source": [
        "import pandas as pd"
      ],
      "id": "a241109a-8d1c-4aa5-b1de-3c0acacce8cb"
    },
    {
      "cell_type": "markdown",
      "metadata": {},
      "source": [
        "# 3. 제출방법\n",
        "\n",
        "`-` 제출: Submit Predictions\n",
        "\n",
        "`-` 결과확인: Leaderboard\n",
        "\n",
        "# 4. 결과확인\n",
        "\n",
        "## A. test – 답을 모름, 제출해야 알 수 있음\n",
        "\n",
        "`-` 제출결과는 리더보드에서 확인할 수 있음.\n",
        "\n",
        "## B. train – 스스로 풀어보고 채점할 수 있음\n",
        "\n",
        "`-` 캐글에서 code $\\to$ New Notebook 클릭\n",
        "\n",
        "``` python\n",
        "# This Python 3 environment comes with many helpful analytics libraries installed\n",
        "# It is defined by the kaggle/python Docker image: https://github.com/kaggle/docker-python\n",
        "# For example, here's several helpful packages to load\n",
        "\n",
        "import numpy as np # linear algebra\n",
        "import pandas as pd # data processing, CSV file I/O (e.g. pd.read_csv)\n",
        "\n",
        "# Input data files are available in the read-only \"../input/\" directory\n",
        "# For example, running this (by clicking run or pressing Shift+Enter) will list all files under the input directory\n",
        "\n",
        "import os\n",
        "for dirname, _, filenames in os.walk('/kaggle/input'):\n",
        "    for filename in filenames:\n",
        "        print(os.path.join(dirname, filename))\n",
        "\n",
        "# You can write up to 20GB to the current directory (/kaggle/working/) that gets preserved as output when you create a version using \"Save & Run All\" \n",
        "# You can also write temporary files to /kaggle/temp/, but they won't be saved outside of the current session\n",
        "```\n",
        "\n",
        "    /kaggle/input/titanic/train.csv\n",
        "    /kaggle/input/titanic/test.csv\n",
        "    /kaggle/input/titanic/gender_submission.csv"
      ],
      "id": "4182251b-f228-4a2b-9893-ca45f6a83236"
    },
    {
      "cell_type": "code",
      "execution_count": null,
      "metadata": {},
      "outputs": [],
      "source": [
        "df_train=pd.read_csv(\"/kaggle/input/titanic/train.csv\")\n",
        "df_test=pd.read_csv(\"/kaggle/input/titanic/test.csv\")"
      ],
      "id": "d8ce487b-aad1-4ec5-bc90-bc254a0425f4"
    },
    {
      "cell_type": "code",
      "execution_count": 3,
      "metadata": {
        "tags": []
      },
      "outputs": [],
      "source": [
        "# !kaggle competitions download -c titanic\n",
        "# !unzip titanic.zip -d ./titanic\n",
        "# df_train = pd.read_csv('titanic/train.csv')\n",
        "# df_test = pd.read_csv('titanic/test.csv')\n",
        "# !rm titanic.zip\n",
        "# !rm -rf titanic/"
      ],
      "id": "0c0fc9f1-eafa-4130-99a7-068fb4279d94"
    },
    {
      "cell_type": "markdown",
      "metadata": {},
      "source": [
        "`#` 예비학습 – accuracy의 계산"
      ],
      "id": "3d113357-5b08-46fe-aded-0a78de0545f5"
    },
    {
      "cell_type": "code",
      "execution_count": 4,
      "metadata": {},
      "outputs": [],
      "source": [
        "df = pd.DataFrame({'Surv':[1,0,1,1,0],'Sex':['f','m','f','m','m']})"
      ],
      "id": "4d2cee85-51bc-446a-8a03-644913818b62"
    },
    {
      "cell_type": "markdown",
      "metadata": {},
      "source": [
        "`-` Surv 열의 선택"
      ],
      "id": "c3d813b8-7841-4fe8-9c66-f13fe0734521"
    },
    {
      "cell_type": "code",
      "execution_count": 5,
      "metadata": {},
      "outputs": [],
      "source": [
        "df.Surv"
      ],
      "id": "6536357c-2939-4f15-822a-e3e4bb9f0cda"
    },
    {
      "cell_type": "markdown",
      "metadata": {},
      "source": [
        "`-` Sex 열의 선택"
      ],
      "id": "c793417b-fb0b-4e5b-8dd1-c36cb8f427e2"
    },
    {
      "cell_type": "code",
      "execution_count": 6,
      "metadata": {},
      "outputs": [],
      "source": [
        "df.Sex"
      ],
      "id": "9f72546b-14c7-4dbf-ac49-642dc103666a"
    },
    {
      "cell_type": "markdown",
      "metadata": {},
      "source": [
        "`-` `Sex == f`이면 생존(1), 그렇지 않으면 사망(0)이라고 예측"
      ],
      "id": "3b0a2c10-4a0f-4bac-ad46-46a93d0bb3ac"
    },
    {
      "cell_type": "code",
      "execution_count": 7,
      "metadata": {},
      "outputs": [],
      "source": [
        "(df.Sex == 'f')*1"
      ],
      "id": "8ca835df-a89e-4372-9b36-0d4ec6a18d04"
    },
    {
      "cell_type": "markdown",
      "metadata": {},
      "source": [
        "`-` 결과를 정리하면 아래와 같음"
      ],
      "id": "47ff7a94-d3d0-4e5c-94c2-8ad97d01cac2"
    },
    {
      "cell_type": "code",
      "execution_count": 8,
      "metadata": {},
      "outputs": [],
      "source": [
        "pd.DataFrame({'real': df.Surv, 'estimate': (df.Sex == 'f')*1})"
      ],
      "id": "6b7f721d-454c-4be7-8a2f-35cafefa72e6"
    },
    {
      "cell_type": "markdown",
      "metadata": {},
      "source": [
        "`-` accuracy를 손으로 계산하면 $\\frac{4}{5}=0.8$.\n",
        "\n",
        "`-` 컴퓨터로 accuracy를 계산한다면"
      ],
      "id": "2211c80d-8538-4728-a811-4d34f7c9e36d"
    },
    {
      "cell_type": "code",
      "execution_count": 9,
      "metadata": {},
      "outputs": [],
      "source": [
        "(df.Surv == (df.Sex == 'f')*1).sum()/5 # 방법1"
      ],
      "id": "c54e275e-6260-4e74-9b47-7c1f33ef4b66"
    },
    {
      "cell_type": "code",
      "execution_count": 10,
      "metadata": {},
      "outputs": [],
      "source": [
        "(df.Surv == (df.Sex == 'f')*1).mean() # 방법2"
      ],
      "id": "c888d597-ab06-4056-a5ef-4dbcee789563"
    },
    {
      "cell_type": "markdown",
      "metadata": {},
      "source": [
        "`#`\n",
        "\n",
        "`-` 실제자료의 accuracy를 구해보자."
      ],
      "id": "01ca80e4-79ab-4a11-8a44-391c893b4b90"
    },
    {
      "cell_type": "code",
      "execution_count": 11,
      "metadata": {},
      "outputs": [],
      "source": [
        "(df_train.Survived == (df_train.Sex == 'female')).mean()"
      ],
      "id": "712c3e52-fb01-4a19-8a61-a18965e551c7"
    },
    {
      "cell_type": "markdown",
      "metadata": {},
      "source": [
        "# 4. 개념\n",
        "\n",
        "`-` 캐글대회는 시험과 비슷하다.\n",
        "\n",
        "-   캐글대회를 여는 사람은 보통 (1) 모의고사문제+답 (training set) (2)\n",
        "    실제시험문제 (test set)를 준다.[1]\n",
        "-   (1)의 자료에서는 문제(X,독립변수,설명변수)와\n",
        "    답(y,종속변수,반응변수)이 함께 주어진다.\n",
        "-   (2)의 자료에서는 문제(X,독립변수,설명변수)만 주어진다.\n",
        "-   우리는 (1)을 이용하여 문제(X,독립변수,설명변수)와\n",
        "    답(y,종속변수,반응변수)사이의 관계를 찾아내는 훈련을 한다.\n",
        "-   그리고 그 훈련이 잘 되었는지를 평가하기 위해서 (2)를 풀어보고 그\n",
        "    결과를 제출한다.\n",
        "\n",
        "`-` 타이타닉의 training set\n",
        "\n",
        "[1] 물론 모든 대회가 이런건 아님, 시험도 수능같은 시험만 있는게 아닌\n",
        "실기같은것도 있잖아요?"
      ],
      "id": "f6fef365-2c29-44ec-932f-7866fe9e8eb6"
    },
    {
      "cell_type": "code",
      "execution_count": 12,
      "metadata": {},
      "outputs": [],
      "source": [
        "df_train.iloc[0]"
      ],
      "id": "a6dc0209-e416-47c5-a4db-aa9153ab1af8"
    },
    {
      "cell_type": "markdown",
      "metadata": {},
      "source": [
        "-   모의고사문제1: Pclass는 3이에요, 그리고 이름은 ‘Braund, Mr. Owen\n",
        "    Harris’ 입니다. 성별은 ‘male’ 입니다. 그리고 …. 입니다. 이 사람은\n",
        "    죽었을까요? 살았을까요?\n",
        "\n",
        "-   답1: 죽었습니다."
      ],
      "id": "71614f8f-d46e-4a60-8b56-18e5f993cdac"
    },
    {
      "cell_type": "code",
      "execution_count": 13,
      "metadata": {},
      "outputs": [],
      "source": [
        "df_train.iloc[1]"
      ],
      "id": "83d4b234-bec6-42c4-8c6a-65300ffee511"
    },
    {
      "cell_type": "markdown",
      "metadata": {},
      "source": [
        "-   모의고사문제2: Pclass는 1이에요, 그리고 이름은 ‘Cumings, Mrs. John\n",
        "    Bradley (Florence Briggs Thayer)’ 입니다. 성별은 ‘female’ 입니다.\n",
        "    그리고 …. 입니다. 이 사람은 죽었을까요? 살았을까요?\n",
        "\n",
        "-   답2: 살았습니다.\n",
        "\n",
        "`-` 타이타닉의 test set"
      ],
      "id": "c7350f57-a73c-4093-a5c9-252edf64e709"
    },
    {
      "cell_type": "code",
      "execution_count": 14,
      "metadata": {},
      "outputs": [],
      "source": [
        "df_test.iloc[0]"
      ],
      "id": "c5233522-3740-4dfd-8038-ed1cc151fe3b"
    },
    {
      "cell_type": "markdown",
      "metadata": {},
      "source": [
        "-   실전문제1: Pclass는 3이에요, 그리고 이름은 ‘Kelly, Mr. James’\n",
        "    입니다. 성별은 ‘male’ 입니다. 그리고 …. 입니다. 이 사람은\n",
        "    죽었을까요? 살았을까요?\n",
        "\n",
        "-   답1: (속마음: 훈련집합에서 대부분 남자는 죽고 여자는 살았다고 푸니까\n",
        "    대충 78점 정도는 맞던데? 이 사람도 남자니까 죽었다고 하자) 죽었다고\n",
        "    예측하겠습니다."
      ],
      "id": "a4bfdbe9-3c53-439f-b10a-d5fa9c4cdffb"
    }
  ],
  "nbformat": 4,
  "nbformat_minor": 5,
  "metadata": {
    "kernelspec": {
      "name": "python3",
      "display_name": "Python 3 (ipykernel)",
      "language": "python"
    },
    "language_info": {
      "name": "python",
      "codemirror_mode": {
        "name": "ipython",
        "version": "3"
      },
      "file_extension": ".py",
      "mimetype": "text/x-python",
      "nbconvert_exporter": "python",
      "pygments_lexer": "ipython3",
      "version": "3.10.13"
    }
  }
}