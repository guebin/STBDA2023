{
  "cells": [
    {
      "cell_type": "markdown",
      "metadata": {},
      "source": [
        "# 2023-10-10 – 코드스페이스, 리눅스명령어, kaggle.json\n",
        "\n",
        "최규빈  \n",
        "2023-10-10\n",
        "\n",
        "# 1. 코드스페이스\n",
        "\n",
        "`-` 장점:\n",
        "\n",
        "-   슈퍼장점: 자동으로 깃헙연결 되어있음 (요즘 깃헙쓰기 짜증나서 이게\n",
        "    장점임)\n",
        "-   로칼컴퓨터대비 장점: 내 컴퓨터 깨끗하게 쓸 수 있음 + 내 맘대로 무한\n",
        "    리눅스서버 사용가능\n",
        "-   코랩/kaggle 대비 장점: 한번 정리된 셋팅이 영구적으로 적용됨.\n",
        "    (autogluon 맨날 안깔아도 된다)\n",
        "\n",
        "`-` 단점:\n",
        "\n",
        "-   컴터가 별로임, 사용시간 제한있음 (월 100시간?)\n",
        "-   단점을 극복하려면 결재해야함\n",
        "\n",
        "`-` 초기설정: 복붙설정하기, 주피터 extension 설치\n",
        "\n",
        "# 2. kaggle.json\n",
        "\n",
        "# 3. 간단한 리눅스 명령어\n",
        "\n",
        "`-` 이동: `ls`, `cd`\n",
        "\n",
        "`-` 폴더생성 및 삭제: `mkdir`, `rm -rf`\n",
        "\n",
        "`-` 복붙: `cp`/`mv`\n",
        "\n",
        "`-` zip압출풀기: `unzip`\n",
        "\n",
        "> 리눅스에 익숙해지면 코랩, 캐글등을 쉽게 사용할 수 있다.\n",
        "\n",
        "> 코랩 혹은 캐글에서 사용하지 않더라도, 코랩 혹은 캐글에서 사용하는\n",
        "> 코드를 쉽게 해석할 수 있다.\n",
        "\n",
        "# 4. 타이타닉 데이터 불러오기"
      ],
      "id": "69029d20-1372-4236-a797-808e3b360eca"
    }
  ],
  "nbformat": 4,
  "nbformat_minor": 5,
  "metadata": {
    "kernelspec": {
      "name": "python3",
      "display_name": "Python 3 (ipykernel)",
      "language": "python"
    },
    "language_info": {
      "name": "python",
      "codemirror_mode": {
        "name": "ipython",
        "version": "3"
      },
      "file_extension": ".py",
      "mimetype": "text/x-python",
      "nbconvert_exporter": "python",
      "pygments_lexer": "ipython3",
      "version": "3.10.13"
    }
  }
}